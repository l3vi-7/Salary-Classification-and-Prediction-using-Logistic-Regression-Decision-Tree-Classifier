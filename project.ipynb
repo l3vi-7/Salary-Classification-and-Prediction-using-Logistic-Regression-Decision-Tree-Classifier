{
  "nbformat": 4,
  "nbformat_minor": 0,
  "metadata": {
    "colab": {
      "name": "DS_Project_C3_Group_No.4_323059_323067_323063_323058.ipynb",
      "provenance": [],
      "collapsed_sections": []
    },
    "kernelspec": {
      "display_name": "Python 3",
      "language": "python",
      "name": "python3"
    },
    "language_info": {
      "codemirror_mode": {
        "name": "ipython",
        "version": 3
      },
      "file_extension": ".py",
      "mimetype": "text/x-python",
      "name": "python",
      "nbconvert_exporter": "python",
      "pygments_lexer": "ipython3",
      "version": "3.6.5"
    }
  },
  "cells": [
    {
      "cell_type": "markdown",
      "metadata": {
        "colab_type": "text",
        "id": "sWWTHogMkr7f"
      },
      "source": [
        "# ***Salary Classification and Prediction using Logistic Regression & Decision Tree Classifier***"
      ]
    },
    {
      "cell_type": "markdown",
      "metadata": {
        "colab_type": "text",
        "id": "HJLfwlJLgGbb"
      },
      "source": [
        "## Importing Libraries"
      ]
    },
    {
      "cell_type": "code",
      "metadata": {
        "colab_type": "code",
        "id": "0MHCr4psE1yX",
        "colab": {}
      },
      "source": [
        "import pandas as pd\n",
        "import numpy as np\n",
        "from sklearn import tree\n",
        "import graphviz\n",
        "from sklearn.model_selection import cross_val_score\n",
        "import matplotlib.pyplot as plt\n",
        "import seaborn as sns\n",
        "import warnings\n",
        "from sklearn.linear_model import LogisticRegression\n",
        "from sklearn.metrics import accuracy_score\n",
        "warnings.filterwarnings('ignore')"
      ],
      "execution_count": null,
      "outputs": []
    },
    {
      "cell_type": "markdown",
      "metadata": {
        "colab_type": "text",
        "id": "IFfxPISq7bot"
      },
      "source": [
        "# Data Visualization"
      ]
    },
    {
      "cell_type": "code",
      "metadata": {
        "colab_type": "code",
        "id": "oCzj4bTj7bA1",
        "colab": {
          "base_uri": "https://localhost:8080/",
          "height": 286
        },
        "outputId": "7f6a8791-2593-476c-b011-de7e2d3d501f"
      },
      "source": [
        "df = pd.read_csv('adult.csv', sep=',')\n",
        "df[df == '?'] = np.nan\n",
        "for col in ['workclass', 'occupation', 'native.country']:\n",
        "    df[col].fillna(df[col].mode()[0], inplace=True)\n",
        "df.isnull().sum()"
      ],
      "execution_count": null,
      "outputs": [
        {
          "output_type": "execute_result",
          "data": {
            "text/plain": [
              "age               0\n",
              "workclass         0\n",
              "fnlwgt            0\n",
              "education         0\n",
              "education.num     0\n",
              "marital.status    0\n",
              "occupation        0\n",
              "relationship      0\n",
              "race              0\n",
              "sex               0\n",
              "capital.gain      0\n",
              "capital.loss      0\n",
              "hours.per.week    0\n",
              "native.country    0\n",
              "income            0\n",
              "dtype: int64"
            ]
          },
          "metadata": {
            "tags": []
          },
          "execution_count": 8
        }
      ]
    },
    {
      "cell_type": "code",
      "metadata": {
        "colab_type": "code",
        "id": "rIzzaUxJ-dgX",
        "colab": {
          "base_uri": "https://localhost:8080/",
          "height": 343
        },
        "outputId": "2707c290-6ea4-46ae-f09d-79a0bc33f298"
      },
      "source": [
        "df.head(10)"
      ],
      "execution_count": null,
      "outputs": [
        {
          "output_type": "execute_result",
          "data": {
            "text/html": [
              "<div>\n",
              "<style scoped>\n",
              "    .dataframe tbody tr th:only-of-type {\n",
              "        vertical-align: middle;\n",
              "    }\n",
              "\n",
              "    .dataframe tbody tr th {\n",
              "        vertical-align: top;\n",
              "    }\n",
              "\n",
              "    .dataframe thead th {\n",
              "        text-align: right;\n",
              "    }\n",
              "</style>\n",
              "<table border=\"1\" class=\"dataframe\">\n",
              "  <thead>\n",
              "    <tr style=\"text-align: right;\">\n",
              "      <th></th>\n",
              "      <th>age</th>\n",
              "      <th>workclass</th>\n",
              "      <th>fnlwgt</th>\n",
              "      <th>education</th>\n",
              "      <th>education.num</th>\n",
              "      <th>marital.status</th>\n",
              "      <th>occupation</th>\n",
              "      <th>relationship</th>\n",
              "      <th>race</th>\n",
              "      <th>sex</th>\n",
              "      <th>capital.gain</th>\n",
              "      <th>capital.loss</th>\n",
              "      <th>hours.per.week</th>\n",
              "      <th>native.country</th>\n",
              "      <th>income</th>\n",
              "    </tr>\n",
              "  </thead>\n",
              "  <tbody>\n",
              "    <tr>\n",
              "      <th>0</th>\n",
              "      <td>90</td>\n",
              "      <td>Private</td>\n",
              "      <td>77053</td>\n",
              "      <td>HS-grad</td>\n",
              "      <td>9</td>\n",
              "      <td>Widowed</td>\n",
              "      <td>Prof-specialty</td>\n",
              "      <td>Not-in-family</td>\n",
              "      <td>White</td>\n",
              "      <td>Female</td>\n",
              "      <td>0</td>\n",
              "      <td>4356</td>\n",
              "      <td>40</td>\n",
              "      <td>United-States</td>\n",
              "      <td>&lt;=50K</td>\n",
              "    </tr>\n",
              "    <tr>\n",
              "      <th>1</th>\n",
              "      <td>82</td>\n",
              "      <td>Private</td>\n",
              "      <td>132870</td>\n",
              "      <td>HS-grad</td>\n",
              "      <td>9</td>\n",
              "      <td>Widowed</td>\n",
              "      <td>Exec-managerial</td>\n",
              "      <td>Not-in-family</td>\n",
              "      <td>White</td>\n",
              "      <td>Female</td>\n",
              "      <td>0</td>\n",
              "      <td>4356</td>\n",
              "      <td>18</td>\n",
              "      <td>United-States</td>\n",
              "      <td>&lt;=50K</td>\n",
              "    </tr>\n",
              "    <tr>\n",
              "      <th>2</th>\n",
              "      <td>66</td>\n",
              "      <td>Private</td>\n",
              "      <td>186061</td>\n",
              "      <td>Some-college</td>\n",
              "      <td>10</td>\n",
              "      <td>Widowed</td>\n",
              "      <td>Prof-specialty</td>\n",
              "      <td>Unmarried</td>\n",
              "      <td>Black</td>\n",
              "      <td>Female</td>\n",
              "      <td>0</td>\n",
              "      <td>4356</td>\n",
              "      <td>40</td>\n",
              "      <td>United-States</td>\n",
              "      <td>&lt;=50K</td>\n",
              "    </tr>\n",
              "    <tr>\n",
              "      <th>3</th>\n",
              "      <td>54</td>\n",
              "      <td>Private</td>\n",
              "      <td>140359</td>\n",
              "      <td>7th-8th</td>\n",
              "      <td>4</td>\n",
              "      <td>Divorced</td>\n",
              "      <td>Machine-op-inspct</td>\n",
              "      <td>Unmarried</td>\n",
              "      <td>White</td>\n",
              "      <td>Female</td>\n",
              "      <td>0</td>\n",
              "      <td>3900</td>\n",
              "      <td>40</td>\n",
              "      <td>United-States</td>\n",
              "      <td>&lt;=50K</td>\n",
              "    </tr>\n",
              "    <tr>\n",
              "      <th>4</th>\n",
              "      <td>41</td>\n",
              "      <td>Private</td>\n",
              "      <td>264663</td>\n",
              "      <td>Some-college</td>\n",
              "      <td>10</td>\n",
              "      <td>Separated</td>\n",
              "      <td>Prof-specialty</td>\n",
              "      <td>Own-child</td>\n",
              "      <td>White</td>\n",
              "      <td>Female</td>\n",
              "      <td>0</td>\n",
              "      <td>3900</td>\n",
              "      <td>40</td>\n",
              "      <td>United-States</td>\n",
              "      <td>&lt;=50K</td>\n",
              "    </tr>\n",
              "    <tr>\n",
              "      <th>5</th>\n",
              "      <td>34</td>\n",
              "      <td>Private</td>\n",
              "      <td>216864</td>\n",
              "      <td>HS-grad</td>\n",
              "      <td>9</td>\n",
              "      <td>Divorced</td>\n",
              "      <td>Other-service</td>\n",
              "      <td>Unmarried</td>\n",
              "      <td>White</td>\n",
              "      <td>Female</td>\n",
              "      <td>0</td>\n",
              "      <td>3770</td>\n",
              "      <td>45</td>\n",
              "      <td>United-States</td>\n",
              "      <td>&lt;=50K</td>\n",
              "    </tr>\n",
              "    <tr>\n",
              "      <th>6</th>\n",
              "      <td>38</td>\n",
              "      <td>Private</td>\n",
              "      <td>150601</td>\n",
              "      <td>10th</td>\n",
              "      <td>6</td>\n",
              "      <td>Separated</td>\n",
              "      <td>Adm-clerical</td>\n",
              "      <td>Unmarried</td>\n",
              "      <td>White</td>\n",
              "      <td>Male</td>\n",
              "      <td>0</td>\n",
              "      <td>3770</td>\n",
              "      <td>40</td>\n",
              "      <td>United-States</td>\n",
              "      <td>&lt;=50K</td>\n",
              "    </tr>\n",
              "    <tr>\n",
              "      <th>7</th>\n",
              "      <td>74</td>\n",
              "      <td>State-gov</td>\n",
              "      <td>88638</td>\n",
              "      <td>Doctorate</td>\n",
              "      <td>16</td>\n",
              "      <td>Never-married</td>\n",
              "      <td>Prof-specialty</td>\n",
              "      <td>Other-relative</td>\n",
              "      <td>White</td>\n",
              "      <td>Female</td>\n",
              "      <td>0</td>\n",
              "      <td>3683</td>\n",
              "      <td>20</td>\n",
              "      <td>United-States</td>\n",
              "      <td>&gt;50K</td>\n",
              "    </tr>\n",
              "    <tr>\n",
              "      <th>8</th>\n",
              "      <td>68</td>\n",
              "      <td>Federal-gov</td>\n",
              "      <td>422013</td>\n",
              "      <td>HS-grad</td>\n",
              "      <td>9</td>\n",
              "      <td>Divorced</td>\n",
              "      <td>Prof-specialty</td>\n",
              "      <td>Not-in-family</td>\n",
              "      <td>White</td>\n",
              "      <td>Female</td>\n",
              "      <td>0</td>\n",
              "      <td>3683</td>\n",
              "      <td>40</td>\n",
              "      <td>United-States</td>\n",
              "      <td>&lt;=50K</td>\n",
              "    </tr>\n",
              "    <tr>\n",
              "      <th>9</th>\n",
              "      <td>41</td>\n",
              "      <td>Private</td>\n",
              "      <td>70037</td>\n",
              "      <td>Some-college</td>\n",
              "      <td>10</td>\n",
              "      <td>Never-married</td>\n",
              "      <td>Craft-repair</td>\n",
              "      <td>Unmarried</td>\n",
              "      <td>White</td>\n",
              "      <td>Male</td>\n",
              "      <td>0</td>\n",
              "      <td>3004</td>\n",
              "      <td>60</td>\n",
              "      <td>United-States</td>\n",
              "      <td>&gt;50K</td>\n",
              "    </tr>\n",
              "  </tbody>\n",
              "</table>\n",
              "</div>"
            ],
            "text/plain": [
              "   age    workclass  fnlwgt  ... hours.per.week  native.country income\n",
              "0   90      Private   77053  ...             40   United-States  <=50K\n",
              "1   82      Private  132870  ...             18   United-States  <=50K\n",
              "2   66      Private  186061  ...             40   United-States  <=50K\n",
              "3   54      Private  140359  ...             40   United-States  <=50K\n",
              "4   41      Private  264663  ...             40   United-States  <=50K\n",
              "5   34      Private  216864  ...             45   United-States  <=50K\n",
              "6   38      Private  150601  ...             40   United-States  <=50K\n",
              "7   74    State-gov   88638  ...             20   United-States   >50K\n",
              "8   68  Federal-gov  422013  ...             40   United-States  <=50K\n",
              "9   41      Private   70037  ...             60   United-States   >50K\n",
              "\n",
              "[10 rows x 15 columns]"
            ]
          },
          "metadata": {
            "tags": []
          },
          "execution_count": 9
        }
      ]
    },
    {
      "cell_type": "markdown",
      "metadata": {
        "colab_type": "text",
        "id": "WVQIpcsAAgX1"
      },
      "source": [
        "**Count of salaries <=50K and >50K**"
      ]
    },
    {
      "cell_type": "code",
      "metadata": {
        "colab_type": "code",
        "id": "9rlaqird9FWC",
        "colab": {
          "base_uri": "https://localhost:8080/",
          "height": 203
        },
        "outputId": "6253abae-87e9-421b-ce18-94cc6468dff2"
      },
      "source": [
        "fig = plt.figure(figsize=(20,2))\n",
        "plt.title(\"Count of salaries <=50K and >50K\")\n",
        "plt.style.use('seaborn-ticks')\n",
        "sns.countplot(y=\"income\", data=df)"
      ],
      "execution_count": null,
      "outputs": [
        {
          "output_type": "execute_result",
          "data": {
            "text/plain": [
              "<matplotlib.axes._subplots.AxesSubplot at 0x7fa43c5c6c18>"
            ]
          },
          "metadata": {
            "tags": []
          },
          "execution_count": 10
        },
        {
          "output_type": "display_data",
          "data": {
            "image/png": "[encoded data removed]",
            "text/plain": [
              "<Figure size 1440x144 with 1 Axes>"
            ]
          },
          "metadata": {
            "tags": [],
            "needs_background": "light"
          }
        }
      ]
    },
    {
      "cell_type": "markdown",
      "metadata": {
        "colab_type": "text",
        "id": "gQfGaAxaAqQw"
      },
      "source": [
        "**EDUCATION**"
      ]
    },
    {
      "cell_type": "code",
      "metadata": {
        "colab_type": "code",
        "id": "zblKGusX9udy",
        "colab": {}
      },
      "source": [
        "df['education'].replace('Preschool', 'dropout',inplace=True)\n",
        "df['education'].replace('10th', 'dropout',inplace=True)\n",
        "df['education'].replace('11th', 'dropout',inplace=True)\n",
        "df['education'].replace('12th', 'dropout',inplace=True)\n",
        "df['education'].replace('1st-4th', 'dropout',inplace=True)\n",
        "df['education'].replace('5th-6th', 'dropout',inplace=True)\n",
        "df['education'].replace('7th-8th', 'dropout',inplace=True)\n",
        "df['education'].replace('9th', 'dropout',inplace=True)\n",
        "df['education'].replace('HS-Grad', 'HighGrad',inplace=True)\n",
        "df['education'].replace('HS-grad', 'HighGrad',inplace=True)\n",
        "df['education'].replace('Some-college', 'CommunityCollege',inplace=True)\n",
        "df['education'].replace('Assoc-acdm', 'CommunityCollege',inplace=True)\n",
        "df['education'].replace('Assoc-voc', 'CommunityCollege',inplace=True)\n",
        "df['education'].replace('Bachelors', 'Bachelors',inplace=True)\n",
        "df['education'].replace('Masters', 'Masters',inplace=True)\n",
        "df['education'].replace('Prof-school', 'Masters',inplace=True)\n",
        "df['education'].replace('Doctorate', 'Doctorate',inplace=True)"
      ],
      "execution_count": null,
      "outputs": []
    },
    {
      "cell_type": "code",
      "metadata": {
        "colab_type": "code",
        "id": "SP0v8ZFp-Tq6",
        "colab": {
          "base_uri": "https://localhost:8080/",
          "height": 225
        },
        "outputId": "1602e798-2ace-4ea1-b0d2-6978e1281854"
      },
      "source": [
        "df[['education', 'education.num']].groupby(['education'], as_index=False).mean().sort_values(by='education.num', ascending=False)"
      ],
      "execution_count": null,
      "outputs": [
        {
          "output_type": "execute_result",
          "data": {
            "text/html": [
              "<div>\n",
              "<style scoped>\n",
              "    .dataframe tbody tr th:only-of-type {\n",
              "        vertical-align: middle;\n",
              "    }\n",
              "\n",
              "    .dataframe tbody tr th {\n",
              "        vertical-align: top;\n",
              "    }\n",
              "\n",
              "    .dataframe thead th {\n",
              "        text-align: right;\n",
              "    }\n",
              "</style>\n",
              "<table border=\"1\" class=\"dataframe\">\n",
              "  <thead>\n",
              "    <tr style=\"text-align: right;\">\n",
              "      <th></th>\n",
              "      <th>education</th>\n",
              "      <th>education.num</th>\n",
              "    </tr>\n",
              "  </thead>\n",
              "  <tbody>\n",
              "    <tr>\n",
              "      <th>2</th>\n",
              "      <td>Doctorate</td>\n",
              "      <td>16.000000</td>\n",
              "    </tr>\n",
              "    <tr>\n",
              "      <th>4</th>\n",
              "      <td>Masters</td>\n",
              "      <td>14.250544</td>\n",
              "    </tr>\n",
              "    <tr>\n",
              "      <th>0</th>\n",
              "      <td>Bachelors</td>\n",
              "      <td>13.000000</td>\n",
              "    </tr>\n",
              "    <tr>\n",
              "      <th>1</th>\n",
              "      <td>CommunityCollege</td>\n",
              "      <td>10.360986</td>\n",
              "    </tr>\n",
              "    <tr>\n",
              "      <th>3</th>\n",
              "      <td>HighGrad</td>\n",
              "      <td>9.000000</td>\n",
              "    </tr>\n",
              "    <tr>\n",
              "      <th>5</th>\n",
              "      <td>dropout</td>\n",
              "      <td>5.602398</td>\n",
              "    </tr>\n",
              "  </tbody>\n",
              "</table>\n",
              "</div>"
            ],
            "text/plain": [
              "          education  education.num\n",
              "2         Doctorate      16.000000\n",
              "4           Masters      14.250544\n",
              "0         Bachelors      13.000000\n",
              "1  CommunityCollege      10.360986\n",
              "3          HighGrad       9.000000\n",
              "5           dropout       5.602398"
            ]
          },
          "metadata": {
            "tags": []
          },
          "execution_count": 12
        }
      ]
    },
    {
      "cell_type": "code",
      "metadata": {
        "colab_type": "code",
        "id": "J0yBwJO6-n93",
        "colab": {
          "base_uri": "https://localhost:8080/",
          "height": 259
        },
        "outputId": "2dc8df5a-6a1e-421a-eec0-b019457cf550"
      },
      "source": [
        "fig = plt.figure(figsize=(20,3))\n",
        "plt.title(\"Classification of Data Based on Education Level\")\n",
        "plt.style.use('seaborn-ticks')\n",
        "sns.countplot(y=\"education\", data=df)"
      ],
      "execution_count": null,
      "outputs": [
        {
          "output_type": "execute_result",
          "data": {
            "text/plain": [
              "<matplotlib.axes._subplots.AxesSubplot at 0x7fa43c49df60>"
            ]
          },
          "metadata": {
            "tags": []
          },
          "execution_count": 13
        },
        {
          "output_type": "display_data",
          "data": {
            "image/png": "[encoded data removed]",
            "text/plain": [
              "<Figure size 1440x216 with 1 Axes>"
            ]
          },
          "metadata": {
            "tags": []
          }
        }
      ]
    },
    {
      "cell_type": "markdown",
      "metadata": {
        "colab_type": "text",
        "id": "Xdi56qRWAu5Z"
      },
      "source": [
        "**MARITAL STATUS**"
      ]
    },
    {
      "cell_type": "code",
      "metadata": {
        "colab_type": "code",
        "id": "d7-peWye--J_",
        "colab": {}
      },
      "source": [
        "df['marital.status'].replace('Never-married', 'NotMarried',inplace=True)\n",
        "df['marital.status'].replace(['Married-AF-spouse'], 'Married',inplace=True)\n",
        "df['marital.status'].replace(['Married-civ-spouse'], 'Married',inplace=True)\n",
        "df['marital.status'].replace(['Married-spouse-absent'], 'NotMarried',inplace=True)\n",
        "df['marital.status'].replace(['Separated'], 'Separated',inplace=True)\n",
        "df['marital.status'].replace(['Divorced'], 'Separated',inplace=True)\n",
        "df['marital.status'].replace(['Widowed'], 'Widowed',inplace=True)"
      ],
      "execution_count": null,
      "outputs": []
    },
    {
      "cell_type": "code",
      "metadata": {
        "colab_type": "code",
        "id": "YhvUDgRU_RN7",
        "colab": {
          "base_uri": "https://localhost:8080/",
          "height": 190
        },
        "outputId": "54190330-b4b8-4a2f-fd5d-a5deace3e255"
      },
      "source": [
        "fig = plt.figure(figsize=(20,2))\n",
        "plt.style.use('seaborn-ticks')\n",
        "sns.countplot(y=\"marital.status\", data=df)"
      ],
      "execution_count": null,
      "outputs": [
        {
          "output_type": "execute_result",
          "data": {
            "text/plain": [
              "<matplotlib.axes._subplots.AxesSubplot at 0x7fa43c51c9b0>"
            ]
          },
          "metadata": {
            "tags": []
          },
          "execution_count": 15
        },
        {
          "output_type": "display_data",
          "data": {
            "image/png": "[encoded data removed]",
            "text/plain": [
              "<Figure size 1440x144 with 1 Axes>"
            ]
          },
          "metadata": {
            "tags": []
          }
        }
      ]
    },
    {
      "cell_type": "markdown",
      "metadata": {
        "colab_type": "text",
        "id": "Vv5K6gc8A2zW"
      },
      "source": [
        "**OCCUPATION**"
      ]
    },
    {
      "cell_type": "code",
      "metadata": {
        "colab_type": "code",
        "id": "NIUyqTDZ_VLc",
        "colab": {
          "base_uri": "https://localhost:8080/",
          "height": 299
        },
        "outputId": "8a1267fa-5f34-410a-df14-703e844131c9"
      },
      "source": [
        "plt.style.use('seaborn-ticks')\n",
        "plt.figure(figsize=(20,4)) \n",
        "sns.countplot(y=\"occupation\", data=df)"
      ],
      "execution_count": null,
      "outputs": [
        {
          "output_type": "execute_result",
          "data": {
            "text/plain": [
              "<matplotlib.axes._subplots.AxesSubplot at 0x7fa43c49d978>"
            ]
          },
          "metadata": {
            "tags": []
          },
          "execution_count": 16
        },
        {
          "output_type": "display_data",
          "data": {
            "image/png": "[encoded data removed]",
            "text/plain": [
              "<Figure size 1440x288 with 1 Axes>"
            ]
          },
          "metadata": {
            "tags": []
          }
        }
      ]
    },
    {
      "cell_type": "markdown",
      "metadata": {
        "colab_type": "text",
        "id": "iYzUg0QkA-C_"
      },
      "source": [
        "**TYPES OF WORK-CLASS**"
      ]
    },
    {
      "cell_type": "code",
      "metadata": {
        "colab_type": "code",
        "id": "QHP3-OhW_Oye",
        "colab": {
          "base_uri": "https://localhost:8080/",
          "height": 244
        },
        "outputId": "b09f77b2-302e-421c-952f-8ce66908180e"
      },
      "source": [
        "plt.style.use('seaborn-ticks')\n",
        "plt.figure(figsize=(20,3)) \n",
        "sns.countplot(y=\"workclass\", data=df)"
      ],
      "execution_count": null,
      "outputs": [
        {
          "output_type": "execute_result",
          "data": {
            "text/plain": [
              "<matplotlib.axes._subplots.AxesSubplot at 0x7fa43bf43048>"
            ]
          },
          "metadata": {
            "tags": []
          },
          "execution_count": 17
        },
        {
          "output_type": "display_data",
          "data": {
            "image/png": "[encoded data removed]",
            "text/plain": [
              "<Figure size 1440x216 with 1 Axes>"
            ]
          },
          "metadata": {
            "tags": []
          }
        }
      ]
    },
    {
      "cell_type": "markdown",
      "metadata": {
        "colab_type": "text",
        "id": "KKfBmRHOBDrk"
      },
      "source": [
        "**AGE**"
      ]
    },
    {
      "cell_type": "code",
      "metadata": {
        "colab_type": "code",
        "id": "pwAtbec5_jy5",
        "colab": {}
      },
      "source": [
        "df['age_bin'] = pd.cut(df['age'], 20)"
      ],
      "execution_count": null,
      "outputs": []
    },
    {
      "cell_type": "code",
      "metadata": {
        "colab_type": "code",
        "id": "QzzZT72u_oMD",
        "colab": {
          "base_uri": "https://localhost:8080/",
          "height": 353
        },
        "outputId": "9be4736a-38ed-4e35-fb23-05e39cf8d9c4"
      },
      "source": [
        "plt.style.use('seaborn-ticks')\n",
        "fig = plt.figure(figsize=(20,5)) \n",
        "plt.subplot(1, 2, 1)\n",
        "sns.countplot(y=\"age_bin\", data=df)\n",
        "plt.subplot(1, 2, 2)\n",
        "sns.distplot(df[df['income'] == '>50K']['age'], kde_kws={\"label\": \">$50K\"})\n",
        "sns.distplot(df[df['income'] == '<=50K']['age'], kde_kws={\"label\": \"<=$50K\"})"
      ],
      "execution_count": null,
      "outputs": [
        {
          "output_type": "execute_result",
          "data": {
            "text/plain": [
              "<matplotlib.axes._subplots.AxesSubplot at 0x7fa43be068d0>"
            ]
          },
          "metadata": {
            "tags": []
          },
          "execution_count": 19
        },
        {
          "output_type": "display_data",
          "data": {
            "image/png": "[encoded data removed]",
            "text/plain": [
              "<Figure size 1440x360 with 2 Axes>"
            ]
          },
          "metadata": {
            "tags": []
          }
        }
      ]
    },
    {
      "cell_type": "markdown",
      "metadata": {
        "colab_type": "text",
        "id": "WGoS7phmGNiN"
      },
      "source": [
        "#LOGISTIC REGRESSION"
      ]
    },
    {
      "cell_type": "markdown",
      "metadata": {
        "colab_type": "text",
        "id": "LMNa47LyNXhy"
      },
      "source": [
        "## Data Preprocessing\n"
      ]
    },
    {
      "cell_type": "markdown",
      "metadata": {
        "colab_type": "text",
        "id": "tkm2gIs2gR0O"
      },
      "source": [
        "### Importing Dataset"
      ]
    },
    {
      "cell_type": "code",
      "metadata": {
        "colab_type": "code",
        "id": "S6KtTPJ3Lxz_",
        "colab": {}
      },
      "source": [
        "df = pd.read_csv('adult.csv', sep=',')"
      ],
      "execution_count": null,
      "outputs": []
    },
    {
      "cell_type": "markdown",
      "metadata": {
        "colab_type": "text",
        "id": "930prXb8gV12"
      },
      "source": [
        "### Taking care of missing data"
      ]
    },
    {
      "cell_type": "code",
      "metadata": {
        "colab_type": "code",
        "id": "yK-4cnY0NWNc",
        "colab": {}
      },
      "source": [
        "#Given dataset contains \"?\" instead of \"NaN\". So replacing \"?\" with \"NaN\"\n",
        "df[df == '?'] = np.nan"
      ],
      "execution_count": null,
      "outputs": []
    },
    {
      "cell_type": "code",
      "metadata": {
        "colab_type": "code",
        "id": "AOqjj7GMNeZo",
        "colab": {}
      },
      "source": [
        "# Filling missing values with Mode of the columns\n",
        "for col in ['workclass', 'occupation', 'native.country']:\n",
        "    df[col].fillna(df[col].mode()[0], inplace=True)"
      ],
      "execution_count": null,
      "outputs": []
    },
    {
      "cell_type": "code",
      "metadata": {
        "colab_type": "code",
        "id": "GGFVui-iNmA8",
        "colab": {
          "base_uri": "https://localhost:8080/",
          "height": 286
        },
        "outputId": "41fbd3d1-ad08-4ba3-b1af-24ce7fedc369"
      },
      "source": [
        "#Checking for Null values\n",
        "df.isnull().sum()"
      ],
      "execution_count": null,
      "outputs": [
        {
          "output_type": "execute_result",
          "data": {
            "text/plain": [
              "age               0\n",
              "workclass         0\n",
              "fnlwgt            0\n",
              "education         0\n",
              "education.num     0\n",
              "marital.status    0\n",
              "occupation        0\n",
              "relationship      0\n",
              "race              0\n",
              "sex               0\n",
              "capital.gain      0\n",
              "capital.loss      0\n",
              "hours.per.week    0\n",
              "native.country    0\n",
              "income            0\n",
              "dtype: int64"
            ]
          },
          "metadata": {
            "tags": []
          },
          "execution_count": 23
        }
      ]
    },
    {
      "cell_type": "markdown",
      "metadata": {
        "colab_type": "text",
        "id": "E8lAL_MnhV_I"
      },
      "source": [
        "### Encoding Dependent Variable"
      ]
    },
    {
      "cell_type": "code",
      "metadata": {
        "colab_type": "code",
        "id": "5PH7RyeyNpd2",
        "colab": {}
      },
      "source": [
        "#Income\n",
        "y = df.iloc[:, -1]"
      ],
      "execution_count": null,
      "outputs": []
    },
    {
      "cell_type": "code",
      "metadata": {
        "colab_type": "code",
        "id": "W70Wu7KCOJxe",
        "colab": {
          "base_uri": "https://localhost:8080/",
          "height": 218
        },
        "outputId": "23ec1a20-b818-4c65-d246-012bd6670d37"
      },
      "source": [
        "print(y)"
      ],
      "execution_count": null,
      "outputs": [
        {
          "output_type": "stream",
          "text": [
            "0        <=50K\n",
            "1        <=50K\n",
            "2        <=50K\n",
            "3        <=50K\n",
            "4        <=50K\n",
            "         ...  \n",
            "32556    <=50K\n",
            "32557    <=50K\n",
            "32558     >50K\n",
            "32559    <=50K\n",
            "32560    <=50K\n",
            "Name: income, Length: 32561, dtype: object\n"
          ],
          "name": "stdout"
        }
      ]
    },
    {
      "cell_type": "code",
      "metadata": {
        "colab_type": "code",
        "id": "V7M9DJJiOLS7",
        "colab": {}
      },
      "source": [
        "\n",
        "from sklearn.preprocessing import LabelEncoder\n",
        "le = LabelEncoder()\n",
        "y = le.fit_transform(y)"
      ],
      "execution_count": null,
      "outputs": []
    },
    {
      "cell_type": "code",
      "metadata": {
        "colab_type": "code",
        "id": "exvlAJYoP8rs",
        "colab": {
          "base_uri": "https://localhost:8080/",
          "height": 34
        },
        "outputId": "e055d266-1a25-45e2-afee-30207a3894b3"
      },
      "source": [
        "print(y)"
      ],
      "execution_count": null,
      "outputs": [
        {
          "output_type": "stream",
          "text": [
            "[0 0 0 ... 1 0 0]\n"
          ],
          "name": "stdout"
        }
      ]
    },
    {
      "cell_type": "markdown",
      "metadata": {
        "colab_type": "text",
        "id": "r6VaX6XYhfaD"
      },
      "source": [
        "Dropping Useless Columns"
      ]
    },
    {
      "cell_type": "code",
      "metadata": {
        "colab_type": "code",
        "id": "vTQgNgSqQCSm",
        "colab": {}
      },
      "source": [
        "df = df.drop(['income','fnlwgt','capital.gain','capital.loss','native.country'], axis=1)"
      ],
      "execution_count": null,
      "outputs": []
    },
    {
      "cell_type": "code",
      "metadata": {
        "colab_type": "code",
        "id": "aSHPRTFaQO_a",
        "colab": {
          "base_uri": "https://localhost:8080/",
          "height": 195
        },
        "outputId": "f4259754-28cc-4c53-c2c1-58f985f1ea7d"
      },
      "source": [
        "df.head()"
      ],
      "execution_count": null,
      "outputs": [
        {
          "output_type": "execute_result",
          "data": {
            "text/html": [
              "<div>\n",
              "<style scoped>\n",
              "    .dataframe tbody tr th:only-of-type {\n",
              "        vertical-align: middle;\n",
              "    }\n",
              "\n",
              "    .dataframe tbody tr th {\n",
              "        vertical-align: top;\n",
              "    }\n",
              "\n",
              "    .dataframe thead th {\n",
              "        text-align: right;\n",
              "    }\n",
              "</style>\n",
              "<table border=\"1\" class=\"dataframe\">\n",
              "  <thead>\n",
              "    <tr style=\"text-align: right;\">\n",
              "      <th></th>\n",
              "      <th>age</th>\n",
              "      <th>workclass</th>\n",
              "      <th>education</th>\n",
              "      <th>education.num</th>\n",
              "      <th>marital.status</th>\n",
              "      <th>occupation</th>\n",
              "      <th>relationship</th>\n",
              "      <th>race</th>\n",
              "      <th>sex</th>\n",
              "      <th>hours.per.week</th>\n",
              "    </tr>\n",
              "  </thead>\n",
              "  <tbody>\n",
              "    <tr>\n",
              "      <th>0</th>\n",
              "      <td>90</td>\n",
              "      <td>Private</td>\n",
              "      <td>HS-grad</td>\n",
              "      <td>9</td>\n",
              "      <td>Widowed</td>\n",
              "      <td>Prof-specialty</td>\n",
              "      <td>Not-in-family</td>\n",
              "      <td>White</td>\n",
              "      <td>Female</td>\n",
              "      <td>40</td>\n",
              "    </tr>\n",
              "    <tr>\n",
              "      <th>1</th>\n",
              "      <td>82</td>\n",
              "      <td>Private</td>\n",
              "      <td>HS-grad</td>\n",
              "      <td>9</td>\n",
              "      <td>Widowed</td>\n",
              "      <td>Exec-managerial</td>\n",
              "      <td>Not-in-family</td>\n",
              "      <td>White</td>\n",
              "      <td>Female</td>\n",
              "      <td>18</td>\n",
              "    </tr>\n",
              "    <tr>\n",
              "      <th>2</th>\n",
              "      <td>66</td>\n",
              "      <td>Private</td>\n",
              "      <td>Some-college</td>\n",
              "      <td>10</td>\n",
              "      <td>Widowed</td>\n",
              "      <td>Prof-specialty</td>\n",
              "      <td>Unmarried</td>\n",
              "      <td>Black</td>\n",
              "      <td>Female</td>\n",
              "      <td>40</td>\n",
              "    </tr>\n",
              "    <tr>\n",
              "      <th>3</th>\n",
              "      <td>54</td>\n",
              "      <td>Private</td>\n",
              "      <td>7th-8th</td>\n",
              "      <td>4</td>\n",
              "      <td>Divorced</td>\n",
              "      <td>Machine-op-inspct</td>\n",
              "      <td>Unmarried</td>\n",
              "      <td>White</td>\n",
              "      <td>Female</td>\n",
              "      <td>40</td>\n",
              "    </tr>\n",
              "    <tr>\n",
              "      <th>4</th>\n",
              "      <td>41</td>\n",
              "      <td>Private</td>\n",
              "      <td>Some-college</td>\n",
              "      <td>10</td>\n",
              "      <td>Separated</td>\n",
              "      <td>Prof-specialty</td>\n",
              "      <td>Own-child</td>\n",
              "      <td>White</td>\n",
              "      <td>Female</td>\n",
              "      <td>40</td>\n",
              "    </tr>\n",
              "  </tbody>\n",
              "</table>\n",
              "</div>"
            ],
            "text/plain": [
              "   age workclass     education  ...   race     sex hours.per.week\n",
              "0   90   Private       HS-grad  ...  White  Female             40\n",
              "1   82   Private       HS-grad  ...  White  Female             18\n",
              "2   66   Private  Some-college  ...  Black  Female             40\n",
              "3   54   Private       7th-8th  ...  White  Female             40\n",
              "4   41   Private  Some-college  ...  White  Female             40\n",
              "\n",
              "[5 rows x 10 columns]"
            ]
          },
          "metadata": {
            "tags": []
          },
          "execution_count": 29
        }
      ]
    },
    {
      "cell_type": "markdown",
      "metadata": {
        "colab_type": "text",
        "id": "SVBD5qXFhjvk"
      },
      "source": [
        "### Encoding Independent Variables"
      ]
    },
    {
      "cell_type": "code",
      "metadata": {
        "colab_type": "code",
        "id": "xUjwR-SIWXEy",
        "colab": {}
      },
      "source": [
        "df = pd.get_dummies(df, columns=['workclass', 'education', 'marital.status', 'occupation', 'relationship', 'race', 'sex']) "
      ],
      "execution_count": null,
      "outputs": []
    },
    {
      "cell_type": "code",
      "metadata": {
        "colab_type": "code",
        "id": "4X5XUD-OWYdk",
        "colab": {
          "base_uri": "https://localhost:8080/",
          "height": 249
        },
        "outputId": "3f692e25-fad5-4ac9-b1e5-47eaeccb24f1"
      },
      "source": [
        "df.head()"
      ],
      "execution_count": null,
      "outputs": [
        {
          "output_type": "execute_result",
          "data": {
            "text/html": [
              "<div>\n",
              "<style scoped>\n",
              "    .dataframe tbody tr th:only-of-type {\n",
              "        vertical-align: middle;\n",
              "    }\n",
              "\n",
              "    .dataframe tbody tr th {\n",
              "        vertical-align: top;\n",
              "    }\n",
              "\n",
              "    .dataframe thead th {\n",
              "        text-align: right;\n",
              "    }\n",
              "</style>\n",
              "<table border=\"1\" class=\"dataframe\">\n",
              "  <thead>\n",
              "    <tr style=\"text-align: right;\">\n",
              "      <th></th>\n",
              "      <th>age</th>\n",
              "      <th>education.num</th>\n",
              "      <th>hours.per.week</th>\n",
              "      <th>workclass_Federal-gov</th>\n",
              "      <th>workclass_Local-gov</th>\n",
              "      <th>workclass_Never-worked</th>\n",
              "      <th>workclass_Private</th>\n",
              "      <th>workclass_Self-emp-inc</th>\n",
              "      <th>workclass_Self-emp-not-inc</th>\n",
              "      <th>workclass_State-gov</th>\n",
              "      <th>workclass_Without-pay</th>\n",
              "      <th>education_10th</th>\n",
              "      <th>education_11th</th>\n",
              "      <th>education_12th</th>\n",
              "      <th>education_1st-4th</th>\n",
              "      <th>education_5th-6th</th>\n",
              "      <th>education_7th-8th</th>\n",
              "      <th>education_9th</th>\n",
              "      <th>education_Assoc-acdm</th>\n",
              "      <th>education_Assoc-voc</th>\n",
              "      <th>education_Bachelors</th>\n",
              "      <th>education_Doctorate</th>\n",
              "      <th>education_HS-grad</th>\n",
              "      <th>education_Masters</th>\n",
              "      <th>education_Preschool</th>\n",
              "      <th>education_Prof-school</th>\n",
              "      <th>education_Some-college</th>\n",
              "      <th>marital.status_Divorced</th>\n",
              "      <th>marital.status_Married-AF-spouse</th>\n",
              "      <th>marital.status_Married-civ-spouse</th>\n",
              "      <th>marital.status_Married-spouse-absent</th>\n",
              "      <th>marital.status_Never-married</th>\n",
              "      <th>marital.status_Separated</th>\n",
              "      <th>marital.status_Widowed</th>\n",
              "      <th>occupation_Adm-clerical</th>\n",
              "      <th>occupation_Armed-Forces</th>\n",
              "      <th>occupation_Craft-repair</th>\n",
              "      <th>occupation_Exec-managerial</th>\n",
              "      <th>occupation_Farming-fishing</th>\n",
              "      <th>occupation_Handlers-cleaners</th>\n",
              "      <th>occupation_Machine-op-inspct</th>\n",
              "      <th>occupation_Other-service</th>\n",
              "      <th>occupation_Priv-house-serv</th>\n",
              "      <th>occupation_Prof-specialty</th>\n",
              "      <th>occupation_Protective-serv</th>\n",
              "      <th>occupation_Sales</th>\n",
              "      <th>occupation_Tech-support</th>\n",
              "      <th>occupation_Transport-moving</th>\n",
              "      <th>relationship_Husband</th>\n",
              "      <th>relationship_Not-in-family</th>\n",
              "      <th>relationship_Other-relative</th>\n",
              "      <th>relationship_Own-child</th>\n",
              "      <th>relationship_Unmarried</th>\n",
              "      <th>relationship_Wife</th>\n",
              "      <th>race_Amer-Indian-Eskimo</th>\n",
              "      <th>race_Asian-Pac-Islander</th>\n",
              "      <th>race_Black</th>\n",
              "      <th>race_Other</th>\n",
              "      <th>race_White</th>\n",
              "      <th>sex_Female</th>\n",
              "      <th>sex_Male</th>\n",
              "    </tr>\n",
              "  </thead>\n",
              "  <tbody>\n",
              "    <tr>\n",
              "      <th>0</th>\n",
              "      <td>90</td>\n",
              "      <td>9</td>\n",
              "      <td>40</td>\n",
              "      <td>0</td>\n",
              "      <td>0</td>\n",
              "      <td>0</td>\n",
              "      <td>1</td>\n",
              "      <td>0</td>\n",
              "      <td>0</td>\n",
              "      <td>0</td>\n",
              "      <td>0</td>\n",
              "      <td>0</td>\n",
              "      <td>0</td>\n",
              "      <td>0</td>\n",
              "      <td>0</td>\n",
              "      <td>0</td>\n",
              "      <td>0</td>\n",
              "      <td>0</td>\n",
              "      <td>0</td>\n",
              "      <td>0</td>\n",
              "      <td>0</td>\n",
              "      <td>0</td>\n",
              "      <td>1</td>\n",
              "      <td>0</td>\n",
              "      <td>0</td>\n",
              "      <td>0</td>\n",
              "      <td>0</td>\n",
              "      <td>0</td>\n",
              "      <td>0</td>\n",
              "      <td>0</td>\n",
              "      <td>0</td>\n",
              "      <td>0</td>\n",
              "      <td>0</td>\n",
              "      <td>1</td>\n",
              "      <td>0</td>\n",
              "      <td>0</td>\n",
              "      <td>0</td>\n",
              "      <td>0</td>\n",
              "      <td>0</td>\n",
              "      <td>0</td>\n",
              "      <td>0</td>\n",
              "      <td>0</td>\n",
              "      <td>0</td>\n",
              "      <td>1</td>\n",
              "      <td>0</td>\n",
              "      <td>0</td>\n",
              "      <td>0</td>\n",
              "      <td>0</td>\n",
              "      <td>0</td>\n",
              "      <td>1</td>\n",
              "      <td>0</td>\n",
              "      <td>0</td>\n",
              "      <td>0</td>\n",
              "      <td>0</td>\n",
              "      <td>0</td>\n",
              "      <td>0</td>\n",
              "      <td>0</td>\n",
              "      <td>0</td>\n",
              "      <td>1</td>\n",
              "      <td>1</td>\n",
              "      <td>0</td>\n",
              "    </tr>\n",
              "    <tr>\n",
              "      <th>1</th>\n",
              "      <td>82</td>\n",
              "      <td>9</td>\n",
              "      <td>18</td>\n",
              "      <td>0</td>\n",
              "      <td>0</td>\n",
              "      <td>0</td>\n",
              "      <td>1</td>\n",
              "      <td>0</td>\n",
              "      <td>0</td>\n",
              "      <td>0</td>\n",
              "      <td>0</td>\n",
              "      <td>0</td>\n",
              "      <td>0</td>\n",
              "      <td>0</td>\n",
              "      <td>0</td>\n",
              "      <td>0</td>\n",
              "      <td>0</td>\n",
              "      <td>0</td>\n",
              "      <td>0</td>\n",
              "      <td>0</td>\n",
              "      <td>0</td>\n",
              "      <td>0</td>\n",
              "      <td>1</td>\n",
              "      <td>0</td>\n",
              "      <td>0</td>\n",
              "      <td>0</td>\n",
              "      <td>0</td>\n",
              "      <td>0</td>\n",
              "      <td>0</td>\n",
              "      <td>0</td>\n",
              "      <td>0</td>\n",
              "      <td>0</td>\n",
              "      <td>0</td>\n",
              "      <td>1</td>\n",
              "      <td>0</td>\n",
              "      <td>0</td>\n",
              "      <td>0</td>\n",
              "      <td>1</td>\n",
              "      <td>0</td>\n",
              "      <td>0</td>\n",
              "      <td>0</td>\n",
              "      <td>0</td>\n",
              "      <td>0</td>\n",
              "      <td>0</td>\n",
              "      <td>0</td>\n",
              "      <td>0</td>\n",
              "      <td>0</td>\n",
              "      <td>0</td>\n",
              "      <td>0</td>\n",
              "      <td>1</td>\n",
              "      <td>0</td>\n",
              "      <td>0</td>\n",
              "      <td>0</td>\n",
              "      <td>0</td>\n",
              "      <td>0</td>\n",
              "      <td>0</td>\n",
              "      <td>0</td>\n",
              "      <td>0</td>\n",
              "      <td>1</td>\n",
              "      <td>1</td>\n",
              "      <td>0</td>\n",
              "    </tr>\n",
              "    <tr>\n",
              "      <th>2</th>\n",
              "      <td>66</td>\n",
              "      <td>10</td>\n",
              "      <td>40</td>\n",
              "      <td>0</td>\n",
              "      <td>0</td>\n",
              "      <td>0</td>\n",
              "      <td>1</td>\n",
              "      <td>0</td>\n",
              "      <td>0</td>\n",
              "      <td>0</td>\n",
              "      <td>0</td>\n",
              "      <td>0</td>\n",
              "      <td>0</td>\n",
              "      <td>0</td>\n",
              "      <td>0</td>\n",
              "      <td>0</td>\n",
              "      <td>0</td>\n",
              "      <td>0</td>\n",
              "      <td>0</td>\n",
              "      <td>0</td>\n",
              "      <td>0</td>\n",
              "      <td>0</td>\n",
              "      <td>0</td>\n",
              "      <td>0</td>\n",
              "      <td>0</td>\n",
              "      <td>0</td>\n",
              "      <td>1</td>\n",
              "      <td>0</td>\n",
              "      <td>0</td>\n",
              "      <td>0</td>\n",
              "      <td>0</td>\n",
              "      <td>0</td>\n",
              "      <td>0</td>\n",
              "      <td>1</td>\n",
              "      <td>0</td>\n",
              "      <td>0</td>\n",
              "      <td>0</td>\n",
              "      <td>0</td>\n",
              "      <td>0</td>\n",
              "      <td>0</td>\n",
              "      <td>0</td>\n",
              "      <td>0</td>\n",
              "      <td>0</td>\n",
              "      <td>1</td>\n",
              "      <td>0</td>\n",
              "      <td>0</td>\n",
              "      <td>0</td>\n",
              "      <td>0</td>\n",
              "      <td>0</td>\n",
              "      <td>0</td>\n",
              "      <td>0</td>\n",
              "      <td>0</td>\n",
              "      <td>1</td>\n",
              "      <td>0</td>\n",
              "      <td>0</td>\n",
              "      <td>0</td>\n",
              "      <td>1</td>\n",
              "      <td>0</td>\n",
              "      <td>0</td>\n",
              "      <td>1</td>\n",
              "      <td>0</td>\n",
              "    </tr>\n",
              "    <tr>\n",
              "      <th>3</th>\n",
              "      <td>54</td>\n",
              "      <td>4</td>\n",
              "      <td>40</td>\n",
              "      <td>0</td>\n",
              "      <td>0</td>\n",
              "      <td>0</td>\n",
              "      <td>1</td>\n",
              "      <td>0</td>\n",
              "      <td>0</td>\n",
              "      <td>0</td>\n",
              "      <td>0</td>\n",
              "      <td>0</td>\n",
              "      <td>0</td>\n",
              "      <td>0</td>\n",
              "      <td>0</td>\n",
              "      <td>0</td>\n",
              "      <td>1</td>\n",
              "      <td>0</td>\n",
              "      <td>0</td>\n",
              "      <td>0</td>\n",
              "      <td>0</td>\n",
              "      <td>0</td>\n",
              "      <td>0</td>\n",
              "      <td>0</td>\n",
              "      <td>0</td>\n",
              "      <td>0</td>\n",
              "      <td>0</td>\n",
              "      <td>1</td>\n",
              "      <td>0</td>\n",
              "      <td>0</td>\n",
              "      <td>0</td>\n",
              "      <td>0</td>\n",
              "      <td>0</td>\n",
              "      <td>0</td>\n",
              "      <td>0</td>\n",
              "      <td>0</td>\n",
              "      <td>0</td>\n",
              "      <td>0</td>\n",
              "      <td>0</td>\n",
              "      <td>0</td>\n",
              "      <td>1</td>\n",
              "      <td>0</td>\n",
              "      <td>0</td>\n",
              "      <td>0</td>\n",
              "      <td>0</td>\n",
              "      <td>0</td>\n",
              "      <td>0</td>\n",
              "      <td>0</td>\n",
              "      <td>0</td>\n",
              "      <td>0</td>\n",
              "      <td>0</td>\n",
              "      <td>0</td>\n",
              "      <td>1</td>\n",
              "      <td>0</td>\n",
              "      <td>0</td>\n",
              "      <td>0</td>\n",
              "      <td>0</td>\n",
              "      <td>0</td>\n",
              "      <td>1</td>\n",
              "      <td>1</td>\n",
              "      <td>0</td>\n",
              "    </tr>\n",
              "    <tr>\n",
              "      <th>4</th>\n",
              "      <td>41</td>\n",
              "      <td>10</td>\n",
              "      <td>40</td>\n",
              "      <td>0</td>\n",
              "      <td>0</td>\n",
              "      <td>0</td>\n",
              "      <td>1</td>\n",
              "      <td>0</td>\n",
              "      <td>0</td>\n",
              "      <td>0</td>\n",
              "      <td>0</td>\n",
              "      <td>0</td>\n",
              "      <td>0</td>\n",
              "      <td>0</td>\n",
              "      <td>0</td>\n",
              "      <td>0</td>\n",
              "      <td>0</td>\n",
              "      <td>0</td>\n",
              "      <td>0</td>\n",
              "      <td>0</td>\n",
              "      <td>0</td>\n",
              "      <td>0</td>\n",
              "      <td>0</td>\n",
              "      <td>0</td>\n",
              "      <td>0</td>\n",
              "      <td>0</td>\n",
              "      <td>1</td>\n",
              "      <td>0</td>\n",
              "      <td>0</td>\n",
              "      <td>0</td>\n",
              "      <td>0</td>\n",
              "      <td>0</td>\n",
              "      <td>1</td>\n",
              "      <td>0</td>\n",
              "      <td>0</td>\n",
              "      <td>0</td>\n",
              "      <td>0</td>\n",
              "      <td>0</td>\n",
              "      <td>0</td>\n",
              "      <td>0</td>\n",
              "      <td>0</td>\n",
              "      <td>0</td>\n",
              "      <td>0</td>\n",
              "      <td>1</td>\n",
              "      <td>0</td>\n",
              "      <td>0</td>\n",
              "      <td>0</td>\n",
              "      <td>0</td>\n",
              "      <td>0</td>\n",
              "      <td>0</td>\n",
              "      <td>0</td>\n",
              "      <td>1</td>\n",
              "      <td>0</td>\n",
              "      <td>0</td>\n",
              "      <td>0</td>\n",
              "      <td>0</td>\n",
              "      <td>0</td>\n",
              "      <td>0</td>\n",
              "      <td>1</td>\n",
              "      <td>1</td>\n",
              "      <td>0</td>\n",
              "    </tr>\n",
              "  </tbody>\n",
              "</table>\n",
              "</div>"
            ],
            "text/plain": [
              "   age  education.num  hours.per.week  ...  race_White  sex_Female  sex_Male\n",
              "0   90              9              40  ...           1           1         0\n",
              "1   82              9              18  ...           1           1         0\n",
              "2   66             10              40  ...           0           1         0\n",
              "3   54              4              40  ...           1           1         0\n",
              "4   41             10              40  ...           1           1         0\n",
              "\n",
              "[5 rows x 61 columns]"
            ]
          },
          "metadata": {
            "tags": []
          },
          "execution_count": 31
        }
      ]
    },
    {
      "cell_type": "code",
      "metadata": {
        "colab_type": "code",
        "id": "LSXxq3CgQiSJ",
        "colab": {}
      },
      "source": [
        "X = df.iloc[:, :]"
      ],
      "execution_count": null,
      "outputs": []
    },
    {
      "cell_type": "code",
      "metadata": {
        "colab_type": "code",
        "id": "90gMWAiOQy-V",
        "colab": {
          "base_uri": "https://localhost:8080/",
          "height": 252
        },
        "outputId": "2e547893-ca77-42ae-d58f-a9e15ab05091"
      },
      "source": [
        "print(X)"
      ],
      "execution_count": null,
      "outputs": [
        {
          "output_type": "stream",
          "text": [
            "       age  education.num  hours.per.week  ...  race_White  sex_Female  sex_Male\n",
            "0       90              9              40  ...           1           1         0\n",
            "1       82              9              18  ...           1           1         0\n",
            "2       66             10              40  ...           0           1         0\n",
            "3       54              4              40  ...           1           1         0\n",
            "4       41             10              40  ...           1           1         0\n",
            "...    ...            ...             ...  ...         ...         ...       ...\n",
            "32556   22             10              40  ...           1           0         1\n",
            "32557   27             12              38  ...           1           1         0\n",
            "32558   40              9              40  ...           1           0         1\n",
            "32559   58              9              40  ...           1           1         0\n",
            "32560   22              9              20  ...           1           0         1\n",
            "\n",
            "[32561 rows x 61 columns]\n"
          ],
          "name": "stdout"
        }
      ]
    },
    {
      "cell_type": "markdown",
      "metadata": {
        "colab_type": "text",
        "id": "i7Yv5WBXhsBy"
      },
      "source": [
        "### Feature Scaling (Only required for Logistic Regression)\n",
        "\n",
        "**Standardization**\n",
        "x_stand = (x - mean(x)) / std_dev(x)\n"
      ]
    },
    {
      "cell_type": "code",
      "metadata": {
        "colab_type": "code",
        "id": "9hTkCq2fS7qM",
        "colab": {}
      },
      "source": [
        "from sklearn.preprocessing import StandardScaler\n",
        "sc = StandardScaler()\n",
        "X = sc.fit_transform(X)  "
      ],
      "execution_count": null,
      "outputs": []
    },
    {
      "cell_type": "code",
      "metadata": {
        "colab_type": "code",
        "id": "Vjla2LX0XFZu",
        "colab": {
          "base_uri": "https://localhost:8080/",
          "height": 235
        },
        "outputId": "fd94ee74-201b-47af-cc63-cf8709e54696"
      },
      "source": [
        "print(X)"
      ],
      "execution_count": null,
      "outputs": [
        {
          "output_type": "stream",
          "text": [
            "[[ 3.76961234 -0.42005962 -0.03542945 ...  0.4130197   1.42233076\n",
            "  -1.42233076]\n",
            " [ 3.18311167 -0.42005962 -1.81720429 ...  0.4130197   1.42233076\n",
            "  -1.42233076]\n",
            " [ 2.01011032 -0.03136003 -0.03542945 ... -2.421192    1.42233076\n",
            "  -1.42233076]\n",
            " ...\n",
            " [ 0.10398314 -0.42005962 -0.03542945 ...  0.4130197  -0.70307135\n",
            "   0.70307135]\n",
            " [ 1.42360965 -0.42005962 -0.03542945 ...  0.4130197   1.42233076\n",
            "  -1.42233076]\n",
            " [-1.21564337 -0.42005962 -1.65522476 ...  0.4130197  -0.70307135\n",
            "   0.70307135]]\n"
          ],
          "name": "stdout"
        }
      ]
    },
    {
      "cell_type": "markdown",
      "metadata": {
        "colab_type": "text",
        "id": "2IQBb88YiRlB"
      },
      "source": [
        "## Splitting the dataset into the Training set and Test set (70/30)"
      ]
    },
    {
      "cell_type": "code",
      "metadata": {
        "colab_type": "code",
        "id": "KrNHZqFxXG5m",
        "colab": {}
      },
      "source": [
        "from sklearn.model_selection import train_test_split\n",
        "x_train, x_test, y_train, y_test = train_test_split(X, y, test_size = 0.3, random_state = 0)"
      ],
      "execution_count": null,
      "outputs": []
    },
    {
      "cell_type": "code",
      "metadata": {
        "colab_type": "code",
        "id": "594AV9GYXLXs",
        "colab": {
          "base_uri": "https://localhost:8080/",
          "height": 235
        },
        "outputId": "9c1fb390-a16d-47bd-ef62-978f72d666c9"
      },
      "source": [
        "print(x_train)"
      ],
      "execution_count": null,
      "outputs": [
        {
          "output_type": "stream",
          "text": [
            "[[ 0.10398314  1.13473876 -1.65522476 ...  0.4130197   1.42233076\n",
            "  -1.42233076]\n",
            " [ 0.03067056 -0.42005962 -0.19740898 ...  0.4130197  -0.70307135\n",
            "   0.70307135]\n",
            " [ 0.25060831 -0.03136003 -0.03542945 ...  0.4130197   1.42233076\n",
            "  -1.42233076]\n",
            " ...\n",
            " [-0.92239303 -0.80875922  0.85545798 ... -2.421192   -0.70307135\n",
            "   0.70307135]\n",
            " [ 0.39723348  1.52343836 -0.03542945 ...  0.4130197  -0.70307135\n",
            "   0.70307135]\n",
            " [ 0.03067056 -0.42005962 -0.03542945 ...  0.4130197  -0.70307135\n",
            "   0.70307135]]\n"
          ],
          "name": "stdout"
        }
      ]
    },
    {
      "cell_type": "code",
      "metadata": {
        "colab_type": "code",
        "id": "eynkdvHfXVV7",
        "colab": {
          "base_uri": "https://localhost:8080/",
          "height": 235
        },
        "outputId": "1a949c40-2ad9-4090-998e-0f219dcdb59c"
      },
      "source": [
        "print(x_test)"
      ],
      "execution_count": null,
      "outputs": [
        {
          "output_type": "stream",
          "text": [
            "[[ 1.27698448 -1.97485801 -0.03542945 ...  0.4130197   1.42233076\n",
            "  -1.42233076]\n",
            " [-1.43558112 -0.42005962 -1.25027593 ...  0.4130197   1.42233076\n",
            "  -1.42233076]\n",
            " [-1.14233079 -0.03136003 -0.44037828 ... -2.421192    1.42233076\n",
            "  -1.42233076]\n",
            " ...\n",
            " [-0.99570562 -0.03136003 -0.03542945 ...  0.4130197  -0.70307135\n",
            "   0.70307135]\n",
            " [-0.33589236 -0.42005962  0.61248868 ... -2.421192    1.42233076\n",
            "  -1.42233076]\n",
            " [ 0.83710898  0.35733957  0.77446821 ...  0.4130197  -0.70307135\n",
            "   0.70307135]]\n"
          ],
          "name": "stdout"
        }
      ]
    },
    {
      "cell_type": "code",
      "metadata": {
        "colab_type": "code",
        "id": "hzXaTxoWXWjR",
        "colab": {
          "base_uri": "https://localhost:8080/",
          "height": 34
        },
        "outputId": "6e397984-6e0b-468d-ab71-b29d8370d735"
      },
      "source": [
        "print(y_train)"
      ],
      "execution_count": null,
      "outputs": [
        {
          "output_type": "stream",
          "text": [
            "[0 1 0 ... 0 1 1]\n"
          ],
          "name": "stdout"
        }
      ]
    },
    {
      "cell_type": "code",
      "metadata": {
        "colab_type": "code",
        "id": "b8Rvu9p0XX0t",
        "colab": {
          "base_uri": "https://localhost:8080/",
          "height": 34
        },
        "outputId": "029c09ef-6f92-467b-dca8-01383a3c3943"
      },
      "source": [
        "print(y_test)"
      ],
      "execution_count": null,
      "outputs": [
        {
          "output_type": "stream",
          "text": [
            "[0 0 0 ... 0 0 1]\n"
          ],
          "name": "stdout"
        }
      ]
    },
    {
      "cell_type": "markdown",
      "metadata": {
        "colab_type": "text",
        "id": "P2a9QbpBijm4"
      },
      "source": [
        "### Building model"
      ]
    },
    {
      "cell_type": "code",
      "metadata": {
        "colab_type": "code",
        "id": "47Ivge0xXZTp",
        "colab": {}
      },
      "source": [
        "regressor = LogisticRegression()\n",
        "regressor.fit(x_train, y_train)\n",
        "y_pred = regressor.predict(x_test)"
      ],
      "execution_count": null,
      "outputs": []
    },
    {
      "cell_type": "code",
      "metadata": {
        "colab_type": "code",
        "id": "GhbxNMkiXm5C",
        "colab": {
          "base_uri": "https://localhost:8080/",
          "height": 34
        },
        "outputId": "7f1632c7-4ec3-4f8e-e8aa-854587f1d78b"
      },
      "source": [
        "print(y_pred)"
      ],
      "execution_count": null,
      "outputs": [
        {
          "output_type": "stream",
          "text": [
            "[0 0 0 ... 0 0 1]\n"
          ],
          "name": "stdout"
        }
      ]
    },
    {
      "cell_type": "markdown",
      "metadata": {
        "colab_type": "text",
        "id": "9bQr7cu1isEJ"
      },
      "source": [
        "### Accuracy"
      ]
    },
    {
      "cell_type": "code",
      "metadata": {
        "colab_type": "code",
        "id": "fkidy8YNYAXV",
        "colab": {
          "base_uri": "https://localhost:8080/",
          "height": 34
        },
        "outputId": "d901a60e-3f7a-484e-9fbb-09e51387170c"
      },
      "source": [
        "print('Logistic Regression accuracy score with all the features: {0:0.4f}'. format(accuracy_score(y_test, y_pred)))"
      ],
      "execution_count": null,
      "outputs": [
        {
          "output_type": "stream",
          "text": [
            "Logistic Regression accuracy score with all the features: 0.8292\n"
          ],
          "name": "stdout"
        }
      ]
    },
    {
      "cell_type": "markdown",
      "metadata": {
        "colab_type": "text",
        "id": "FPmMeZvkGkNR"
      },
      "source": [
        "## Splitting the dataset into the Training set and Test set (60/40)"
      ]
    },
    {
      "cell_type": "code",
      "metadata": {
        "colab_type": "code",
        "id": "Qva5y5MgF23w",
        "colab": {}
      },
      "source": [
        "from sklearn.model_selection import train_test_split\n",
        "x_train, x_test, y_train, y_test = train_test_split(X, y, test_size = 0.4, random_state = 0)"
      ],
      "execution_count": null,
      "outputs": []
    },
    {
      "cell_type": "markdown",
      "metadata": {
        "colab_type": "text",
        "id": "4Ndjp1wuGozl"
      },
      "source": [
        "### Building Model"
      ]
    },
    {
      "cell_type": "code",
      "metadata": {
        "colab_type": "code",
        "id": "s-V9m-dQF51d",
        "colab": {}
      },
      "source": [
        "regressor = LogisticRegression()\n",
        "regressor.fit(x_train, y_train)\n",
        "y_pred = regressor.predict(x_test)"
      ],
      "execution_count": null,
      "outputs": []
    },
    {
      "cell_type": "markdown",
      "metadata": {
        "colab_type": "text",
        "id": "wiMXKS4WGsCk"
      },
      "source": [
        "### Accuracy"
      ]
    },
    {
      "cell_type": "code",
      "metadata": {
        "colab_type": "code",
        "id": "uwjAjwxlGAPi",
        "colab": {
          "base_uri": "https://localhost:8080/",
          "height": 34
        },
        "outputId": "e406180a-d97d-4db2-8ec3-5f6ccff1758c"
      },
      "source": [
        "print('Logistic Regression accuracy score with all the features: {0:0.4f}'. format(accuracy_score(y_test, y_pred)))"
      ],
      "execution_count": null,
      "outputs": [
        {
          "output_type": "stream",
          "text": [
            "Logistic Regression accuracy score with all the features: 0.8310\n"
          ],
          "name": "stdout"
        }
      ]
    },
    {
      "cell_type": "markdown",
      "metadata": {
        "colab_type": "text",
        "id": "hiSuw33aBy_v"
      },
      "source": [
        "# DECISION TREE CLASSIFIER"
      ]
    },
    {
      "cell_type": "markdown",
      "metadata": {
        "colab_type": "text",
        "id": "eUJSbRDTJwHW"
      },
      "source": [
        "## Data Preprocessing"
      ]
    },
    {
      "cell_type": "code",
      "metadata": {
        "colab_type": "code",
        "id": "p9dqfhbPB6-y",
        "colab": {}
      },
      "source": [
        "df = pd.read_csv('adult.csv', sep=',')"
      ],
      "execution_count": null,
      "outputs": []
    },
    {
      "cell_type": "markdown",
      "metadata": {
        "colab_type": "text",
        "id": "7nwZi8vlCDCa"
      },
      "source": [
        "### Taking care of missing data"
      ]
    },
    {
      "cell_type": "code",
      "metadata": {
        "colab_type": "code",
        "id": "hwx4WiTFB61t",
        "colab": {}
      },
      "source": [
        "#Given dataset contains \"?\" instead of \"NaN\". So replacing \"?\" with \"NaN\"\n",
        "df[df == '?'] = np.nan"
      ],
      "execution_count": null,
      "outputs": []
    },
    {
      "cell_type": "code",
      "metadata": {
        "colab_type": "code",
        "id": "_ONKUAQFB6fW",
        "colab": {}
      },
      "source": [
        "# Filling missing values with Mode of the columns\n",
        "for col in ['workclass', 'occupation', 'native.country']:\n",
        "    df[col].fillna(df[col].mode()[0], inplace=True)"
      ],
      "execution_count": null,
      "outputs": []
    },
    {
      "cell_type": "code",
      "metadata": {
        "colab_type": "code",
        "id": "WiiBaDE3CUMx",
        "colab": {
          "base_uri": "https://localhost:8080/",
          "height": 286
        },
        "outputId": "adc3c5d1-c652-4d7d-efe7-d8fb6c6f1c1e"
      },
      "source": [
        "#Checking for Null values\n",
        "df.isnull().sum()"
      ],
      "execution_count": null,
      "outputs": [
        {
          "output_type": "execute_result",
          "data": {
            "text/plain": [
              "age               0\n",
              "workclass         0\n",
              "fnlwgt            0\n",
              "education         0\n",
              "education.num     0\n",
              "marital.status    0\n",
              "occupation        0\n",
              "relationship      0\n",
              "race              0\n",
              "sex               0\n",
              "capital.gain      0\n",
              "capital.loss      0\n",
              "hours.per.week    0\n",
              "native.country    0\n",
              "income            0\n",
              "dtype: int64"
            ]
          },
          "metadata": {
            "tags": []
          },
          "execution_count": 50
        }
      ]
    },
    {
      "cell_type": "markdown",
      "metadata": {
        "colab_type": "text",
        "id": "vZ-9TaZhCXsq"
      },
      "source": [
        "### Encoding Dependent Variable"
      ]
    },
    {
      "cell_type": "code",
      "metadata": {
        "colab_type": "code",
        "id": "GyrjsLf2Cfiu",
        "colab": {}
      },
      "source": [
        "#Income\n",
        "y = df.iloc[:, -1]"
      ],
      "execution_count": null,
      "outputs": []
    },
    {
      "cell_type": "code",
      "metadata": {
        "colab_type": "code",
        "id": "r0blyzMlCi3_",
        "colab": {}
      },
      "source": [
        "from sklearn.preprocessing import LabelEncoder\n",
        "le = LabelEncoder()\n",
        "y = le.fit_transform(y)"
      ],
      "execution_count": null,
      "outputs": []
    },
    {
      "cell_type": "code",
      "metadata": {
        "colab_type": "code",
        "id": "zkFp-9omCmOy",
        "colab": {
          "base_uri": "https://localhost:8080/",
          "height": 34
        },
        "outputId": "1e786ffe-9c4a-4ed8-c3cc-fac2f1b694dd"
      },
      "source": [
        "print(y)"
      ],
      "execution_count": null,
      "outputs": [
        {
          "output_type": "stream",
          "text": [
            "[0 0 0 ... 1 0 0]\n"
          ],
          "name": "stdout"
        }
      ]
    },
    {
      "cell_type": "markdown",
      "metadata": {
        "colab_type": "text",
        "id": "GsPwWMY3CreK"
      },
      "source": [
        "### Dropping Useless Columns"
      ]
    },
    {
      "cell_type": "code",
      "metadata": {
        "colab_type": "code",
        "id": "7Qix43Y5Cnn3",
        "colab": {}
      },
      "source": [
        "df = df.drop(['income','fnlwgt','capital.gain','capital.loss','native.country'], axis=1)"
      ],
      "execution_count": null,
      "outputs": []
    },
    {
      "cell_type": "code",
      "metadata": {
        "colab_type": "code",
        "id": "fpy3UYb0Cvfz",
        "colab": {
          "base_uri": "https://localhost:8080/",
          "height": 195
        },
        "outputId": "d27425ce-d709-488e-9927-a419d8ceb317"
      },
      "source": [
        "df.head()"
      ],
      "execution_count": null,
      "outputs": [
        {
          "output_type": "execute_result",
          "data": {
            "text/html": [
              "<div>\n",
              "<style scoped>\n",
              "    .dataframe tbody tr th:only-of-type {\n",
              "        vertical-align: middle;\n",
              "    }\n",
              "\n",
              "    .dataframe tbody tr th {\n",
              "        vertical-align: top;\n",
              "    }\n",
              "\n",
              "    .dataframe thead th {\n",
              "        text-align: right;\n",
              "    }\n",
              "</style>\n",
              "<table border=\"1\" class=\"dataframe\">\n",
              "  <thead>\n",
              "    <tr style=\"text-align: right;\">\n",
              "      <th></th>\n",
              "      <th>age</th>\n",
              "      <th>workclass</th>\n",
              "      <th>education</th>\n",
              "      <th>education.num</th>\n",
              "      <th>marital.status</th>\n",
              "      <th>occupation</th>\n",
              "      <th>relationship</th>\n",
              "      <th>race</th>\n",
              "      <th>sex</th>\n",
              "      <th>hours.per.week</th>\n",
              "    </tr>\n",
              "  </thead>\n",
              "  <tbody>\n",
              "    <tr>\n",
              "      <th>0</th>\n",
              "      <td>90</td>\n",
              "      <td>Private</td>\n",
              "      <td>HS-grad</td>\n",
              "      <td>9</td>\n",
              "      <td>Widowed</td>\n",
              "      <td>Prof-specialty</td>\n",
              "      <td>Not-in-family</td>\n",
              "      <td>White</td>\n",
              "      <td>Female</td>\n",
              "      <td>40</td>\n",
              "    </tr>\n",
              "    <tr>\n",
              "      <th>1</th>\n",
              "      <td>82</td>\n",
              "      <td>Private</td>\n",
              "      <td>HS-grad</td>\n",
              "      <td>9</td>\n",
              "      <td>Widowed</td>\n",
              "      <td>Exec-managerial</td>\n",
              "      <td>Not-in-family</td>\n",
              "      <td>White</td>\n",
              "      <td>Female</td>\n",
              "      <td>18</td>\n",
              "    </tr>\n",
              "    <tr>\n",
              "      <th>2</th>\n",
              "      <td>66</td>\n",
              "      <td>Private</td>\n",
              "      <td>Some-college</td>\n",
              "      <td>10</td>\n",
              "      <td>Widowed</td>\n",
              "      <td>Prof-specialty</td>\n",
              "      <td>Unmarried</td>\n",
              "      <td>Black</td>\n",
              "      <td>Female</td>\n",
              "      <td>40</td>\n",
              "    </tr>\n",
              "    <tr>\n",
              "      <th>3</th>\n",
              "      <td>54</td>\n",
              "      <td>Private</td>\n",
              "      <td>7th-8th</td>\n",
              "      <td>4</td>\n",
              "      <td>Divorced</td>\n",
              "      <td>Machine-op-inspct</td>\n",
              "      <td>Unmarried</td>\n",
              "      <td>White</td>\n",
              "      <td>Female</td>\n",
              "      <td>40</td>\n",
              "    </tr>\n",
              "    <tr>\n",
              "      <th>4</th>\n",
              "      <td>41</td>\n",
              "      <td>Private</td>\n",
              "      <td>Some-college</td>\n",
              "      <td>10</td>\n",
              "      <td>Separated</td>\n",
              "      <td>Prof-specialty</td>\n",
              "      <td>Own-child</td>\n",
              "      <td>White</td>\n",
              "      <td>Female</td>\n",
              "      <td>40</td>\n",
              "    </tr>\n",
              "  </tbody>\n",
              "</table>\n",
              "</div>"
            ],
            "text/plain": [
              "   age workclass     education  ...   race     sex hours.per.week\n",
              "0   90   Private       HS-grad  ...  White  Female             40\n",
              "1   82   Private       HS-grad  ...  White  Female             18\n",
              "2   66   Private  Some-college  ...  Black  Female             40\n",
              "3   54   Private       7th-8th  ...  White  Female             40\n",
              "4   41   Private  Some-college  ...  White  Female             40\n",
              "\n",
              "[5 rows x 10 columns]"
            ]
          },
          "metadata": {
            "tags": []
          },
          "execution_count": 55
        }
      ]
    },
    {
      "cell_type": "markdown",
      "metadata": {
        "colab_type": "text",
        "id": "gAE1DvoQC1CG"
      },
      "source": [
        "### Encoding Independent Variables"
      ]
    },
    {
      "cell_type": "code",
      "metadata": {
        "colab_type": "code",
        "id": "fcmnshDXCxGR",
        "colab": {}
      },
      "source": [
        "df = pd.get_dummies(df, columns=['workclass', 'education', 'marital.status', 'occupation', 'relationship', 'race', 'sex'])"
      ],
      "execution_count": null,
      "outputs": []
    },
    {
      "cell_type": "code",
      "metadata": {
        "colab_type": "code",
        "id": "ZLdmxMmuCw93",
        "colab": {}
      },
      "source": [
        "X = df.iloc[:, :]"
      ],
      "execution_count": null,
      "outputs": []
    },
    {
      "cell_type": "markdown",
      "metadata": {
        "colab_type": "text",
        "id": "OGdwNn0QC-sq"
      },
      "source": [
        "## Splitting the dataset into the Training set and Test set (70/30)"
      ]
    },
    {
      "cell_type": "code",
      "metadata": {
        "colab_type": "code",
        "id": "5TcenxjiCwxW",
        "colab": {}
      },
      "source": [
        "from sklearn.model_selection import train_test_split\n",
        "x_train, x_test, y_train, y_test = train_test_split(X, y, test_size = 0.3, random_state = 0)"
      ],
      "execution_count": null,
      "outputs": []
    },
    {
      "cell_type": "code",
      "metadata": {
        "colab_type": "code",
        "id": "DVye8ZRQDLA0",
        "colab": {
          "base_uri": "https://localhost:8080/",
          "height": 252
        },
        "outputId": "4029181b-af01-4995-afe1-20a0f8ed4b89"
      },
      "source": [
        "print(x_train)"
      ],
      "execution_count": null,
      "outputs": [
        {
          "output_type": "stream",
          "text": [
            "       age  education.num  hours.per.week  ...  race_White  sex_Female  sex_Male\n",
            "32098   40             13              20  ...           1           1         0\n",
            "25206   39              9              38  ...           1           0         1\n",
            "23491   42             10              40  ...           1           1         0\n",
            "12367   27              9              40  ...           1           0         1\n",
            "7054    38             14              40  ...           1           0         1\n",
            "...    ...            ...             ...  ...         ...         ...       ...\n",
            "13123   90             10              40  ...           1           0         1\n",
            "19648   36              9              40  ...           1           0         1\n",
            "9845    26              8              51  ...           0           0         1\n",
            "10799   44             14              40  ...           1           0         1\n",
            "2732    39              9              40  ...           1           0         1\n",
            "\n",
            "[22792 rows x 61 columns]\n"
          ],
          "name": "stdout"
        }
      ]
    },
    {
      "cell_type": "code",
      "metadata": {
        "colab_type": "code",
        "id": "UNOrnazYDMa6",
        "colab": {
          "base_uri": "https://localhost:8080/",
          "height": 252
        },
        "outputId": "c48cbf1e-9707-4d8d-ad60-c0ae909bcead"
      },
      "source": [
        "print(x_test)"
      ],
      "execution_count": null,
      "outputs": [
        {
          "output_type": "stream",
          "text": [
            "       age  education.num  hours.per.week  ...  race_White  sex_Female  sex_Male\n",
            "22278   56              5              40  ...           1           1         0\n",
            "8950    19              9              25  ...           1           1         0\n",
            "7838    23             10              35  ...           0           1         0\n",
            "16505   37             13              40  ...           1           0         1\n",
            "19140   49             14              50  ...           1           0         1\n",
            "...    ...            ...             ...  ...         ...         ...       ...\n",
            "21949   37              9              50  ...           1           0         1\n",
            "26405   26              9              40  ...           1           0         1\n",
            "23236   25             10              40  ...           1           0         1\n",
            "26823   34              9              48  ...           0           1         0\n",
            "20721   50             11              50  ...           1           0         1\n",
            "\n",
            "[9769 rows x 61 columns]\n"
          ],
          "name": "stdout"
        }
      ]
    },
    {
      "cell_type": "code",
      "metadata": {
        "colab_type": "code",
        "id": "cvmeXEboDOYq",
        "colab": {
          "base_uri": "https://localhost:8080/",
          "height": 34
        },
        "outputId": "5bb0e926-c33b-437c-d757-14995cf8282c"
      },
      "source": [
        "print(y_train)"
      ],
      "execution_count": null,
      "outputs": [
        {
          "output_type": "stream",
          "text": [
            "[0 1 0 ... 0 1 1]\n"
          ],
          "name": "stdout"
        }
      ]
    },
    {
      "cell_type": "code",
      "metadata": {
        "colab_type": "code",
        "id": "5YEjehRxDQM-",
        "colab": {
          "base_uri": "https://localhost:8080/",
          "height": 34
        },
        "outputId": "a094d733-e6f1-40b7-a064-1f7232fb524c"
      },
      "source": [
        "print(y_test)"
      ],
      "execution_count": null,
      "outputs": [
        {
          "output_type": "stream",
          "text": [
            "[0 0 0 ... 0 0 1]\n"
          ],
          "name": "stdout"
        }
      ]
    },
    {
      "cell_type": "markdown",
      "metadata": {
        "colab_type": "text",
        "id": "eGZZAFXXYos7"
      },
      "source": [
        "### Selecting Depth of Decision Tree"
      ]
    },
    {
      "cell_type": "code",
      "metadata": {
        "colab_type": "code",
        "id": "oupNqHLSYNCG",
        "colab": {
          "base_uri": "https://localhost:8080/",
          "height": 336
        },
        "outputId": "dfccdc81-8395-4ef1-f92d-6108513d6764"
      },
      "source": [
        "for max_depth in range(1, 20):\n",
        "    t = tree.DecisionTreeClassifier(criterion='entropy', max_depth=max_depth)\n",
        "    scores = cross_val_score(t, X, y, cv=5)\n",
        "    print(\"Max depth: %d, Accuracy: %0.2f (+/- %0.2f)\" % (max_depth, scores.mean(), scores.std()*2))"
      ],
      "execution_count": null,
      "outputs": [
        {
          "output_type": "stream",
          "text": [
            "Max depth: 1, Accuracy: 0.76 (+/- 0.00)\n",
            "Max depth: 2, Accuracy: 0.82 (+/- 0.02)\n",
            "Max depth: 3, Accuracy: 0.82 (+/- 0.02)\n",
            "Max depth: 4, Accuracy: 0.82 (+/- 0.02)\n",
            "Max depth: 5, Accuracy: 0.82 (+/- 0.02)\n",
            "Max depth: 6, Accuracy: 0.83 (+/- 0.01)\n",
            "Max depth: 7, Accuracy: 0.83 (+/- 0.01)\n",
            "Max depth: 8, Accuracy: 0.83 (+/- 0.01)\n",
            "Max depth: 9, Accuracy: 0.83 (+/- 0.01)\n",
            "Max depth: 10, Accuracy: 0.83 (+/- 0.01)\n",
            "Max depth: 11, Accuracy: 0.83 (+/- 0.01)\n",
            "Max depth: 12, Accuracy: 0.82 (+/- 0.01)\n",
            "Max depth: 13, Accuracy: 0.82 (+/- 0.01)\n",
            "Max depth: 14, Accuracy: 0.82 (+/- 0.00)\n",
            "Max depth: 15, Accuracy: 0.81 (+/- 0.01)\n",
            "Max depth: 16, Accuracy: 0.81 (+/- 0.01)\n",
            "Max depth: 17, Accuracy: 0.81 (+/- 0.01)\n",
            "Max depth: 18, Accuracy: 0.80 (+/- 0.01)\n",
            "Max depth: 19, Accuracy: 0.80 (+/- 0.01)\n"
          ],
          "name": "stdout"
        }
      ]
    },
    {
      "cell_type": "markdown",
      "metadata": {
        "colab_type": "text",
        "id": "bXmyqJzei3yp"
      },
      "source": [
        "Building model"
      ]
    },
    {
      "cell_type": "code",
      "metadata": {
        "colab_type": "code",
        "id": "S6A9EhGaaL0v",
        "colab": {}
      },
      "source": [
        "classifier = tree.DecisionTreeClassifier(criterion='entropy', max_depth=7)\n",
        "classifier = classifier.fit(x_train, y_train)"
      ],
      "execution_count": null,
      "outputs": []
    },
    {
      "cell_type": "markdown",
      "metadata": {
        "colab_type": "text",
        "id": "eol0EnZXjBSv"
      },
      "source": [
        "Visualization of Decision Tree for the created model"
      ]
    },
    {
      "cell_type": "code",
      "metadata": {
        "colab_type": "code",
        "id": "5VCktjmRac41",
        "colab": {
          "base_uri": "https://localhost:8080/",
          "height": 1000
        },
        "outputId": "d4e04de4-3541-4c77-ea54-31cb4ccee00a"
      },
      "source": [
        "dot_data = tree.export_graphviz(classifier, out_file=None, label='all', impurity=False, proportion=True, \n",
        "                               feature_names=list(x_train), class_names=['lt50K', 'gt50K'],\n",
        "                               filled=True, rounded=True)\n",
        "graph = graphviz.Source(dot_data)\n",
        "graph"
      ],
      "execution_count": null,
      "outputs": [
        {
          "output_type": "execute_result",
          "data": {
            "text/plain": [
              "<graphviz.files.Source at 0x7fa43bba7fd0>"
            ],
            "image/svg+xml": "<?xml version=\"1.0\" encoding=\"UTF-8\" standalone=\"no\"?>\n<!DOCTYPE svg PUBLIC \"-//W3C//DTD SVG 1.1//EN\"\n \"http://www.w3.org/Graphics/SVG/1.1/DTD/svg11.dtd\">\n<!-- Generated by graphviz version 2.40.1 (20161225.0304)\n -->\n<!-- Title: Tree Pages: 1 -->\n<svg width=\"15609pt\" height=\"789pt\"\n viewBox=\"0.00 0.00 15608.50 789.00\" xmlns=\"http://www.w3.org/2000/svg\" xmlns:xlink=\"http://www.w3.org/1999/xlink\">\n<g id=\"graph0\" class=\"graph\" transform=\"scale(1 1) rotate(0) translate(4 785)\">\n<title>Tree</title>\n<polygon fill=\"#ffffff\" stroke=\"transparent\" points=\"-4,4 -4,-785 15604.5,-785 15604.5,4 -4,4\"/>\n<!-- 0 -->\n<g id=\"node1\" class=\"node\">\n<title>0</title>\n<path fill=\"#eda978\" stroke=\"#000000\" d=\"M6448.5,-781C6448.5,-781 6194.5,-781 6194.5,-781 6188.5,-781 6182.5,-775 6182.5,-769 6182.5,-769 6182.5,-725 6182.5,-725 6182.5,-719 6188.5,-713 6194.5,-713 6194.5,-713 6448.5,-713 6448.5,-713 6454.5,-713 6460.5,-719 6460.5,-725 6460.5,-725 6460.5,-769 6460.5,-769 6460.5,-775 6454.5,-781 6448.5,-781\"/>\n<text text-anchor=\"middle\" x=\"6321.5\" y=\"-765.8\" font-family=\"Helvetica,sans-Serif\" font-size=\"14.00\" fill=\"#000000\">marital.status_Married&#45;civ&#45;spouse &lt;= 0.5</text>\n<text text-anchor=\"middle\" x=\"6321.5\" y=\"-750.8\" font-family=\"Helvetica,sans-Serif\" font-size=\"14.00\" fill=\"#000000\">samples = 100.0%</text>\n<text text-anchor=\"middle\" x=\"6321.5\" y=\"-735.8\" font-family=\"Helvetica,sans-Serif\" font-size=\"14.00\" fill=\"#000000\">value = [0.759, 0.241]</text>\n<text text-anchor=\"middle\" x=\"6321.5\" y=\"-720.8\" font-family=\"Helvetica,sans-Serif\" font-size=\"14.00\" fill=\"#000000\">class = lt50K</text>\n</g>\n<!-- 1 -->\n<g id=\"node2\" class=\"node\">\n<title>1</title>\n<path fill=\"#e78a47\" stroke=\"#000000\" d=\"M4698,-677C4698,-677 4557,-677 4557,-677 4551,-677 4545,-671 4545,-665 4545,-665 4545,-621 4545,-621 4545,-615 4551,-609 4557,-609 4557,-609 4698,-609 4698,-609 4704,-609 4710,-615 4710,-621 4710,-621 4710,-665 4710,-665 4710,-671 4704,-677 4698,-677\"/>\n<text text-anchor=\"middle\" x=\"4627.5\" y=\"-661.8\" font-family=\"Helvetica,sans-Serif\" font-size=\"14.00\" fill=\"#000000\">education.num &lt;= 12.5</text>\n<text text-anchor=\"middle\" x=\"4627.5\" y=\"-646.8\" font-family=\"Helvetica,sans-Serif\" font-size=\"14.00\" fill=\"#000000\">samples = 53.9%</text>\n<text text-anchor=\"middle\" x=\"4627.5\" y=\"-631.8\" font-family=\"Helvetica,sans-Serif\" font-size=\"14.00\" fill=\"#000000\">value = [0.935, 0.065]</text>\n<text text-anchor=\"middle\" x=\"4627.5\" y=\"-616.8\" font-family=\"Helvetica,sans-Serif\" font-size=\"14.00\" fill=\"#000000\">class = lt50K</text>\n</g>\n<!-- 0&#45;&gt;1 -->\n<g id=\"edge1\" class=\"edge\">\n<title>0&#45;&gt;1</title>\n<path fill=\"none\" stroke=\"#000000\" d=\"M6182.1531,-738.4451C5846.7676,-717.8547 5001.5776,-665.9658 4720.2227,-648.6925\"/>\n<polygon fill=\"#000000\" stroke=\"#000000\" points=\"4720.2479,-645.1876 4710.0522,-648.0681 4719.8189,-652.1744 4720.2479,-645.1876\"/>\n<text text-anchor=\"middle\" x=\"4726.6134\" y=\"-663.0958\" font-family=\"Helvetica,sans-Serif\" font-size=\"14.00\" fill=\"#000000\">True</text>\n</g>\n<!-- 104 -->\n<g id=\"node105\" class=\"node\">\n<title>104</title>\n<path fill=\"#fae6d8\" stroke=\"#000000\" d=\"M9486,-677C9486,-677 9345,-677 9345,-677 9339,-677 9333,-671 9333,-665 9333,-665 9333,-621 9333,-621 9333,-615 9339,-609 9345,-609 9345,-609 9486,-609 9486,-609 9492,-609 9498,-615 9498,-621 9498,-621 9498,-665 9498,-665 9498,-671 9492,-677 9486,-677\"/>\n<text text-anchor=\"middle\" x=\"9415.5\" y=\"-661.8\" font-family=\"Helvetica,sans-Serif\" font-size=\"14.00\" fill=\"#000000\">education.num &lt;= 12.5</text>\n<text text-anchor=\"middle\" x=\"9415.5\" y=\"-646.8\" font-family=\"Helvetica,sans-Serif\" font-size=\"14.00\" fill=\"#000000\">samples = 46.1%</text>\n<text text-anchor=\"middle\" x=\"9415.5\" y=\"-631.8\" font-family=\"Helvetica,sans-Serif\" font-size=\"14.00\" fill=\"#000000\">value = [0.554, 0.446]</text>\n<text text-anchor=\"middle\" x=\"9415.5\" y=\"-616.8\" font-family=\"Helvetica,sans-Serif\" font-size=\"14.00\" fill=\"#000000\">class = lt50K</text>\n</g>\n<!-- 0&#45;&gt;104 -->\n<g id=\"edge104\" class=\"edge\">\n<title>0&#45;&gt;104</title>\n<path fill=\"none\" stroke=\"#000000\" d=\"M6460.7064,-742.3208C6991.4617,-724.4803 8880.4318,-660.9855 9322.4818,-646.1267\"/>\n<polygon fill=\"#000000\" stroke=\"#000000\" points=\"9322.7767,-649.6188 9332.6534,-645.7848 9322.5414,-642.6228 9322.7767,-649.6188\"/>\n<text text-anchor=\"middle\" x=\"9315.5796\" y=\"-660.3463\" font-family=\"Helvetica,sans-Serif\" font-size=\"14.00\" fill=\"#000000\">False</text>\n</g>\n<!-- 2 -->\n<g id=\"node3\" class=\"node\">\n<title>2</title>\n<path fill=\"#e6853f\" stroke=\"#000000\" d=\"M2884.5,-573C2884.5,-573 2740.5,-573 2740.5,-573 2734.5,-573 2728.5,-567 2728.5,-561 2728.5,-561 2728.5,-517 2728.5,-517 2728.5,-511 2734.5,-505 2740.5,-505 2740.5,-505 2884.5,-505 2884.5,-505 2890.5,-505 2896.5,-511 2896.5,-517 2896.5,-517 2896.5,-561 2896.5,-561 2896.5,-567 2890.5,-573 2884.5,-573\"/>\n<text text-anchor=\"middle\" x=\"2812.5\" y=\"-557.8\" font-family=\"Helvetica,sans-Serif\" font-size=\"14.00\" fill=\"#000000\">hours.per.week &lt;= 40.5</text>\n<text text-anchor=\"middle\" x=\"2812.5\" y=\"-542.8\" font-family=\"Helvetica,sans-Serif\" font-size=\"14.00\" fill=\"#000000\">samples = 42.8%</text>\n<text text-anchor=\"middle\" x=\"2812.5\" y=\"-527.8\" font-family=\"Helvetica,sans-Serif\" font-size=\"14.00\" fill=\"#000000\">value = [0.968, 0.032]</text>\n<text text-anchor=\"middle\" x=\"2812.5\" y=\"-512.8\" font-family=\"Helvetica,sans-Serif\" font-size=\"14.00\" fill=\"#000000\">class = lt50K</text>\n</g>\n<!-- 1&#45;&gt;2 -->\n<g id=\"edge2\" class=\"edge\">\n<title>1&#45;&gt;2</title>\n<path fill=\"none\" stroke=\"#000000\" d=\"M4544.7969,-638.2611C4246.0262,-621.1414 3223.5273,-562.552 2906.8011,-544.4035\"/>\n<polygon fill=\"#000000\" stroke=\"#000000\" points=\"2906.9186,-540.9046 2896.7347,-543.8267 2906.5181,-547.8931 2906.9186,-540.9046\"/>\n</g>\n<!-- 53 -->\n<g id=\"node54\" class=\"node\">\n<title>53</title>\n<path fill=\"#eb9f68\" stroke=\"#000000\" d=\"M4693.5,-573C4693.5,-573 4561.5,-573 4561.5,-573 4555.5,-573 4549.5,-567 4549.5,-561 4549.5,-561 4549.5,-517 4549.5,-517 4549.5,-511 4555.5,-505 4561.5,-505 4561.5,-505 4693.5,-505 4693.5,-505 4699.5,-505 4705.5,-511 4705.5,-517 4705.5,-517 4705.5,-561 4705.5,-561 4705.5,-567 4699.5,-573 4693.5,-573\"/>\n<text text-anchor=\"middle\" x=\"4627.5\" y=\"-557.8\" font-family=\"Helvetica,sans-Serif\" font-size=\"14.00\" fill=\"#000000\">age &lt;= 28.5</text>\n<text text-anchor=\"middle\" x=\"4627.5\" y=\"-542.8\" font-family=\"Helvetica,sans-Serif\" font-size=\"14.00\" fill=\"#000000\">samples = 11.1%</text>\n<text text-anchor=\"middle\" x=\"4627.5\" y=\"-527.8\" font-family=\"Helvetica,sans-Serif\" font-size=\"14.00\" fill=\"#000000\">value = [0.808, 0.192]</text>\n<text text-anchor=\"middle\" x=\"4627.5\" y=\"-512.8\" font-family=\"Helvetica,sans-Serif\" font-size=\"14.00\" fill=\"#000000\">class = lt50K</text>\n</g>\n<!-- 1&#45;&gt;53 -->\n<g id=\"edge53\" class=\"edge\">\n<title>1&#45;&gt;53</title>\n<path fill=\"none\" stroke=\"#000000\" d=\"M4627.5,-608.9465C4627.5,-600.776 4627.5,-591.9318 4627.5,-583.3697\"/>\n<polygon fill=\"#000000\" stroke=\"#000000\" points=\"4631.0001,-583.13 4627.5,-573.13 4624.0001,-583.13 4631.0001,-583.13\"/>\n</g>\n<!-- 3 -->\n<g id=\"node4\" class=\"node\">\n<title>3</title>\n<path fill=\"#e6833d\" stroke=\"#000000\" d=\"M1285.5,-469C1285.5,-469 1153.5,-469 1153.5,-469 1147.5,-469 1141.5,-463 1141.5,-457 1141.5,-457 1141.5,-413 1141.5,-413 1141.5,-407 1147.5,-401 1153.5,-401 1153.5,-401 1285.5,-401 1285.5,-401 1291.5,-401 1297.5,-407 1297.5,-413 1297.5,-413 1297.5,-457 1297.5,-457 1297.5,-463 1291.5,-469 1285.5,-469\"/>\n<text text-anchor=\"middle\" x=\"1219.5\" y=\"-453.8\" font-family=\"Helvetica,sans-Serif\" font-size=\"14.00\" fill=\"#000000\">age &lt;= 32.5</text>\n<text text-anchor=\"middle\" x=\"1219.5\" y=\"-438.8\" font-family=\"Helvetica,sans-Serif\" font-size=\"14.00\" fill=\"#000000\">samples = 35.0%</text>\n<text text-anchor=\"middle\" x=\"1219.5\" y=\"-423.8\" font-family=\"Helvetica,sans-Serif\" font-size=\"14.00\" fill=\"#000000\">value = [0.981, 0.019]</text>\n<text text-anchor=\"middle\" x=\"1219.5\" y=\"-408.8\" font-family=\"Helvetica,sans-Serif\" font-size=\"14.00\" fill=\"#000000\">class = lt50K</text>\n</g>\n<!-- 2&#45;&gt;3 -->\n<g id=\"edge3\" class=\"edge\">\n<title>2&#45;&gt;3</title>\n<path fill=\"none\" stroke=\"#000000\" d=\"M2728.2583,-533.5002C2453.9422,-515.5913 1587.892,-459.0507 1307.8119,-440.7655\"/>\n<polygon fill=\"#000000\" stroke=\"#000000\" points=\"1307.9058,-437.2643 1297.699,-440.1053 1307.4497,-444.2494 1307.9058,-437.2643\"/>\n</g>\n<!-- 26 -->\n<g id=\"node27\" class=\"node\">\n<title>26</title>\n<path fill=\"#e78d4c\" stroke=\"#000000\" d=\"M2878.5,-469C2878.5,-469 2746.5,-469 2746.5,-469 2740.5,-469 2734.5,-463 2734.5,-457 2734.5,-457 2734.5,-413 2734.5,-413 2734.5,-407 2740.5,-401 2746.5,-401 2746.5,-401 2878.5,-401 2878.5,-401 2884.5,-401 2890.5,-407 2890.5,-413 2890.5,-413 2890.5,-457 2890.5,-457 2890.5,-463 2884.5,-469 2878.5,-469\"/>\n<text text-anchor=\"middle\" x=\"2812.5\" y=\"-453.8\" font-family=\"Helvetica,sans-Serif\" font-size=\"14.00\" fill=\"#000000\">age &lt;= 35.5</text>\n<text text-anchor=\"middle\" x=\"2812.5\" y=\"-438.8\" font-family=\"Helvetica,sans-Serif\" font-size=\"14.00\" fill=\"#000000\">samples = 7.8%</text>\n<text text-anchor=\"middle\" x=\"2812.5\" y=\"-423.8\" font-family=\"Helvetica,sans-Serif\" font-size=\"14.00\" fill=\"#000000\">value = [0.913, 0.087]</text>\n<text text-anchor=\"middle\" x=\"2812.5\" y=\"-408.8\" font-family=\"Helvetica,sans-Serif\" font-size=\"14.00\" fill=\"#000000\">class = lt50K</text>\n</g>\n<!-- 2&#45;&gt;26 -->\n<g id=\"edge26\" class=\"edge\">\n<title>2&#45;&gt;26</title>\n<path fill=\"none\" stroke=\"#000000\" d=\"M2812.5,-504.9465C2812.5,-496.776 2812.5,-487.9318 2812.5,-479.3697\"/>\n<polygon fill=\"#000000\" stroke=\"#000000\" points=\"2816.0001,-479.13 2812.5,-469.13 2809.0001,-479.13 2816.0001,-479.13\"/>\n</g>\n<!-- 4 -->\n<g id=\"node5\" class=\"node\">\n<title>4</title>\n<path fill=\"#e5823a\" stroke=\"#000000\" d=\"M528.5,-365C528.5,-365 396.5,-365 396.5,-365 390.5,-365 384.5,-359 384.5,-353 384.5,-353 384.5,-309 384.5,-309 384.5,-303 390.5,-297 396.5,-297 396.5,-297 528.5,-297 528.5,-297 534.5,-297 540.5,-303 540.5,-309 540.5,-309 540.5,-353 540.5,-353 540.5,-359 534.5,-365 528.5,-365\"/>\n<text text-anchor=\"middle\" x=\"462.5\" y=\"-349.8\" font-family=\"Helvetica,sans-Serif\" font-size=\"14.00\" fill=\"#000000\">age &lt;= 20.5</text>\n<text text-anchor=\"middle\" x=\"462.5\" y=\"-334.8\" font-family=\"Helvetica,sans-Serif\" font-size=\"14.00\" fill=\"#000000\">samples = 19.8%</text>\n<text text-anchor=\"middle\" x=\"462.5\" y=\"-319.8\" font-family=\"Helvetica,sans-Serif\" font-size=\"14.00\" fill=\"#000000\">value = [0.995, 0.005]</text>\n<text text-anchor=\"middle\" x=\"462.5\" y=\"-304.8\" font-family=\"Helvetica,sans-Serif\" font-size=\"14.00\" fill=\"#000000\">class = lt50K</text>\n</g>\n<!-- 3&#45;&gt;4 -->\n<g id=\"edge4\" class=\"edge\">\n<title>3&#45;&gt;4</title>\n<path fill=\"none\" stroke=\"#000000\" d=\"M1141.3389,-424.2619C999.261,-404.7426 699.6071,-363.5748 550.5511,-343.0969\"/>\n<polygon fill=\"#000000\" stroke=\"#000000\" points=\"550.9021,-339.6123 540.5188,-341.7186 549.9493,-346.5471 550.9021,-339.6123\"/>\n</g>\n<!-- 13 -->\n<g id=\"node14\" class=\"node\">\n<title>13</title>\n<path fill=\"#e68641\" stroke=\"#000000\" d=\"M1321,-365C1321,-365 1118,-365 1118,-365 1112,-365 1106,-359 1106,-353 1106,-353 1106,-309 1106,-309 1106,-303 1112,-297 1118,-297 1118,-297 1321,-297 1321,-297 1327,-297 1333,-303 1333,-309 1333,-309 1333,-353 1333,-353 1333,-359 1327,-365 1321,-365\"/>\n<text text-anchor=\"middle\" x=\"1219.5\" y=\"-349.8\" font-family=\"Helvetica,sans-Serif\" font-size=\"14.00\" fill=\"#000000\">occupation_Other&#45;service &lt;= 0.5</text>\n<text text-anchor=\"middle\" x=\"1219.5\" y=\"-334.8\" font-family=\"Helvetica,sans-Serif\" font-size=\"14.00\" fill=\"#000000\">samples = 15.2%</text>\n<text text-anchor=\"middle\" x=\"1219.5\" y=\"-319.8\" font-family=\"Helvetica,sans-Serif\" font-size=\"14.00\" fill=\"#000000\">value = [0.962, 0.038]</text>\n<text text-anchor=\"middle\" x=\"1219.5\" y=\"-304.8\" font-family=\"Helvetica,sans-Serif\" font-size=\"14.00\" fill=\"#000000\">class = lt50K</text>\n</g>\n<!-- 3&#45;&gt;13 -->\n<g id=\"edge13\" class=\"edge\">\n<title>3&#45;&gt;13</title>\n<path fill=\"none\" stroke=\"#000000\" d=\"M1219.5,-400.9465C1219.5,-392.776 1219.5,-383.9318 1219.5,-375.3697\"/>\n<polygon fill=\"#000000\" stroke=\"#000000\" points=\"1223.0001,-375.13 1219.5,-365.13 1216.0001,-375.13 1223.0001,-375.13\"/>\n</g>\n<!-- 5 -->\n<g id=\"node6\" class=\"node\">\n<title>5</title>\n<path fill=\"#e58139\" stroke=\"#000000\" d=\"M293,-253.5C293,-253.5 194,-253.5 194,-253.5 188,-253.5 182,-247.5 182,-241.5 182,-241.5 182,-212.5 182,-212.5 182,-206.5 188,-200.5 194,-200.5 194,-200.5 293,-200.5 293,-200.5 299,-200.5 305,-206.5 305,-212.5 305,-212.5 305,-241.5 305,-241.5 305,-247.5 299,-253.5 293,-253.5\"/>\n<text text-anchor=\"middle\" x=\"243.5\" y=\"-238.3\" font-family=\"Helvetica,sans-Serif\" font-size=\"14.00\" fill=\"#000000\">samples = 6.7%</text>\n<text text-anchor=\"middle\" x=\"243.5\" y=\"-223.3\" font-family=\"Helvetica,sans-Serif\" font-size=\"14.00\" fill=\"#000000\">value = [1.0, 0.0]</text>\n<text text-anchor=\"middle\" x=\"243.5\" y=\"-208.3\" font-family=\"Helvetica,sans-Serif\" font-size=\"14.00\" fill=\"#000000\">class = lt50K</text>\n</g>\n<!-- 4&#45;&gt;5 -->\n<g id=\"edge5\" class=\"edge\">\n<title>4&#45;&gt;5</title>\n<path fill=\"none\" stroke=\"#000000\" d=\"M389.2777,-296.8306C365.117,-285.4946 338.1283,-272.7657 313.5,-261 311.4695,-260.03 309.4068,-259.0422 307.3249,-258.0432\"/>\n<polygon fill=\"#000000\" stroke=\"#000000\" points=\"308.641,-254.7924 298.1123,-253.6104 305.6059,-261.1002 308.641,-254.7924\"/>\n</g>\n<!-- 6 -->\n<g id=\"node7\" class=\"node\">\n<title>6</title>\n<path fill=\"#e5823b\" stroke=\"#000000\" d=\"M590,-261C590,-261 335,-261 335,-261 329,-261 323,-255 323,-249 323,-249 323,-205 323,-205 323,-199 329,-193 335,-193 335,-193 590,-193 590,-193 596,-193 602,-199 602,-205 602,-205 602,-249 602,-249 602,-255 596,-261 590,-261\"/>\n<text text-anchor=\"middle\" x=\"462.5\" y=\"-245.8\" font-family=\"Helvetica,sans-Serif\" font-size=\"14.00\" fill=\"#000000\">marital.status_Married&#45;AF&#45;spouse &lt;= 0.5</text>\n<text text-anchor=\"middle\" x=\"462.5\" y=\"-230.8\" font-family=\"Helvetica,sans-Serif\" font-size=\"14.00\" fill=\"#000000\">samples = 13.0%</text>\n<text text-anchor=\"middle\" x=\"462.5\" y=\"-215.8\" font-family=\"Helvetica,sans-Serif\" font-size=\"14.00\" fill=\"#000000\">value = [0.992, 0.008]</text>\n<text text-anchor=\"middle\" x=\"462.5\" y=\"-200.8\" font-family=\"Helvetica,sans-Serif\" font-size=\"14.00\" fill=\"#000000\">class = lt50K</text>\n</g>\n<!-- 4&#45;&gt;6 -->\n<g id=\"edge6\" class=\"edge\">\n<title>4&#45;&gt;6</title>\n<path fill=\"none\" stroke=\"#000000\" d=\"M462.5,-296.9465C462.5,-288.776 462.5,-279.9318 462.5,-271.3697\"/>\n<polygon fill=\"#000000\" stroke=\"#000000\" points=\"466.0001,-271.13 462.5,-261.13 459.0001,-271.13 466.0001,-271.13\"/>\n</g>\n<!-- 7 -->\n<g id=\"node8\" class=\"node\">\n<title>7</title>\n<path fill=\"#e5823a\" stroke=\"#000000\" d=\"M291.5,-157C291.5,-157 147.5,-157 147.5,-157 141.5,-157 135.5,-151 135.5,-145 135.5,-145 135.5,-101 135.5,-101 135.5,-95 141.5,-89 147.5,-89 147.5,-89 291.5,-89 291.5,-89 297.5,-89 303.5,-95 303.5,-101 303.5,-101 303.5,-145 303.5,-145 303.5,-151 297.5,-157 291.5,-157\"/>\n<text text-anchor=\"middle\" x=\"219.5\" y=\"-141.8\" font-family=\"Helvetica,sans-Serif\" font-size=\"14.00\" fill=\"#000000\">hours.per.week &lt;= 29.5</text>\n<text text-anchor=\"middle\" x=\"219.5\" y=\"-126.8\" font-family=\"Helvetica,sans-Serif\" font-size=\"14.00\" fill=\"#000000\">samples = 13.0%</text>\n<text text-anchor=\"middle\" x=\"219.5\" y=\"-111.8\" font-family=\"Helvetica,sans-Serif\" font-size=\"14.00\" fill=\"#000000\">value = [0.993, 0.007]</text>\n<text text-anchor=\"middle\" x=\"219.5\" y=\"-96.8\" font-family=\"Helvetica,sans-Serif\" font-size=\"14.00\" fill=\"#000000\">class = lt50K</text>\n</g>\n<!-- 6&#45;&gt;7 -->\n<g id=\"edge7\" class=\"edge\">\n<title>6&#45;&gt;7</title>\n<path fill=\"none\" stroke=\"#000000\" d=\"M382.9327,-192.9465C359.1219,-182.7559 332.8621,-171.5171 308.4868,-161.0849\"/>\n<polygon fill=\"#000000\" stroke=\"#000000\" points=\"309.8166,-157.847 299.246,-157.13 307.0623,-164.2824 309.8166,-157.847\"/>\n</g>\n<!-- 10 -->\n<g id=\"node11\" class=\"node\">\n<title>10</title>\n<path fill=\"#ffffff\" stroke=\"#000000\" d=\"M534.5,-157C534.5,-157 390.5,-157 390.5,-157 384.5,-157 378.5,-151 378.5,-145 378.5,-145 378.5,-101 378.5,-101 378.5,-95 384.5,-89 390.5,-89 390.5,-89 534.5,-89 534.5,-89 540.5,-89 546.5,-95 546.5,-101 546.5,-101 546.5,-145 546.5,-145 546.5,-151 540.5,-157 534.5,-157\"/>\n<text text-anchor=\"middle\" x=\"462.5\" y=\"-141.8\" font-family=\"Helvetica,sans-Serif\" font-size=\"14.00\" fill=\"#000000\">hours.per.week &lt;= 39.0</text>\n<text text-anchor=\"middle\" x=\"462.5\" y=\"-126.8\" font-family=\"Helvetica,sans-Serif\" font-size=\"14.00\" fill=\"#000000\">samples = 0.0%</text>\n<text text-anchor=\"middle\" x=\"462.5\" y=\"-111.8\" font-family=\"Helvetica,sans-Serif\" font-size=\"14.00\" fill=\"#000000\">value = [0.5, 0.5]</text>\n<text text-anchor=\"middle\" x=\"462.5\" y=\"-96.8\" font-family=\"Helvetica,sans-Serif\" font-size=\"14.00\" fill=\"#000000\">class = lt50K</text>\n</g>\n<!-- 6&#45;&gt;10 -->\n<g id=\"edge10\" class=\"edge\">\n<title>6&#45;&gt;10</title>\n<path fill=\"none\" stroke=\"#000000\" d=\"M462.5,-192.9465C462.5,-184.776 462.5,-175.9318 462.5,-167.3697\"/>\n<polygon fill=\"#000000\" stroke=\"#000000\" points=\"466.0001,-167.13 462.5,-157.13 459.0001,-167.13 466.0001,-167.13\"/>\n</g>\n<!-- 8 -->\n<g id=\"node9\" class=\"node\">\n<title>8</title>\n<path fill=\"#e58139\" stroke=\"#000000\" d=\"M111,-53C111,-53 12,-53 12,-53 6,-53 0,-47 0,-41 0,-41 0,-12 0,-12 0,-6 6,0 12,0 12,0 111,0 111,0 117,0 123,-6 123,-12 123,-12 123,-41 123,-41 123,-47 117,-53 111,-53\"/>\n<text text-anchor=\"middle\" x=\"61.5\" y=\"-37.8\" font-family=\"Helvetica,sans-Serif\" font-size=\"14.00\" fill=\"#000000\">samples = 2.4%</text>\n<text text-anchor=\"middle\" x=\"61.5\" y=\"-22.8\" font-family=\"Helvetica,sans-Serif\" font-size=\"14.00\" fill=\"#000000\">value = [1.0, 0.0]</text>\n<text text-anchor=\"middle\" x=\"61.5\" y=\"-7.8\" font-family=\"Helvetica,sans-Serif\" font-size=\"14.00\" fill=\"#000000\">class = lt50K</text>\n</g>\n<!-- 7&#45;&gt;8 -->\n<g id=\"edge8\" class=\"edge\">\n<title>7&#45;&gt;8</title>\n<path fill=\"none\" stroke=\"#000000\" d=\"M163.7951,-88.9777C147.528,-79.0424 129.8136,-68.2232 113.7674,-58.4228\"/>\n<polygon fill=\"#000000\" stroke=\"#000000\" points=\"115.4027,-55.3204 105.0442,-53.095 111.754,-61.2943 115.4027,-55.3204\"/>\n</g>\n<!-- 9 -->\n<g id=\"node10\" class=\"node\">\n<title>9</title>\n<path fill=\"#e5823b\" stroke=\"#000000\" d=\"M285.5,-53C285.5,-53 153.5,-53 153.5,-53 147.5,-53 141.5,-47 141.5,-41 141.5,-41 141.5,-12 141.5,-12 141.5,-6 147.5,0 153.5,0 153.5,0 285.5,0 285.5,0 291.5,0 297.5,-6 297.5,-12 297.5,-12 297.5,-41 297.5,-41 297.5,-47 291.5,-53 285.5,-53\"/>\n<text text-anchor=\"middle\" x=\"219.5\" y=\"-37.8\" font-family=\"Helvetica,sans-Serif\" font-size=\"14.00\" fill=\"#000000\">samples = 10.7%</text>\n<text text-anchor=\"middle\" x=\"219.5\" y=\"-22.8\" font-family=\"Helvetica,sans-Serif\" font-size=\"14.00\" fill=\"#000000\">value = [0.991, 0.009]</text>\n<text text-anchor=\"middle\" x=\"219.5\" y=\"-7.8\" font-family=\"Helvetica,sans-Serif\" font-size=\"14.00\" fill=\"#000000\">class = lt50K</text>\n</g>\n<!-- 7&#45;&gt;9 -->\n<g id=\"edge9\" class=\"edge\">\n<title>7&#45;&gt;9</title>\n<path fill=\"none\" stroke=\"#000000\" d=\"M219.5,-88.9777C219.5,-80.7364 219.5,-71.887 219.5,-63.5153\"/>\n<polygon fill=\"#000000\" stroke=\"#000000\" points=\"223.0001,-63.2484 219.5,-53.2485 216.0001,-63.2485 223.0001,-63.2484\"/>\n</g>\n<!-- 11 -->\n<g id=\"node12\" class=\"node\">\n<title>11</title>\n<path fill=\"#e58139\" stroke=\"#000000\" d=\"M427,-53C427,-53 328,-53 328,-53 322,-53 316,-47 316,-41 316,-41 316,-12 316,-12 316,-6 322,0 328,0 328,0 427,0 427,0 433,0 439,-6 439,-12 439,-12 439,-41 439,-41 439,-47 433,-53 427,-53\"/>\n<text text-anchor=\"middle\" x=\"377.5\" y=\"-37.8\" font-family=\"Helvetica,sans-Serif\" font-size=\"14.00\" fill=\"#000000\">samples = 0.0%</text>\n<text text-anchor=\"middle\" x=\"377.5\" y=\"-22.8\" font-family=\"Helvetica,sans-Serif\" font-size=\"14.00\" fill=\"#000000\">value = [1.0, 0.0]</text>\n<text text-anchor=\"middle\" x=\"377.5\" y=\"-7.8\" font-family=\"Helvetica,sans-Serif\" font-size=\"14.00\" fill=\"#000000\">class = lt50K</text>\n</g>\n<!-- 10&#45;&gt;11 -->\n<g id=\"edge11\" class=\"edge\">\n<title>10&#45;&gt;11</title>\n<path fill=\"none\" stroke=\"#000000\" d=\"M432.5322,-88.9777C424.5471,-79.9123 415.9138,-70.111 407.9056,-61.0192\"/>\n<polygon fill=\"#000000\" stroke=\"#000000\" points=\"410.2971,-58.4391 401.0608,-53.2485 405.0442,-63.066 410.2971,-58.4391\"/>\n</g>\n<!-- 12 -->\n<g id=\"node13\" class=\"node\">\n<title>12</title>\n<path fill=\"#399de5\" stroke=\"#000000\" d=\"M568,-53C568,-53 469,-53 469,-53 463,-53 457,-47 457,-41 457,-41 457,-12 457,-12 457,-6 463,0 469,0 469,0 568,0 568,0 574,0 580,-6 580,-12 580,-12 580,-41 580,-41 580,-47 574,-53 568,-53\"/>\n<text text-anchor=\"middle\" x=\"518.5\" y=\"-37.8\" font-family=\"Helvetica,sans-Serif\" font-size=\"14.00\" fill=\"#000000\">samples = 0.0%</text>\n<text text-anchor=\"middle\" x=\"518.5\" y=\"-22.8\" font-family=\"Helvetica,sans-Serif\" font-size=\"14.00\" fill=\"#000000\">value = [0.0, 1.0]</text>\n<text text-anchor=\"middle\" x=\"518.5\" y=\"-7.8\" font-family=\"Helvetica,sans-Serif\" font-size=\"14.00\" fill=\"#000000\">class = gt50K</text>\n</g>\n<!-- 10&#45;&gt;12 -->\n<g id=\"edge12\" class=\"edge\">\n<title>10&#45;&gt;12</title>\n<path fill=\"none\" stroke=\"#000000\" d=\"M482.2435,-88.9777C487.2917,-80.2786 492.7331,-70.9018 497.8266,-62.1247\"/>\n<polygon fill=\"#000000\" stroke=\"#000000\" points=\"500.9855,-63.6544 502.9776,-53.2485 494.9311,-60.1409 500.9855,-63.6544\"/>\n</g>\n<!-- 14 -->\n<g id=\"node15\" class=\"node\">\n<title>14</title>\n<path fill=\"#e68742\" stroke=\"#000000\" d=\"M1164.5,-261C1164.5,-261 1032.5,-261 1032.5,-261 1026.5,-261 1020.5,-255 1020.5,-249 1020.5,-249 1020.5,-205 1020.5,-205 1020.5,-199 1026.5,-193 1032.5,-193 1032.5,-193 1164.5,-193 1164.5,-193 1170.5,-193 1176.5,-199 1176.5,-205 1176.5,-205 1176.5,-249 1176.5,-249 1176.5,-255 1170.5,-261 1164.5,-261\"/>\n<text text-anchor=\"middle\" x=\"1098.5\" y=\"-245.8\" font-family=\"Helvetica,sans-Serif\" font-size=\"14.00\" fill=\"#000000\">sex_Female &lt;= 0.5</text>\n<text text-anchor=\"middle\" x=\"1098.5\" y=\"-230.8\" font-family=\"Helvetica,sans-Serif\" font-size=\"14.00\" fill=\"#000000\">samples = 12.6%</text>\n<text text-anchor=\"middle\" x=\"1098.5\" y=\"-215.8\" font-family=\"Helvetica,sans-Serif\" font-size=\"14.00\" fill=\"#000000\">value = [0.956, 0.044]</text>\n<text text-anchor=\"middle\" x=\"1098.5\" y=\"-200.8\" font-family=\"Helvetica,sans-Serif\" font-size=\"14.00\" fill=\"#000000\">class = lt50K</text>\n</g>\n<!-- 13&#45;&gt;14 -->\n<g id=\"edge14\" class=\"edge\">\n<title>13&#45;&gt;14</title>\n<path fill=\"none\" stroke=\"#000000\" d=\"M1179.8801,-296.9465C1169.016,-287.6088 1157.1282,-277.3911 1145.8765,-267.7203\"/>\n<polygon fill=\"#000000\" stroke=\"#000000\" points=\"1148.0741,-264.994 1138.2089,-261.13 1143.5113,-270.3026 1148.0741,-264.994\"/>\n</g>\n<!-- 21 -->\n<g id=\"node22\" class=\"node\">\n<title>21</title>\n<path fill=\"#e5823b\" stroke=\"#000000\" d=\"M1468,-261C1468,-261 1213,-261 1213,-261 1207,-261 1201,-255 1201,-249 1201,-249 1201,-205 1201,-205 1201,-199 1207,-193 1213,-193 1213,-193 1468,-193 1468,-193 1474,-193 1480,-199 1480,-205 1480,-205 1480,-249 1480,-249 1480,-255 1474,-261 1468,-261\"/>\n<text text-anchor=\"middle\" x=\"1340.5\" y=\"-245.8\" font-family=\"Helvetica,sans-Serif\" font-size=\"14.00\" fill=\"#000000\">marital.status_Married&#45;AF&#45;spouse &lt;= 0.5</text>\n<text text-anchor=\"middle\" x=\"1340.5\" y=\"-230.8\" font-family=\"Helvetica,sans-Serif\" font-size=\"14.00\" fill=\"#000000\">samples = 2.6%</text>\n<text text-anchor=\"middle\" x=\"1340.5\" y=\"-215.8\" font-family=\"Helvetica,sans-Serif\" font-size=\"14.00\" fill=\"#000000\">value = [0.992, 0.008]</text>\n<text text-anchor=\"middle\" x=\"1340.5\" y=\"-200.8\" font-family=\"Helvetica,sans-Serif\" font-size=\"14.00\" fill=\"#000000\">class = lt50K</text>\n</g>\n<!-- 13&#45;&gt;21 -->\n<g id=\"edge21\" class=\"edge\">\n<title>13&#45;&gt;21</title>\n<path fill=\"none\" stroke=\"#000000\" d=\"M1259.1199,-296.9465C1269.984,-287.6088 1281.8718,-277.3911 1293.1235,-267.7203\"/>\n<polygon fill=\"#000000\" stroke=\"#000000\" points=\"1295.4887,-270.3026 1300.7911,-261.13 1290.9259,-264.994 1295.4887,-270.3026\"/>\n</g>\n<!-- 15 -->\n<g id=\"node16\" class=\"node\">\n<title>15</title>\n<path fill=\"#e78a47\" stroke=\"#000000\" d=\"M942.5,-157C942.5,-157 758.5,-157 758.5,-157 752.5,-157 746.5,-151 746.5,-145 746.5,-145 746.5,-101 746.5,-101 746.5,-95 752.5,-89 758.5,-89 758.5,-89 942.5,-89 942.5,-89 948.5,-89 954.5,-95 954.5,-101 954.5,-101 954.5,-145 954.5,-145 954.5,-151 948.5,-157 942.5,-157\"/>\n<text text-anchor=\"middle\" x=\"850.5\" y=\"-141.8\" font-family=\"Helvetica,sans-Serif\" font-size=\"14.00\" fill=\"#000000\">relationship_Own&#45;child &lt;= 0.5</text>\n<text text-anchor=\"middle\" x=\"850.5\" y=\"-126.8\" font-family=\"Helvetica,sans-Serif\" font-size=\"14.00\" fill=\"#000000\">samples = 4.9%</text>\n<text text-anchor=\"middle\" x=\"850.5\" y=\"-111.8\" font-family=\"Helvetica,sans-Serif\" font-size=\"14.00\" fill=\"#000000\">value = [0.935, 0.065]</text>\n<text text-anchor=\"middle\" x=\"850.5\" y=\"-96.8\" font-family=\"Helvetica,sans-Serif\" font-size=\"14.00\" fill=\"#000000\">class = lt50K</text>\n</g>\n<!-- 14&#45;&gt;15 -->\n<g id=\"edge15\" class=\"edge\">\n<title>14&#45;&gt;15</title>\n<path fill=\"none\" stroke=\"#000000\" d=\"M1020.3716,-194.2365C995.2079,-183.684 967.1103,-171.9011 941.1254,-161.0042\"/>\n<polygon fill=\"#000000\" stroke=\"#000000\" points=\"942.2324,-157.6732 931.6569,-157.0335 939.5253,-164.1285 942.2324,-157.6732\"/>\n</g>\n<!-- 18 -->\n<g id=\"node19\" class=\"node\">\n<title>18</title>\n<path fill=\"#e6853f\" stroke=\"#000000\" d=\"M1206,-157C1206,-157 991,-157 991,-157 985,-157 979,-151 979,-145 979,-145 979,-101 979,-101 979,-95 985,-89 991,-89 991,-89 1206,-89 1206,-89 1212,-89 1218,-95 1218,-101 1218,-101 1218,-145 1218,-145 1218,-151 1212,-157 1206,-157\"/>\n<text text-anchor=\"middle\" x=\"1098.5\" y=\"-141.8\" font-family=\"Helvetica,sans-Serif\" font-size=\"14.00\" fill=\"#000000\">workclass_Self&#45;emp&#45;not&#45;inc &lt;= 0.5</text>\n<text text-anchor=\"middle\" x=\"1098.5\" y=\"-126.8\" font-family=\"Helvetica,sans-Serif\" font-size=\"14.00\" fill=\"#000000\">samples = 7.7%</text>\n<text text-anchor=\"middle\" x=\"1098.5\" y=\"-111.8\" font-family=\"Helvetica,sans-Serif\" font-size=\"14.00\" fill=\"#000000\">value = [0.97, 0.03]</text>\n<text text-anchor=\"middle\" x=\"1098.5\" y=\"-96.8\" font-family=\"Helvetica,sans-Serif\" font-size=\"14.00\" fill=\"#000000\">class = lt50K</text>\n</g>\n<!-- 14&#45;&gt;18 -->\n<g id=\"edge18\" class=\"edge\">\n<title>14&#45;&gt;18</title>\n<path fill=\"none\" stroke=\"#000000\" d=\"M1098.5,-192.9465C1098.5,-184.776 1098.5,-175.9318 1098.5,-167.3697\"/>\n<polygon fill=\"#000000\" stroke=\"#000000\" points=\"1102.0001,-167.13 1098.5,-157.13 1095.0001,-167.13 1102.0001,-167.13\"/>\n</g>\n<!-- 16 -->\n<g id=\"node17\" class=\"node\">\n<title>16</title>\n<path fill=\"#e78b49\" stroke=\"#000000\" d=\"M742.5,-53C742.5,-53 610.5,-53 610.5,-53 604.5,-53 598.5,-47 598.5,-41 598.5,-41 598.5,-12 598.5,-12 598.5,-6 604.5,0 610.5,0 610.5,0 742.5,0 742.5,0 748.5,0 754.5,-6 754.5,-12 754.5,-12 754.5,-41 754.5,-41 754.5,-47 748.5,-53 742.5,-53\"/>\n<text text-anchor=\"middle\" x=\"676.5\" y=\"-37.8\" font-family=\"Helvetica,sans-Serif\" font-size=\"14.00\" fill=\"#000000\">samples = 4.1%</text>\n<text text-anchor=\"middle\" x=\"676.5\" y=\"-22.8\" font-family=\"Helvetica,sans-Serif\" font-size=\"14.00\" fill=\"#000000\">value = [0.926, 0.074]</text>\n<text text-anchor=\"middle\" x=\"676.5\" y=\"-7.8\" font-family=\"Helvetica,sans-Serif\" font-size=\"14.00\" fill=\"#000000\">class = lt50K</text>\n</g>\n<!-- 15&#45;&gt;16 -->\n<g id=\"edge16\" class=\"edge\">\n<title>15&#45;&gt;16</title>\n<path fill=\"none\" stroke=\"#000000\" d=\"M789.1541,-88.9777C771.0738,-78.9504 751.37,-68.0228 733.5699,-58.1508\"/>\n<polygon fill=\"#000000\" stroke=\"#000000\" points=\"734.8964,-54.8843 724.4537,-53.095 731.5013,-61.0059 734.8964,-54.8843\"/>\n</g>\n<!-- 17 -->\n<g id=\"node18\" class=\"node\">\n<title>17</title>\n<path fill=\"#e5823b\" stroke=\"#000000\" d=\"M916.5,-53C916.5,-53 784.5,-53 784.5,-53 778.5,-53 772.5,-47 772.5,-41 772.5,-41 772.5,-12 772.5,-12 772.5,-6 778.5,0 784.5,0 784.5,0 916.5,0 916.5,0 922.5,0 928.5,-6 928.5,-12 928.5,-12 928.5,-41 928.5,-41 928.5,-47 922.5,-53 916.5,-53\"/>\n<text text-anchor=\"middle\" x=\"850.5\" y=\"-37.8\" font-family=\"Helvetica,sans-Serif\" font-size=\"14.00\" fill=\"#000000\">samples = 0.8%</text>\n<text text-anchor=\"middle\" x=\"850.5\" y=\"-22.8\" font-family=\"Helvetica,sans-Serif\" font-size=\"14.00\" fill=\"#000000\">value = [0.988, 0.012]</text>\n<text text-anchor=\"middle\" x=\"850.5\" y=\"-7.8\" font-family=\"Helvetica,sans-Serif\" font-size=\"14.00\" fill=\"#000000\">class = lt50K</text>\n</g>\n<!-- 15&#45;&gt;17 -->\n<g id=\"edge17\" class=\"edge\">\n<title>15&#45;&gt;17</title>\n<path fill=\"none\" stroke=\"#000000\" d=\"M850.5,-88.9777C850.5,-80.7364 850.5,-71.887 850.5,-63.5153\"/>\n<polygon fill=\"#000000\" stroke=\"#000000\" points=\"854.0001,-63.2484 850.5,-53.2485 847.0001,-63.2485 854.0001,-63.2484\"/>\n</g>\n<!-- 19 -->\n<g id=\"node20\" class=\"node\">\n<title>19</title>\n<path fill=\"#e6853f\" stroke=\"#000000\" d=\"M1090.5,-53C1090.5,-53 958.5,-53 958.5,-53 952.5,-53 946.5,-47 946.5,-41 946.5,-41 946.5,-12 946.5,-12 946.5,-6 952.5,0 958.5,0 958.5,0 1090.5,0 1090.5,0 1096.5,0 1102.5,-6 1102.5,-12 1102.5,-12 1102.5,-41 1102.5,-41 1102.5,-47 1096.5,-53 1090.5,-53\"/>\n<text text-anchor=\"middle\" x=\"1024.5\" y=\"-37.8\" font-family=\"Helvetica,sans-Serif\" font-size=\"14.00\" fill=\"#000000\">samples = 7.5%</text>\n<text text-anchor=\"middle\" x=\"1024.5\" y=\"-22.8\" font-family=\"Helvetica,sans-Serif\" font-size=\"14.00\" fill=\"#000000\">value = [0.972, 0.028]</text>\n<text text-anchor=\"middle\" x=\"1024.5\" y=\"-7.8\" font-family=\"Helvetica,sans-Serif\" font-size=\"14.00\" fill=\"#000000\">class = lt50K</text>\n</g>\n<!-- 18&#45;&gt;19 -->\n<g id=\"edge19\" class=\"edge\">\n<title>18&#45;&gt;19</title>\n<path fill=\"none\" stroke=\"#000000\" d=\"M1072.4104,-88.9777C1065.5289,-80.0039 1058.0944,-70.3089 1051.1822,-61.295\"/>\n<polygon fill=\"#000000\" stroke=\"#000000\" points=\"1053.8744,-59.0541 1045.0118,-53.2485 1048.3196,-63.3137 1053.8744,-59.0541\"/>\n</g>\n<!-- 20 -->\n<g id=\"node21\" class=\"node\">\n<title>20</title>\n<path fill=\"#e99559\" stroke=\"#000000\" d=\"M1248.5,-53C1248.5,-53 1132.5,-53 1132.5,-53 1126.5,-53 1120.5,-47 1120.5,-41 1120.5,-41 1120.5,-12 1120.5,-12 1120.5,-6 1126.5,0 1132.5,0 1132.5,0 1248.5,0 1248.5,0 1254.5,0 1260.5,-6 1260.5,-12 1260.5,-12 1260.5,-41 1260.5,-41 1260.5,-47 1254.5,-53 1248.5,-53\"/>\n<text text-anchor=\"middle\" x=\"1190.5\" y=\"-37.8\" font-family=\"Helvetica,sans-Serif\" font-size=\"14.00\" fill=\"#000000\">samples = 0.2%</text>\n<text text-anchor=\"middle\" x=\"1190.5\" y=\"-22.8\" font-family=\"Helvetica,sans-Serif\" font-size=\"14.00\" fill=\"#000000\">value = [0.86, 0.14]</text>\n<text text-anchor=\"middle\" x=\"1190.5\" y=\"-7.8\" font-family=\"Helvetica,sans-Serif\" font-size=\"14.00\" fill=\"#000000\">class = lt50K</text>\n</g>\n<!-- 18&#45;&gt;20 -->\n<g id=\"edge20\" class=\"edge\">\n<title>18&#45;&gt;20</title>\n<path fill=\"none\" stroke=\"#000000\" d=\"M1130.9358,-88.9777C1139.6657,-79.8207 1149.1115,-69.9129 1157.8529,-60.744\"/>\n<polygon fill=\"#000000\" stroke=\"#000000\" points=\"1160.6318,-62.9014 1164.9989,-53.2485 1155.5653,-58.0712 1160.6318,-62.9014\"/>\n</g>\n<!-- 22 -->\n<g id=\"node23\" class=\"node\">\n<title>22</title>\n<path fill=\"#e5823a\" stroke=\"#000000\" d=\"M1406.5,-157C1406.5,-157 1274.5,-157 1274.5,-157 1268.5,-157 1262.5,-151 1262.5,-145 1262.5,-145 1262.5,-101 1262.5,-101 1262.5,-95 1268.5,-89 1274.5,-89 1274.5,-89 1406.5,-89 1406.5,-89 1412.5,-89 1418.5,-95 1418.5,-101 1418.5,-101 1418.5,-145 1418.5,-145 1418.5,-151 1412.5,-157 1406.5,-157\"/>\n<text text-anchor=\"middle\" x=\"1340.5\" y=\"-141.8\" font-family=\"Helvetica,sans-Serif\" font-size=\"14.00\" fill=\"#000000\">age &lt;= 40.5</text>\n<text text-anchor=\"middle\" x=\"1340.5\" y=\"-126.8\" font-family=\"Helvetica,sans-Serif\" font-size=\"14.00\" fill=\"#000000\">samples = 2.6%</text>\n<text text-anchor=\"middle\" x=\"1340.5\" y=\"-111.8\" font-family=\"Helvetica,sans-Serif\" font-size=\"14.00\" fill=\"#000000\">value = [0.993, 0.007]</text>\n<text text-anchor=\"middle\" x=\"1340.5\" y=\"-96.8\" font-family=\"Helvetica,sans-Serif\" font-size=\"14.00\" fill=\"#000000\">class = lt50K</text>\n</g>\n<!-- 21&#45;&gt;22 -->\n<g id=\"edge22\" class=\"edge\">\n<title>21&#45;&gt;22</title>\n<path fill=\"none\" stroke=\"#000000\" d=\"M1340.5,-192.9465C1340.5,-184.776 1340.5,-175.9318 1340.5,-167.3697\"/>\n<polygon fill=\"#000000\" stroke=\"#000000\" points=\"1344.0001,-167.13 1340.5,-157.13 1337.0001,-167.13 1344.0001,-167.13\"/>\n</g>\n<!-- 25 -->\n<g id=\"node26\" class=\"node\">\n<title>25</title>\n<path fill=\"#399de5\" stroke=\"#000000\" d=\"M1548,-149.5C1548,-149.5 1449,-149.5 1449,-149.5 1443,-149.5 1437,-143.5 1437,-137.5 1437,-137.5 1437,-108.5 1437,-108.5 1437,-102.5 1443,-96.5 1449,-96.5 1449,-96.5 1548,-96.5 1548,-96.5 1554,-96.5 1560,-102.5 1560,-108.5 1560,-108.5 1560,-137.5 1560,-137.5 1560,-143.5 1554,-149.5 1548,-149.5\"/>\n<text text-anchor=\"middle\" x=\"1498.5\" y=\"-134.3\" font-family=\"Helvetica,sans-Serif\" font-size=\"14.00\" fill=\"#000000\">samples = 0.0%</text>\n<text text-anchor=\"middle\" x=\"1498.5\" y=\"-119.3\" font-family=\"Helvetica,sans-Serif\" font-size=\"14.00\" fill=\"#000000\">value = [0.0, 1.0]</text>\n<text text-anchor=\"middle\" x=\"1498.5\" y=\"-104.3\" font-family=\"Helvetica,sans-Serif\" font-size=\"14.00\" fill=\"#000000\">class = gt50K</text>\n</g>\n<!-- 21&#45;&gt;25 -->\n<g id=\"edge25\" class=\"edge\">\n<title>21&#45;&gt;25</title>\n<path fill=\"none\" stroke=\"#000000\" d=\"M1392.2351,-192.9465C1410.6427,-180.8301 1431.3013,-167.232 1449.4751,-155.2696\"/>\n<polygon fill=\"#000000\" stroke=\"#000000\" points=\"1451.7478,-157.9638 1458.1763,-149.5422 1447.8991,-152.1168 1451.7478,-157.9638\"/>\n</g>\n<!-- 23 -->\n<g id=\"node24\" class=\"node\">\n<title>23</title>\n<path fill=\"#e58139\" stroke=\"#000000\" d=\"M1390,-53C1390,-53 1291,-53 1291,-53 1285,-53 1279,-47 1279,-41 1279,-41 1279,-12 1279,-12 1279,-6 1285,0 1291,0 1291,0 1390,0 1390,0 1396,0 1402,-6 1402,-12 1402,-12 1402,-41 1402,-41 1402,-47 1396,-53 1390,-53\"/>\n<text text-anchor=\"middle\" x=\"1340.5\" y=\"-37.8\" font-family=\"Helvetica,sans-Serif\" font-size=\"14.00\" fill=\"#000000\">samples = 1.0%</text>\n<text text-anchor=\"middle\" x=\"1340.5\" y=\"-22.8\" font-family=\"Helvetica,sans-Serif\" font-size=\"14.00\" fill=\"#000000\">value = [1.0, 0.0]</text>\n<text text-anchor=\"middle\" x=\"1340.5\" y=\"-7.8\" font-family=\"Helvetica,sans-Serif\" font-size=\"14.00\" fill=\"#000000\">class = lt50K</text>\n</g>\n<!-- 22&#45;&gt;23 -->\n<g id=\"edge23\" class=\"edge\">\n<title>22&#45;&gt;23</title>\n<path fill=\"none\" stroke=\"#000000\" d=\"M1340.5,-88.9777C1340.5,-80.7364 1340.5,-71.887 1340.5,-63.5153\"/>\n<polygon fill=\"#000000\" stroke=\"#000000\" points=\"1344.0001,-63.2484 1340.5,-53.2485 1337.0001,-63.2485 1344.0001,-63.2484\"/>\n</g>\n<!-- 24 -->\n<g id=\"node25\" class=\"node\">\n<title>24</title>\n<path fill=\"#e5823b\" stroke=\"#000000\" d=\"M1564.5,-53C1564.5,-53 1432.5,-53 1432.5,-53 1426.5,-53 1420.5,-47 1420.5,-41 1420.5,-41 1420.5,-12 1420.5,-12 1420.5,-6 1426.5,0 1432.5,0 1432.5,0 1564.5,0 1564.5,0 1570.5,0 1576.5,-6 1576.5,-12 1576.5,-12 1576.5,-41 1576.5,-41 1576.5,-47 1570.5,-53 1564.5,-53\"/>\n<text text-anchor=\"middle\" x=\"1498.5\" y=\"-37.8\" font-family=\"Helvetica,sans-Serif\" font-size=\"14.00\" fill=\"#000000\">samples = 1.7%</text>\n<text text-anchor=\"middle\" x=\"1498.5\" y=\"-22.8\" font-family=\"Helvetica,sans-Serif\" font-size=\"14.00\" fill=\"#000000\">value = [0.989, 0.011]</text>\n<text text-anchor=\"middle\" x=\"1498.5\" y=\"-7.8\" font-family=\"Helvetica,sans-Serif\" font-size=\"14.00\" fill=\"#000000\">class = lt50K</text>\n</g>\n<!-- 22&#45;&gt;24 -->\n<g id=\"edge24\" class=\"edge\">\n<title>22&#45;&gt;24</title>\n<path fill=\"none\" stroke=\"#000000\" d=\"M1396.2049,-88.9777C1412.472,-79.0424 1430.1864,-68.2232 1446.2326,-58.4228\"/>\n<polygon fill=\"#000000\" stroke=\"#000000\" points=\"1448.246,-61.2943 1454.9558,-53.095 1444.5973,-55.3204 1448.246,-61.2943\"/>\n</g>\n<!-- 27 -->\n<g id=\"node28\" class=\"node\">\n<title>27</title>\n<path fill=\"#e68844\" stroke=\"#000000\" d=\"M2621.5,-365C2621.5,-365 2421.5,-365 2421.5,-365 2415.5,-365 2409.5,-359 2409.5,-353 2409.5,-353 2409.5,-309 2409.5,-309 2409.5,-303 2415.5,-297 2421.5,-297 2421.5,-297 2621.5,-297 2621.5,-297 2627.5,-297 2633.5,-303 2633.5,-309 2633.5,-309 2633.5,-353 2633.5,-353 2633.5,-359 2627.5,-365 2621.5,-365\"/>\n<text text-anchor=\"middle\" x=\"2521.5\" y=\"-349.8\" font-family=\"Helvetica,sans-Serif\" font-size=\"14.00\" fill=\"#000000\">relationship_Not&#45;in&#45;family &lt;= 0.5</text>\n<text text-anchor=\"middle\" x=\"2521.5\" y=\"-334.8\" font-family=\"Helvetica,sans-Serif\" font-size=\"14.00\" fill=\"#000000\">samples = 4.3%</text>\n<text text-anchor=\"middle\" x=\"2521.5\" y=\"-319.8\" font-family=\"Helvetica,sans-Serif\" font-size=\"14.00\" fill=\"#000000\">value = [0.949, 0.051]</text>\n<text text-anchor=\"middle\" x=\"2521.5\" y=\"-304.8\" font-family=\"Helvetica,sans-Serif\" font-size=\"14.00\" fill=\"#000000\">class = lt50K</text>\n</g>\n<!-- 26&#45;&gt;27 -->\n<g id=\"edge27\" class=\"edge\">\n<title>26&#45;&gt;27</title>\n<path fill=\"none\" stroke=\"#000000\" d=\"M2734.1345,-406.9931C2700.9878,-395.1468 2661.8873,-381.1728 2626.3148,-368.4596\"/>\n<polygon fill=\"#000000\" stroke=\"#000000\" points=\"2627.4643,-365.1536 2616.8697,-365.084 2625.1084,-371.7453 2627.4643,-365.1536\"/>\n</g>\n<!-- 40 -->\n<g id=\"node41\" class=\"node\">\n<title>40</title>\n<path fill=\"#e99457\" stroke=\"#000000\" d=\"M2987.5,-365C2987.5,-365 2855.5,-365 2855.5,-365 2849.5,-365 2843.5,-359 2843.5,-353 2843.5,-353 2843.5,-309 2843.5,-309 2843.5,-303 2849.5,-297 2855.5,-297 2855.5,-297 2987.5,-297 2987.5,-297 2993.5,-297 2999.5,-303 2999.5,-309 2999.5,-309 2999.5,-353 2999.5,-353 2999.5,-359 2993.5,-365 2987.5,-365\"/>\n<text text-anchor=\"middle\" x=\"2921.5\" y=\"-349.8\" font-family=\"Helvetica,sans-Serif\" font-size=\"14.00\" fill=\"#000000\">sex_Female &lt;= 0.5</text>\n<text text-anchor=\"middle\" x=\"2921.5\" y=\"-334.8\" font-family=\"Helvetica,sans-Serif\" font-size=\"14.00\" fill=\"#000000\">samples = 3.5%</text>\n<text text-anchor=\"middle\" x=\"2921.5\" y=\"-319.8\" font-family=\"Helvetica,sans-Serif\" font-size=\"14.00\" fill=\"#000000\">value = [0.869, 0.131]</text>\n<text text-anchor=\"middle\" x=\"2921.5\" y=\"-304.8\" font-family=\"Helvetica,sans-Serif\" font-size=\"14.00\" fill=\"#000000\">class = lt50K</text>\n</g>\n<!-- 26&#45;&gt;40 -->\n<g id=\"edge40\" class=\"edge\">\n<title>26&#45;&gt;40</title>\n<path fill=\"none\" stroke=\"#000000\" d=\"M2848.1907,-400.9465C2857.7891,-391.7884 2868.2747,-381.7838 2878.2366,-372.2788\"/>\n<polygon fill=\"#000000\" stroke=\"#000000\" points=\"2880.9102,-374.5655 2885.7291,-365.13 2876.0779,-369.5009 2880.9102,-374.5655\"/>\n</g>\n<!-- 28 -->\n<g id=\"node29\" class=\"node\">\n<title>28</title>\n<path fill=\"#e5833d\" stroke=\"#000000\" d=\"M2237,-261C2237,-261 2040,-261 2040,-261 2034,-261 2028,-255 2028,-249 2028,-249 2028,-205 2028,-205 2028,-199 2034,-193 2040,-193 2040,-193 2237,-193 2237,-193 2243,-193 2249,-199 2249,-205 2249,-205 2249,-249 2249,-249 2249,-255 2243,-261 2237,-261\"/>\n<text text-anchor=\"middle\" x=\"2138.5\" y=\"-245.8\" font-family=\"Helvetica,sans-Serif\" font-size=\"14.00\" fill=\"#000000\">race_Asian&#45;Pac&#45;Islander &lt;= 0.5</text>\n<text text-anchor=\"middle\" x=\"2138.5\" y=\"-230.8\" font-family=\"Helvetica,sans-Serif\" font-size=\"14.00\" fill=\"#000000\">samples = 1.9%</text>\n<text text-anchor=\"middle\" x=\"2138.5\" y=\"-215.8\" font-family=\"Helvetica,sans-Serif\" font-size=\"14.00\" fill=\"#000000\">value = [0.981, 0.019]</text>\n<text text-anchor=\"middle\" x=\"2138.5\" y=\"-200.8\" font-family=\"Helvetica,sans-Serif\" font-size=\"14.00\" fill=\"#000000\">class = lt50K</text>\n</g>\n<!-- 27&#45;&gt;28 -->\n<g id=\"edge28\" class=\"edge\">\n<title>27&#45;&gt;28</title>\n<path fill=\"none\" stroke=\"#000000\" d=\"M2409.4332,-300.5693C2362.2403,-287.7546 2307.2249,-272.8157 2259.1462,-259.7603\"/>\n<polygon fill=\"#000000\" stroke=\"#000000\" points=\"2259.8806,-256.3331 2249.3129,-257.0902 2258.0462,-263.0885 2259.8806,-256.3331\"/>\n</g>\n<!-- 35 -->\n<g id=\"node36\" class=\"node\">\n<title>35</title>\n<path fill=\"#e78b49\" stroke=\"#000000\" d=\"M2619.5,-261C2619.5,-261 2423.5,-261 2423.5,-261 2417.5,-261 2411.5,-255 2411.5,-249 2411.5,-249 2411.5,-205 2411.5,-205 2411.5,-199 2417.5,-193 2423.5,-193 2423.5,-193 2619.5,-193 2619.5,-193 2625.5,-193 2631.5,-199 2631.5,-205 2631.5,-205 2631.5,-249 2631.5,-249 2631.5,-255 2625.5,-261 2619.5,-261\"/>\n<text text-anchor=\"middle\" x=\"2521.5\" y=\"-245.8\" font-family=\"Helvetica,sans-Serif\" font-size=\"14.00\" fill=\"#000000\">occupation_Adm&#45;clerical &lt;= 0.5</text>\n<text text-anchor=\"middle\" x=\"2521.5\" y=\"-230.8\" font-family=\"Helvetica,sans-Serif\" font-size=\"14.00\" fill=\"#000000\">samples = 2.4%</text>\n<text text-anchor=\"middle\" x=\"2521.5\" y=\"-215.8\" font-family=\"Helvetica,sans-Serif\" font-size=\"14.00\" fill=\"#000000\">value = [0.924, 0.076]</text>\n<text text-anchor=\"middle\" x=\"2521.5\" y=\"-200.8\" font-family=\"Helvetica,sans-Serif\" font-size=\"14.00\" fill=\"#000000\">class = lt50K</text>\n</g>\n<!-- 27&#45;&gt;35 -->\n<g id=\"edge35\" class=\"edge\">\n<title>27&#45;&gt;35</title>\n<path fill=\"none\" stroke=\"#000000\" d=\"M2521.5,-296.9465C2521.5,-288.776 2521.5,-279.9318 2521.5,-271.3697\"/>\n<polygon fill=\"#000000\" stroke=\"#000000\" points=\"2525.0001,-271.13 2521.5,-261.13 2518.0001,-271.13 2525.0001,-271.13\"/>\n</g>\n<!-- 29 -->\n<g id=\"node30\" class=\"node\">\n<title>29</title>\n<path fill=\"#e5833c\" stroke=\"#000000\" d=\"M1958,-157C1958,-157 1735,-157 1735,-157 1729,-157 1723,-151 1723,-145 1723,-145 1723,-101 1723,-101 1723,-95 1729,-89 1735,-89 1735,-89 1958,-89 1958,-89 1964,-89 1970,-95 1970,-101 1970,-101 1970,-145 1970,-145 1970,-151 1964,-157 1958,-157\"/>\n<text text-anchor=\"middle\" x=\"1846.5\" y=\"-141.8\" font-family=\"Helvetica,sans-Serif\" font-size=\"14.00\" fill=\"#000000\">marital.status_Never&#45;married &lt;= 0.5</text>\n<text text-anchor=\"middle\" x=\"1846.5\" y=\"-126.8\" font-family=\"Helvetica,sans-Serif\" font-size=\"14.00\" fill=\"#000000\">samples = 1.8%</text>\n<text text-anchor=\"middle\" x=\"1846.5\" y=\"-111.8\" font-family=\"Helvetica,sans-Serif\" font-size=\"14.00\" fill=\"#000000\">value = [0.986, 0.014]</text>\n<text text-anchor=\"middle\" x=\"1846.5\" y=\"-96.8\" font-family=\"Helvetica,sans-Serif\" font-size=\"14.00\" fill=\"#000000\">class = lt50K</text>\n</g>\n<!-- 28&#45;&gt;29 -->\n<g id=\"edge29\" class=\"edge\">\n<title>28&#45;&gt;29</title>\n<path fill=\"none\" stroke=\"#000000\" d=\"M2042.8883,-192.9465C2013.7719,-182.5763 1981.6081,-171.1207 1951.8844,-160.5342\"/>\n<polygon fill=\"#000000\" stroke=\"#000000\" points=\"1952.9212,-157.1881 1942.3265,-157.13 1950.5725,-163.7824 1952.9212,-157.1881\"/>\n</g>\n<!-- 32 -->\n<g id=\"node33\" class=\"node\">\n<title>32</title>\n<path fill=\"#eca06a\" stroke=\"#000000\" d=\"M2236.5,-157C2236.5,-157 2040.5,-157 2040.5,-157 2034.5,-157 2028.5,-151 2028.5,-145 2028.5,-145 2028.5,-101 2028.5,-101 2028.5,-95 2034.5,-89 2040.5,-89 2040.5,-89 2236.5,-89 2236.5,-89 2242.5,-89 2248.5,-95 2248.5,-101 2248.5,-101 2248.5,-145 2248.5,-145 2248.5,-151 2242.5,-157 2236.5,-157\"/>\n<text text-anchor=\"middle\" x=\"2138.5\" y=\"-141.8\" font-family=\"Helvetica,sans-Serif\" font-size=\"14.00\" fill=\"#000000\">occupation_Adm&#45;clerical &lt;= 0.5</text>\n<text text-anchor=\"middle\" x=\"2138.5\" y=\"-126.8\" font-family=\"Helvetica,sans-Serif\" font-size=\"14.00\" fill=\"#000000\">samples = 0.0%</text>\n<text text-anchor=\"middle\" x=\"2138.5\" y=\"-111.8\" font-family=\"Helvetica,sans-Serif\" font-size=\"14.00\" fill=\"#000000\">value = [0.8, 0.2]</text>\n<text text-anchor=\"middle\" x=\"2138.5\" y=\"-96.8\" font-family=\"Helvetica,sans-Serif\" font-size=\"14.00\" fill=\"#000000\">class = lt50K</text>\n</g>\n<!-- 28&#45;&gt;32 -->\n<g id=\"edge32\" class=\"edge\">\n<title>28&#45;&gt;32</title>\n<path fill=\"none\" stroke=\"#000000\" d=\"M2138.5,-192.9465C2138.5,-184.776 2138.5,-175.9318 2138.5,-167.3697\"/>\n<polygon fill=\"#000000\" stroke=\"#000000\" points=\"2142.0001,-167.13 2138.5,-157.13 2135.0001,-167.13 2142.0001,-167.13\"/>\n</g>\n<!-- 30 -->\n<g id=\"node31\" class=\"node\">\n<title>30</title>\n<path fill=\"#e68743\" stroke=\"#000000\" d=\"M1738.5,-53C1738.5,-53 1606.5,-53 1606.5,-53 1600.5,-53 1594.5,-47 1594.5,-41 1594.5,-41 1594.5,-12 1594.5,-12 1594.5,-6 1600.5,0 1606.5,0 1606.5,0 1738.5,0 1738.5,0 1744.5,0 1750.5,-6 1750.5,-12 1750.5,-12 1750.5,-41 1750.5,-41 1750.5,-47 1744.5,-53 1738.5,-53\"/>\n<text text-anchor=\"middle\" x=\"1672.5\" y=\"-37.8\" font-family=\"Helvetica,sans-Serif\" font-size=\"14.00\" fill=\"#000000\">samples = 0.5%</text>\n<text text-anchor=\"middle\" x=\"1672.5\" y=\"-22.8\" font-family=\"Helvetica,sans-Serif\" font-size=\"14.00\" fill=\"#000000\">value = [0.953, 0.047]</text>\n<text text-anchor=\"middle\" x=\"1672.5\" y=\"-7.8\" font-family=\"Helvetica,sans-Serif\" font-size=\"14.00\" fill=\"#000000\">class = lt50K</text>\n</g>\n<!-- 29&#45;&gt;30 -->\n<g id=\"edge30\" class=\"edge\">\n<title>29&#45;&gt;30</title>\n<path fill=\"none\" stroke=\"#000000\" d=\"M1785.1541,-88.9777C1767.0738,-78.9504 1747.37,-68.0228 1729.5699,-58.1508\"/>\n<polygon fill=\"#000000\" stroke=\"#000000\" points=\"1730.8964,-54.8843 1720.4537,-53.095 1727.5013,-61.0059 1730.8964,-54.8843\"/>\n</g>\n<!-- 31 -->\n<g id=\"node32\" class=\"node\">\n<title>31</title>\n<path fill=\"#e5813a\" stroke=\"#000000\" d=\"M1912.5,-53C1912.5,-53 1780.5,-53 1780.5,-53 1774.5,-53 1768.5,-47 1768.5,-41 1768.5,-41 1768.5,-12 1768.5,-12 1768.5,-6 1774.5,0 1780.5,0 1780.5,0 1912.5,0 1912.5,0 1918.5,0 1924.5,-6 1924.5,-12 1924.5,-12 1924.5,-41 1924.5,-41 1924.5,-47 1918.5,-53 1912.5,-53\"/>\n<text text-anchor=\"middle\" x=\"1846.5\" y=\"-37.8\" font-family=\"Helvetica,sans-Serif\" font-size=\"14.00\" fill=\"#000000\">samples = 1.4%</text>\n<text text-anchor=\"middle\" x=\"1846.5\" y=\"-22.8\" font-family=\"Helvetica,sans-Serif\" font-size=\"14.00\" fill=\"#000000\">value = [0.997, 0.003]</text>\n<text text-anchor=\"middle\" x=\"1846.5\" y=\"-7.8\" font-family=\"Helvetica,sans-Serif\" font-size=\"14.00\" fill=\"#000000\">class = lt50K</text>\n</g>\n<!-- 29&#45;&gt;31 -->\n<g id=\"edge31\" class=\"edge\">\n<title>29&#45;&gt;31</title>\n<path fill=\"none\" stroke=\"#000000\" d=\"M1846.5,-88.9777C1846.5,-80.7364 1846.5,-71.887 1846.5,-63.5153\"/>\n<polygon fill=\"#000000\" stroke=\"#000000\" points=\"1850.0001,-63.2484 1846.5,-53.2485 1843.0001,-63.2485 1850.0001,-63.2484\"/>\n</g>\n<!-- 33 -->\n<g id=\"node34\" class=\"node\">\n<title>33</title>\n<path fill=\"#e89152\" stroke=\"#000000\" d=\"M2086.5,-53C2086.5,-53 1954.5,-53 1954.5,-53 1948.5,-53 1942.5,-47 1942.5,-41 1942.5,-41 1942.5,-12 1942.5,-12 1942.5,-6 1948.5,0 1954.5,0 1954.5,0 2086.5,0 2086.5,0 2092.5,0 2098.5,-6 2098.5,-12 2098.5,-12 2098.5,-41 2098.5,-41 2098.5,-47 2092.5,-53 2086.5,-53\"/>\n<text text-anchor=\"middle\" x=\"2020.5\" y=\"-37.8\" font-family=\"Helvetica,sans-Serif\" font-size=\"14.00\" fill=\"#000000\">samples = 0.0%</text>\n<text text-anchor=\"middle\" x=\"2020.5\" y=\"-22.8\" font-family=\"Helvetica,sans-Serif\" font-size=\"14.00\" fill=\"#000000\">value = [0.889, 0.111]</text>\n<text text-anchor=\"middle\" x=\"2020.5\" y=\"-7.8\" font-family=\"Helvetica,sans-Serif\" font-size=\"14.00\" fill=\"#000000\">class = lt50K</text>\n</g>\n<!-- 32&#45;&gt;33 -->\n<g id=\"edge33\" class=\"edge\">\n<title>32&#45;&gt;33</title>\n<path fill=\"none\" stroke=\"#000000\" d=\"M2096.8976,-88.9777C2085.2526,-79.4545 2072.6146,-69.1191 2061.0325,-59.6473\"/>\n<polygon fill=\"#000000\" stroke=\"#000000\" points=\"2063.1648,-56.8697 2053.208,-53.2485 2058.7333,-62.2885 2063.1648,-56.8697\"/>\n</g>\n<!-- 34 -->\n<g id=\"node35\" class=\"node\">\n<title>34</title>\n<path fill=\"#399de5\" stroke=\"#000000\" d=\"M2228,-53C2228,-53 2129,-53 2129,-53 2123,-53 2117,-47 2117,-41 2117,-41 2117,-12 2117,-12 2117,-6 2123,0 2129,0 2129,0 2228,0 2228,0 2234,0 2240,-6 2240,-12 2240,-12 2240,-41 2240,-41 2240,-47 2234,-53 2228,-53\"/>\n<text text-anchor=\"middle\" x=\"2178.5\" y=\"-37.8\" font-family=\"Helvetica,sans-Serif\" font-size=\"14.00\" fill=\"#000000\">samples = 0.0%</text>\n<text text-anchor=\"middle\" x=\"2178.5\" y=\"-22.8\" font-family=\"Helvetica,sans-Serif\" font-size=\"14.00\" fill=\"#000000\">value = [0.0, 1.0]</text>\n<text text-anchor=\"middle\" x=\"2178.5\" y=\"-7.8\" font-family=\"Helvetica,sans-Serif\" font-size=\"14.00\" fill=\"#000000\">class = gt50K</text>\n</g>\n<!-- 32&#45;&gt;34 -->\n<g id=\"edge34\" class=\"edge\">\n<title>32&#45;&gt;34</title>\n<path fill=\"none\" stroke=\"#000000\" d=\"M2152.6025,-88.9777C2156.1324,-80.4617 2159.9316,-71.2963 2163.5032,-62.6798\"/>\n<polygon fill=\"#000000\" stroke=\"#000000\" points=\"2166.8166,-63.8265 2167.4125,-53.2485 2160.3501,-61.1461 2166.8166,-63.8265\"/>\n</g>\n<!-- 36 -->\n<g id=\"node37\" class=\"node\">\n<title>36</title>\n<path fill=\"#e78d4c\" stroke=\"#000000\" d=\"M2495.5,-157C2495.5,-157 2363.5,-157 2363.5,-157 2357.5,-157 2351.5,-151 2351.5,-145 2351.5,-145 2351.5,-101 2351.5,-101 2351.5,-95 2357.5,-89 2363.5,-89 2363.5,-89 2495.5,-89 2495.5,-89 2501.5,-89 2507.5,-95 2507.5,-101 2507.5,-101 2507.5,-145 2507.5,-145 2507.5,-151 2501.5,-157 2495.5,-157\"/>\n<text text-anchor=\"middle\" x=\"2429.5\" y=\"-141.8\" font-family=\"Helvetica,sans-Serif\" font-size=\"14.00\" fill=\"#000000\">age &lt;= 23.5</text>\n<text text-anchor=\"middle\" x=\"2429.5\" y=\"-126.8\" font-family=\"Helvetica,sans-Serif\" font-size=\"14.00\" fill=\"#000000\">samples = 2.1%</text>\n<text text-anchor=\"middle\" x=\"2429.5\" y=\"-111.8\" font-family=\"Helvetica,sans-Serif\" font-size=\"14.00\" fill=\"#000000\">value = [0.914, 0.086]</text>\n<text text-anchor=\"middle\" x=\"2429.5\" y=\"-96.8\" font-family=\"Helvetica,sans-Serif\" font-size=\"14.00\" fill=\"#000000\">class = lt50K</text>\n</g>\n<!-- 35&#45;&gt;36 -->\n<g id=\"edge36\" class=\"edge\">\n<title>35&#45;&gt;36</title>\n<path fill=\"none\" stroke=\"#000000\" d=\"M2491.3758,-192.9465C2483.4332,-183.968 2474.7709,-174.1758 2466.511,-164.8385\"/>\n<polygon fill=\"#000000\" stroke=\"#000000\" points=\"2468.9392,-162.301 2459.6919,-157.13 2463.6962,-166.939 2468.9392,-162.301\"/>\n</g>\n<!-- 39 -->\n<g id=\"node40\" class=\"node\">\n<title>39</title>\n<path fill=\"#e58139\" stroke=\"#000000\" d=\"M2637,-149.5C2637,-149.5 2538,-149.5 2538,-149.5 2532,-149.5 2526,-143.5 2526,-137.5 2526,-137.5 2526,-108.5 2526,-108.5 2526,-102.5 2532,-96.5 2538,-96.5 2538,-96.5 2637,-96.5 2637,-96.5 2643,-96.5 2649,-102.5 2649,-108.5 2649,-108.5 2649,-137.5 2649,-137.5 2649,-143.5 2643,-149.5 2637,-149.5\"/>\n<text text-anchor=\"middle\" x=\"2587.5\" y=\"-134.3\" font-family=\"Helvetica,sans-Serif\" font-size=\"14.00\" fill=\"#000000\">samples = 0.3%</text>\n<text text-anchor=\"middle\" x=\"2587.5\" y=\"-119.3\" font-family=\"Helvetica,sans-Serif\" font-size=\"14.00\" fill=\"#000000\">value = [1.0, 0.0]</text>\n<text text-anchor=\"middle\" x=\"2587.5\" y=\"-104.3\" font-family=\"Helvetica,sans-Serif\" font-size=\"14.00\" fill=\"#000000\">class = lt50K</text>\n</g>\n<!-- 35&#45;&gt;39 -->\n<g id=\"edge39\" class=\"edge\">\n<title>35&#45;&gt;39</title>\n<path fill=\"none\" stroke=\"#000000\" d=\"M2543.1109,-192.9465C2550.171,-181.8215 2558.0239,-169.4473 2565.1381,-158.237\"/>\n<polygon fill=\"#000000\" stroke=\"#000000\" points=\"2568.2528,-159.8609 2570.6559,-149.5422 2562.3425,-156.1101 2568.2528,-159.8609\"/>\n</g>\n<!-- 37 -->\n<g id=\"node38\" class=\"node\">\n<title>37</title>\n<path fill=\"#e6843d\" stroke=\"#000000\" d=\"M2402.5,-53C2402.5,-53 2270.5,-53 2270.5,-53 2264.5,-53 2258.5,-47 2258.5,-41 2258.5,-41 2258.5,-12 2258.5,-12 2258.5,-6 2264.5,0 2270.5,0 2270.5,0 2402.5,0 2402.5,0 2408.5,0 2414.5,-6 2414.5,-12 2414.5,-12 2414.5,-41 2414.5,-41 2414.5,-47 2408.5,-53 2402.5,-53\"/>\n<text text-anchor=\"middle\" x=\"2336.5\" y=\"-37.8\" font-family=\"Helvetica,sans-Serif\" font-size=\"14.00\" fill=\"#000000\">samples = 0.4%</text>\n<text text-anchor=\"middle\" x=\"2336.5\" y=\"-22.8\" font-family=\"Helvetica,sans-Serif\" font-size=\"14.00\" fill=\"#000000\">value = [0.978, 0.022]</text>\n<text text-anchor=\"middle\" x=\"2336.5\" y=\"-7.8\" font-family=\"Helvetica,sans-Serif\" font-size=\"14.00\" fill=\"#000000\">class = lt50K</text>\n</g>\n<!-- 36&#45;&gt;37 -->\n<g id=\"edge37\" class=\"edge\">\n<title>36&#45;&gt;37</title>\n<path fill=\"none\" stroke=\"#000000\" d=\"M2396.7117,-88.9777C2387.7986,-79.7292 2378.1473,-69.7147 2369.2371,-60.4691\"/>\n<polygon fill=\"#000000\" stroke=\"#000000\" points=\"2371.7378,-58.0202 2362.2783,-53.2485 2366.6975,-62.8777 2371.7378,-58.0202\"/>\n</g>\n<!-- 38 -->\n<g id=\"node39\" class=\"node\">\n<title>38</title>\n<path fill=\"#e88f4f\" stroke=\"#000000\" d=\"M2576.5,-53C2576.5,-53 2444.5,-53 2444.5,-53 2438.5,-53 2432.5,-47 2432.5,-41 2432.5,-41 2432.5,-12 2432.5,-12 2432.5,-6 2438.5,0 2444.5,0 2444.5,0 2576.5,0 2576.5,0 2582.5,0 2588.5,-6 2588.5,-12 2588.5,-12 2588.5,-41 2588.5,-41 2588.5,-47 2582.5,-53 2576.5,-53\"/>\n<text text-anchor=\"middle\" x=\"2510.5\" y=\"-37.8\" font-family=\"Helvetica,sans-Serif\" font-size=\"14.00\" fill=\"#000000\">samples = 1.7%</text>\n<text text-anchor=\"middle\" x=\"2510.5\" y=\"-22.8\" font-family=\"Helvetica,sans-Serif\" font-size=\"14.00\" fill=\"#000000\">value = [0.899, 0.101]</text>\n<text text-anchor=\"middle\" x=\"2510.5\" y=\"-7.8\" font-family=\"Helvetica,sans-Serif\" font-size=\"14.00\" fill=\"#000000\">class = lt50K</text>\n</g>\n<!-- 36&#45;&gt;38 -->\n<g id=\"edge38\" class=\"edge\">\n<title>36&#45;&gt;38</title>\n<path fill=\"none\" stroke=\"#000000\" d=\"M2458.0576,-88.9777C2465.6669,-79.9123 2473.8939,-70.111 2481.5253,-61.0192\"/>\n<polygon fill=\"#000000\" stroke=\"#000000\" points=\"2484.2995,-63.1581 2488.0479,-53.2485 2478.938,-58.6577 2484.2995,-63.1581\"/>\n</g>\n<!-- 41 -->\n<g id=\"node42\" class=\"node\">\n<title>41</title>\n<path fill=\"#ea9c63\" stroke=\"#000000\" d=\"M2987.5,-261C2987.5,-261 2855.5,-261 2855.5,-261 2849.5,-261 2843.5,-255 2843.5,-249 2843.5,-249 2843.5,-205 2843.5,-205 2843.5,-199 2849.5,-193 2855.5,-193 2855.5,-193 2987.5,-193 2987.5,-193 2993.5,-193 2999.5,-199 2999.5,-205 2999.5,-205 2999.5,-249 2999.5,-249 2999.5,-255 2993.5,-261 2987.5,-261\"/>\n<text text-anchor=\"middle\" x=\"2921.5\" y=\"-245.8\" font-family=\"Helvetica,sans-Serif\" font-size=\"14.00\" fill=\"#000000\">age &lt;= 51.5</text>\n<text text-anchor=\"middle\" x=\"2921.5\" y=\"-230.8\" font-family=\"Helvetica,sans-Serif\" font-size=\"14.00\" fill=\"#000000\">samples = 2.0%</text>\n<text text-anchor=\"middle\" x=\"2921.5\" y=\"-215.8\" font-family=\"Helvetica,sans-Serif\" font-size=\"14.00\" fill=\"#000000\">value = [0.826, 0.174]</text>\n<text text-anchor=\"middle\" x=\"2921.5\" y=\"-200.8\" font-family=\"Helvetica,sans-Serif\" font-size=\"14.00\" fill=\"#000000\">class = lt50K</text>\n</g>\n<!-- 40&#45;&gt;41 -->\n<g id=\"edge41\" class=\"edge\">\n<title>40&#45;&gt;41</title>\n<path fill=\"none\" stroke=\"#000000\" d=\"M2921.5,-296.9465C2921.5,-288.776 2921.5,-279.9318 2921.5,-271.3697\"/>\n<polygon fill=\"#000000\" stroke=\"#000000\" points=\"2925.0001,-271.13 2921.5,-261.13 2918.0001,-271.13 2925.0001,-271.13\"/>\n</g>\n<!-- 48 -->\n<g id=\"node49\" class=\"node\">\n<title>48</title>\n<path fill=\"#e78b49\" stroke=\"#000000\" d=\"M3410,-261C3410,-261 3207,-261 3207,-261 3201,-261 3195,-255 3195,-249 3195,-249 3195,-205 3195,-205 3195,-199 3201,-193 3207,-193 3207,-193 3410,-193 3410,-193 3416,-193 3422,-199 3422,-205 3422,-205 3422,-249 3422,-249 3422,-255 3416,-261 3410,-261\"/>\n<text text-anchor=\"middle\" x=\"3308.5\" y=\"-245.8\" font-family=\"Helvetica,sans-Serif\" font-size=\"14.00\" fill=\"#000000\">occupation_Other&#45;service &lt;= 0.5</text>\n<text text-anchor=\"middle\" x=\"3308.5\" y=\"-230.8\" font-family=\"Helvetica,sans-Serif\" font-size=\"14.00\" fill=\"#000000\">samples = 1.6%</text>\n<text text-anchor=\"middle\" x=\"3308.5\" y=\"-215.8\" font-family=\"Helvetica,sans-Serif\" font-size=\"14.00\" fill=\"#000000\">value = [0.924, 0.076]</text>\n<text text-anchor=\"middle\" x=\"3308.5\" y=\"-200.8\" font-family=\"Helvetica,sans-Serif\" font-size=\"14.00\" fill=\"#000000\">class = lt50K</text>\n</g>\n<!-- 40&#45;&gt;48 -->\n<g id=\"edge48\" class=\"edge\">\n<title>40&#45;&gt;48</title>\n<path fill=\"none\" stroke=\"#000000\" d=\"M2999.8152,-309.954C3052.8518,-295.7013 3124.04,-276.5706 3184.6871,-260.2727\"/>\n<polygon fill=\"#000000\" stroke=\"#000000\" points=\"3185.9638,-263.5539 3194.7128,-257.5785 3184.1471,-256.7937 3185.9638,-263.5539\"/>\n</g>\n<!-- 42 -->\n<g id=\"node43\" class=\"node\">\n<title>42</title>\n<path fill=\"#ea975c\" stroke=\"#000000\" d=\"M2923.5,-157C2923.5,-157 2687.5,-157 2687.5,-157 2681.5,-157 2675.5,-151 2675.5,-145 2675.5,-145 2675.5,-101 2675.5,-101 2675.5,-95 2681.5,-89 2687.5,-89 2687.5,-89 2923.5,-89 2923.5,-89 2929.5,-89 2935.5,-95 2935.5,-101 2935.5,-101 2935.5,-145 2935.5,-145 2935.5,-151 2929.5,-157 2923.5,-157\"/>\n<text text-anchor=\"middle\" x=\"2805.5\" y=\"-141.8\" font-family=\"Helvetica,sans-Serif\" font-size=\"14.00\" fill=\"#000000\">occupation_Machine&#45;op&#45;inspct &lt;= 0.5</text>\n<text text-anchor=\"middle\" x=\"2805.5\" y=\"-126.8\" font-family=\"Helvetica,sans-Serif\" font-size=\"14.00\" fill=\"#000000\">samples = 1.5%</text>\n<text text-anchor=\"middle\" x=\"2805.5\" y=\"-111.8\" font-family=\"Helvetica,sans-Serif\" font-size=\"14.00\" fill=\"#000000\">value = [0.851, 0.149]</text>\n<text text-anchor=\"middle\" x=\"2805.5\" y=\"-96.8\" font-family=\"Helvetica,sans-Serif\" font-size=\"14.00\" fill=\"#000000\">class = lt50K</text>\n</g>\n<!-- 41&#45;&gt;42 -->\n<g id=\"edge42\" class=\"edge\">\n<title>41&#45;&gt;42</title>\n<path fill=\"none\" stroke=\"#000000\" d=\"M2883.5173,-192.9465C2873.2023,-183.6986 2861.9246,-173.5876 2851.2301,-163.9994\"/>\n<polygon fill=\"#000000\" stroke=\"#000000\" points=\"2853.3502,-161.1995 2843.5681,-157.13 2848.6774,-166.4115 2853.3502,-161.1995\"/>\n</g>\n<!-- 45 -->\n<g id=\"node46\" class=\"node\">\n<title>45</title>\n<path fill=\"#eeae80\" stroke=\"#000000\" d=\"M3109.5,-157C3109.5,-157 2965.5,-157 2965.5,-157 2959.5,-157 2953.5,-151 2953.5,-145 2953.5,-145 2953.5,-101 2953.5,-101 2953.5,-95 2959.5,-89 2965.5,-89 2965.5,-89 3109.5,-89 3109.5,-89 3115.5,-89 3121.5,-95 3121.5,-101 3121.5,-101 3121.5,-145 3121.5,-145 3121.5,-151 3115.5,-157 3109.5,-157\"/>\n<text text-anchor=\"middle\" x=\"3037.5\" y=\"-141.8\" font-family=\"Helvetica,sans-Serif\" font-size=\"14.00\" fill=\"#000000\">hours.per.week &lt;= 63.5</text>\n<text text-anchor=\"middle\" x=\"3037.5\" y=\"-126.8\" font-family=\"Helvetica,sans-Serif\" font-size=\"14.00\" fill=\"#000000\">samples = 0.4%</text>\n<text text-anchor=\"middle\" x=\"3037.5\" y=\"-111.8\" font-family=\"Helvetica,sans-Serif\" font-size=\"14.00\" fill=\"#000000\">value = [0.735, 0.265]</text>\n<text text-anchor=\"middle\" x=\"3037.5\" y=\"-96.8\" font-family=\"Helvetica,sans-Serif\" font-size=\"14.00\" fill=\"#000000\">class = lt50K</text>\n</g>\n<!-- 41&#45;&gt;45 -->\n<g id=\"edge45\" class=\"edge\">\n<title>41&#45;&gt;45</title>\n<path fill=\"none\" stroke=\"#000000\" d=\"M2959.4827,-192.9465C2969.7977,-183.6986 2981.0754,-173.5876 2991.7699,-163.9994\"/>\n<polygon fill=\"#000000\" stroke=\"#000000\" points=\"2994.3226,-166.4115 2999.4319,-157.13 2989.6498,-161.1995 2994.3226,-166.4115\"/>\n</g>\n<!-- 43 -->\n<g id=\"node44\" class=\"node\">\n<title>43</title>\n<path fill=\"#ea995e\" stroke=\"#000000\" d=\"M2750.5,-53C2750.5,-53 2618.5,-53 2618.5,-53 2612.5,-53 2606.5,-47 2606.5,-41 2606.5,-41 2606.5,-12 2606.5,-12 2606.5,-6 2612.5,0 2618.5,0 2618.5,0 2750.5,0 2750.5,0 2756.5,0 2762.5,-6 2762.5,-12 2762.5,-12 2762.5,-41 2762.5,-41 2762.5,-47 2756.5,-53 2750.5,-53\"/>\n<text text-anchor=\"middle\" x=\"2684.5\" y=\"-37.8\" font-family=\"Helvetica,sans-Serif\" font-size=\"14.00\" fill=\"#000000\">samples = 1.4%</text>\n<text text-anchor=\"middle\" x=\"2684.5\" y=\"-22.8\" font-family=\"Helvetica,sans-Serif\" font-size=\"14.00\" fill=\"#000000\">value = [0.841, 0.159]</text>\n<text text-anchor=\"middle\" x=\"2684.5\" y=\"-7.8\" font-family=\"Helvetica,sans-Serif\" font-size=\"14.00\" fill=\"#000000\">class = lt50K</text>\n</g>\n<!-- 42&#45;&gt;43 -->\n<g id=\"edge43\" class=\"edge\">\n<title>42&#45;&gt;43</title>\n<path fill=\"none\" stroke=\"#000000\" d=\"M2762.8399,-88.9777C2750.8989,-79.4545 2737.9395,-69.1191 2726.063,-59.6473\"/>\n<polygon fill=\"#000000\" stroke=\"#000000\" points=\"2728.04,-56.7473 2718.0395,-53.2485 2723.6754,-62.22 2728.04,-56.7473\"/>\n</g>\n<!-- 44 -->\n<g id=\"node45\" class=\"node\">\n<title>44</title>\n<path fill=\"#e58139\" stroke=\"#000000\" d=\"M2892,-53C2892,-53 2793,-53 2793,-53 2787,-53 2781,-47 2781,-41 2781,-41 2781,-12 2781,-12 2781,-6 2787,0 2793,0 2793,0 2892,0 2892,0 2898,0 2904,-6 2904,-12 2904,-12 2904,-41 2904,-41 2904,-47 2898,-53 2892,-53\"/>\n<text text-anchor=\"middle\" x=\"2842.5\" y=\"-37.8\" font-family=\"Helvetica,sans-Serif\" font-size=\"14.00\" fill=\"#000000\">samples = 0.1%</text>\n<text text-anchor=\"middle\" x=\"2842.5\" y=\"-22.8\" font-family=\"Helvetica,sans-Serif\" font-size=\"14.00\" fill=\"#000000\">value = [1.0, 0.0]</text>\n<text text-anchor=\"middle\" x=\"2842.5\" y=\"-7.8\" font-family=\"Helvetica,sans-Serif\" font-size=\"14.00\" fill=\"#000000\">class = lt50K</text>\n</g>\n<!-- 42&#45;&gt;44 -->\n<g id=\"edge44\" class=\"edge\">\n<title>42&#45;&gt;44</title>\n<path fill=\"none\" stroke=\"#000000\" d=\"M2818.5448,-88.9777C2821.81,-80.4617 2825.3242,-71.2963 2828.628,-62.6798\"/>\n<polygon fill=\"#000000\" stroke=\"#000000\" points=\"2831.932,-63.8387 2832.2441,-53.2485 2825.396,-61.3326 2831.932,-63.8387\"/>\n</g>\n<!-- 46 -->\n<g id=\"node47\" class=\"node\">\n<title>46</title>\n<path fill=\"#f1ba93\" stroke=\"#000000\" d=\"M3066.5,-53C3066.5,-53 2934.5,-53 2934.5,-53 2928.5,-53 2922.5,-47 2922.5,-41 2922.5,-41 2922.5,-12 2922.5,-12 2922.5,-6 2928.5,0 2934.5,0 2934.5,0 3066.5,0 3066.5,0 3072.5,0 3078.5,-6 3078.5,-12 3078.5,-12 3078.5,-41 3078.5,-41 3078.5,-47 3072.5,-53 3066.5,-53\"/>\n<text text-anchor=\"middle\" x=\"3000.5\" y=\"-37.8\" font-family=\"Helvetica,sans-Serif\" font-size=\"14.00\" fill=\"#000000\">samples = 0.4%</text>\n<text text-anchor=\"middle\" x=\"3000.5\" y=\"-22.8\" font-family=\"Helvetica,sans-Serif\" font-size=\"14.00\" fill=\"#000000\">value = [0.687, 0.313]</text>\n<text text-anchor=\"middle\" x=\"3000.5\" y=\"-7.8\" font-family=\"Helvetica,sans-Serif\" font-size=\"14.00\" fill=\"#000000\">class = lt50K</text>\n</g>\n<!-- 45&#45;&gt;46 -->\n<g id=\"edge46\" class=\"edge\">\n<title>45&#45;&gt;46</title>\n<path fill=\"none\" stroke=\"#000000\" d=\"M3024.4552,-88.9777C3021.19,-80.4617 3017.6758,-71.2963 3014.372,-62.6798\"/>\n<polygon fill=\"#000000\" stroke=\"#000000\" points=\"3017.604,-61.3326 3010.7559,-53.2485 3011.068,-63.8387 3017.604,-61.3326\"/>\n</g>\n<!-- 47 -->\n<g id=\"node48\" class=\"node\">\n<title>47</title>\n<path fill=\"#e58139\" stroke=\"#000000\" d=\"M3208,-53C3208,-53 3109,-53 3109,-53 3103,-53 3097,-47 3097,-41 3097,-41 3097,-12 3097,-12 3097,-6 3103,0 3109,0 3109,0 3208,0 3208,0 3214,0 3220,-6 3220,-12 3220,-12 3220,-41 3220,-41 3220,-47 3214,-53 3208,-53\"/>\n<text text-anchor=\"middle\" x=\"3158.5\" y=\"-37.8\" font-family=\"Helvetica,sans-Serif\" font-size=\"14.00\" fill=\"#000000\">samples = 0.1%</text>\n<text text-anchor=\"middle\" x=\"3158.5\" y=\"-22.8\" font-family=\"Helvetica,sans-Serif\" font-size=\"14.00\" fill=\"#000000\">value = [1.0, 0.0]</text>\n<text text-anchor=\"middle\" x=\"3158.5\" y=\"-7.8\" font-family=\"Helvetica,sans-Serif\" font-size=\"14.00\" fill=\"#000000\">class = lt50K</text>\n</g>\n<!-- 45&#45;&gt;47 -->\n<g id=\"edge47\" class=\"edge\">\n<title>45&#45;&gt;47</title>\n<path fill=\"none\" stroke=\"#000000\" d=\"M3080.1601,-88.9777C3092.1011,-79.4545 3105.0605,-69.1191 3116.937,-59.6473\"/>\n<polygon fill=\"#000000\" stroke=\"#000000\" points=\"3119.3246,-62.22 3124.9605,-53.2485 3114.96,-56.7473 3119.3246,-62.22\"/>\n</g>\n<!-- 49 -->\n<g id=\"node50\" class=\"node\">\n<title>49</title>\n<path fill=\"#e78d4c\" stroke=\"#000000\" d=\"M3415,-157C3415,-157 3202,-157 3202,-157 3196,-157 3190,-151 3190,-145 3190,-145 3190,-101 3190,-101 3190,-95 3196,-89 3202,-89 3202,-89 3415,-89 3415,-89 3421,-89 3427,-95 3427,-101 3427,-101 3427,-145 3427,-145 3427,-151 3421,-157 3415,-157\"/>\n<text text-anchor=\"middle\" x=\"3308.5\" y=\"-141.8\" font-family=\"Helvetica,sans-Serif\" font-size=\"14.00\" fill=\"#000000\">occupation_Protective&#45;serv &lt;= 0.5</text>\n<text text-anchor=\"middle\" x=\"3308.5\" y=\"-126.8\" font-family=\"Helvetica,sans-Serif\" font-size=\"14.00\" fill=\"#000000\">samples = 1.4%</text>\n<text text-anchor=\"middle\" x=\"3308.5\" y=\"-111.8\" font-family=\"Helvetica,sans-Serif\" font-size=\"14.00\" fill=\"#000000\">value = [0.914, 0.086]</text>\n<text text-anchor=\"middle\" x=\"3308.5\" y=\"-96.8\" font-family=\"Helvetica,sans-Serif\" font-size=\"14.00\" fill=\"#000000\">class = lt50K</text>\n</g>\n<!-- 48&#45;&gt;49 -->\n<g id=\"edge49\" class=\"edge\">\n<title>48&#45;&gt;49</title>\n<path fill=\"none\" stroke=\"#000000\" d=\"M3308.5,-192.9465C3308.5,-184.776 3308.5,-175.9318 3308.5,-167.3697\"/>\n<polygon fill=\"#000000\" stroke=\"#000000\" points=\"3312.0001,-167.13 3308.5,-157.13 3305.0001,-167.13 3312.0001,-167.13\"/>\n</g>\n<!-- 52 -->\n<g id=\"node53\" class=\"node\">\n<title>52</title>\n<path fill=\"#e58139\" stroke=\"#000000\" d=\"M3556,-149.5C3556,-149.5 3457,-149.5 3457,-149.5 3451,-149.5 3445,-143.5 3445,-137.5 3445,-137.5 3445,-108.5 3445,-108.5 3445,-102.5 3451,-96.5 3457,-96.5 3457,-96.5 3556,-96.5 3556,-96.5 3562,-96.5 3568,-102.5 3568,-108.5 3568,-108.5 3568,-137.5 3568,-137.5 3568,-143.5 3562,-149.5 3556,-149.5\"/>\n<text text-anchor=\"middle\" x=\"3506.5\" y=\"-134.3\" font-family=\"Helvetica,sans-Serif\" font-size=\"14.00\" fill=\"#000000\">samples = 0.2%</text>\n<text text-anchor=\"middle\" x=\"3506.5\" y=\"-119.3\" font-family=\"Helvetica,sans-Serif\" font-size=\"14.00\" fill=\"#000000\">value = [1.0, 0.0]</text>\n<text text-anchor=\"middle\" x=\"3506.5\" y=\"-104.3\" font-family=\"Helvetica,sans-Serif\" font-size=\"14.00\" fill=\"#000000\">class = lt50K</text>\n</g>\n<!-- 48&#45;&gt;52 -->\n<g id=\"edge52\" class=\"edge\">\n<title>48&#45;&gt;52</title>\n<path fill=\"none\" stroke=\"#000000\" d=\"M3373.3326,-192.9465C3397.0295,-180.4997 3423.7032,-166.4892 3446.92,-154.2946\"/>\n<polygon fill=\"#000000\" stroke=\"#000000\" points=\"3448.7423,-157.2909 3455.9678,-149.5422 3445.4872,-151.0937 3448.7423,-157.2909\"/>\n</g>\n<!-- 50 -->\n<g id=\"node51\" class=\"node\">\n<title>50</title>\n<path fill=\"#e78c4a\" stroke=\"#000000\" d=\"M3366.5,-53C3366.5,-53 3250.5,-53 3250.5,-53 3244.5,-53 3238.5,-47 3238.5,-41 3238.5,-41 3238.5,-12 3238.5,-12 3238.5,-6 3244.5,0 3250.5,0 3250.5,0 3366.5,0 3366.5,0 3372.5,0 3378.5,-6 3378.5,-12 3378.5,-12 3378.5,-41 3378.5,-41 3378.5,-47 3372.5,-53 3366.5,-53\"/>\n<text text-anchor=\"middle\" x=\"3308.5\" y=\"-37.8\" font-family=\"Helvetica,sans-Serif\" font-size=\"14.00\" fill=\"#000000\">samples = 1.4%</text>\n<text text-anchor=\"middle\" x=\"3308.5\" y=\"-22.8\" font-family=\"Helvetica,sans-Serif\" font-size=\"14.00\" fill=\"#000000\">value = [0.92, 0.08]</text>\n<text text-anchor=\"middle\" x=\"3308.5\" y=\"-7.8\" font-family=\"Helvetica,sans-Serif\" font-size=\"14.00\" fill=\"#000000\">class = lt50K</text>\n</g>\n<!-- 49&#45;&gt;50 -->\n<g id=\"edge50\" class=\"edge\">\n<title>49&#45;&gt;50</title>\n<path fill=\"none\" stroke=\"#000000\" d=\"M3308.5,-88.9777C3308.5,-80.7364 3308.5,-71.887 3308.5,-63.5153\"/>\n<polygon fill=\"#000000\" stroke=\"#000000\" points=\"3312.0001,-63.2484 3308.5,-53.2485 3305.0001,-63.2485 3312.0001,-63.2484\"/>\n</g>\n<!-- 51 -->\n<g id=\"node52\" class=\"node\">\n<title>51</title>\n<path fill=\"#9ccef2\" stroke=\"#000000\" d=\"M3540.5,-53C3540.5,-53 3408.5,-53 3408.5,-53 3402.5,-53 3396.5,-47 3396.5,-41 3396.5,-41 3396.5,-12 3396.5,-12 3396.5,-6 3402.5,0 3408.5,0 3408.5,0 3540.5,0 3540.5,0 3546.5,0 3552.5,-6 3552.5,-12 3552.5,-12 3552.5,-41 3552.5,-41 3552.5,-47 3546.5,-53 3540.5,-53\"/>\n<text text-anchor=\"middle\" x=\"3474.5\" y=\"-37.8\" font-family=\"Helvetica,sans-Serif\" font-size=\"14.00\" fill=\"#000000\">samples = 0.0%</text>\n<text text-anchor=\"middle\" x=\"3474.5\" y=\"-22.8\" font-family=\"Helvetica,sans-Serif\" font-size=\"14.00\" fill=\"#000000\">value = [0.333, 0.667]</text>\n<text text-anchor=\"middle\" x=\"3474.5\" y=\"-7.8\" font-family=\"Helvetica,sans-Serif\" font-size=\"14.00\" fill=\"#000000\">class = gt50K</text>\n</g>\n<!-- 49&#45;&gt;51 -->\n<g id=\"edge51\" class=\"edge\">\n<title>49&#45;&gt;51</title>\n<path fill=\"none\" stroke=\"#000000\" d=\"M3367.0254,-88.9777C3384.2744,-78.9504 3403.0723,-68.0228 3420.054,-58.1508\"/>\n<polygon fill=\"#000000\" stroke=\"#000000\" points=\"3421.8647,-61.1467 3428.751,-53.095 3418.3467,-55.095 3421.8647,-61.1467\"/>\n</g>\n<!-- 54 -->\n<g id=\"node55\" class=\"node\">\n<title>54</title>\n<path fill=\"#e68640\" stroke=\"#000000\" d=\"M4459.5,-469C4459.5,-469 4315.5,-469 4315.5,-469 4309.5,-469 4303.5,-463 4303.5,-457 4303.5,-457 4303.5,-413 4303.5,-413 4303.5,-407 4309.5,-401 4315.5,-401 4315.5,-401 4459.5,-401 4459.5,-401 4465.5,-401 4471.5,-407 4471.5,-413 4471.5,-413 4471.5,-457 4471.5,-457 4471.5,-463 4465.5,-469 4459.5,-469\"/>\n<text text-anchor=\"middle\" x=\"4387.5\" y=\"-453.8\" font-family=\"Helvetica,sans-Serif\" font-size=\"14.00\" fill=\"#000000\">hours.per.week &lt;= 44.5</text>\n<text text-anchor=\"middle\" x=\"4387.5\" y=\"-438.8\" font-family=\"Helvetica,sans-Serif\" font-size=\"14.00\" fill=\"#000000\">samples = 3.5%</text>\n<text text-anchor=\"middle\" x=\"4387.5\" y=\"-423.8\" font-family=\"Helvetica,sans-Serif\" font-size=\"14.00\" fill=\"#000000\">value = [0.964, 0.036]</text>\n<text text-anchor=\"middle\" x=\"4387.5\" y=\"-408.8\" font-family=\"Helvetica,sans-Serif\" font-size=\"14.00\" fill=\"#000000\">class = lt50K</text>\n</g>\n<!-- 53&#45;&gt;54 -->\n<g id=\"edge54\" class=\"edge\">\n<title>53&#45;&gt;54</title>\n<path fill=\"none\" stroke=\"#000000\" d=\"M4549.2471,-505.0904C4525.5947,-494.841 4499.4703,-483.5205 4475.2412,-473.0212\"/>\n<polygon fill=\"#000000\" stroke=\"#000000\" points=\"4476.6243,-469.8061 4466.0571,-469.0414 4473.841,-476.229 4476.6243,-469.8061\"/>\n</g>\n<!-- 73 -->\n<g id=\"node74\" class=\"node\">\n<title>73</title>\n<path fill=\"#eeae80\" stroke=\"#000000\" d=\"M5276.5,-469C5276.5,-469 5132.5,-469 5132.5,-469 5126.5,-469 5120.5,-463 5120.5,-457 5120.5,-457 5120.5,-413 5120.5,-413 5120.5,-407 5126.5,-401 5132.5,-401 5132.5,-401 5276.5,-401 5276.5,-401 5282.5,-401 5288.5,-407 5288.5,-413 5288.5,-413 5288.5,-457 5288.5,-457 5288.5,-463 5282.5,-469 5276.5,-469\"/>\n<text text-anchor=\"middle\" x=\"5204.5\" y=\"-453.8\" font-family=\"Helvetica,sans-Serif\" font-size=\"14.00\" fill=\"#000000\">hours.per.week &lt;= 43.5</text>\n<text text-anchor=\"middle\" x=\"5204.5\" y=\"-438.8\" font-family=\"Helvetica,sans-Serif\" font-size=\"14.00\" fill=\"#000000\">samples = 7.6%</text>\n<text text-anchor=\"middle\" x=\"5204.5\" y=\"-423.8\" font-family=\"Helvetica,sans-Serif\" font-size=\"14.00\" fill=\"#000000\">value = [0.736, 0.264]</text>\n<text text-anchor=\"middle\" x=\"5204.5\" y=\"-408.8\" font-family=\"Helvetica,sans-Serif\" font-size=\"14.00\" fill=\"#000000\">class = lt50K</text>\n</g>\n<!-- 53&#45;&gt;73 -->\n<g id=\"edge73\" class=\"edge\">\n<title>53&#45;&gt;73</title>\n<path fill=\"none\" stroke=\"#000000\" d=\"M4705.6168,-524.92C4810.6629,-505.9862 4997.2568,-472.3541 5110.0587,-452.0224\"/>\n<polygon fill=\"#000000\" stroke=\"#000000\" points=\"5110.8457,-455.437 5120.0662,-450.2186 5109.6039,-448.548 5110.8457,-455.437\"/>\n</g>\n<!-- 55 -->\n<g id=\"node56\" class=\"node\">\n<title>55</title>\n<path fill=\"#e5833d\" stroke=\"#000000\" d=\"M4036.5,-365C4036.5,-365 3892.5,-365 3892.5,-365 3886.5,-365 3880.5,-359 3880.5,-353 3880.5,-353 3880.5,-309 3880.5,-309 3880.5,-303 3886.5,-297 3892.5,-297 3892.5,-297 4036.5,-297 4036.5,-297 4042.5,-297 4048.5,-303 4048.5,-309 4048.5,-309 4048.5,-353 4048.5,-353 4048.5,-359 4042.5,-365 4036.5,-365\"/>\n<text text-anchor=\"middle\" x=\"3964.5\" y=\"-349.8\" font-family=\"Helvetica,sans-Serif\" font-size=\"14.00\" fill=\"#000000\">hours.per.week &lt;= 39.0</text>\n<text text-anchor=\"middle\" x=\"3964.5\" y=\"-334.8\" font-family=\"Helvetica,sans-Serif\" font-size=\"14.00\" fill=\"#000000\">samples = 2.7%</text>\n<text text-anchor=\"middle\" x=\"3964.5\" y=\"-319.8\" font-family=\"Helvetica,sans-Serif\" font-size=\"14.00\" fill=\"#000000\">value = [0.982, 0.018]</text>\n<text text-anchor=\"middle\" x=\"3964.5\" y=\"-304.8\" font-family=\"Helvetica,sans-Serif\" font-size=\"14.00\" fill=\"#000000\">class = lt50K</text>\n</g>\n<!-- 54&#45;&gt;55 -->\n<g id=\"edge55\" class=\"edge\">\n<title>54&#45;&gt;55</title>\n<path fill=\"none\" stroke=\"#000000\" d=\"M4303.4231,-414.3286C4232.8933,-396.988 4132.2232,-372.2369 4058.9331,-354.2176\"/>\n<polygon fill=\"#000000\" stroke=\"#000000\" points=\"4059.3257,-350.7099 4048.7792,-351.7211 4057.6544,-357.5075 4059.3257,-350.7099\"/>\n</g>\n<!-- 64 -->\n<g id=\"node65\" class=\"node\">\n<title>64</title>\n<path fill=\"#e88f4f\" stroke=\"#000000\" d=\"M4453.5,-365C4453.5,-365 4321.5,-365 4321.5,-365 4315.5,-365 4309.5,-359 4309.5,-353 4309.5,-353 4309.5,-309 4309.5,-309 4309.5,-303 4315.5,-297 4321.5,-297 4321.5,-297 4453.5,-297 4453.5,-297 4459.5,-297 4465.5,-303 4465.5,-309 4465.5,-309 4465.5,-353 4465.5,-353 4465.5,-359 4459.5,-365 4453.5,-365\"/>\n<text text-anchor=\"middle\" x=\"4387.5\" y=\"-349.8\" font-family=\"Helvetica,sans-Serif\" font-size=\"14.00\" fill=\"#000000\">age &lt;= 24.5</text>\n<text text-anchor=\"middle\" x=\"4387.5\" y=\"-334.8\" font-family=\"Helvetica,sans-Serif\" font-size=\"14.00\" fill=\"#000000\">samples = 0.8%</text>\n<text text-anchor=\"middle\" x=\"4387.5\" y=\"-319.8\" font-family=\"Helvetica,sans-Serif\" font-size=\"14.00\" fill=\"#000000\">value = [0.901, 0.099]</text>\n<text text-anchor=\"middle\" x=\"4387.5\" y=\"-304.8\" font-family=\"Helvetica,sans-Serif\" font-size=\"14.00\" fill=\"#000000\">class = lt50K</text>\n</g>\n<!-- 54&#45;&gt;64 -->\n<g id=\"edge64\" class=\"edge\">\n<title>54&#45;&gt;64</title>\n<path fill=\"none\" stroke=\"#000000\" d=\"M4387.5,-400.9465C4387.5,-392.776 4387.5,-383.9318 4387.5,-375.3697\"/>\n<polygon fill=\"#000000\" stroke=\"#000000\" points=\"4391.0001,-375.13 4387.5,-365.13 4384.0001,-375.13 4391.0001,-375.13\"/>\n</g>\n<!-- 56 -->\n<g id=\"node57\" class=\"node\">\n<title>56</title>\n<path fill=\"#e58139\" stroke=\"#000000\" d=\"M3820,-253.5C3820,-253.5 3721,-253.5 3721,-253.5 3715,-253.5 3709,-247.5 3709,-241.5 3709,-241.5 3709,-212.5 3709,-212.5 3709,-206.5 3715,-200.5 3721,-200.5 3721,-200.5 3820,-200.5 3820,-200.5 3826,-200.5 3832,-206.5 3832,-212.5 3832,-212.5 3832,-241.5 3832,-241.5 3832,-247.5 3826,-253.5 3820,-253.5\"/>\n<text text-anchor=\"middle\" x=\"3770.5\" y=\"-238.3\" font-family=\"Helvetica,sans-Serif\" font-size=\"14.00\" fill=\"#000000\">samples = 1.0%</text>\n<text text-anchor=\"middle\" x=\"3770.5\" y=\"-223.3\" font-family=\"Helvetica,sans-Serif\" font-size=\"14.00\" fill=\"#000000\">value = [1.0, 0.0]</text>\n<text text-anchor=\"middle\" x=\"3770.5\" y=\"-208.3\" font-family=\"Helvetica,sans-Serif\" font-size=\"14.00\" fill=\"#000000\">class = lt50K</text>\n</g>\n<!-- 55&#45;&gt;56 -->\n<g id=\"edge56\" class=\"edge\">\n<title>55&#45;&gt;56</title>\n<path fill=\"none\" stroke=\"#000000\" d=\"M3900.9771,-296.9465C3877.759,-284.4997 3851.6241,-270.4892 3828.8764,-258.2946\"/>\n<polygon fill=\"#000000\" stroke=\"#000000\" points=\"3830.4785,-255.1822 3820.0113,-253.5422 3827.1711,-261.3517 3830.4785,-255.1822\"/>\n</g>\n<!-- 57 -->\n<g id=\"node58\" class=\"node\">\n<title>57</title>\n<path fill=\"#e6853f\" stroke=\"#000000\" d=\"M4066.5,-261C4066.5,-261 3862.5,-261 3862.5,-261 3856.5,-261 3850.5,-255 3850.5,-249 3850.5,-249 3850.5,-205 3850.5,-205 3850.5,-199 3856.5,-193 3862.5,-193 3862.5,-193 4066.5,-193 4066.5,-193 4072.5,-193 4078.5,-199 4078.5,-205 4078.5,-205 4078.5,-249 4078.5,-249 4078.5,-255 4072.5,-261 4066.5,-261\"/>\n<text text-anchor=\"middle\" x=\"3964.5\" y=\"-245.8\" font-family=\"Helvetica,sans-Serif\" font-size=\"14.00\" fill=\"#000000\">occupation_Prof&#45;specialty &lt;= 0.5</text>\n<text text-anchor=\"middle\" x=\"3964.5\" y=\"-230.8\" font-family=\"Helvetica,sans-Serif\" font-size=\"14.00\" fill=\"#000000\">samples = 1.8%</text>\n<text text-anchor=\"middle\" x=\"3964.5\" y=\"-215.8\" font-family=\"Helvetica,sans-Serif\" font-size=\"14.00\" fill=\"#000000\">value = [0.973, 0.027]</text>\n<text text-anchor=\"middle\" x=\"3964.5\" y=\"-200.8\" font-family=\"Helvetica,sans-Serif\" font-size=\"14.00\" fill=\"#000000\">class = lt50K</text>\n</g>\n<!-- 55&#45;&gt;57 -->\n<g id=\"edge57\" class=\"edge\">\n<title>55&#45;&gt;57</title>\n<path fill=\"none\" stroke=\"#000000\" d=\"M3964.5,-296.9465C3964.5,-288.776 3964.5,-279.9318 3964.5,-271.3697\"/>\n<polygon fill=\"#000000\" stroke=\"#000000\" points=\"3968.0001,-271.13 3964.5,-261.13 3961.0001,-271.13 3968.0001,-271.13\"/>\n</g>\n<!-- 58 -->\n<g id=\"node59\" class=\"node\">\n<title>58</title>\n<path fill=\"#e5833b\" stroke=\"#000000\" d=\"M3823,-157C3823,-157 3636,-157 3636,-157 3630,-157 3624,-151 3624,-145 3624,-145 3624,-101 3624,-101 3624,-95 3630,-89 3636,-89 3636,-89 3823,-89 3823,-89 3829,-89 3835,-95 3835,-101 3835,-101 3835,-145 3835,-145 3835,-151 3829,-157 3823,-157\"/>\n<text text-anchor=\"middle\" x=\"3729.5\" y=\"-141.8\" font-family=\"Helvetica,sans-Serif\" font-size=\"14.00\" fill=\"#000000\">relationship_Unmarried &lt;= 0.5</text>\n<text text-anchor=\"middle\" x=\"3729.5\" y=\"-126.8\" font-family=\"Helvetica,sans-Serif\" font-size=\"14.00\" fill=\"#000000\">samples = 1.1%</text>\n<text text-anchor=\"middle\" x=\"3729.5\" y=\"-111.8\" font-family=\"Helvetica,sans-Serif\" font-size=\"14.00\" fill=\"#000000\">value = [0.988, 0.012]</text>\n<text text-anchor=\"middle\" x=\"3729.5\" y=\"-96.8\" font-family=\"Helvetica,sans-Serif\" font-size=\"14.00\" fill=\"#000000\">class = lt50K</text>\n</g>\n<!-- 57&#45;&gt;58 -->\n<g id=\"edge58\" class=\"edge\">\n<title>57&#45;&gt;58</title>\n<path fill=\"none\" stroke=\"#000000\" d=\"M3887.5522,-192.9465C3864.6267,-182.8008 3839.3537,-171.6161 3815.8688,-161.2228\"/>\n<polygon fill=\"#000000\" stroke=\"#000000\" points=\"3817.1816,-157.9764 3806.6207,-157.13 3814.3487,-164.3776 3817.1816,-157.9764\"/>\n</g>\n<!-- 61 -->\n<g id=\"node62\" class=\"node\">\n<title>61</title>\n<path fill=\"#e68844\" stroke=\"#000000\" d=\"M4063.5,-157C4063.5,-157 3865.5,-157 3865.5,-157 3859.5,-157 3853.5,-151 3853.5,-145 3853.5,-145 3853.5,-101 3853.5,-101 3853.5,-95 3859.5,-89 3865.5,-89 3865.5,-89 4063.5,-89 4063.5,-89 4069.5,-89 4075.5,-95 4075.5,-101 4075.5,-101 4075.5,-145 4075.5,-145 4075.5,-151 4069.5,-157 4063.5,-157\"/>\n<text text-anchor=\"middle\" x=\"3964.5\" y=\"-141.8\" font-family=\"Helvetica,sans-Serif\" font-size=\"14.00\" fill=\"#000000\">marital.status_Separated &lt;= 0.5</text>\n<text text-anchor=\"middle\" x=\"3964.5\" y=\"-126.8\" font-family=\"Helvetica,sans-Serif\" font-size=\"14.00\" fill=\"#000000\">samples = 0.7%</text>\n<text text-anchor=\"middle\" x=\"3964.5\" y=\"-111.8\" font-family=\"Helvetica,sans-Serif\" font-size=\"14.00\" fill=\"#000000\">value = [0.947, 0.053]</text>\n<text text-anchor=\"middle\" x=\"3964.5\" y=\"-96.8\" font-family=\"Helvetica,sans-Serif\" font-size=\"14.00\" fill=\"#000000\">class = lt50K</text>\n</g>\n<!-- 57&#45;&gt;61 -->\n<g id=\"edge61\" class=\"edge\">\n<title>57&#45;&gt;61</title>\n<path fill=\"none\" stroke=\"#000000\" d=\"M3964.5,-192.9465C3964.5,-184.776 3964.5,-175.9318 3964.5,-167.3697\"/>\n<polygon fill=\"#000000\" stroke=\"#000000\" points=\"3968.0001,-167.13 3964.5,-157.13 3961.0001,-167.13 3968.0001,-167.13\"/>\n</g>\n<!-- 59 -->\n<g id=\"node60\" class=\"node\">\n<title>59</title>\n<path fill=\"#e5823b\" stroke=\"#000000\" d=\"M3714.5,-53C3714.5,-53 3582.5,-53 3582.5,-53 3576.5,-53 3570.5,-47 3570.5,-41 3570.5,-41 3570.5,-12 3570.5,-12 3570.5,-6 3576.5,0 3582.5,0 3582.5,0 3714.5,0 3714.5,0 3720.5,0 3726.5,-6 3726.5,-12 3726.5,-12 3726.5,-41 3726.5,-41 3726.5,-47 3720.5,-53 3714.5,-53\"/>\n<text text-anchor=\"middle\" x=\"3648.5\" y=\"-37.8\" font-family=\"Helvetica,sans-Serif\" font-size=\"14.00\" fill=\"#000000\">samples = 1.1%</text>\n<text text-anchor=\"middle\" x=\"3648.5\" y=\"-22.8\" font-family=\"Helvetica,sans-Serif\" font-size=\"14.00\" fill=\"#000000\">value = [0.992, 0.008]</text>\n<text text-anchor=\"middle\" x=\"3648.5\" y=\"-7.8\" font-family=\"Helvetica,sans-Serif\" font-size=\"14.00\" fill=\"#000000\">class = lt50K</text>\n</g>\n<!-- 58&#45;&gt;59 -->\n<g id=\"edge59\" class=\"edge\">\n<title>58&#45;&gt;59</title>\n<path fill=\"none\" stroke=\"#000000\" d=\"M3700.9424,-88.9777C3693.3331,-79.9123 3685.1061,-70.111 3677.4747,-61.0192\"/>\n<polygon fill=\"#000000\" stroke=\"#000000\" points=\"3680.062,-58.6577 3670.9521,-53.2485 3674.7005,-63.1581 3680.062,-58.6577\"/>\n</g>\n<!-- 60 -->\n<g id=\"node61\" class=\"node\">\n<title>60</title>\n<path fill=\"#e88f4f\" stroke=\"#000000\" d=\"M3856,-53C3856,-53 3757,-53 3757,-53 3751,-53 3745,-47 3745,-41 3745,-41 3745,-12 3745,-12 3745,-6 3751,0 3757,0 3757,0 3856,0 3856,0 3862,0 3868,-6 3868,-12 3868,-12 3868,-41 3868,-41 3868,-47 3862,-53 3856,-53\"/>\n<text text-anchor=\"middle\" x=\"3806.5\" y=\"-37.8\" font-family=\"Helvetica,sans-Serif\" font-size=\"14.00\" fill=\"#000000\">samples = 0.0%</text>\n<text text-anchor=\"middle\" x=\"3806.5\" y=\"-22.8\" font-family=\"Helvetica,sans-Serif\" font-size=\"14.00\" fill=\"#000000\">value = [0.9, 0.1]</text>\n<text text-anchor=\"middle\" x=\"3806.5\" y=\"-7.8\" font-family=\"Helvetica,sans-Serif\" font-size=\"14.00\" fill=\"#000000\">class = lt50K</text>\n</g>\n<!-- 58&#45;&gt;60 -->\n<g id=\"edge60\" class=\"edge\">\n<title>58&#45;&gt;60</title>\n<path fill=\"none\" stroke=\"#000000\" d=\"M3756.6473,-88.9777C3763.8078,-80.0039 3771.5436,-70.3089 3778.7361,-61.295\"/>\n<polygon fill=\"#000000\" stroke=\"#000000\" points=\"3781.6554,-63.2481 3785.1567,-53.2485 3776.1837,-58.8821 3781.6554,-63.2481\"/>\n</g>\n<!-- 62 -->\n<g id=\"node63\" class=\"node\">\n<title>62</title>\n<path fill=\"#e68743\" stroke=\"#000000\" d=\"M4030.5,-53C4030.5,-53 3898.5,-53 3898.5,-53 3892.5,-53 3886.5,-47 3886.5,-41 3886.5,-41 3886.5,-12 3886.5,-12 3886.5,-6 3892.5,0 3898.5,0 3898.5,0 4030.5,0 4030.5,0 4036.5,0 4042.5,-6 4042.5,-12 4042.5,-12 4042.5,-41 4042.5,-41 4042.5,-47 4036.5,-53 4030.5,-53\"/>\n<text text-anchor=\"middle\" x=\"3964.5\" y=\"-37.8\" font-family=\"Helvetica,sans-Serif\" font-size=\"14.00\" fill=\"#000000\">samples = 0.7%</text>\n<text text-anchor=\"middle\" x=\"3964.5\" y=\"-22.8\" font-family=\"Helvetica,sans-Serif\" font-size=\"14.00\" fill=\"#000000\">value = [0.954, 0.046]</text>\n<text text-anchor=\"middle\" x=\"3964.5\" y=\"-7.8\" font-family=\"Helvetica,sans-Serif\" font-size=\"14.00\" fill=\"#000000\">class = lt50K</text>\n</g>\n<!-- 61&#45;&gt;62 -->\n<g id=\"edge62\" class=\"edge\">\n<title>61&#45;&gt;62</title>\n<path fill=\"none\" stroke=\"#000000\" d=\"M3964.5,-88.9777C3964.5,-80.7364 3964.5,-71.887 3964.5,-63.5153\"/>\n<polygon fill=\"#000000\" stroke=\"#000000\" points=\"3968.0001,-63.2484 3964.5,-53.2485 3961.0001,-63.2485 3968.0001,-63.2484\"/>\n</g>\n<!-- 63 -->\n<g id=\"node64\" class=\"node\">\n<title>63</title>\n<path fill=\"#399de5\" stroke=\"#000000\" d=\"M4172,-53C4172,-53 4073,-53 4073,-53 4067,-53 4061,-47 4061,-41 4061,-41 4061,-12 4061,-12 4061,-6 4067,0 4073,0 4073,0 4172,0 4172,0 4178,0 4184,-6 4184,-12 4184,-12 4184,-41 4184,-41 4184,-47 4178,-53 4172,-53\"/>\n<text text-anchor=\"middle\" x=\"4122.5\" y=\"-37.8\" font-family=\"Helvetica,sans-Serif\" font-size=\"14.00\" fill=\"#000000\">samples = 0.0%</text>\n<text text-anchor=\"middle\" x=\"4122.5\" y=\"-22.8\" font-family=\"Helvetica,sans-Serif\" font-size=\"14.00\" fill=\"#000000\">value = [0.0, 1.0]</text>\n<text text-anchor=\"middle\" x=\"4122.5\" y=\"-7.8\" font-family=\"Helvetica,sans-Serif\" font-size=\"14.00\" fill=\"#000000\">class = gt50K</text>\n</g>\n<!-- 61&#45;&gt;63 -->\n<g id=\"edge63\" class=\"edge\">\n<title>61&#45;&gt;63</title>\n<path fill=\"none\" stroke=\"#000000\" d=\"M4020.2049,-88.9777C4036.472,-79.0424 4054.1864,-68.2232 4070.2326,-58.4228\"/>\n<polygon fill=\"#000000\" stroke=\"#000000\" points=\"4072.246,-61.2943 4078.9558,-53.095 4068.5973,-55.3204 4072.246,-61.2943\"/>\n</g>\n<!-- 65 -->\n<g id=\"node66\" class=\"node\">\n<title>65</title>\n<path fill=\"#e5833d\" stroke=\"#000000\" d=\"M4343.5,-261C4343.5,-261 4155.5,-261 4155.5,-261 4149.5,-261 4143.5,-255 4143.5,-249 4143.5,-249 4143.5,-205 4143.5,-205 4143.5,-199 4149.5,-193 4155.5,-193 4155.5,-193 4343.5,-193 4343.5,-193 4349.5,-193 4355.5,-199 4355.5,-205 4355.5,-205 4355.5,-249 4355.5,-249 4355.5,-255 4349.5,-261 4343.5,-261\"/>\n<text text-anchor=\"middle\" x=\"4249.5\" y=\"-245.8\" font-family=\"Helvetica,sans-Serif\" font-size=\"14.00\" fill=\"#000000\">occupation_Craft&#45;repair &lt;= 0.5</text>\n<text text-anchor=\"middle\" x=\"4249.5\" y=\"-230.8\" font-family=\"Helvetica,sans-Serif\" font-size=\"14.00\" fill=\"#000000\">samples = 0.2%</text>\n<text text-anchor=\"middle\" x=\"4249.5\" y=\"-215.8\" font-family=\"Helvetica,sans-Serif\" font-size=\"14.00\" fill=\"#000000\">value = [0.982, 0.018]</text>\n<text text-anchor=\"middle\" x=\"4249.5\" y=\"-200.8\" font-family=\"Helvetica,sans-Serif\" font-size=\"14.00\" fill=\"#000000\">class = lt50K</text>\n</g>\n<!-- 64&#45;&gt;65 -->\n<g id=\"edge65\" class=\"edge\">\n<title>64&#45;&gt;65</title>\n<path fill=\"none\" stroke=\"#000000\" d=\"M4342.3136,-296.9465C4329.685,-287.4293 4315.8433,-276.9978 4302.7932,-267.163\"/>\n<polygon fill=\"#000000\" stroke=\"#000000\" points=\"4304.8805,-264.3534 4294.7879,-261.13 4300.6675,-269.9437 4304.8805,-264.3534\"/>\n</g>\n<!-- 68 -->\n<g id=\"node69\" class=\"node\">\n<title>68</title>\n<path fill=\"#e99558\" stroke=\"#000000\" d=\"M4667,-261C4667,-261 4386,-261 4386,-261 4380,-261 4374,-255 4374,-249 4374,-249 4374,-205 4374,-205 4374,-199 4380,-193 4386,-193 4386,-193 4667,-193 4667,-193 4673,-193 4679,-199 4679,-205 4679,-205 4679,-249 4679,-249 4679,-255 4673,-261 4667,-261\"/>\n<text text-anchor=\"middle\" x=\"4526.5\" y=\"-245.8\" font-family=\"Helvetica,sans-Serif\" font-size=\"14.00\" fill=\"#000000\">marital.status_Married&#45;spouse&#45;absent &lt;= 0.5</text>\n<text text-anchor=\"middle\" x=\"4526.5\" y=\"-230.8\" font-family=\"Helvetica,sans-Serif\" font-size=\"14.00\" fill=\"#000000\">samples = 0.6%</text>\n<text text-anchor=\"middle\" x=\"4526.5\" y=\"-215.8\" font-family=\"Helvetica,sans-Serif\" font-size=\"14.00\" fill=\"#000000\">value = [0.865, 0.135]</text>\n<text text-anchor=\"middle\" x=\"4526.5\" y=\"-200.8\" font-family=\"Helvetica,sans-Serif\" font-size=\"14.00\" fill=\"#000000\">class = lt50K</text>\n</g>\n<!-- 64&#45;&gt;68 -->\n<g id=\"edge68\" class=\"edge\">\n<title>64&#45;&gt;68</title>\n<path fill=\"none\" stroke=\"#000000\" d=\"M4433.0138,-296.9465C4445.734,-287.4293 4459.676,-276.9978 4472.8206,-267.163\"/>\n<polygon fill=\"#000000\" stroke=\"#000000\" points=\"4474.9738,-269.9232 4480.8839,-261.13 4470.7802,-264.3184 4474.9738,-269.9232\"/>\n</g>\n<!-- 66 -->\n<g id=\"node67\" class=\"node\">\n<title>66</title>\n<path fill=\"#e58139\" stroke=\"#000000\" d=\"M4205,-149.5C4205,-149.5 4106,-149.5 4106,-149.5 4100,-149.5 4094,-143.5 4094,-137.5 4094,-137.5 4094,-108.5 4094,-108.5 4094,-102.5 4100,-96.5 4106,-96.5 4106,-96.5 4205,-96.5 4205,-96.5 4211,-96.5 4217,-102.5 4217,-108.5 4217,-108.5 4217,-137.5 4217,-137.5 4217,-143.5 4211,-149.5 4205,-149.5\"/>\n<text text-anchor=\"middle\" x=\"4155.5\" y=\"-134.3\" font-family=\"Helvetica,sans-Serif\" font-size=\"14.00\" fill=\"#000000\">samples = 0.2%</text>\n<text text-anchor=\"middle\" x=\"4155.5\" y=\"-119.3\" font-family=\"Helvetica,sans-Serif\" font-size=\"14.00\" fill=\"#000000\">value = [1.0, 0.0]</text>\n<text text-anchor=\"middle\" x=\"4155.5\" y=\"-104.3\" font-family=\"Helvetica,sans-Serif\" font-size=\"14.00\" fill=\"#000000\">class = lt50K</text>\n</g>\n<!-- 65&#45;&gt;66 -->\n<g id=\"edge66\" class=\"edge\">\n<title>65&#45;&gt;66</title>\n<path fill=\"none\" stroke=\"#000000\" d=\"M4218.7209,-192.9465C4208.3669,-181.491 4196.8158,-168.711 4186.4487,-157.2412\"/>\n<polygon fill=\"#000000\" stroke=\"#000000\" points=\"4188.792,-154.614 4179.49,-149.5422 4183.5989,-159.3078 4188.792,-154.614\"/>\n</g>\n<!-- 67 -->\n<g id=\"node68\" class=\"node\">\n<title>67</title>\n<path fill=\"#399de5\" stroke=\"#000000\" d=\"M4346,-149.5C4346,-149.5 4247,-149.5 4247,-149.5 4241,-149.5 4235,-143.5 4235,-137.5 4235,-137.5 4235,-108.5 4235,-108.5 4235,-102.5 4241,-96.5 4247,-96.5 4247,-96.5 4346,-96.5 4346,-96.5 4352,-96.5 4358,-102.5 4358,-108.5 4358,-108.5 4358,-137.5 4358,-137.5 4358,-143.5 4352,-149.5 4346,-149.5\"/>\n<text text-anchor=\"middle\" x=\"4296.5\" y=\"-134.3\" font-family=\"Helvetica,sans-Serif\" font-size=\"14.00\" fill=\"#000000\">samples = 0.0%</text>\n<text text-anchor=\"middle\" x=\"4296.5\" y=\"-119.3\" font-family=\"Helvetica,sans-Serif\" font-size=\"14.00\" fill=\"#000000\">value = [0.0, 1.0]</text>\n<text text-anchor=\"middle\" x=\"4296.5\" y=\"-104.3\" font-family=\"Helvetica,sans-Serif\" font-size=\"14.00\" fill=\"#000000\">class = gt50K</text>\n</g>\n<!-- 65&#45;&gt;67 -->\n<g id=\"edge67\" class=\"edge\">\n<title>65&#45;&gt;67</title>\n<path fill=\"none\" stroke=\"#000000\" d=\"M4264.8896,-192.9465C4269.8177,-182.0418 4275.2882,-169.9368 4280.274,-158.9043\"/>\n<polygon fill=\"#000000\" stroke=\"#000000\" points=\"4283.5761,-160.0962 4284.505,-149.5422 4277.1973,-157.2134 4283.5761,-160.0962\"/>\n</g>\n<!-- 69 -->\n<g id=\"node70\" class=\"node\">\n<title>69</title>\n<path fill=\"#e99356\" stroke=\"#000000\" d=\"M4520.5,-157C4520.5,-157 4388.5,-157 4388.5,-157 4382.5,-157 4376.5,-151 4376.5,-145 4376.5,-145 4376.5,-101 4376.5,-101 4376.5,-95 4382.5,-89 4388.5,-89 4388.5,-89 4520.5,-89 4520.5,-89 4526.5,-89 4532.5,-95 4532.5,-101 4532.5,-101 4532.5,-145 4532.5,-145 4532.5,-151 4526.5,-157 4520.5,-157\"/>\n<text text-anchor=\"middle\" x=\"4454.5\" y=\"-141.8\" font-family=\"Helvetica,sans-Serif\" font-size=\"14.00\" fill=\"#000000\">sex_Male &lt;= 0.5</text>\n<text text-anchor=\"middle\" x=\"4454.5\" y=\"-126.8\" font-family=\"Helvetica,sans-Serif\" font-size=\"14.00\" fill=\"#000000\">samples = 0.5%</text>\n<text text-anchor=\"middle\" x=\"4454.5\" y=\"-111.8\" font-family=\"Helvetica,sans-Serif\" font-size=\"14.00\" fill=\"#000000\">value = [0.872, 0.128]</text>\n<text text-anchor=\"middle\" x=\"4454.5\" y=\"-96.8\" font-family=\"Helvetica,sans-Serif\" font-size=\"14.00\" fill=\"#000000\">class = lt50K</text>\n</g>\n<!-- 68&#45;&gt;69 -->\n<g id=\"edge69\" class=\"edge\">\n<title>68&#45;&gt;69</title>\n<path fill=\"none\" stroke=\"#000000\" d=\"M4502.9245,-192.9465C4496.8329,-184.1475 4490.2004,-174.5672 4483.8534,-165.3993\"/>\n<polygon fill=\"#000000\" stroke=\"#000000\" points=\"4486.6983,-163.3597 4478.1285,-157.13 4480.9429,-167.3442 4486.6983,-163.3597\"/>\n</g>\n<!-- 72 -->\n<g id=\"node73\" class=\"node\">\n<title>72</title>\n<path fill=\"#399de5\" stroke=\"#000000\" d=\"M4662,-149.5C4662,-149.5 4563,-149.5 4563,-149.5 4557,-149.5 4551,-143.5 4551,-137.5 4551,-137.5 4551,-108.5 4551,-108.5 4551,-102.5 4557,-96.5 4563,-96.5 4563,-96.5 4662,-96.5 4662,-96.5 4668,-96.5 4674,-102.5 4674,-108.5 4674,-108.5 4674,-137.5 4674,-137.5 4674,-143.5 4668,-149.5 4662,-149.5\"/>\n<text text-anchor=\"middle\" x=\"4612.5\" y=\"-134.3\" font-family=\"Helvetica,sans-Serif\" font-size=\"14.00\" fill=\"#000000\">samples = 0.0%</text>\n<text text-anchor=\"middle\" x=\"4612.5\" y=\"-119.3\" font-family=\"Helvetica,sans-Serif\" font-size=\"14.00\" fill=\"#000000\">value = [0.0, 1.0]</text>\n<text text-anchor=\"middle\" x=\"4612.5\" y=\"-104.3\" font-family=\"Helvetica,sans-Serif\" font-size=\"14.00\" fill=\"#000000\">class = gt50K</text>\n</g>\n<!-- 68&#45;&gt;72 -->\n<g id=\"edge72\" class=\"edge\">\n<title>68&#45;&gt;72</title>\n<path fill=\"none\" stroke=\"#000000\" d=\"M4554.6596,-192.9465C4564.0413,-181.6012 4574.4973,-168.9567 4583.9113,-157.5724\"/>\n<polygon fill=\"#000000\" stroke=\"#000000\" points=\"4586.8763,-159.4791 4590.5517,-149.5422 4581.4817,-155.0182 4586.8763,-159.4791\"/>\n</g>\n<!-- 70 -->\n<g id=\"node71\" class=\"node\">\n<title>70</title>\n<path fill=\"#e68742\" stroke=\"#000000\" d=\"M4346.5,-53C4346.5,-53 4214.5,-53 4214.5,-53 4208.5,-53 4202.5,-47 4202.5,-41 4202.5,-41 4202.5,-12 4202.5,-12 4202.5,-6 4208.5,0 4214.5,0 4214.5,0 4346.5,0 4346.5,0 4352.5,0 4358.5,-6 4358.5,-12 4358.5,-12 4358.5,-41 4358.5,-41 4358.5,-47 4352.5,-53 4346.5,-53\"/>\n<text text-anchor=\"middle\" x=\"4280.5\" y=\"-37.8\" font-family=\"Helvetica,sans-Serif\" font-size=\"14.00\" fill=\"#000000\">samples = 0.2%</text>\n<text text-anchor=\"middle\" x=\"4280.5\" y=\"-22.8\" font-family=\"Helvetica,sans-Serif\" font-size=\"14.00\" fill=\"#000000\">value = [0.957, 0.043]</text>\n<text text-anchor=\"middle\" x=\"4280.5\" y=\"-7.8\" font-family=\"Helvetica,sans-Serif\" font-size=\"14.00\" fill=\"#000000\">class = lt50K</text>\n</g>\n<!-- 69&#45;&gt;70 -->\n<g id=\"edge70\" class=\"edge\">\n<title>69&#45;&gt;70</title>\n<path fill=\"none\" stroke=\"#000000\" d=\"M4393.1541,-88.9777C4375.0738,-78.9504 4355.37,-68.0228 4337.5699,-58.1508\"/>\n<polygon fill=\"#000000\" stroke=\"#000000\" points=\"4338.8964,-54.8843 4328.4537,-53.095 4335.5013,-61.0059 4338.8964,-54.8843\"/>\n</g>\n<!-- 71 -->\n<g id=\"node72\" class=\"node\">\n<title>71</title>\n<path fill=\"#eb9d64\" stroke=\"#000000\" d=\"M4520.5,-53C4520.5,-53 4388.5,-53 4388.5,-53 4382.5,-53 4376.5,-47 4376.5,-41 4376.5,-41 4376.5,-12 4376.5,-12 4376.5,-6 4382.5,0 4388.5,0 4388.5,0 4520.5,0 4520.5,0 4526.5,0 4532.5,-6 4532.5,-12 4532.5,-12 4532.5,-41 4532.5,-41 4532.5,-47 4526.5,-53 4520.5,-53\"/>\n<text text-anchor=\"middle\" x=\"4454.5\" y=\"-37.8\" font-family=\"Helvetica,sans-Serif\" font-size=\"14.00\" fill=\"#000000\">samples = 0.3%</text>\n<text text-anchor=\"middle\" x=\"4454.5\" y=\"-22.8\" font-family=\"Helvetica,sans-Serif\" font-size=\"14.00\" fill=\"#000000\">value = [0.821, 0.179]</text>\n<text text-anchor=\"middle\" x=\"4454.5\" y=\"-7.8\" font-family=\"Helvetica,sans-Serif\" font-size=\"14.00\" fill=\"#000000\">class = lt50K</text>\n</g>\n<!-- 69&#45;&gt;71 -->\n<g id=\"edge71\" class=\"edge\">\n<title>69&#45;&gt;71</title>\n<path fill=\"none\" stroke=\"#000000\" d=\"M4454.5,-88.9777C4454.5,-80.7364 4454.5,-71.887 4454.5,-63.5153\"/>\n<polygon fill=\"#000000\" stroke=\"#000000\" points=\"4458.0001,-63.2484 4454.5,-53.2485 4451.0001,-63.2485 4458.0001,-63.2484\"/>\n</g>\n<!-- 74 -->\n<g id=\"node75\" class=\"node\">\n<title>74</title>\n<path fill=\"#ea9b61\" stroke=\"#000000\" d=\"M5275,-365C5275,-365 5134,-365 5134,-365 5128,-365 5122,-359 5122,-353 5122,-353 5122,-309 5122,-309 5122,-303 5128,-297 5134,-297 5134,-297 5275,-297 5275,-297 5281,-297 5287,-303 5287,-309 5287,-309 5287,-353 5287,-353 5287,-359 5281,-365 5275,-365\"/>\n<text text-anchor=\"middle\" x=\"5204.5\" y=\"-349.8\" font-family=\"Helvetica,sans-Serif\" font-size=\"14.00\" fill=\"#000000\">education.num &lt;= 14.5</text>\n<text text-anchor=\"middle\" x=\"5204.5\" y=\"-334.8\" font-family=\"Helvetica,sans-Serif\" font-size=\"14.00\" fill=\"#000000\">samples = 4.6%</text>\n<text text-anchor=\"middle\" x=\"5204.5\" y=\"-319.8\" font-family=\"Helvetica,sans-Serif\" font-size=\"14.00\" fill=\"#000000\">value = [0.831, 0.169]</text>\n<text text-anchor=\"middle\" x=\"5204.5\" y=\"-304.8\" font-family=\"Helvetica,sans-Serif\" font-size=\"14.00\" fill=\"#000000\">class = lt50K</text>\n</g>\n<!-- 73&#45;&gt;74 -->\n<g id=\"edge74\" class=\"edge\">\n<title>73&#45;&gt;74</title>\n<path fill=\"none\" stroke=\"#000000\" d=\"M5204.5,-400.9465C5204.5,-392.776 5204.5,-383.9318 5204.5,-375.3697\"/>\n<polygon fill=\"#000000\" stroke=\"#000000\" points=\"5208.0001,-375.13 5204.5,-365.13 5201.0001,-375.13 5208.0001,-375.13\"/>\n</g>\n<!-- 89 -->\n<g id=\"node90\" class=\"node\">\n<title>89</title>\n<path fill=\"#f7dac5\" stroke=\"#000000\" d=\"M6272,-365C6272,-365 6131,-365 6131,-365 6125,-365 6119,-359 6119,-353 6119,-353 6119,-309 6119,-309 6119,-303 6125,-297 6131,-297 6131,-297 6272,-297 6272,-297 6278,-297 6284,-303 6284,-309 6284,-309 6284,-353 6284,-353 6284,-359 6278,-365 6272,-365\"/>\n<text text-anchor=\"middle\" x=\"6201.5\" y=\"-349.8\" font-family=\"Helvetica,sans-Serif\" font-size=\"14.00\" fill=\"#000000\">education.num &lt;= 14.5</text>\n<text text-anchor=\"middle\" x=\"6201.5\" y=\"-334.8\" font-family=\"Helvetica,sans-Serif\" font-size=\"14.00\" fill=\"#000000\">samples = 2.9%</text>\n<text text-anchor=\"middle\" x=\"6201.5\" y=\"-319.8\" font-family=\"Helvetica,sans-Serif\" font-size=\"14.00\" fill=\"#000000\">value = [0.585, 0.415]</text>\n<text text-anchor=\"middle\" x=\"6201.5\" y=\"-304.8\" font-family=\"Helvetica,sans-Serif\" font-size=\"14.00\" fill=\"#000000\">class = lt50K</text>\n</g>\n<!-- 73&#45;&gt;89 -->\n<g id=\"edge89\" class=\"edge\">\n<title>73&#45;&gt;89</title>\n<path fill=\"none\" stroke=\"#000000\" d=\"M5288.6444,-426.2226C5473.9346,-406.8945 5916.0164,-360.7796 6108.8731,-340.6622\"/>\n<polygon fill=\"#000000\" stroke=\"#000000\" points=\"6109.4001,-344.1263 6118.983,-339.6076 6108.6738,-337.1641 6109.4001,-344.1263\"/>\n</g>\n<!-- 75 -->\n<g id=\"node76\" class=\"node\">\n<title>75</title>\n<path fill=\"#e9975b\" stroke=\"#000000\" d=\"M5116.5,-261C5116.5,-261 4984.5,-261 4984.5,-261 4978.5,-261 4972.5,-255 4972.5,-249 4972.5,-249 4972.5,-205 4972.5,-205 4972.5,-199 4978.5,-193 4984.5,-193 4984.5,-193 5116.5,-193 5116.5,-193 5122.5,-193 5128.5,-199 5128.5,-205 5128.5,-205 5128.5,-249 5128.5,-249 5128.5,-255 5122.5,-261 5116.5,-261\"/>\n<text text-anchor=\"middle\" x=\"5050.5\" y=\"-245.8\" font-family=\"Helvetica,sans-Serif\" font-size=\"14.00\" fill=\"#000000\">age &lt;= 46.5</text>\n<text text-anchor=\"middle\" x=\"5050.5\" y=\"-230.8\" font-family=\"Helvetica,sans-Serif\" font-size=\"14.00\" fill=\"#000000\">samples = 4.3%</text>\n<text text-anchor=\"middle\" x=\"5050.5\" y=\"-215.8\" font-family=\"Helvetica,sans-Serif\" font-size=\"14.00\" fill=\"#000000\">value = [0.853, 0.147]</text>\n<text text-anchor=\"middle\" x=\"5050.5\" y=\"-200.8\" font-family=\"Helvetica,sans-Serif\" font-size=\"14.00\" fill=\"#000000\">class = lt50K</text>\n</g>\n<!-- 74&#45;&gt;75 -->\n<g id=\"edge75\" class=\"edge\">\n<title>74&#45;&gt;75</title>\n<path fill=\"none\" stroke=\"#000000\" d=\"M5154.0746,-296.9465C5139.8488,-287.3395 5124.2437,-276.8009 5109.5602,-266.8848\"/>\n<polygon fill=\"#000000\" stroke=\"#000000\" points=\"5111.2847,-263.8261 5101.0386,-261.13 5107.3671,-269.6272 5111.2847,-263.8261\"/>\n</g>\n<!-- 82 -->\n<g id=\"node83\" class=\"node\">\n<title>82</title>\n<path fill=\"#fbeade\" stroke=\"#000000\" d=\"M5423.5,-261C5423.5,-261 5291.5,-261 5291.5,-261 5285.5,-261 5279.5,-255 5279.5,-249 5279.5,-249 5279.5,-205 5279.5,-205 5279.5,-199 5285.5,-193 5291.5,-193 5291.5,-193 5423.5,-193 5423.5,-193 5429.5,-193 5435.5,-199 5435.5,-205 5435.5,-205 5435.5,-249 5435.5,-249 5435.5,-255 5429.5,-261 5423.5,-261\"/>\n<text text-anchor=\"middle\" x=\"5357.5\" y=\"-245.8\" font-family=\"Helvetica,sans-Serif\" font-size=\"14.00\" fill=\"#000000\">sex_Female &lt;= 0.5</text>\n<text text-anchor=\"middle\" x=\"5357.5\" y=\"-230.8\" font-family=\"Helvetica,sans-Serif\" font-size=\"14.00\" fill=\"#000000\">samples = 0.3%</text>\n<text text-anchor=\"middle\" x=\"5357.5\" y=\"-215.8\" font-family=\"Helvetica,sans-Serif\" font-size=\"14.00\" fill=\"#000000\">value = [0.545, 0.455]</text>\n<text text-anchor=\"middle\" x=\"5357.5\" y=\"-200.8\" font-family=\"Helvetica,sans-Serif\" font-size=\"14.00\" fill=\"#000000\">class = lt50K</text>\n</g>\n<!-- 74&#45;&gt;82 -->\n<g id=\"edge82\" class=\"edge\">\n<title>74&#45;&gt;82</title>\n<path fill=\"none\" stroke=\"#000000\" d=\"M5254.5979,-296.9465C5268.7313,-287.3395 5284.2352,-276.8009 5298.8233,-266.8848\"/>\n<polygon fill=\"#000000\" stroke=\"#000000\" points=\"5300.9868,-269.6463 5307.2895,-261.13 5297.0517,-263.8571 5300.9868,-269.6463\"/>\n</g>\n<!-- 76 -->\n<g id=\"node77\" class=\"node\">\n<title>76</title>\n<path fill=\"#e89051\" stroke=\"#000000\" d=\"M4852.5,-157C4852.5,-157 4720.5,-157 4720.5,-157 4714.5,-157 4708.5,-151 4708.5,-145 4708.5,-145 4708.5,-101 4708.5,-101 4708.5,-95 4714.5,-89 4720.5,-89 4720.5,-89 4852.5,-89 4852.5,-89 4858.5,-89 4864.5,-95 4864.5,-101 4864.5,-101 4864.5,-145 4864.5,-145 4864.5,-151 4858.5,-157 4852.5,-157\"/>\n<text text-anchor=\"middle\" x=\"4786.5\" y=\"-141.8\" font-family=\"Helvetica,sans-Serif\" font-size=\"14.00\" fill=\"#000000\">age &lt;= 33.5</text>\n<text text-anchor=\"middle\" x=\"4786.5\" y=\"-126.8\" font-family=\"Helvetica,sans-Serif\" font-size=\"14.00\" fill=\"#000000\">samples = 3.0%</text>\n<text text-anchor=\"middle\" x=\"4786.5\" y=\"-111.8\" font-family=\"Helvetica,sans-Serif\" font-size=\"14.00\" fill=\"#000000\">value = [0.892, 0.108]</text>\n<text text-anchor=\"middle\" x=\"4786.5\" y=\"-96.8\" font-family=\"Helvetica,sans-Serif\" font-size=\"14.00\" fill=\"#000000\">class = lt50K</text>\n</g>\n<!-- 75&#45;&gt;76 -->\n<g id=\"edge76\" class=\"edge\">\n<title>75&#45;&gt;76</title>\n<path fill=\"none\" stroke=\"#000000\" d=\"M4972.3628,-196.2187C4941.6354,-184.114 4906.2078,-170.1576 4874.5777,-157.6973\"/>\n<polygon fill=\"#000000\" stroke=\"#000000\" points=\"4875.4798,-154.2909 4864.8928,-153.882 4872.9141,-160.8038 4875.4798,-154.2909\"/>\n</g>\n<!-- 79 -->\n<g id=\"node80\" class=\"node\">\n<title>79</title>\n<path fill=\"#eda978\" stroke=\"#000000\" d=\"M5122.5,-157C5122.5,-157 4978.5,-157 4978.5,-157 4972.5,-157 4966.5,-151 4966.5,-145 4966.5,-145 4966.5,-101 4966.5,-101 4966.5,-95 4972.5,-89 4978.5,-89 4978.5,-89 5122.5,-89 5122.5,-89 5128.5,-89 5134.5,-95 5134.5,-101 5134.5,-101 5134.5,-145 5134.5,-145 5134.5,-151 5128.5,-157 5122.5,-157\"/>\n<text text-anchor=\"middle\" x=\"5050.5\" y=\"-141.8\" font-family=\"Helvetica,sans-Serif\" font-size=\"14.00\" fill=\"#000000\">hours.per.week &lt;= 31.0</text>\n<text text-anchor=\"middle\" x=\"5050.5\" y=\"-126.8\" font-family=\"Helvetica,sans-Serif\" font-size=\"14.00\" fill=\"#000000\">samples = 1.3%</text>\n<text text-anchor=\"middle\" x=\"5050.5\" y=\"-111.8\" font-family=\"Helvetica,sans-Serif\" font-size=\"14.00\" fill=\"#000000\">value = [0.759, 0.241]</text>\n<text text-anchor=\"middle\" x=\"5050.5\" y=\"-96.8\" font-family=\"Helvetica,sans-Serif\" font-size=\"14.00\" fill=\"#000000\">class = lt50K</text>\n</g>\n<!-- 75&#45;&gt;79 -->\n<g id=\"edge79\" class=\"edge\">\n<title>75&#45;&gt;79</title>\n<path fill=\"none\" stroke=\"#000000\" d=\"M5050.5,-192.9465C5050.5,-184.776 5050.5,-175.9318 5050.5,-167.3697\"/>\n<polygon fill=\"#000000\" stroke=\"#000000\" points=\"5054.0001,-167.13 5050.5,-157.13 5047.0001,-167.13 5054.0001,-167.13\"/>\n</g>\n<!-- 77 -->\n<g id=\"node78\" class=\"node\">\n<title>77</title>\n<path fill=\"#e68844\" stroke=\"#000000\" d=\"M4678.5,-53C4678.5,-53 4562.5,-53 4562.5,-53 4556.5,-53 4550.5,-47 4550.5,-41 4550.5,-41 4550.5,-12 4550.5,-12 4550.5,-6 4556.5,0 4562.5,0 4562.5,0 4678.5,0 4678.5,0 4684.5,0 4690.5,-6 4690.5,-12 4690.5,-12 4690.5,-41 4690.5,-41 4690.5,-47 4684.5,-53 4678.5,-53\"/>\n<text text-anchor=\"middle\" x=\"4620.5\" y=\"-37.8\" font-family=\"Helvetica,sans-Serif\" font-size=\"14.00\" fill=\"#000000\">samples = 1.0%</text>\n<text text-anchor=\"middle\" x=\"4620.5\" y=\"-22.8\" font-family=\"Helvetica,sans-Serif\" font-size=\"14.00\" fill=\"#000000\">value = [0.95, 0.05]</text>\n<text text-anchor=\"middle\" x=\"4620.5\" y=\"-7.8\" font-family=\"Helvetica,sans-Serif\" font-size=\"14.00\" fill=\"#000000\">class = lt50K</text>\n</g>\n<!-- 76&#45;&gt;77 -->\n<g id=\"edge77\" class=\"edge\">\n<title>76&#45;&gt;77</title>\n<path fill=\"none\" stroke=\"#000000\" d=\"M4727.9746,-88.9777C4710.7256,-78.9504 4691.9277,-68.0228 4674.946,-58.1508\"/>\n<polygon fill=\"#000000\" stroke=\"#000000\" points=\"4676.6533,-55.095 4666.249,-53.095 4673.1353,-61.1467 4676.6533,-55.095\"/>\n</g>\n<!-- 78 -->\n<g id=\"node79\" class=\"node\">\n<title>78</title>\n<path fill=\"#e99558\" stroke=\"#000000\" d=\"M4852.5,-53C4852.5,-53 4720.5,-53 4720.5,-53 4714.5,-53 4708.5,-47 4708.5,-41 4708.5,-41 4708.5,-12 4708.5,-12 4708.5,-6 4714.5,0 4720.5,0 4720.5,0 4852.5,0 4852.5,0 4858.5,0 4864.5,-6 4864.5,-12 4864.5,-12 4864.5,-41 4864.5,-41 4864.5,-47 4858.5,-53 4852.5,-53\"/>\n<text text-anchor=\"middle\" x=\"4786.5\" y=\"-37.8\" font-family=\"Helvetica,sans-Serif\" font-size=\"14.00\" fill=\"#000000\">samples = 2.1%</text>\n<text text-anchor=\"middle\" x=\"4786.5\" y=\"-22.8\" font-family=\"Helvetica,sans-Serif\" font-size=\"14.00\" fill=\"#000000\">value = [0.866, 0.134]</text>\n<text text-anchor=\"middle\" x=\"4786.5\" y=\"-7.8\" font-family=\"Helvetica,sans-Serif\" font-size=\"14.00\" fill=\"#000000\">class = lt50K</text>\n</g>\n<!-- 76&#45;&gt;78 -->\n<g id=\"edge78\" class=\"edge\">\n<title>76&#45;&gt;78</title>\n<path fill=\"none\" stroke=\"#000000\" d=\"M4786.5,-88.9777C4786.5,-80.7364 4786.5,-71.887 4786.5,-63.5153\"/>\n<polygon fill=\"#000000\" stroke=\"#000000\" points=\"4790.0001,-63.2484 4786.5,-53.2485 4783.0001,-63.2485 4790.0001,-63.2484\"/>\n</g>\n<!-- 80 -->\n<g id=\"node81\" class=\"node\">\n<title>80</title>\n<path fill=\"#e78b49\" stroke=\"#000000\" d=\"M5026.5,-53C5026.5,-53 4894.5,-53 4894.5,-53 4888.5,-53 4882.5,-47 4882.5,-41 4882.5,-41 4882.5,-12 4882.5,-12 4882.5,-6 4888.5,0 4894.5,0 4894.5,0 5026.5,0 5026.5,0 5032.5,0 5038.5,-6 5038.5,-12 5038.5,-12 5038.5,-41 5038.5,-41 5038.5,-47 5032.5,-53 5026.5,-53\"/>\n<text text-anchor=\"middle\" x=\"4960.5\" y=\"-37.8\" font-family=\"Helvetica,sans-Serif\" font-size=\"14.00\" fill=\"#000000\">samples = 0.2%</text>\n<text text-anchor=\"middle\" x=\"4960.5\" y=\"-22.8\" font-family=\"Helvetica,sans-Serif\" font-size=\"14.00\" fill=\"#000000\">value = [0.925, 0.075]</text>\n<text text-anchor=\"middle\" x=\"4960.5\" y=\"-7.8\" font-family=\"Helvetica,sans-Serif\" font-size=\"14.00\" fill=\"#000000\">class = lt50K</text>\n</g>\n<!-- 79&#45;&gt;80 -->\n<g id=\"edge80\" class=\"edge\">\n<title>79&#45;&gt;80</title>\n<path fill=\"none\" stroke=\"#000000\" d=\"M5018.7694,-88.9777C5010.2292,-79.8207 5000.9887,-69.9129 4992.4374,-60.744\"/>\n<polygon fill=\"#000000\" stroke=\"#000000\" points=\"4994.8269,-58.1744 4985.4468,-53.2485 4989.7077,-62.9488 4994.8269,-58.1744\"/>\n</g>\n<!-- 81 -->\n<g id=\"node82\" class=\"node\">\n<title>81</title>\n<path fill=\"#efb286\" stroke=\"#000000\" d=\"M5200.5,-53C5200.5,-53 5068.5,-53 5068.5,-53 5062.5,-53 5056.5,-47 5056.5,-41 5056.5,-41 5056.5,-12 5056.5,-12 5056.5,-6 5062.5,0 5068.5,0 5068.5,0 5200.5,0 5200.5,0 5206.5,0 5212.5,-6 5212.5,-12 5212.5,-12 5212.5,-41 5212.5,-41 5212.5,-47 5206.5,-53 5200.5,-53\"/>\n<text text-anchor=\"middle\" x=\"5134.5\" y=\"-37.8\" font-family=\"Helvetica,sans-Serif\" font-size=\"14.00\" fill=\"#000000\">samples = 1.0%</text>\n<text text-anchor=\"middle\" x=\"5134.5\" y=\"-22.8\" font-family=\"Helvetica,sans-Serif\" font-size=\"14.00\" fill=\"#000000\">value = [0.721, 0.279]</text>\n<text text-anchor=\"middle\" x=\"5134.5\" y=\"-7.8\" font-family=\"Helvetica,sans-Serif\" font-size=\"14.00\" fill=\"#000000\">class = lt50K</text>\n</g>\n<!-- 79&#45;&gt;81 -->\n<g id=\"edge81\" class=\"edge\">\n<title>79&#45;&gt;81</title>\n<path fill=\"none\" stroke=\"#000000\" d=\"M5080.1153,-88.9777C5088.0064,-79.9123 5096.5381,-70.111 5104.4522,-61.0192\"/>\n<polygon fill=\"#000000\" stroke=\"#000000\" points=\"5107.2906,-63.0892 5111.2164,-53.2485 5102.0107,-58.4932 5107.2906,-63.0892\"/>\n</g>\n<!-- 83 -->\n<g id=\"node84\" class=\"node\">\n<title>83</title>\n<path fill=\"#98ccf1\" stroke=\"#000000\" d=\"M5423.5,-157C5423.5,-157 5291.5,-157 5291.5,-157 5285.5,-157 5279.5,-151 5279.5,-145 5279.5,-145 5279.5,-101 5279.5,-101 5279.5,-95 5285.5,-89 5291.5,-89 5291.5,-89 5423.5,-89 5423.5,-89 5429.5,-89 5435.5,-95 5435.5,-101 5435.5,-101 5435.5,-145 5435.5,-145 5435.5,-151 5429.5,-157 5423.5,-157\"/>\n<text text-anchor=\"middle\" x=\"5357.5\" y=\"-141.8\" font-family=\"Helvetica,sans-Serif\" font-size=\"14.00\" fill=\"#000000\">age &lt;= 31.0</text>\n<text text-anchor=\"middle\" x=\"5357.5\" y=\"-126.8\" font-family=\"Helvetica,sans-Serif\" font-size=\"14.00\" fill=\"#000000\">samples = 0.2%</text>\n<text text-anchor=\"middle\" x=\"5357.5\" y=\"-111.8\" font-family=\"Helvetica,sans-Serif\" font-size=\"14.00\" fill=\"#000000\">value = [0.324, 0.676]</text>\n<text text-anchor=\"middle\" x=\"5357.5\" y=\"-96.8\" font-family=\"Helvetica,sans-Serif\" font-size=\"14.00\" fill=\"#000000\">class = gt50K</text>\n</g>\n<!-- 82&#45;&gt;83 -->\n<g id=\"edge83\" class=\"edge\">\n<title>82&#45;&gt;83</title>\n<path fill=\"none\" stroke=\"#000000\" d=\"M5357.5,-192.9465C5357.5,-184.776 5357.5,-175.9318 5357.5,-167.3697\"/>\n<polygon fill=\"#000000\" stroke=\"#000000\" points=\"5361.0001,-167.13 5357.5,-157.13 5354.0001,-167.13 5361.0001,-167.13\"/>\n</g>\n<!-- 86 -->\n<g id=\"node87\" class=\"node\">\n<title>86</title>\n<path fill=\"#eeab7b\" stroke=\"#000000\" d=\"M5718.5,-157C5718.5,-157 5530.5,-157 5530.5,-157 5524.5,-157 5518.5,-151 5518.5,-145 5518.5,-145 5518.5,-101 5518.5,-101 5518.5,-95 5524.5,-89 5530.5,-89 5530.5,-89 5718.5,-89 5718.5,-89 5724.5,-89 5730.5,-95 5730.5,-101 5730.5,-101 5730.5,-145 5730.5,-145 5730.5,-151 5724.5,-157 5718.5,-157\"/>\n<text text-anchor=\"middle\" x=\"5624.5\" y=\"-141.8\" font-family=\"Helvetica,sans-Serif\" font-size=\"14.00\" fill=\"#000000\">workclass_Federal&#45;gov &lt;= 0.5</text>\n<text text-anchor=\"middle\" x=\"5624.5\" y=\"-126.8\" font-family=\"Helvetica,sans-Serif\" font-size=\"14.00\" fill=\"#000000\">samples = 0.2%</text>\n<text text-anchor=\"middle\" x=\"5624.5\" y=\"-111.8\" font-family=\"Helvetica,sans-Serif\" font-size=\"14.00\" fill=\"#000000\">value = [0.75, 0.25]</text>\n<text text-anchor=\"middle\" x=\"5624.5\" y=\"-96.8\" font-family=\"Helvetica,sans-Serif\" font-size=\"14.00\" fill=\"#000000\">class = lt50K</text>\n</g>\n<!-- 82&#45;&gt;86 -->\n<g id=\"edge86\" class=\"edge\">\n<title>82&#45;&gt;86</title>\n<path fill=\"none\" stroke=\"#000000\" d=\"M5435.8047,-196.4993C5464.4075,-185.3581 5497.113,-172.6189 5527.1722,-160.9105\"/>\n<polygon fill=\"#000000\" stroke=\"#000000\" points=\"5528.7824,-164.0395 5536.8301,-157.1486 5526.2417,-157.5168 5528.7824,-164.0395\"/>\n</g>\n<!-- 84 -->\n<g id=\"node85\" class=\"node\">\n<title>84</title>\n<path fill=\"#e58139\" stroke=\"#000000\" d=\"M5342,-53C5342,-53 5243,-53 5243,-53 5237,-53 5231,-47 5231,-41 5231,-41 5231,-12 5231,-12 5231,-6 5237,0 5243,0 5243,0 5342,0 5342,0 5348,0 5354,-6 5354,-12 5354,-12 5354,-41 5354,-41 5354,-47 5348,-53 5342,-53\"/>\n<text text-anchor=\"middle\" x=\"5292.5\" y=\"-37.8\" font-family=\"Helvetica,sans-Serif\" font-size=\"14.00\" fill=\"#000000\">samples = 0.0%</text>\n<text text-anchor=\"middle\" x=\"5292.5\" y=\"-22.8\" font-family=\"Helvetica,sans-Serif\" font-size=\"14.00\" fill=\"#000000\">value = [1.0, 0.0]</text>\n<text text-anchor=\"middle\" x=\"5292.5\" y=\"-7.8\" font-family=\"Helvetica,sans-Serif\" font-size=\"14.00\" fill=\"#000000\">class = lt50K</text>\n</g>\n<!-- 83&#45;&gt;84 -->\n<g id=\"edge84\" class=\"edge\">\n<title>83&#45;&gt;84</title>\n<path fill=\"none\" stroke=\"#000000\" d=\"M5334.5834,-88.9777C5328.6006,-80.0954 5322.1418,-70.5067 5316.123,-61.5711\"/>\n<polygon fill=\"#000000\" stroke=\"#000000\" points=\"5319.0067,-59.5871 5310.5171,-53.2485 5313.2009,-63.4978 5319.0067,-59.5871\"/>\n</g>\n<!-- 85 -->\n<g id=\"node86\" class=\"node\">\n<title>85</title>\n<path fill=\"#88c4ef\" stroke=\"#000000\" d=\"M5516.5,-53C5516.5,-53 5384.5,-53 5384.5,-53 5378.5,-53 5372.5,-47 5372.5,-41 5372.5,-41 5372.5,-12 5372.5,-12 5372.5,-6 5378.5,0 5384.5,0 5384.5,0 5516.5,0 5516.5,0 5522.5,0 5528.5,-6 5528.5,-12 5528.5,-12 5528.5,-41 5528.5,-41 5528.5,-47 5522.5,-53 5516.5,-53\"/>\n<text text-anchor=\"middle\" x=\"5450.5\" y=\"-37.8\" font-family=\"Helvetica,sans-Serif\" font-size=\"14.00\" fill=\"#000000\">samples = 0.2%</text>\n<text text-anchor=\"middle\" x=\"5450.5\" y=\"-22.8\" font-family=\"Helvetica,sans-Serif\" font-size=\"14.00\" fill=\"#000000\">value = [0.286, 0.714]</text>\n<text text-anchor=\"middle\" x=\"5450.5\" y=\"-7.8\" font-family=\"Helvetica,sans-Serif\" font-size=\"14.00\" fill=\"#000000\">class = gt50K</text>\n</g>\n<!-- 83&#45;&gt;85 -->\n<g id=\"edge85\" class=\"edge\">\n<title>83&#45;&gt;85</title>\n<path fill=\"none\" stroke=\"#000000\" d=\"M5390.2883,-88.9777C5399.2014,-79.7292 5408.8527,-69.7147 5417.7629,-60.4691\"/>\n<polygon fill=\"#000000\" stroke=\"#000000\" points=\"5420.3025,-62.8777 5424.7217,-53.2485 5415.2622,-58.0202 5420.3025,-62.8777\"/>\n</g>\n<!-- 87 -->\n<g id=\"node88\" class=\"node\">\n<title>87</title>\n<path fill=\"#eca36e\" stroke=\"#000000\" d=\"M5690.5,-53C5690.5,-53 5558.5,-53 5558.5,-53 5552.5,-53 5546.5,-47 5546.5,-41 5546.5,-41 5546.5,-12 5546.5,-12 5546.5,-6 5552.5,0 5558.5,0 5558.5,0 5690.5,0 5690.5,0 5696.5,0 5702.5,-6 5702.5,-12 5702.5,-12 5702.5,-41 5702.5,-41 5702.5,-47 5696.5,-53 5690.5,-53\"/>\n<text text-anchor=\"middle\" x=\"5624.5\" y=\"-37.8\" font-family=\"Helvetica,sans-Serif\" font-size=\"14.00\" fill=\"#000000\">samples = 0.2%</text>\n<text text-anchor=\"middle\" x=\"5624.5\" y=\"-22.8\" font-family=\"Helvetica,sans-Serif\" font-size=\"14.00\" fill=\"#000000\">value = [0.789, 0.211]</text>\n<text text-anchor=\"middle\" x=\"5624.5\" y=\"-7.8\" font-family=\"Helvetica,sans-Serif\" font-size=\"14.00\" fill=\"#000000\">class = lt50K</text>\n</g>\n<!-- 86&#45;&gt;87 -->\n<g id=\"edge87\" class=\"edge\">\n<title>86&#45;&gt;87</title>\n<path fill=\"none\" stroke=\"#000000\" d=\"M5624.5,-88.9777C5624.5,-80.7364 5624.5,-71.887 5624.5,-63.5153\"/>\n<polygon fill=\"#000000\" stroke=\"#000000\" points=\"5628.0001,-63.2484 5624.5,-53.2485 5621.0001,-63.2485 5628.0001,-63.2484\"/>\n</g>\n<!-- 88 -->\n<g id=\"node89\" class=\"node\">\n<title>88</title>\n<path fill=\"#399de5\" stroke=\"#000000\" d=\"M5832,-53C5832,-53 5733,-53 5733,-53 5727,-53 5721,-47 5721,-41 5721,-41 5721,-12 5721,-12 5721,-6 5727,0 5733,0 5733,0 5832,0 5832,0 5838,0 5844,-6 5844,-12 5844,-12 5844,-41 5844,-41 5844,-47 5838,-53 5832,-53\"/>\n<text text-anchor=\"middle\" x=\"5782.5\" y=\"-37.8\" font-family=\"Helvetica,sans-Serif\" font-size=\"14.00\" fill=\"#000000\">samples = 0.0%</text>\n<text text-anchor=\"middle\" x=\"5782.5\" y=\"-22.8\" font-family=\"Helvetica,sans-Serif\" font-size=\"14.00\" fill=\"#000000\">value = [0.0, 1.0]</text>\n<text text-anchor=\"middle\" x=\"5782.5\" y=\"-7.8\" font-family=\"Helvetica,sans-Serif\" font-size=\"14.00\" fill=\"#000000\">class = gt50K</text>\n</g>\n<!-- 86&#45;&gt;88 -->\n<g id=\"edge88\" class=\"edge\">\n<title>86&#45;&gt;88</title>\n<path fill=\"none\" stroke=\"#000000\" d=\"M5680.2049,-88.9777C5696.472,-79.0424 5714.1864,-68.2232 5730.2326,-58.4228\"/>\n<polygon fill=\"#000000\" stroke=\"#000000\" points=\"5732.246,-61.2943 5738.9558,-53.095 5728.5973,-55.3204 5732.246,-61.2943\"/>\n</g>\n<!-- 90 -->\n<g id=\"node91\" class=\"node\">\n<title>90</title>\n<path fill=\"#f4ccaf\" stroke=\"#000000\" d=\"M6314.5,-261C6314.5,-261 6088.5,-261 6088.5,-261 6082.5,-261 6076.5,-255 6076.5,-249 6076.5,-249 6076.5,-205 6076.5,-205 6076.5,-199 6082.5,-193 6088.5,-193 6088.5,-193 6314.5,-193 6314.5,-193 6320.5,-193 6326.5,-199 6326.5,-205 6326.5,-205 6326.5,-249 6326.5,-249 6326.5,-255 6320.5,-261 6314.5,-261\"/>\n<text text-anchor=\"middle\" x=\"6201.5\" y=\"-245.8\" font-family=\"Helvetica,sans-Serif\" font-size=\"14.00\" fill=\"#000000\">occupation_Exec&#45;managerial &lt;= 0.5</text>\n<text text-anchor=\"middle\" x=\"6201.5\" y=\"-230.8\" font-family=\"Helvetica,sans-Serif\" font-size=\"14.00\" fill=\"#000000\">samples = 2.5%</text>\n<text text-anchor=\"middle\" x=\"6201.5\" y=\"-215.8\" font-family=\"Helvetica,sans-Serif\" font-size=\"14.00\" fill=\"#000000\">value = [0.627, 0.373]</text>\n<text text-anchor=\"middle\" x=\"6201.5\" y=\"-200.8\" font-family=\"Helvetica,sans-Serif\" font-size=\"14.00\" fill=\"#000000\">class = lt50K</text>\n</g>\n<!-- 89&#45;&gt;90 -->\n<g id=\"edge90\" class=\"edge\">\n<title>89&#45;&gt;90</title>\n<path fill=\"none\" stroke=\"#000000\" d=\"M6201.5,-296.9465C6201.5,-288.776 6201.5,-279.9318 6201.5,-271.3697\"/>\n<polygon fill=\"#000000\" stroke=\"#000000\" points=\"6205.0001,-271.13 6201.5,-261.13 6198.0001,-271.13 6205.0001,-271.13\"/>\n</g>\n<!-- 97 -->\n<g id=\"node98\" class=\"node\">\n<title>97</title>\n<path fill=\"#9fd0f2\" stroke=\"#000000\" d=\"M6760.5,-261C6760.5,-261 6644.5,-261 6644.5,-261 6638.5,-261 6632.5,-255 6632.5,-249 6632.5,-249 6632.5,-205 6632.5,-205 6632.5,-199 6638.5,-193 6644.5,-193 6644.5,-193 6760.5,-193 6760.5,-193 6766.5,-193 6772.5,-199 6772.5,-205 6772.5,-205 6772.5,-249 6772.5,-249 6772.5,-255 6766.5,-261 6760.5,-261\"/>\n<text text-anchor=\"middle\" x=\"6702.5\" y=\"-245.8\" font-family=\"Helvetica,sans-Serif\" font-size=\"14.00\" fill=\"#000000\">age &lt;= 32.5</text>\n<text text-anchor=\"middle\" x=\"6702.5\" y=\"-230.8\" font-family=\"Helvetica,sans-Serif\" font-size=\"14.00\" fill=\"#000000\">samples = 0.4%</text>\n<text text-anchor=\"middle\" x=\"6702.5\" y=\"-215.8\" font-family=\"Helvetica,sans-Serif\" font-size=\"14.00\" fill=\"#000000\">value = [0.34, 0.66]</text>\n<text text-anchor=\"middle\" x=\"6702.5\" y=\"-200.8\" font-family=\"Helvetica,sans-Serif\" font-size=\"14.00\" fill=\"#000000\">class = gt50K</text>\n</g>\n<!-- 89&#45;&gt;97 -->\n<g id=\"edge97\" class=\"edge\">\n<title>89&#45;&gt;97</title>\n<path fill=\"none\" stroke=\"#000000\" d=\"M6284.23,-313.8265C6377.9502,-294.3716 6529.6553,-262.8799 6622.3115,-243.6459\"/>\n<polygon fill=\"#000000\" stroke=\"#000000\" points=\"6623.1192,-247.0529 6632.1991,-241.5934 6621.6964,-240.1991 6623.1192,-247.0529\"/>\n</g>\n<!-- 91 -->\n<g id=\"node92\" class=\"node\">\n<title>91</title>\n<path fill=\"#f1bb93\" stroke=\"#000000\" d=\"M6173.5,-157C6173.5,-157 6041.5,-157 6041.5,-157 6035.5,-157 6029.5,-151 6029.5,-145 6029.5,-145 6029.5,-101 6029.5,-101 6029.5,-95 6035.5,-89 6041.5,-89 6041.5,-89 6173.5,-89 6173.5,-89 6179.5,-89 6185.5,-95 6185.5,-101 6185.5,-101 6185.5,-145 6185.5,-145 6185.5,-151 6179.5,-157 6173.5,-157\"/>\n<text text-anchor=\"middle\" x=\"6107.5\" y=\"-141.8\" font-family=\"Helvetica,sans-Serif\" font-size=\"14.00\" fill=\"#000000\">sex_Male &lt;= 0.5</text>\n<text text-anchor=\"middle\" x=\"6107.5\" y=\"-126.8\" font-family=\"Helvetica,sans-Serif\" font-size=\"14.00\" fill=\"#000000\">samples = 1.8%</text>\n<text text-anchor=\"middle\" x=\"6107.5\" y=\"-111.8\" font-family=\"Helvetica,sans-Serif\" font-size=\"14.00\" fill=\"#000000\">value = [0.686, 0.314]</text>\n<text text-anchor=\"middle\" x=\"6107.5\" y=\"-96.8\" font-family=\"Helvetica,sans-Serif\" font-size=\"14.00\" fill=\"#000000\">class = lt50K</text>\n</g>\n<!-- 90&#45;&gt;91 -->\n<g id=\"edge91\" class=\"edge\">\n<title>90&#45;&gt;91</title>\n<path fill=\"none\" stroke=\"#000000\" d=\"M6170.7209,-192.9465C6162.5245,-183.8782 6153.578,-173.9799 6145.0625,-164.5585\"/>\n<polygon fill=\"#000000\" stroke=\"#000000\" points=\"6147.6503,-162.2019 6138.3483,-157.13 6142.4571,-166.8957 6147.6503,-162.2019\"/>\n</g>\n<!-- 94 -->\n<g id=\"node95\" class=\"node\">\n<title>94</title>\n<path fill=\"#f1f8fd\" stroke=\"#000000\" d=\"M6377,-157C6377,-157 6216,-157 6216,-157 6210,-157 6204,-151 6204,-145 6204,-145 6204,-101 6204,-101 6204,-95 6210,-89 6216,-89 6216,-89 6377,-89 6377,-89 6383,-89 6389,-95 6389,-101 6389,-101 6389,-145 6389,-145 6389,-151 6383,-157 6377,-157\"/>\n<text text-anchor=\"middle\" x=\"6296.5\" y=\"-141.8\" font-family=\"Helvetica,sans-Serif\" font-size=\"14.00\" fill=\"#000000\">education_Masters &lt;= 0.5</text>\n<text text-anchor=\"middle\" x=\"6296.5\" y=\"-126.8\" font-family=\"Helvetica,sans-Serif\" font-size=\"14.00\" fill=\"#000000\">samples = 0.7%</text>\n<text text-anchor=\"middle\" x=\"6296.5\" y=\"-111.8\" font-family=\"Helvetica,sans-Serif\" font-size=\"14.00\" fill=\"#000000\">value = [0.482, 0.518]</text>\n<text text-anchor=\"middle\" x=\"6296.5\" y=\"-96.8\" font-family=\"Helvetica,sans-Serif\" font-size=\"14.00\" fill=\"#000000\">class = gt50K</text>\n</g>\n<!-- 90&#45;&gt;94 -->\n<g id=\"edge94\" class=\"edge\">\n<title>90&#45;&gt;94</title>\n<path fill=\"none\" stroke=\"#000000\" d=\"M6232.6066,-192.9465C6240.8901,-183.8782 6249.9318,-173.9799 6258.5379,-164.5585\"/>\n<polygon fill=\"#000000\" stroke=\"#000000\" points=\"6261.1633,-166.8739 6265.3236,-157.13 6255.995,-162.1528 6261.1633,-166.8739\"/>\n</g>\n<!-- 92 -->\n<g id=\"node93\" class=\"node\">\n<title>92</title>\n<path fill=\"#eca470\" stroke=\"#000000\" d=\"M6006.5,-53C6006.5,-53 5874.5,-53 5874.5,-53 5868.5,-53 5862.5,-47 5862.5,-41 5862.5,-41 5862.5,-12 5862.5,-12 5862.5,-6 5868.5,0 5874.5,0 5874.5,0 6006.5,0 6006.5,0 6012.5,0 6018.5,-6 6018.5,-12 6018.5,-12 6018.5,-41 6018.5,-41 6018.5,-47 6012.5,-53 6006.5,-53\"/>\n<text text-anchor=\"middle\" x=\"5940.5\" y=\"-37.8\" font-family=\"Helvetica,sans-Serif\" font-size=\"14.00\" fill=\"#000000\">samples = 0.8%</text>\n<text text-anchor=\"middle\" x=\"5940.5\" y=\"-22.8\" font-family=\"Helvetica,sans-Serif\" font-size=\"14.00\" fill=\"#000000\">value = [0.783, 0.217]</text>\n<text text-anchor=\"middle\" x=\"5940.5\" y=\"-7.8\" font-family=\"Helvetica,sans-Serif\" font-size=\"14.00\" fill=\"#000000\">class = lt50K</text>\n</g>\n<!-- 91&#45;&gt;92 -->\n<g id=\"edge92\" class=\"edge\">\n<title>91&#45;&gt;92</title>\n<path fill=\"none\" stroke=\"#000000\" d=\"M6048.622,-88.9777C6031.2691,-78.9504 6012.358,-68.0228 5995.274,-58.1508\"/>\n<polygon fill=\"#000000\" stroke=\"#000000\" points=\"5996.9341,-55.0678 5986.5246,-53.095 5993.4318,-61.1287 5996.9341,-55.0678\"/>\n</g>\n<!-- 93 -->\n<g id=\"node94\" class=\"node\">\n<title>93</title>\n<path fill=\"#f6d4bc\" stroke=\"#000000\" d=\"M6180.5,-53C6180.5,-53 6048.5,-53 6048.5,-53 6042.5,-53 6036.5,-47 6036.5,-41 6036.5,-41 6036.5,-12 6036.5,-12 6036.5,-6 6042.5,0 6048.5,0 6048.5,0 6180.5,0 6180.5,0 6186.5,0 6192.5,-6 6192.5,-12 6192.5,-12 6192.5,-41 6192.5,-41 6192.5,-47 6186.5,-53 6180.5,-53\"/>\n<text text-anchor=\"middle\" x=\"6114.5\" y=\"-37.8\" font-family=\"Helvetica,sans-Serif\" font-size=\"14.00\" fill=\"#000000\">samples = 0.9%</text>\n<text text-anchor=\"middle\" x=\"6114.5\" y=\"-22.8\" font-family=\"Helvetica,sans-Serif\" font-size=\"14.00\" fill=\"#000000\">value = [0.602, 0.398]</text>\n<text text-anchor=\"middle\" x=\"6114.5\" y=\"-7.8\" font-family=\"Helvetica,sans-Serif\" font-size=\"14.00\" fill=\"#000000\">class = lt50K</text>\n</g>\n<!-- 91&#45;&gt;93 -->\n<g id=\"edge93\" class=\"edge\">\n<title>91&#45;&gt;93</title>\n<path fill=\"none\" stroke=\"#000000\" d=\"M6109.9679,-88.9777C6110.5724,-80.6449 6111.222,-71.6903 6111.8352,-63.2364\"/>\n<polygon fill=\"#000000\" stroke=\"#000000\" points=\"6115.3269,-63.4755 6112.5597,-53.2485 6108.3453,-62.969 6115.3269,-63.4755\"/>\n</g>\n<!-- 95 -->\n<g id=\"node96\" class=\"node\">\n<title>95</title>\n<path fill=\"#f7d9c3\" stroke=\"#000000\" d=\"M6354.5,-53C6354.5,-53 6222.5,-53 6222.5,-53 6216.5,-53 6210.5,-47 6210.5,-41 6210.5,-41 6210.5,-12 6210.5,-12 6210.5,-6 6216.5,0 6222.5,0 6222.5,0 6354.5,0 6354.5,0 6360.5,0 6366.5,-6 6366.5,-12 6366.5,-12 6366.5,-41 6366.5,-41 6366.5,-47 6360.5,-53 6354.5,-53\"/>\n<text text-anchor=\"middle\" x=\"6288.5\" y=\"-37.8\" font-family=\"Helvetica,sans-Serif\" font-size=\"14.00\" fill=\"#000000\">samples = 0.5%</text>\n<text text-anchor=\"middle\" x=\"6288.5\" y=\"-22.8\" font-family=\"Helvetica,sans-Serif\" font-size=\"14.00\" fill=\"#000000\">value = [0.589, 0.411]</text>\n<text text-anchor=\"middle\" x=\"6288.5\" y=\"-7.8\" font-family=\"Helvetica,sans-Serif\" font-size=\"14.00\" fill=\"#000000\">class = lt50K</text>\n</g>\n<!-- 94&#45;&gt;95 -->\n<g id=\"edge95\" class=\"edge\">\n<title>94&#45;&gt;95</title>\n<path fill=\"none\" stroke=\"#000000\" d=\"M6293.6795,-88.9777C6292.9887,-80.6449 6292.2463,-71.6903 6291.5455,-63.2364\"/>\n<polygon fill=\"#000000\" stroke=\"#000000\" points=\"6295.0318,-62.9251 6290.7175,-53.2485 6288.0557,-63.5035 6295.0318,-62.9251\"/>\n</g>\n<!-- 96 -->\n<g id=\"node97\" class=\"node\">\n<title>96</title>\n<path fill=\"#8cc6f0\" stroke=\"#000000\" d=\"M6528.5,-53C6528.5,-53 6396.5,-53 6396.5,-53 6390.5,-53 6384.5,-47 6384.5,-41 6384.5,-41 6384.5,-12 6384.5,-12 6384.5,-6 6390.5,0 6396.5,0 6396.5,0 6528.5,0 6528.5,0 6534.5,0 6540.5,-6 6540.5,-12 6540.5,-12 6540.5,-41 6540.5,-41 6540.5,-47 6534.5,-53 6528.5,-53\"/>\n<text text-anchor=\"middle\" x=\"6462.5\" y=\"-37.8\" font-family=\"Helvetica,sans-Serif\" font-size=\"14.00\" fill=\"#000000\">samples = 0.3%</text>\n<text text-anchor=\"middle\" x=\"6462.5\" y=\"-22.8\" font-family=\"Helvetica,sans-Serif\" font-size=\"14.00\" fill=\"#000000\">value = [0.295, 0.705]</text>\n<text text-anchor=\"middle\" x=\"6462.5\" y=\"-7.8\" font-family=\"Helvetica,sans-Serif\" font-size=\"14.00\" fill=\"#000000\">class = gt50K</text>\n</g>\n<!-- 94&#45;&gt;96 -->\n<g id=\"edge96\" class=\"edge\">\n<title>94&#45;&gt;96</title>\n<path fill=\"none\" stroke=\"#000000\" d=\"M6355.0254,-88.9777C6372.2744,-78.9504 6391.0723,-68.0228 6408.054,-58.1508\"/>\n<polygon fill=\"#000000\" stroke=\"#000000\" points=\"6409.8647,-61.1467 6416.751,-53.095 6406.3467,-55.095 6409.8647,-61.1467\"/>\n</g>\n<!-- 98 -->\n<g id=\"node99\" class=\"node\">\n<title>98</title>\n<path fill=\"#f0b890\" stroke=\"#000000\" d=\"M6796.5,-157C6796.5,-157 6608.5,-157 6608.5,-157 6602.5,-157 6596.5,-151 6596.5,-145 6596.5,-145 6596.5,-101 6596.5,-101 6596.5,-95 6602.5,-89 6608.5,-89 6608.5,-89 6796.5,-89 6796.5,-89 6802.5,-89 6808.5,-95 6808.5,-101 6808.5,-101 6808.5,-145 6808.5,-145 6808.5,-151 6802.5,-157 6796.5,-157\"/>\n<text text-anchor=\"middle\" x=\"6702.5\" y=\"-141.8\" font-family=\"Helvetica,sans-Serif\" font-size=\"14.00\" fill=\"#000000\">marital.status_Divorced &lt;= 0.5</text>\n<text text-anchor=\"middle\" x=\"6702.5\" y=\"-126.8\" font-family=\"Helvetica,sans-Serif\" font-size=\"14.00\" fill=\"#000000\">samples = 0.1%</text>\n<text text-anchor=\"middle\" x=\"6702.5\" y=\"-111.8\" font-family=\"Helvetica,sans-Serif\" font-size=\"14.00\" fill=\"#000000\">value = [0.696, 0.304]</text>\n<text text-anchor=\"middle\" x=\"6702.5\" y=\"-96.8\" font-family=\"Helvetica,sans-Serif\" font-size=\"14.00\" fill=\"#000000\">class = lt50K</text>\n</g>\n<!-- 97&#45;&gt;98 -->\n<g id=\"edge98\" class=\"edge\">\n<title>97&#45;&gt;98</title>\n<path fill=\"none\" stroke=\"#000000\" d=\"M6702.5,-192.9465C6702.5,-184.776 6702.5,-175.9318 6702.5,-167.3697\"/>\n<polygon fill=\"#000000\" stroke=\"#000000\" points=\"6706.0001,-167.13 6702.5,-157.13 6699.0001,-167.13 6706.0001,-167.13\"/>\n</g>\n<!-- 101 -->\n<g id=\"node102\" class=\"node\">\n<title>101</title>\n<path fill=\"#74baed\" stroke=\"#000000\" d=\"M7048.5,-157C7048.5,-157 6904.5,-157 6904.5,-157 6898.5,-157 6892.5,-151 6892.5,-145 6892.5,-145 6892.5,-101 6892.5,-101 6892.5,-95 6898.5,-89 6904.5,-89 6904.5,-89 7048.5,-89 7048.5,-89 7054.5,-89 7060.5,-95 7060.5,-101 7060.5,-101 7060.5,-145 7060.5,-145 7060.5,-151 7054.5,-157 7048.5,-157\"/>\n<text text-anchor=\"middle\" x=\"6976.5\" y=\"-141.8\" font-family=\"Helvetica,sans-Serif\" font-size=\"14.00\" fill=\"#000000\">hours.per.week &lt;= 51.0</text>\n<text text-anchor=\"middle\" x=\"6976.5\" y=\"-126.8\" font-family=\"Helvetica,sans-Serif\" font-size=\"14.00\" fill=\"#000000\">samples = 0.3%</text>\n<text text-anchor=\"middle\" x=\"6976.5\" y=\"-111.8\" font-family=\"Helvetica,sans-Serif\" font-size=\"14.00\" fill=\"#000000\">value = [0.23, 0.77]</text>\n<text text-anchor=\"middle\" x=\"6976.5\" y=\"-96.8\" font-family=\"Helvetica,sans-Serif\" font-size=\"14.00\" fill=\"#000000\">class = gt50K</text>\n</g>\n<!-- 97&#45;&gt;101 -->\n<g id=\"edge101\" class=\"edge\">\n<title>97&#45;&gt;101</title>\n<path fill=\"none\" stroke=\"#000000\" d=\"M6772.706,-200.3525C6806.1831,-187.6458 6846.7051,-172.2652 6882.7691,-158.5767\"/>\n<polygon fill=\"#000000\" stroke=\"#000000\" points=\"6884.2152,-161.7715 6892.3224,-154.9506 6881.7311,-155.2271 6884.2152,-161.7715\"/>\n</g>\n<!-- 99 -->\n<g id=\"node100\" class=\"node\">\n<title>99</title>\n<path fill=\"#e99355\" stroke=\"#000000\" d=\"M6702.5,-53C6702.5,-53 6570.5,-53 6570.5,-53 6564.5,-53 6558.5,-47 6558.5,-41 6558.5,-41 6558.5,-12 6558.5,-12 6558.5,-6 6564.5,0 6570.5,0 6570.5,0 6702.5,0 6702.5,0 6708.5,0 6714.5,-6 6714.5,-12 6714.5,-12 6714.5,-41 6714.5,-41 6714.5,-47 6708.5,-53 6702.5,-53\"/>\n<text text-anchor=\"middle\" x=\"6636.5\" y=\"-37.8\" font-family=\"Helvetica,sans-Serif\" font-size=\"14.00\" fill=\"#000000\">samples = 0.1%</text>\n<text text-anchor=\"middle\" x=\"6636.5\" y=\"-22.8\" font-family=\"Helvetica,sans-Serif\" font-size=\"14.00\" fill=\"#000000\">value = [0.875, 0.125]</text>\n<text text-anchor=\"middle\" x=\"6636.5\" y=\"-7.8\" font-family=\"Helvetica,sans-Serif\" font-size=\"14.00\" fill=\"#000000\">class = lt50K</text>\n</g>\n<!-- 98&#45;&gt;99 -->\n<g id=\"edge99\" class=\"edge\">\n<title>98&#45;&gt;99</title>\n<path fill=\"none\" stroke=\"#000000\" d=\"M6679.2309,-88.9777C6673.156,-80.0954 6666.5979,-70.5067 6660.4865,-61.5711\"/>\n<polygon fill=\"#000000\" stroke=\"#000000\" points=\"6663.3286,-59.5267 6654.7943,-53.2485 6657.5507,-63.4785 6663.3286,-59.5267\"/>\n</g>\n<!-- 100 -->\n<g id=\"node101\" class=\"node\">\n<title>100</title>\n<path fill=\"#88c4ef\" stroke=\"#000000\" d=\"M6876.5,-53C6876.5,-53 6744.5,-53 6744.5,-53 6738.5,-53 6732.5,-47 6732.5,-41 6732.5,-41 6732.5,-12 6732.5,-12 6732.5,-6 6738.5,0 6744.5,0 6744.5,0 6876.5,0 6876.5,0 6882.5,0 6888.5,-6 6888.5,-12 6888.5,-12 6888.5,-41 6888.5,-41 6888.5,-47 6882.5,-53 6876.5,-53\"/>\n<text text-anchor=\"middle\" x=\"6810.5\" y=\"-37.8\" font-family=\"Helvetica,sans-Serif\" font-size=\"14.00\" fill=\"#000000\">samples = 0.0%</text>\n<text text-anchor=\"middle\" x=\"6810.5\" y=\"-22.8\" font-family=\"Helvetica,sans-Serif\" font-size=\"14.00\" fill=\"#000000\">value = [0.286, 0.714]</text>\n<text text-anchor=\"middle\" x=\"6810.5\" y=\"-7.8\" font-family=\"Helvetica,sans-Serif\" font-size=\"14.00\" fill=\"#000000\">class = gt50K</text>\n</g>\n<!-- 98&#45;&gt;100 -->\n<g id=\"edge100\" class=\"edge\">\n<title>98&#45;&gt;100</title>\n<path fill=\"none\" stroke=\"#000000\" d=\"M6740.5768,-88.9777C6751.1324,-79.546 6762.5796,-69.3178 6773.0964,-59.9208\"/>\n<polygon fill=\"#000000\" stroke=\"#000000\" points=\"6775.439,-62.5213 6780.5639,-53.2485 6770.7749,-57.3015 6775.439,-62.5213\"/>\n</g>\n<!-- 102 -->\n<g id=\"node103\" class=\"node\">\n<title>102</title>\n<path fill=\"#a4d2f3\" stroke=\"#000000\" d=\"M7034.5,-53C7034.5,-53 6918.5,-53 6918.5,-53 6912.5,-53 6906.5,-47 6906.5,-41 6906.5,-41 6906.5,-12 6906.5,-12 6906.5,-6 6912.5,0 6918.5,0 6918.5,0 7034.5,0 7034.5,0 7040.5,0 7046.5,-6 7046.5,-12 7046.5,-12 7046.5,-41 7046.5,-41 7046.5,-47 7040.5,-53 7034.5,-53\"/>\n<text text-anchor=\"middle\" x=\"6976.5\" y=\"-37.8\" font-family=\"Helvetica,sans-Serif\" font-size=\"14.00\" fill=\"#000000\">samples = 0.2%</text>\n<text text-anchor=\"middle\" x=\"6976.5\" y=\"-22.8\" font-family=\"Helvetica,sans-Serif\" font-size=\"14.00\" fill=\"#000000\">value = [0.35, 0.65]</text>\n<text text-anchor=\"middle\" x=\"6976.5\" y=\"-7.8\" font-family=\"Helvetica,sans-Serif\" font-size=\"14.00\" fill=\"#000000\">class = gt50K</text>\n</g>\n<!-- 101&#45;&gt;102 -->\n<g id=\"edge102\" class=\"edge\">\n<title>101&#45;&gt;102</title>\n<path fill=\"none\" stroke=\"#000000\" d=\"M6976.5,-88.9777C6976.5,-80.7364 6976.5,-71.887 6976.5,-63.5153\"/>\n<polygon fill=\"#000000\" stroke=\"#000000\" points=\"6980.0001,-63.2484 6976.5,-53.2485 6973.0001,-63.2485 6980.0001,-63.2484\"/>\n</g>\n<!-- 103 -->\n<g id=\"node104\" class=\"node\">\n<title>103</title>\n<path fill=\"#4ca6e8\" stroke=\"#000000\" d=\"M7208.5,-53C7208.5,-53 7076.5,-53 7076.5,-53 7070.5,-53 7064.5,-47 7064.5,-41 7064.5,-41 7064.5,-12 7064.5,-12 7064.5,-6 7070.5,0 7076.5,0 7076.5,0 7208.5,0 7208.5,0 7214.5,0 7220.5,-6 7220.5,-12 7220.5,-12 7220.5,-41 7220.5,-41 7220.5,-47 7214.5,-53 7208.5,-53\"/>\n<text text-anchor=\"middle\" x=\"7142.5\" y=\"-37.8\" font-family=\"Helvetica,sans-Serif\" font-size=\"14.00\" fill=\"#000000\">samples = 0.1%</text>\n<text text-anchor=\"middle\" x=\"7142.5\" y=\"-22.8\" font-family=\"Helvetica,sans-Serif\" font-size=\"14.00\" fill=\"#000000\">value = [0.088, 0.912]</text>\n<text text-anchor=\"middle\" x=\"7142.5\" y=\"-7.8\" font-family=\"Helvetica,sans-Serif\" font-size=\"14.00\" fill=\"#000000\">class = gt50K</text>\n</g>\n<!-- 101&#45;&gt;103 -->\n<g id=\"edge103\" class=\"edge\">\n<title>101&#45;&gt;103</title>\n<path fill=\"none\" stroke=\"#000000\" d=\"M7035.0254,-88.9777C7052.2744,-78.9504 7071.0723,-68.0228 7088.054,-58.1508\"/>\n<polygon fill=\"#000000\" stroke=\"#000000\" points=\"7089.8647,-61.1467 7096.751,-53.095 7086.3467,-55.095 7089.8647,-61.1467\"/>\n</g>\n<!-- 105 -->\n<g id=\"node106\" class=\"node\">\n<title>105</title>\n<path fill=\"#f2be9a\" stroke=\"#000000\" d=\"M9482,-573C9482,-573 9349,-573 9349,-573 9343,-573 9337,-567 9337,-561 9337,-561 9337,-517 9337,-517 9337,-511 9343,-505 9349,-505 9349,-505 9482,-505 9482,-505 9488,-505 9494,-511 9494,-517 9494,-517 9494,-561 9494,-561 9494,-567 9488,-573 9482,-573\"/>\n<text text-anchor=\"middle\" x=\"9415.5\" y=\"-557.8\" font-family=\"Helvetica,sans-Serif\" font-size=\"14.00\" fill=\"#000000\">education.num &lt;= 8.5</text>\n<text text-anchor=\"middle\" x=\"9415.5\" y=\"-542.8\" font-family=\"Helvetica,sans-Serif\" font-size=\"14.00\" fill=\"#000000\">samples = 32.3%</text>\n<text text-anchor=\"middle\" x=\"9415.5\" y=\"-527.8\" font-family=\"Helvetica,sans-Serif\" font-size=\"14.00\" fill=\"#000000\">value = [0.672, 0.328]</text>\n<text text-anchor=\"middle\" x=\"9415.5\" y=\"-512.8\" font-family=\"Helvetica,sans-Serif\" font-size=\"14.00\" fill=\"#000000\">class = lt50K</text>\n</g>\n<!-- 104&#45;&gt;105 -->\n<g id=\"edge105\" class=\"edge\">\n<title>104&#45;&gt;105</title>\n<path fill=\"none\" stroke=\"#000000\" d=\"M9415.5,-608.9465C9415.5,-600.776 9415.5,-591.9318 9415.5,-583.3697\"/>\n<polygon fill=\"#000000\" stroke=\"#000000\" points=\"9419.0001,-583.13 9415.5,-573.13 9412.0001,-583.13 9419.0001,-583.13\"/>\n</g>\n<!-- 162 -->\n<g id=\"node163\" class=\"node\">\n<title>162</title>\n<path fill=\"#85c3ef\" stroke=\"#000000\" d=\"M12600.5,-573C12600.5,-573 12456.5,-573 12456.5,-573 12450.5,-573 12444.5,-567 12444.5,-561 12444.5,-561 12444.5,-517 12444.5,-517 12444.5,-511 12450.5,-505 12456.5,-505 12456.5,-505 12600.5,-505 12600.5,-505 12606.5,-505 12612.5,-511 12612.5,-517 12612.5,-517 12612.5,-561 12612.5,-561 12612.5,-567 12606.5,-573 12600.5,-573\"/>\n<text text-anchor=\"middle\" x=\"12528.5\" y=\"-557.8\" font-family=\"Helvetica,sans-Serif\" font-size=\"14.00\" fill=\"#000000\">hours.per.week &lt;= 31.0</text>\n<text text-anchor=\"middle\" x=\"12528.5\" y=\"-542.8\" font-family=\"Helvetica,sans-Serif\" font-size=\"14.00\" fill=\"#000000\">samples = 13.8%</text>\n<text text-anchor=\"middle\" x=\"12528.5\" y=\"-527.8\" font-family=\"Helvetica,sans-Serif\" font-size=\"14.00\" fill=\"#000000\">value = [0.277, 0.723]</text>\n<text text-anchor=\"middle\" x=\"12528.5\" y=\"-512.8\" font-family=\"Helvetica,sans-Serif\" font-size=\"14.00\" fill=\"#000000\">class = gt50K</text>\n</g>\n<!-- 104&#45;&gt;162 -->\n<g id=\"edge162\" class=\"edge\">\n<title>104&#45;&gt;162</title>\n<path fill=\"none\" stroke=\"#000000\" d=\"M9498.3638,-640.2317C9935.4242,-625.6302 11970.3107,-557.6481 12434.1954,-542.1506\"/>\n<polygon fill=\"#000000\" stroke=\"#000000\" points=\"12434.328,-545.6482 12444.2055,-541.8161 12434.0942,-538.6521 12434.328,-545.6482\"/>\n</g>\n<!-- 106 -->\n<g id=\"node107\" class=\"node\">\n<title>106</title>\n<path fill=\"#e99254\" stroke=\"#000000\" d=\"M9032.5,-469C9032.5,-469 8888.5,-469 8888.5,-469 8882.5,-469 8876.5,-463 8876.5,-457 8876.5,-457 8876.5,-413 8876.5,-413 8876.5,-407 8882.5,-401 8888.5,-401 8888.5,-401 9032.5,-401 9032.5,-401 9038.5,-401 9044.5,-407 9044.5,-413 9044.5,-413 9044.5,-457 9044.5,-457 9044.5,-463 9038.5,-469 9032.5,-469\"/>\n<text text-anchor=\"middle\" x=\"8960.5\" y=\"-453.8\" font-family=\"Helvetica,sans-Serif\" font-size=\"14.00\" fill=\"#000000\">hours.per.week &lt;= 49.5</text>\n<text text-anchor=\"middle\" x=\"8960.5\" y=\"-438.8\" font-family=\"Helvetica,sans-Serif\" font-size=\"14.00\" fill=\"#000000\">samples = 5.2%</text>\n<text text-anchor=\"middle\" x=\"8960.5\" y=\"-423.8\" font-family=\"Helvetica,sans-Serif\" font-size=\"14.00\" fill=\"#000000\">value = [0.878, 0.122]</text>\n<text text-anchor=\"middle\" x=\"8960.5\" y=\"-408.8\" font-family=\"Helvetica,sans-Serif\" font-size=\"14.00\" fill=\"#000000\">class = lt50K</text>\n</g>\n<!-- 105&#45;&gt;106 -->\n<g id=\"edge106\" class=\"edge\">\n<title>105&#45;&gt;106</title>\n<path fill=\"none\" stroke=\"#000000\" d=\"M9336.7645,-521.0033C9258.4298,-503.0982 9138.1912,-475.6151 9054.8051,-456.5555\"/>\n<polygon fill=\"#000000\" stroke=\"#000000\" points=\"9055.3525,-453.0904 9044.824,-454.2741 9053.7927,-459.9144 9055.3525,-453.0904\"/>\n</g>\n<!-- 131 -->\n<g id=\"node132\" class=\"node\">\n<title>131</title>\n<path fill=\"#f4caac\" stroke=\"#000000\" d=\"M9932.5,-469C9932.5,-469 9800.5,-469 9800.5,-469 9794.5,-469 9788.5,-463 9788.5,-457 9788.5,-457 9788.5,-413 9788.5,-413 9788.5,-407 9794.5,-401 9800.5,-401 9800.5,-401 9932.5,-401 9932.5,-401 9938.5,-401 9944.5,-407 9944.5,-413 9944.5,-413 9944.5,-457 9944.5,-457 9944.5,-463 9938.5,-469 9932.5,-469\"/>\n<text text-anchor=\"middle\" x=\"9866.5\" y=\"-453.8\" font-family=\"Helvetica,sans-Serif\" font-size=\"14.00\" fill=\"#000000\">age &lt;= 35.5</text>\n<text text-anchor=\"middle\" x=\"9866.5\" y=\"-438.8\" font-family=\"Helvetica,sans-Serif\" font-size=\"14.00\" fill=\"#000000\">samples = 27.1%</text>\n<text text-anchor=\"middle\" x=\"9866.5\" y=\"-423.8\" font-family=\"Helvetica,sans-Serif\" font-size=\"14.00\" fill=\"#000000\">value = [0.633, 0.367]</text>\n<text text-anchor=\"middle\" x=\"9866.5\" y=\"-408.8\" font-family=\"Helvetica,sans-Serif\" font-size=\"14.00\" fill=\"#000000\">class = lt50K</text>\n</g>\n<!-- 105&#45;&gt;131 -->\n<g id=\"edge131\" class=\"edge\">\n<title>105&#45;&gt;131</title>\n<path fill=\"none\" stroke=\"#000000\" d=\"M9494.0582,-520.8846C9573.4815,-502.5697 9695.9799,-474.3217 9778.5932,-455.2712\"/>\n<polygon fill=\"#000000\" stroke=\"#000000\" points=\"9779.5069,-458.6524 9788.4647,-452.9948 9777.9339,-451.8314 9779.5069,-458.6524\"/>\n</g>\n<!-- 107 -->\n<g id=\"node108\" class=\"node\">\n<title>107</title>\n<path fill=\"#e89050\" stroke=\"#000000\" d=\"M8307,-365C8307,-365 8174,-365 8174,-365 8168,-365 8162,-359 8162,-353 8162,-353 8162,-309 8162,-309 8162,-303 8168,-297 8174,-297 8174,-297 8307,-297 8307,-297 8313,-297 8319,-303 8319,-309 8319,-309 8319,-353 8319,-353 8319,-359 8313,-365 8307,-365\"/>\n<text text-anchor=\"middle\" x=\"8240.5\" y=\"-349.8\" font-family=\"Helvetica,sans-Serif\" font-size=\"14.00\" fill=\"#000000\">education.num &lt;= 5.5</text>\n<text text-anchor=\"middle\" x=\"8240.5\" y=\"-334.8\" font-family=\"Helvetica,sans-Serif\" font-size=\"14.00\" fill=\"#000000\">samples = 4.4%</text>\n<text text-anchor=\"middle\" x=\"8240.5\" y=\"-319.8\" font-family=\"Helvetica,sans-Serif\" font-size=\"14.00\" fill=\"#000000\">value = [0.897, 0.103]</text>\n<text text-anchor=\"middle\" x=\"8240.5\" y=\"-304.8\" font-family=\"Helvetica,sans-Serif\" font-size=\"14.00\" fill=\"#000000\">class = lt50K</text>\n</g>\n<!-- 106&#45;&gt;107 -->\n<g id=\"edge107\" class=\"edge\">\n<title>106&#45;&gt;107</title>\n<path fill=\"none\" stroke=\"#000000\" d=\"M8876.4977,-422.8663C8739.5198,-403.0806 8469.3116,-364.0506 8329.2951,-343.826\"/>\n<polygon fill=\"#000000\" stroke=\"#000000\" points=\"8329.4297,-340.3092 8319.0321,-342.3435 8328.429,-347.2373 8329.4297,-340.3092\"/>\n</g>\n<!-- 122 -->\n<g id=\"node123\" class=\"node\">\n<title>122</title>\n<path fill=\"#eda672\" stroke=\"#000000\" d=\"M9062,-365C9062,-365 8859,-365 8859,-365 8853,-365 8847,-359 8847,-353 8847,-353 8847,-309 8847,-309 8847,-303 8853,-297 8859,-297 8859,-297 9062,-297 9062,-297 9068,-297 9074,-303 9074,-309 9074,-309 9074,-353 9074,-353 9074,-359 9068,-365 9062,-365\"/>\n<text text-anchor=\"middle\" x=\"8960.5\" y=\"-349.8\" font-family=\"Helvetica,sans-Serif\" font-size=\"14.00\" fill=\"#000000\">occupation_Other&#45;service &lt;= 0.5</text>\n<text text-anchor=\"middle\" x=\"8960.5\" y=\"-334.8\" font-family=\"Helvetica,sans-Serif\" font-size=\"14.00\" fill=\"#000000\">samples = 0.8%</text>\n<text text-anchor=\"middle\" x=\"8960.5\" y=\"-319.8\" font-family=\"Helvetica,sans-Serif\" font-size=\"14.00\" fill=\"#000000\">value = [0.775, 0.225]</text>\n<text text-anchor=\"middle\" x=\"8960.5\" y=\"-304.8\" font-family=\"Helvetica,sans-Serif\" font-size=\"14.00\" fill=\"#000000\">class = lt50K</text>\n</g>\n<!-- 106&#45;&gt;122 -->\n<g id=\"edge122\" class=\"edge\">\n<title>106&#45;&gt;122</title>\n<path fill=\"none\" stroke=\"#000000\" d=\"M8960.5,-400.9465C8960.5,-392.776 8960.5,-383.9318 8960.5,-375.3697\"/>\n<polygon fill=\"#000000\" stroke=\"#000000\" points=\"8964.0001,-375.13 8960.5,-365.13 8957.0001,-375.13 8964.0001,-375.13\"/>\n</g>\n<!-- 108 -->\n<g id=\"node109\" class=\"node\">\n<title>108</title>\n<path fill=\"#e78a47\" stroke=\"#000000\" d=\"M7859.5,-261C7859.5,-261 7633.5,-261 7633.5,-261 7627.5,-261 7621.5,-255 7621.5,-249 7621.5,-249 7621.5,-205 7621.5,-205 7621.5,-199 7627.5,-193 7633.5,-193 7633.5,-193 7859.5,-193 7859.5,-193 7865.5,-193 7871.5,-199 7871.5,-205 7871.5,-205 7871.5,-249 7871.5,-249 7871.5,-255 7865.5,-261 7859.5,-261\"/>\n<text text-anchor=\"middle\" x=\"7746.5\" y=\"-245.8\" font-family=\"Helvetica,sans-Serif\" font-size=\"14.00\" fill=\"#000000\">occupation_Exec&#45;managerial &lt;= 0.5</text>\n<text text-anchor=\"middle\" x=\"7746.5\" y=\"-230.8\" font-family=\"Helvetica,sans-Serif\" font-size=\"14.00\" fill=\"#000000\">samples = 2.3%</text>\n<text text-anchor=\"middle\" x=\"7746.5\" y=\"-215.8\" font-family=\"Helvetica,sans-Serif\" font-size=\"14.00\" fill=\"#000000\">value = [0.934, 0.066]</text>\n<text text-anchor=\"middle\" x=\"7746.5\" y=\"-200.8\" font-family=\"Helvetica,sans-Serif\" font-size=\"14.00\" fill=\"#000000\">class = lt50K</text>\n</g>\n<!-- 107&#45;&gt;108 -->\n<g id=\"edge108\" class=\"edge\">\n<title>107&#45;&gt;108</title>\n<path fill=\"none\" stroke=\"#000000\" d=\"M8161.9513,-314.4634C8086.7752,-298.6369 7971.837,-274.4394 7881.8969,-255.5046\"/>\n<polygon fill=\"#000000\" stroke=\"#000000\" points=\"7882.3974,-252.0333 7871.8909,-253.3981 7880.9553,-258.8832 7882.3974,-252.0333\"/>\n</g>\n<!-- 115 -->\n<g id=\"node116\" class=\"node\">\n<title>115</title>\n<path fill=\"#e9965a\" stroke=\"#000000\" d=\"M8306.5,-261C8306.5,-261 8174.5,-261 8174.5,-261 8168.5,-261 8162.5,-255 8162.5,-249 8162.5,-249 8162.5,-205 8162.5,-205 8162.5,-199 8168.5,-193 8174.5,-193 8174.5,-193 8306.5,-193 8306.5,-193 8312.5,-193 8318.5,-199 8318.5,-205 8318.5,-205 8318.5,-249 8318.5,-249 8318.5,-255 8312.5,-261 8306.5,-261\"/>\n<text text-anchor=\"middle\" x=\"8240.5\" y=\"-245.8\" font-family=\"Helvetica,sans-Serif\" font-size=\"14.00\" fill=\"#000000\">age &lt;= 36.5</text>\n<text text-anchor=\"middle\" x=\"8240.5\" y=\"-230.8\" font-family=\"Helvetica,sans-Serif\" font-size=\"14.00\" fill=\"#000000\">samples = 2.2%</text>\n<text text-anchor=\"middle\" x=\"8240.5\" y=\"-215.8\" font-family=\"Helvetica,sans-Serif\" font-size=\"14.00\" fill=\"#000000\">value = [0.857, 0.143]</text>\n<text text-anchor=\"middle\" x=\"8240.5\" y=\"-200.8\" font-family=\"Helvetica,sans-Serif\" font-size=\"14.00\" fill=\"#000000\">class = lt50K</text>\n</g>\n<!-- 107&#45;&gt;115 -->\n<g id=\"edge115\" class=\"edge\">\n<title>107&#45;&gt;115</title>\n<path fill=\"none\" stroke=\"#000000\" d=\"M8240.5,-296.9465C8240.5,-288.776 8240.5,-279.9318 8240.5,-271.3697\"/>\n<polygon fill=\"#000000\" stroke=\"#000000\" points=\"8244.0001,-271.13 8240.5,-261.13 8237.0001,-271.13 8244.0001,-271.13\"/>\n</g>\n<!-- 109 -->\n<g id=\"node110\" class=\"node\">\n<title>109</title>\n<path fill=\"#e78946\" stroke=\"#000000\" d=\"M7568,-157C7568,-157 7413,-157 7413,-157 7407,-157 7401,-151 7401,-145 7401,-145 7401,-101 7401,-101 7401,-95 7407,-89 7413,-89 7413,-89 7568,-89 7568,-89 7574,-89 7580,-95 7580,-101 7580,-101 7580,-145 7580,-145 7580,-151 7574,-157 7568,-157\"/>\n<text text-anchor=\"middle\" x=\"7490.5\" y=\"-141.8\" font-family=\"Helvetica,sans-Serif\" font-size=\"14.00\" fill=\"#000000\">workclass_Private &lt;= 0.5</text>\n<text text-anchor=\"middle\" x=\"7490.5\" y=\"-126.8\" font-family=\"Helvetica,sans-Serif\" font-size=\"14.00\" fill=\"#000000\">samples = 2.2%</text>\n<text text-anchor=\"middle\" x=\"7490.5\" y=\"-111.8\" font-family=\"Helvetica,sans-Serif\" font-size=\"14.00\" fill=\"#000000\">value = [0.94, 0.06]</text>\n<text text-anchor=\"middle\" x=\"7490.5\" y=\"-96.8\" font-family=\"Helvetica,sans-Serif\" font-size=\"14.00\" fill=\"#000000\">class = lt50K</text>\n</g>\n<!-- 108&#45;&gt;109 -->\n<g id=\"edge109\" class=\"edge\">\n<title>108&#45;&gt;109</title>\n<path fill=\"none\" stroke=\"#000000\" d=\"M7662.676,-192.9465C7637.4809,-182.711 7609.6829,-171.4181 7583.9082,-160.9471\"/>\n<polygon fill=\"#000000\" stroke=\"#000000\" points=\"7585.0943,-157.6512 7574.5123,-157.13 7582.4596,-164.1365 7585.0943,-157.6512\"/>\n</g>\n<!-- 112 -->\n<g id=\"node113\" class=\"node\">\n<title>112</title>\n<path fill=\"#f2c09c\" stroke=\"#000000\" d=\"M7824,-157C7824,-157 7669,-157 7669,-157 7663,-157 7657,-151 7657,-145 7657,-145 7657,-101 7657,-101 7657,-95 7663,-89 7669,-89 7669,-89 7824,-89 7824,-89 7830,-89 7836,-95 7836,-101 7836,-101 7836,-145 7836,-145 7836,-151 7830,-157 7824,-157\"/>\n<text text-anchor=\"middle\" x=\"7746.5\" y=\"-141.8\" font-family=\"Helvetica,sans-Serif\" font-size=\"14.00\" fill=\"#000000\">workclass_Private &lt;= 0.5</text>\n<text text-anchor=\"middle\" x=\"7746.5\" y=\"-126.8\" font-family=\"Helvetica,sans-Serif\" font-size=\"14.00\" fill=\"#000000\">samples = 0.1%</text>\n<text text-anchor=\"middle\" x=\"7746.5\" y=\"-111.8\" font-family=\"Helvetica,sans-Serif\" font-size=\"14.00\" fill=\"#000000\">value = [0.667, 0.333]</text>\n<text text-anchor=\"middle\" x=\"7746.5\" y=\"-96.8\" font-family=\"Helvetica,sans-Serif\" font-size=\"14.00\" fill=\"#000000\">class = lt50K</text>\n</g>\n<!-- 108&#45;&gt;112 -->\n<g id=\"edge112\" class=\"edge\">\n<title>108&#45;&gt;112</title>\n<path fill=\"none\" stroke=\"#000000\" d=\"M7746.5,-192.9465C7746.5,-184.776 7746.5,-175.9318 7746.5,-167.3697\"/>\n<polygon fill=\"#000000\" stroke=\"#000000\" points=\"7750.0001,-167.13 7746.5,-157.13 7743.0001,-167.13 7750.0001,-167.13\"/>\n</g>\n<!-- 110 -->\n<g id=\"node111\" class=\"node\">\n<title>110</title>\n<path fill=\"#e99356\" stroke=\"#000000\" d=\"M7382.5,-53C7382.5,-53 7250.5,-53 7250.5,-53 7244.5,-53 7238.5,-47 7238.5,-41 7238.5,-41 7238.5,-12 7238.5,-12 7238.5,-6 7244.5,0 7250.5,0 7250.5,0 7382.5,0 7382.5,0 7388.5,0 7394.5,-6 7394.5,-12 7394.5,-12 7394.5,-41 7394.5,-41 7394.5,-47 7388.5,-53 7382.5,-53\"/>\n<text text-anchor=\"middle\" x=\"7316.5\" y=\"-37.8\" font-family=\"Helvetica,sans-Serif\" font-size=\"14.00\" fill=\"#000000\">samples = 0.4%</text>\n<text text-anchor=\"middle\" x=\"7316.5\" y=\"-22.8\" font-family=\"Helvetica,sans-Serif\" font-size=\"14.00\" fill=\"#000000\">value = [0.872, 0.128]</text>\n<text text-anchor=\"middle\" x=\"7316.5\" y=\"-7.8\" font-family=\"Helvetica,sans-Serif\" font-size=\"14.00\" fill=\"#000000\">class = lt50K</text>\n</g>\n<!-- 109&#45;&gt;110 -->\n<g id=\"edge110\" class=\"edge\">\n<title>109&#45;&gt;110</title>\n<path fill=\"none\" stroke=\"#000000\" d=\"M7429.1541,-88.9777C7411.0738,-78.9504 7391.37,-68.0228 7373.5699,-58.1508\"/>\n<polygon fill=\"#000000\" stroke=\"#000000\" points=\"7374.8964,-54.8843 7364.4537,-53.095 7371.5013,-61.0059 7374.8964,-54.8843\"/>\n</g>\n<!-- 111 -->\n<g id=\"node112\" class=\"node\">\n<title>111</title>\n<path fill=\"#e68742\" stroke=\"#000000\" d=\"M7556.5,-53C7556.5,-53 7424.5,-53 7424.5,-53 7418.5,-53 7412.5,-47 7412.5,-41 7412.5,-41 7412.5,-12 7412.5,-12 7412.5,-6 7418.5,0 7424.5,0 7424.5,0 7556.5,0 7556.5,0 7562.5,0 7568.5,-6 7568.5,-12 7568.5,-12 7568.5,-41 7568.5,-41 7568.5,-47 7562.5,-53 7556.5,-53\"/>\n<text text-anchor=\"middle\" x=\"7490.5\" y=\"-37.8\" font-family=\"Helvetica,sans-Serif\" font-size=\"14.00\" fill=\"#000000\">samples = 1.8%</text>\n<text text-anchor=\"middle\" x=\"7490.5\" y=\"-22.8\" font-family=\"Helvetica,sans-Serif\" font-size=\"14.00\" fill=\"#000000\">value = [0.956, 0.044]</text>\n<text text-anchor=\"middle\" x=\"7490.5\" y=\"-7.8\" font-family=\"Helvetica,sans-Serif\" font-size=\"14.00\" fill=\"#000000\">class = lt50K</text>\n</g>\n<!-- 109&#45;&gt;111 -->\n<g id=\"edge111\" class=\"edge\">\n<title>109&#45;&gt;111</title>\n<path fill=\"none\" stroke=\"#000000\" d=\"M7490.5,-88.9777C7490.5,-80.7364 7490.5,-71.887 7490.5,-63.5153\"/>\n<polygon fill=\"#000000\" stroke=\"#000000\" points=\"7494.0001,-63.2484 7490.5,-53.2485 7487.0001,-63.2485 7494.0001,-63.2484\"/>\n</g>\n<!-- 113 -->\n<g id=\"node114\" class=\"node\">\n<title>113</title>\n<path fill=\"#e58139\" stroke=\"#000000\" d=\"M7698,-53C7698,-53 7599,-53 7599,-53 7593,-53 7587,-47 7587,-41 7587,-41 7587,-12 7587,-12 7587,-6 7593,0 7599,0 7599,0 7698,0 7698,0 7704,0 7710,-6 7710,-12 7710,-12 7710,-41 7710,-41 7710,-47 7704,-53 7698,-53\"/>\n<text text-anchor=\"middle\" x=\"7648.5\" y=\"-37.8\" font-family=\"Helvetica,sans-Serif\" font-size=\"14.00\" fill=\"#000000\">samples = 0.0%</text>\n<text text-anchor=\"middle\" x=\"7648.5\" y=\"-22.8\" font-family=\"Helvetica,sans-Serif\" font-size=\"14.00\" fill=\"#000000\">value = [1.0, 0.0]</text>\n<text text-anchor=\"middle\" x=\"7648.5\" y=\"-7.8\" font-family=\"Helvetica,sans-Serif\" font-size=\"14.00\" fill=\"#000000\">class = lt50K</text>\n</g>\n<!-- 112&#45;&gt;113 -->\n<g id=\"edge113\" class=\"edge\">\n<title>112&#45;&gt;113</title>\n<path fill=\"none\" stroke=\"#000000\" d=\"M7711.9489,-88.9777C7702.5566,-79.7292 7692.3864,-69.7147 7682.9971,-60.4691\"/>\n<polygon fill=\"#000000\" stroke=\"#000000\" points=\"7685.2454,-57.7709 7675.6643,-53.2485 7680.3339,-62.7587 7685.2454,-57.7709\"/>\n</g>\n<!-- 114 -->\n<g id=\"node115\" class=\"node\">\n<title>114</title>\n<path fill=\"#cee6f8\" stroke=\"#000000\" d=\"M7872.5,-53C7872.5,-53 7740.5,-53 7740.5,-53 7734.5,-53 7728.5,-47 7728.5,-41 7728.5,-41 7728.5,-12 7728.5,-12 7728.5,-6 7734.5,0 7740.5,0 7740.5,0 7872.5,0 7872.5,0 7878.5,0 7884.5,-6 7884.5,-12 7884.5,-12 7884.5,-41 7884.5,-41 7884.5,-47 7878.5,-53 7872.5,-53\"/>\n<text text-anchor=\"middle\" x=\"7806.5\" y=\"-37.8\" font-family=\"Helvetica,sans-Serif\" font-size=\"14.00\" fill=\"#000000\">samples = 0.0%</text>\n<text text-anchor=\"middle\" x=\"7806.5\" y=\"-22.8\" font-family=\"Helvetica,sans-Serif\" font-size=\"14.00\" fill=\"#000000\">value = [0.429, 0.571]</text>\n<text text-anchor=\"middle\" x=\"7806.5\" y=\"-7.8\" font-family=\"Helvetica,sans-Serif\" font-size=\"14.00\" fill=\"#000000\">class = gt50K</text>\n</g>\n<!-- 112&#45;&gt;114 -->\n<g id=\"edge114\" class=\"edge\">\n<title>112&#45;&gt;114</title>\n<path fill=\"none\" stroke=\"#000000\" d=\"M7767.6538,-88.9777C7773.1195,-80.187 7779.0154,-70.7044 7784.5222,-61.8477\"/>\n<polygon fill=\"#000000\" stroke=\"#000000\" points=\"7787.5609,-63.5889 7789.8688,-53.2485 7781.6163,-59.8927 7787.5609,-63.5889\"/>\n</g>\n<!-- 116 -->\n<g id=\"node117\" class=\"node\">\n<title>116</title>\n<path fill=\"#e78a47\" stroke=\"#000000\" d=\"M8237,-157C8237,-157 8036,-157 8036,-157 8030,-157 8024,-151 8024,-145 8024,-145 8024,-101 8024,-101 8024,-95 8030,-89 8036,-89 8036,-89 8237,-89 8237,-89 8243,-89 8249,-95 8249,-101 8249,-101 8249,-145 8249,-145 8249,-151 8243,-157 8237,-157\"/>\n<text text-anchor=\"middle\" x=\"8136.5\" y=\"-141.8\" font-family=\"Helvetica,sans-Serif\" font-size=\"14.00\" fill=\"#000000\">occupation_Tech&#45;support &lt;= 0.5</text>\n<text text-anchor=\"middle\" x=\"8136.5\" y=\"-126.8\" font-family=\"Helvetica,sans-Serif\" font-size=\"14.00\" fill=\"#000000\">samples = 0.8%</text>\n<text text-anchor=\"middle\" x=\"8136.5\" y=\"-111.8\" font-family=\"Helvetica,sans-Serif\" font-size=\"14.00\" fill=\"#000000\">value = [0.932, 0.068]</text>\n<text text-anchor=\"middle\" x=\"8136.5\" y=\"-96.8\" font-family=\"Helvetica,sans-Serif\" font-size=\"14.00\" fill=\"#000000\">class = lt50K</text>\n</g>\n<!-- 115&#45;&gt;116 -->\n<g id=\"edge116\" class=\"edge\">\n<title>115&#45;&gt;116</title>\n<path fill=\"none\" stroke=\"#000000\" d=\"M8206.4465,-192.9465C8197.2884,-183.7884 8187.2838,-173.7838 8177.7788,-164.2788\"/>\n<polygon fill=\"#000000\" stroke=\"#000000\" points=\"8180.176,-161.7262 8170.63,-157.13 8175.2262,-166.676 8180.176,-161.7262\"/>\n</g>\n<!-- 119 -->\n<g id=\"node120\" class=\"node\">\n<title>119</title>\n<path fill=\"#eb9d66\" stroke=\"#000000\" d=\"M8411.5,-157C8411.5,-157 8279.5,-157 8279.5,-157 8273.5,-157 8267.5,-151 8267.5,-145 8267.5,-145 8267.5,-101 8267.5,-101 8267.5,-95 8273.5,-89 8279.5,-89 8279.5,-89 8411.5,-89 8411.5,-89 8417.5,-89 8423.5,-95 8423.5,-101 8423.5,-101 8423.5,-145 8423.5,-145 8423.5,-151 8417.5,-157 8411.5,-157\"/>\n<text text-anchor=\"middle\" x=\"8345.5\" y=\"-141.8\" font-family=\"Helvetica,sans-Serif\" font-size=\"14.00\" fill=\"#000000\">age &lt;= 65.5</text>\n<text text-anchor=\"middle\" x=\"8345.5\" y=\"-126.8\" font-family=\"Helvetica,sans-Serif\" font-size=\"14.00\" fill=\"#000000\">samples = 1.4%</text>\n<text text-anchor=\"middle\" x=\"8345.5\" y=\"-111.8\" font-family=\"Helvetica,sans-Serif\" font-size=\"14.00\" fill=\"#000000\">value = [0.816, 0.184]</text>\n<text text-anchor=\"middle\" x=\"8345.5\" y=\"-96.8\" font-family=\"Helvetica,sans-Serif\" font-size=\"14.00\" fill=\"#000000\">class = lt50K</text>\n</g>\n<!-- 115&#45;&gt;119 -->\n<g id=\"edge119\" class=\"edge\">\n<title>115&#45;&gt;119</title>\n<path fill=\"none\" stroke=\"#000000\" d=\"M8274.8809,-192.9465C8284.1271,-183.7884 8294.2279,-173.7838 8303.8243,-164.2788\"/>\n<polygon fill=\"#000000\" stroke=\"#000000\" points=\"8306.4,-166.6539 8311.0418,-157.13 8301.474,-161.6805 8306.4,-166.6539\"/>\n</g>\n<!-- 117 -->\n<g id=\"node118\" class=\"node\">\n<title>117</title>\n<path fill=\"#e78945\" stroke=\"#000000\" d=\"M8046.5,-53C8046.5,-53 7914.5,-53 7914.5,-53 7908.5,-53 7902.5,-47 7902.5,-41 7902.5,-41 7902.5,-12 7902.5,-12 7902.5,-6 7908.5,0 7914.5,0 7914.5,0 8046.5,0 8046.5,0 8052.5,0 8058.5,-6 8058.5,-12 8058.5,-12 8058.5,-41 8058.5,-41 8058.5,-47 8052.5,-53 8046.5,-53\"/>\n<text text-anchor=\"middle\" x=\"7980.5\" y=\"-37.8\" font-family=\"Helvetica,sans-Serif\" font-size=\"14.00\" fill=\"#000000\">samples = 0.8%</text>\n<text text-anchor=\"middle\" x=\"7980.5\" y=\"-22.8\" font-family=\"Helvetica,sans-Serif\" font-size=\"14.00\" fill=\"#000000\">value = [0.942, 0.058]</text>\n<text text-anchor=\"middle\" x=\"7980.5\" y=\"-7.8\" font-family=\"Helvetica,sans-Serif\" font-size=\"14.00\" fill=\"#000000\">class = lt50K</text>\n</g>\n<!-- 116&#45;&gt;117 -->\n<g id=\"edge117\" class=\"edge\">\n<title>116&#45;&gt;117</title>\n<path fill=\"none\" stroke=\"#000000\" d=\"M8081.5002,-88.9777C8065.513,-79.0882 8048.11,-68.3229 8032.3249,-58.5583\"/>\n<polygon fill=\"#000000\" stroke=\"#000000\" points=\"8034.0867,-55.5327 8023.7411,-53.2485 8030.4042,-61.4858 8034.0867,-55.5327\"/>\n</g>\n<!-- 118 -->\n<g id=\"node119\" class=\"node\">\n<title>118</title>\n<path fill=\"#9ccef2\" stroke=\"#000000\" d=\"M8220.5,-53C8220.5,-53 8088.5,-53 8088.5,-53 8082.5,-53 8076.5,-47 8076.5,-41 8076.5,-41 8076.5,-12 8076.5,-12 8076.5,-6 8082.5,0 8088.5,0 8088.5,0 8220.5,0 8220.5,0 8226.5,0 8232.5,-6 8232.5,-12 8232.5,-12 8232.5,-41 8232.5,-41 8232.5,-47 8226.5,-53 8220.5,-53\"/>\n<text text-anchor=\"middle\" x=\"8154.5\" y=\"-37.8\" font-family=\"Helvetica,sans-Serif\" font-size=\"14.00\" fill=\"#000000\">samples = 0.0%</text>\n<text text-anchor=\"middle\" x=\"8154.5\" y=\"-22.8\" font-family=\"Helvetica,sans-Serif\" font-size=\"14.00\" fill=\"#000000\">value = [0.333, 0.667]</text>\n<text text-anchor=\"middle\" x=\"8154.5\" y=\"-7.8\" font-family=\"Helvetica,sans-Serif\" font-size=\"14.00\" fill=\"#000000\">class = gt50K</text>\n</g>\n<!-- 116&#45;&gt;118 -->\n<g id=\"edge118\" class=\"edge\">\n<title>116&#45;&gt;118</title>\n<path fill=\"none\" stroke=\"#000000\" d=\"M8142.8461,-88.9777C8144.4004,-80.6449 8146.0707,-71.6903 8147.6476,-63.2364\"/>\n<polygon fill=\"#000000\" stroke=\"#000000\" points=\"8151.1176,-63.7207 8149.5106,-53.2485 8144.2363,-62.4371 8151.1176,-63.7207\"/>\n</g>\n<!-- 120 -->\n<g id=\"node121\" class=\"node\">\n<title>120</title>\n<path fill=\"#eca26c\" stroke=\"#000000\" d=\"M8394.5,-53C8394.5,-53 8262.5,-53 8262.5,-53 8256.5,-53 8250.5,-47 8250.5,-41 8250.5,-41 8250.5,-12 8250.5,-12 8250.5,-6 8256.5,0 8262.5,0 8262.5,0 8394.5,0 8394.5,0 8400.5,0 8406.5,-6 8406.5,-12 8406.5,-12 8406.5,-41 8406.5,-41 8406.5,-47 8400.5,-53 8394.5,-53\"/>\n<text text-anchor=\"middle\" x=\"8328.5\" y=\"-37.8\" font-family=\"Helvetica,sans-Serif\" font-size=\"14.00\" fill=\"#000000\">samples = 1.2%</text>\n<text text-anchor=\"middle\" x=\"8328.5\" y=\"-22.8\" font-family=\"Helvetica,sans-Serif\" font-size=\"14.00\" fill=\"#000000\">value = [0.794, 0.206]</text>\n<text text-anchor=\"middle\" x=\"8328.5\" y=\"-7.8\" font-family=\"Helvetica,sans-Serif\" font-size=\"14.00\" fill=\"#000000\">class = lt50K</text>\n</g>\n<!-- 119&#45;&gt;120 -->\n<g id=\"edge120\" class=\"edge\">\n<title>119&#45;&gt;120</title>\n<path fill=\"none\" stroke=\"#000000\" d=\"M8339.5064,-88.9777C8338.0385,-80.6449 8336.461,-71.6903 8334.9717,-63.2364\"/>\n<polygon fill=\"#000000\" stroke=\"#000000\" points=\"8338.3941,-62.4896 8333.2122,-53.2485 8331.5003,-63.7041 8338.3941,-62.4896\"/>\n</g>\n<!-- 121 -->\n<g id=\"node122\" class=\"node\">\n<title>121</title>\n<path fill=\"#e58139\" stroke=\"#000000\" d=\"M8536,-53C8536,-53 8437,-53 8437,-53 8431,-53 8425,-47 8425,-41 8425,-41 8425,-12 8425,-12 8425,-6 8431,0 8437,0 8437,0 8536,0 8536,0 8542,0 8548,-6 8548,-12 8548,-12 8548,-41 8548,-41 8548,-47 8542,-53 8536,-53\"/>\n<text text-anchor=\"middle\" x=\"8486.5\" y=\"-37.8\" font-family=\"Helvetica,sans-Serif\" font-size=\"14.00\" fill=\"#000000\">samples = 0.1%</text>\n<text text-anchor=\"middle\" x=\"8486.5\" y=\"-22.8\" font-family=\"Helvetica,sans-Serif\" font-size=\"14.00\" fill=\"#000000\">value = [1.0, 0.0]</text>\n<text text-anchor=\"middle\" x=\"8486.5\" y=\"-7.8\" font-family=\"Helvetica,sans-Serif\" font-size=\"14.00\" fill=\"#000000\">class = lt50K</text>\n</g>\n<!-- 119&#45;&gt;121 -->\n<g id=\"edge121\" class=\"edge\">\n<title>119&#45;&gt;121</title>\n<path fill=\"none\" stroke=\"#000000\" d=\"M8395.2113,-88.9777C8409.3937,-79.2713 8424.8088,-68.7213 8438.8642,-59.1018\"/>\n<polygon fill=\"#000000\" stroke=\"#000000\" points=\"8441.1411,-61.7847 8447.4167,-53.2485 8437.1876,-56.0081 8441.1411,-61.7847\"/>\n</g>\n<!-- 123 -->\n<g id=\"node124\" class=\"node\">\n<title>123</title>\n<path fill=\"#edaa79\" stroke=\"#000000\" d=\"M8947.5,-261C8947.5,-261 8815.5,-261 8815.5,-261 8809.5,-261 8803.5,-255 8803.5,-249 8803.5,-249 8803.5,-205 8803.5,-205 8803.5,-199 8809.5,-193 8815.5,-193 8815.5,-193 8947.5,-193 8947.5,-193 8953.5,-193 8959.5,-199 8959.5,-205 8959.5,-205 8959.5,-249 8959.5,-249 8959.5,-255 8953.5,-261 8947.5,-261\"/>\n<text text-anchor=\"middle\" x=\"8881.5\" y=\"-245.8\" font-family=\"Helvetica,sans-Serif\" font-size=\"14.00\" fill=\"#000000\">age &lt;= 49.5</text>\n<text text-anchor=\"middle\" x=\"8881.5\" y=\"-230.8\" font-family=\"Helvetica,sans-Serif\" font-size=\"14.00\" fill=\"#000000\">samples = 0.7%</text>\n<text text-anchor=\"middle\" x=\"8881.5\" y=\"-215.8\" font-family=\"Helvetica,sans-Serif\" font-size=\"14.00\" fill=\"#000000\">value = [0.756, 0.244]</text>\n<text text-anchor=\"middle\" x=\"8881.5\" y=\"-200.8\" font-family=\"Helvetica,sans-Serif\" font-size=\"14.00\" fill=\"#000000\">class = lt50K</text>\n</g>\n<!-- 122&#45;&gt;123 -->\n<g id=\"edge123\" class=\"edge\">\n<title>122&#45;&gt;123</title>\n<path fill=\"none\" stroke=\"#000000\" d=\"M8934.6324,-296.9465C8927.8804,-288.0578 8920.5226,-278.3716 8913.4941,-269.1188\"/>\n<polygon fill=\"#000000\" stroke=\"#000000\" points=\"8916.2617,-266.976 8907.4257,-261.13 8910.6875,-271.2102 8916.2617,-266.976\"/>\n</g>\n<!-- 130 -->\n<g id=\"node131\" class=\"node\">\n<title>130</title>\n<path fill=\"#e58139\" stroke=\"#000000\" d=\"M9089,-253.5C9089,-253.5 8990,-253.5 8990,-253.5 8984,-253.5 8978,-247.5 8978,-241.5 8978,-241.5 8978,-212.5 8978,-212.5 8978,-206.5 8984,-200.5 8990,-200.5 8990,-200.5 9089,-200.5 9089,-200.5 9095,-200.5 9101,-206.5 9101,-212.5 9101,-212.5 9101,-241.5 9101,-241.5 9101,-247.5 9095,-253.5 9089,-253.5\"/>\n<text text-anchor=\"middle\" x=\"9039.5\" y=\"-238.3\" font-family=\"Helvetica,sans-Serif\" font-size=\"14.00\" fill=\"#000000\">samples = 0.1%</text>\n<text text-anchor=\"middle\" x=\"9039.5\" y=\"-223.3\" font-family=\"Helvetica,sans-Serif\" font-size=\"14.00\" fill=\"#000000\">value = [1.0, 0.0]</text>\n<text text-anchor=\"middle\" x=\"9039.5\" y=\"-208.3\" font-family=\"Helvetica,sans-Serif\" font-size=\"14.00\" fill=\"#000000\">class = lt50K</text>\n</g>\n<!-- 122&#45;&gt;130 -->\n<g id=\"edge130\" class=\"edge\">\n<title>122&#45;&gt;130</title>\n<path fill=\"none\" stroke=\"#000000\" d=\"M8986.3676,-296.9465C8994.9857,-285.6012 9004.5906,-272.9567 9013.2383,-261.5724\"/>\n<polygon fill=\"#000000\" stroke=\"#000000\" points=\"9016.0763,-263.6224 9019.3382,-253.5422 9010.5021,-259.3882 9016.0763,-263.6224\"/>\n</g>\n<!-- 124 -->\n<g id=\"node125\" class=\"node\">\n<title>124</title>\n<path fill=\"#eb9d65\" stroke=\"#000000\" d=\"M8874.5,-157C8874.5,-157 8674.5,-157 8674.5,-157 8668.5,-157 8662.5,-151 8662.5,-145 8662.5,-145 8662.5,-101 8662.5,-101 8662.5,-95 8668.5,-89 8674.5,-89 8674.5,-89 8874.5,-89 8874.5,-89 8880.5,-89 8886.5,-95 8886.5,-101 8886.5,-101 8886.5,-145 8886.5,-145 8886.5,-151 8880.5,-157 8874.5,-157\"/>\n<text text-anchor=\"middle\" x=\"8774.5\" y=\"-141.8\" font-family=\"Helvetica,sans-Serif\" font-size=\"14.00\" fill=\"#000000\">relationship_Not&#45;in&#45;family &lt;= 0.5</text>\n<text text-anchor=\"middle\" x=\"8774.5\" y=\"-126.8\" font-family=\"Helvetica,sans-Serif\" font-size=\"14.00\" fill=\"#000000\">samples = 0.4%</text>\n<text text-anchor=\"middle\" x=\"8774.5\" y=\"-111.8\" font-family=\"Helvetica,sans-Serif\" font-size=\"14.00\" fill=\"#000000\">value = [0.818, 0.182]</text>\n<text text-anchor=\"middle\" x=\"8774.5\" y=\"-96.8\" font-family=\"Helvetica,sans-Serif\" font-size=\"14.00\" fill=\"#000000\">class = lt50K</text>\n</g>\n<!-- 123&#45;&gt;124 -->\n<g id=\"edge124\" class=\"edge\">\n<title>123&#45;&gt;124</title>\n<path fill=\"none\" stroke=\"#000000\" d=\"M8846.4642,-192.9465C8837.0419,-183.7884 8826.7487,-173.7838 8816.9696,-164.2788\"/>\n<polygon fill=\"#000000\" stroke=\"#000000\" points=\"8819.2249,-161.59 8809.6145,-157.13 8814.346,-166.6097 8819.2249,-161.59\"/>\n</g>\n<!-- 127 -->\n<g id=\"node128\" class=\"node\">\n<title>127</title>\n<path fill=\"#f2c19e\" stroke=\"#000000\" d=\"M9060.5,-157C9060.5,-157 8916.5,-157 8916.5,-157 8910.5,-157 8904.5,-151 8904.5,-145 8904.5,-145 8904.5,-101 8904.5,-101 8904.5,-95 8910.5,-89 8916.5,-89 8916.5,-89 9060.5,-89 9060.5,-89 9066.5,-89 9072.5,-95 9072.5,-101 9072.5,-101 9072.5,-145 9072.5,-145 9072.5,-151 9066.5,-157 9060.5,-157\"/>\n<text text-anchor=\"middle\" x=\"8988.5\" y=\"-141.8\" font-family=\"Helvetica,sans-Serif\" font-size=\"14.00\" fill=\"#000000\">hours.per.week &lt;= 55.5</text>\n<text text-anchor=\"middle\" x=\"8988.5\" y=\"-126.8\" font-family=\"Helvetica,sans-Serif\" font-size=\"14.00\" fill=\"#000000\">samples = 0.3%</text>\n<text text-anchor=\"middle\" x=\"8988.5\" y=\"-111.8\" font-family=\"Helvetica,sans-Serif\" font-size=\"14.00\" fill=\"#000000\">value = [0.662, 0.338]</text>\n<text text-anchor=\"middle\" x=\"8988.5\" y=\"-96.8\" font-family=\"Helvetica,sans-Serif\" font-size=\"14.00\" fill=\"#000000\">class = lt50K</text>\n</g>\n<!-- 123&#45;&gt;127 -->\n<g id=\"edge127\" class=\"edge\">\n<title>123&#45;&gt;127</title>\n<path fill=\"none\" stroke=\"#000000\" d=\"M8916.5358,-192.9465C8925.9581,-183.7884 8936.2513,-173.7838 8946.0304,-164.2788\"/>\n<polygon fill=\"#000000\" stroke=\"#000000\" points=\"8948.654,-166.6097 8953.3855,-157.13 8943.7751,-161.59 8948.654,-166.6097\"/>\n</g>\n<!-- 125 -->\n<g id=\"node126\" class=\"node\">\n<title>125</title>\n<path fill=\"#ea9b63\" stroke=\"#000000\" d=\"M8710.5,-53C8710.5,-53 8578.5,-53 8578.5,-53 8572.5,-53 8566.5,-47 8566.5,-41 8566.5,-41 8566.5,-12 8566.5,-12 8566.5,-6 8572.5,0 8578.5,0 8578.5,0 8710.5,0 8710.5,0 8716.5,0 8722.5,-6 8722.5,-12 8722.5,-12 8722.5,-41 8722.5,-41 8722.5,-47 8716.5,-53 8710.5,-53\"/>\n<text text-anchor=\"middle\" x=\"8644.5\" y=\"-37.8\" font-family=\"Helvetica,sans-Serif\" font-size=\"14.00\" fill=\"#000000\">samples = 0.4%</text>\n<text text-anchor=\"middle\" x=\"8644.5\" y=\"-22.8\" font-family=\"Helvetica,sans-Serif\" font-size=\"14.00\" fill=\"#000000\">value = [0.827, 0.173]</text>\n<text text-anchor=\"middle\" x=\"8644.5\" y=\"-7.8\" font-family=\"Helvetica,sans-Serif\" font-size=\"14.00\" fill=\"#000000\">class = lt50K</text>\n</g>\n<!-- 124&#45;&gt;125 -->\n<g id=\"edge125\" class=\"edge\">\n<title>124&#45;&gt;125</title>\n<path fill=\"none\" stroke=\"#000000\" d=\"M8728.6669,-88.9777C8715.7143,-79.3629 8701.6465,-68.9203 8688.7867,-59.3743\"/>\n<polygon fill=\"#000000\" stroke=\"#000000\" points=\"8690.6499,-56.3986 8680.5342,-53.2485 8686.4776,-62.0193 8690.6499,-56.3986\"/>\n</g>\n<!-- 126 -->\n<g id=\"node127\" class=\"node\">\n<title>126</title>\n<path fill=\"#399de5\" stroke=\"#000000\" d=\"M8852,-53C8852,-53 8753,-53 8753,-53 8747,-53 8741,-47 8741,-41 8741,-41 8741,-12 8741,-12 8741,-6 8747,0 8753,0 8753,0 8852,0 8852,0 8858,0 8864,-6 8864,-12 8864,-12 8864,-41 8864,-41 8864,-47 8858,-53 8852,-53\"/>\n<text text-anchor=\"middle\" x=\"8802.5\" y=\"-37.8\" font-family=\"Helvetica,sans-Serif\" font-size=\"14.00\" fill=\"#000000\">samples = 0.0%</text>\n<text text-anchor=\"middle\" x=\"8802.5\" y=\"-22.8\" font-family=\"Helvetica,sans-Serif\" font-size=\"14.00\" fill=\"#000000\">value = [0.0, 1.0]</text>\n<text text-anchor=\"middle\" x=\"8802.5\" y=\"-7.8\" font-family=\"Helvetica,sans-Serif\" font-size=\"14.00\" fill=\"#000000\">class = gt50K</text>\n</g>\n<!-- 124&#45;&gt;126 -->\n<g id=\"edge126\" class=\"edge\">\n<title>124&#45;&gt;126</title>\n<path fill=\"none\" stroke=\"#000000\" d=\"M8784.3718,-88.9777C8786.8161,-80.5533 8789.4449,-71.4934 8791.9215,-62.9579\"/>\n<polygon fill=\"#000000\" stroke=\"#000000\" points=\"8795.3135,-63.8277 8794.7388,-53.2485 8788.5907,-61.877 8795.3135,-63.8277\"/>\n</g>\n<!-- 128 -->\n<g id=\"node129\" class=\"node\">\n<title>128</title>\n<path fill=\"#eda674\" stroke=\"#000000\" d=\"M9026.5,-53C9026.5,-53 8894.5,-53 8894.5,-53 8888.5,-53 8882.5,-47 8882.5,-41 8882.5,-41 8882.5,-12 8882.5,-12 8882.5,-6 8888.5,0 8894.5,0 8894.5,0 9026.5,0 9026.5,0 9032.5,0 9038.5,-6 9038.5,-12 9038.5,-12 9038.5,-41 9038.5,-41 9038.5,-47 9032.5,-53 9026.5,-53\"/>\n<text text-anchor=\"middle\" x=\"8960.5\" y=\"-37.8\" font-family=\"Helvetica,sans-Serif\" font-size=\"14.00\" fill=\"#000000\">samples = 0.2%</text>\n<text text-anchor=\"middle\" x=\"8960.5\" y=\"-22.8\" font-family=\"Helvetica,sans-Serif\" font-size=\"14.00\" fill=\"#000000\">value = [0.771, 0.229]</text>\n<text text-anchor=\"middle\" x=\"8960.5\" y=\"-7.8\" font-family=\"Helvetica,sans-Serif\" font-size=\"14.00\" fill=\"#000000\">class = lt50K</text>\n</g>\n<!-- 127&#45;&gt;128 -->\n<g id=\"edge128\" class=\"edge\">\n<title>127&#45;&gt;128</title>\n<path fill=\"none\" stroke=\"#000000\" d=\"M8978.6282,-88.9777C8976.1839,-80.5533 8973.5551,-71.4934 8971.0785,-62.9579\"/>\n<polygon fill=\"#000000\" stroke=\"#000000\" points=\"8974.4093,-61.877 8968.2612,-53.2485 8967.6865,-63.8277 8974.4093,-61.877\"/>\n</g>\n<!-- 129 -->\n<g id=\"node130\" class=\"node\">\n<title>129</title>\n<path fill=\"#fcefe6\" stroke=\"#000000\" d=\"M9200.5,-53C9200.5,-53 9068.5,-53 9068.5,-53 9062.5,-53 9056.5,-47 9056.5,-41 9056.5,-41 9056.5,-12 9056.5,-12 9056.5,-6 9062.5,0 9068.5,0 9068.5,0 9200.5,0 9200.5,0 9206.5,0 9212.5,-6 9212.5,-12 9212.5,-12 9212.5,-41 9212.5,-41 9212.5,-47 9206.5,-53 9200.5,-53\"/>\n<text text-anchor=\"middle\" x=\"9134.5\" y=\"-37.8\" font-family=\"Helvetica,sans-Serif\" font-size=\"14.00\" fill=\"#000000\">samples = 0.1%</text>\n<text text-anchor=\"middle\" x=\"9134.5\" y=\"-22.8\" font-family=\"Helvetica,sans-Serif\" font-size=\"14.00\" fill=\"#000000\">value = [0.533, 0.467]</text>\n<text text-anchor=\"middle\" x=\"9134.5\" y=\"-7.8\" font-family=\"Helvetica,sans-Serif\" font-size=\"14.00\" fill=\"#000000\">class = lt50K</text>\n</g>\n<!-- 127&#45;&gt;129 -->\n<g id=\"edge129\" class=\"edge\">\n<title>127&#45;&gt;129</title>\n<path fill=\"none\" stroke=\"#000000\" d=\"M9039.9741,-88.9777C9054.798,-79.1798 9070.9224,-68.5222 9085.5865,-58.8298\"/>\n<polygon fill=\"#000000\" stroke=\"#000000\" points=\"9087.6183,-61.6824 9094.0308,-53.2485 9083.7585,-55.8427 9087.6183,-61.6824\"/>\n</g>\n<!-- 132 -->\n<g id=\"node133\" class=\"node\">\n<title>132</title>\n<path fill=\"#eda978\" stroke=\"#000000\" d=\"M9924.5,-365C9924.5,-365 9808.5,-365 9808.5,-365 9802.5,-365 9796.5,-359 9796.5,-353 9796.5,-353 9796.5,-309 9796.5,-309 9796.5,-303 9802.5,-297 9808.5,-297 9808.5,-297 9924.5,-297 9924.5,-297 9930.5,-297 9936.5,-303 9936.5,-309 9936.5,-309 9936.5,-353 9936.5,-353 9936.5,-359 9930.5,-365 9924.5,-365\"/>\n<text text-anchor=\"middle\" x=\"9866.5\" y=\"-349.8\" font-family=\"Helvetica,sans-Serif\" font-size=\"14.00\" fill=\"#000000\">age &lt;= 24.5</text>\n<text text-anchor=\"middle\" x=\"9866.5\" y=\"-334.8\" font-family=\"Helvetica,sans-Serif\" font-size=\"14.00\" fill=\"#000000\">samples = 8.8%</text>\n<text text-anchor=\"middle\" x=\"9866.5\" y=\"-319.8\" font-family=\"Helvetica,sans-Serif\" font-size=\"14.00\" fill=\"#000000\">value = [0.76, 0.24]</text>\n<text text-anchor=\"middle\" x=\"9866.5\" y=\"-304.8\" font-family=\"Helvetica,sans-Serif\" font-size=\"14.00\" fill=\"#000000\">class = lt50K</text>\n</g>\n<!-- 131&#45;&gt;132 -->\n<g id=\"edge132\" class=\"edge\">\n<title>131&#45;&gt;132</title>\n<path fill=\"none\" stroke=\"#000000\" d=\"M9866.5,-400.9465C9866.5,-392.776 9866.5,-383.9318 9866.5,-375.3697\"/>\n<polygon fill=\"#000000\" stroke=\"#000000\" points=\"9870.0001,-375.13 9866.5,-365.13 9863.0001,-375.13 9870.0001,-375.13\"/>\n</g>\n<!-- 147 -->\n<g id=\"node148\" class=\"node\">\n<title>147</title>\n<path fill=\"#f9e0ce\" stroke=\"#000000\" d=\"M10953.5,-365C10953.5,-365 10809.5,-365 10809.5,-365 10803.5,-365 10797.5,-359 10797.5,-353 10797.5,-353 10797.5,-309 10797.5,-309 10797.5,-303 10803.5,-297 10809.5,-297 10809.5,-297 10953.5,-297 10953.5,-297 10959.5,-297 10965.5,-303 10965.5,-309 10965.5,-309 10965.5,-353 10965.5,-353 10965.5,-359 10959.5,-365 10953.5,-365\"/>\n<text text-anchor=\"middle\" x=\"10881.5\" y=\"-349.8\" font-family=\"Helvetica,sans-Serif\" font-size=\"14.00\" fill=\"#000000\">hours.per.week &lt;= 32.5</text>\n<text text-anchor=\"middle\" x=\"10881.5\" y=\"-334.8\" font-family=\"Helvetica,sans-Serif\" font-size=\"14.00\" fill=\"#000000\">samples = 18.3%</text>\n<text text-anchor=\"middle\" x=\"10881.5\" y=\"-319.8\" font-family=\"Helvetica,sans-Serif\" font-size=\"14.00\" fill=\"#000000\">value = [0.571, 0.429]</text>\n<text text-anchor=\"middle\" x=\"10881.5\" y=\"-304.8\" font-family=\"Helvetica,sans-Serif\" font-size=\"14.00\" fill=\"#000000\">class = lt50K</text>\n</g>\n<!-- 131&#45;&gt;147 -->\n<g id=\"edge147\" class=\"edge\">\n<title>131&#45;&gt;147</title>\n<path fill=\"none\" stroke=\"#000000\" d=\"M9944.8799,-426.969C10128.9562,-408.1079 10588.3003,-361.0421 10787.2087,-340.6614\"/>\n<polygon fill=\"#000000\" stroke=\"#000000\" points=\"10787.7538,-344.1239 10797.345,-339.6228 10787.0403,-337.1604 10787.7538,-344.1239\"/>\n</g>\n<!-- 133 -->\n<g id=\"node134\" class=\"node\">\n<title>133</title>\n<path fill=\"#e68540\" stroke=\"#000000\" d=\"M9785.5,-261C9785.5,-261 9641.5,-261 9641.5,-261 9635.5,-261 9629.5,-255 9629.5,-249 9629.5,-249 9629.5,-205 9629.5,-205 9629.5,-199 9635.5,-193 9641.5,-193 9641.5,-193 9785.5,-193 9785.5,-193 9791.5,-193 9797.5,-199 9797.5,-205 9797.5,-205 9797.5,-249 9797.5,-249 9797.5,-255 9791.5,-261 9785.5,-261\"/>\n<text text-anchor=\"middle\" x=\"9713.5\" y=\"-245.8\" font-family=\"Helvetica,sans-Serif\" font-size=\"14.00\" fill=\"#000000\">hours.per.week &lt;= 45.5</text>\n<text text-anchor=\"middle\" x=\"9713.5\" y=\"-230.8\" font-family=\"Helvetica,sans-Serif\" font-size=\"14.00\" fill=\"#000000\">samples = 1.0%</text>\n<text text-anchor=\"middle\" x=\"9713.5\" y=\"-215.8\" font-family=\"Helvetica,sans-Serif\" font-size=\"14.00\" fill=\"#000000\">value = [0.966, 0.034]</text>\n<text text-anchor=\"middle\" x=\"9713.5\" y=\"-200.8\" font-family=\"Helvetica,sans-Serif\" font-size=\"14.00\" fill=\"#000000\">class = lt50K</text>\n</g>\n<!-- 132&#45;&gt;133 -->\n<g id=\"edge133\" class=\"edge\">\n<title>132&#45;&gt;133</title>\n<path fill=\"none\" stroke=\"#000000\" d=\"M9816.4021,-296.9465C9802.2687,-287.3395 9786.7648,-276.8009 9772.1767,-266.8848\"/>\n<polygon fill=\"#000000\" stroke=\"#000000\" points=\"9773.9483,-263.8571 9763.7105,-261.13 9770.0132,-269.6463 9773.9483,-263.8571\"/>\n</g>\n<!-- 140 -->\n<g id=\"node141\" class=\"node\">\n<title>140</title>\n<path fill=\"#efaf81\" stroke=\"#000000\" d=\"M10118,-261C10118,-261 9955,-261 9955,-261 9949,-261 9943,-255 9943,-249 9943,-249 9943,-205 9943,-205 9943,-199 9949,-193 9955,-193 9955,-193 10118,-193 10118,-193 10124,-193 10130,-199 10130,-205 10130,-205 10130,-249 10130,-249 10130,-255 10124,-261 10118,-261\"/>\n<text text-anchor=\"middle\" x=\"10036.5\" y=\"-245.8\" font-family=\"Helvetica,sans-Serif\" font-size=\"14.00\" fill=\"#000000\">education_HS&#45;grad &lt;= 0.5</text>\n<text text-anchor=\"middle\" x=\"10036.5\" y=\"-230.8\" font-family=\"Helvetica,sans-Serif\" font-size=\"14.00\" fill=\"#000000\">samples = 7.8%</text>\n<text text-anchor=\"middle\" x=\"10036.5\" y=\"-215.8\" font-family=\"Helvetica,sans-Serif\" font-size=\"14.00\" fill=\"#000000\">value = [0.732, 0.268]</text>\n<text text-anchor=\"middle\" x=\"10036.5\" y=\"-200.8\" font-family=\"Helvetica,sans-Serif\" font-size=\"14.00\" fill=\"#000000\">class = lt50K</text>\n</g>\n<!-- 132&#45;&gt;140 -->\n<g id=\"edge140\" class=\"edge\">\n<title>132&#45;&gt;140</title>\n<path fill=\"none\" stroke=\"#000000\" d=\"M9922.1644,-296.9465C9938.0149,-287.2497 9955.4168,-276.6039 9971.7579,-266.6069\"/>\n<polygon fill=\"#000000\" stroke=\"#000000\" points=\"9974.0067,-269.3342 9980.7106,-261.13 9970.3537,-263.363 9974.0067,-269.3342\"/>\n</g>\n<!-- 134 -->\n<g id=\"node135\" class=\"node\">\n<title>134</title>\n<path fill=\"#e5823a\" stroke=\"#000000\" d=\"M9548.5,-157C9548.5,-157 9352.5,-157 9352.5,-157 9346.5,-157 9340.5,-151 9340.5,-145 9340.5,-145 9340.5,-101 9340.5,-101 9340.5,-95 9346.5,-89 9352.5,-89 9352.5,-89 9548.5,-89 9548.5,-89 9554.5,-89 9560.5,-95 9560.5,-101 9560.5,-101 9560.5,-145 9560.5,-145 9560.5,-151 9554.5,-157 9548.5,-157\"/>\n<text text-anchor=\"middle\" x=\"9450.5\" y=\"-141.8\" font-family=\"Helvetica,sans-Serif\" font-size=\"14.00\" fill=\"#000000\">occupation_Adm&#45;clerical &lt;= 0.5</text>\n<text text-anchor=\"middle\" x=\"9450.5\" y=\"-126.8\" font-family=\"Helvetica,sans-Serif\" font-size=\"14.00\" fill=\"#000000\">samples = 0.9%</text>\n<text text-anchor=\"middle\" x=\"9450.5\" y=\"-111.8\" font-family=\"Helvetica,sans-Serif\" font-size=\"14.00\" fill=\"#000000\">value = [0.995, 0.005]</text>\n<text text-anchor=\"middle\" x=\"9450.5\" y=\"-96.8\" font-family=\"Helvetica,sans-Serif\" font-size=\"14.00\" fill=\"#000000\">class = lt50K</text>\n</g>\n<!-- 133&#45;&gt;134 -->\n<g id=\"edge134\" class=\"edge\">\n<title>133&#45;&gt;134</title>\n<path fill=\"none\" stroke=\"#000000\" d=\"M9629.1999,-193.6646C9602.723,-183.1947 9573.3026,-171.5607 9546.1015,-160.8044\"/>\n<polygon fill=\"#000000\" stroke=\"#000000\" points=\"9547.1676,-157.4623 9536.5812,-157.0397 9544.5934,-163.9718 9547.1676,-157.4623\"/>\n</g>\n<!-- 137 -->\n<g id=\"node138\" class=\"node\">\n<title>137</title>\n<path fill=\"#eb9c63\" stroke=\"#000000\" d=\"M9780,-157C9780,-157 9647,-157 9647,-157 9641,-157 9635,-151 9635,-145 9635,-145 9635,-101 9635,-101 9635,-95 9641,-89 9647,-89 9647,-89 9780,-89 9780,-89 9786,-89 9792,-95 9792,-101 9792,-101 9792,-145 9792,-145 9792,-151 9786,-157 9780,-157\"/>\n<text text-anchor=\"middle\" x=\"9713.5\" y=\"-141.8\" font-family=\"Helvetica,sans-Serif\" font-size=\"14.00\" fill=\"#000000\">education.num &lt;= 9.5</text>\n<text text-anchor=\"middle\" x=\"9713.5\" y=\"-126.8\" font-family=\"Helvetica,sans-Serif\" font-size=\"14.00\" fill=\"#000000\">samples = 0.2%</text>\n<text text-anchor=\"middle\" x=\"9713.5\" y=\"-111.8\" font-family=\"Helvetica,sans-Serif\" font-size=\"14.00\" fill=\"#000000\">value = [0.825, 0.175]</text>\n<text text-anchor=\"middle\" x=\"9713.5\" y=\"-96.8\" font-family=\"Helvetica,sans-Serif\" font-size=\"14.00\" fill=\"#000000\">class = lt50K</text>\n</g>\n<!-- 133&#45;&gt;137 -->\n<g id=\"edge137\" class=\"edge\">\n<title>133&#45;&gt;137</title>\n<path fill=\"none\" stroke=\"#000000\" d=\"M9713.5,-192.9465C9713.5,-184.776 9713.5,-175.9318 9713.5,-167.3697\"/>\n<polygon fill=\"#000000\" stroke=\"#000000\" points=\"9717.0001,-167.13 9713.5,-157.13 9710.0001,-167.13 9717.0001,-167.13\"/>\n</g>\n<!-- 135 -->\n<g id=\"node136\" class=\"node\">\n<title>135</title>\n<path fill=\"#e58139\" stroke=\"#000000\" d=\"M9342,-53C9342,-53 9243,-53 9243,-53 9237,-53 9231,-47 9231,-41 9231,-41 9231,-12 9231,-12 9231,-6 9237,0 9243,0 9243,0 9342,0 9342,0 9348,0 9354,-6 9354,-12 9354,-12 9354,-41 9354,-41 9354,-47 9348,-53 9342,-53\"/>\n<text text-anchor=\"middle\" x=\"9292.5\" y=\"-37.8\" font-family=\"Helvetica,sans-Serif\" font-size=\"14.00\" fill=\"#000000\">samples = 0.8%</text>\n<text text-anchor=\"middle\" x=\"9292.5\" y=\"-22.8\" font-family=\"Helvetica,sans-Serif\" font-size=\"14.00\" fill=\"#000000\">value = [1.0, 0.0]</text>\n<text text-anchor=\"middle\" x=\"9292.5\" y=\"-7.8\" font-family=\"Helvetica,sans-Serif\" font-size=\"14.00\" fill=\"#000000\">class = lt50K</text>\n</g>\n<!-- 134&#45;&gt;135 -->\n<g id=\"edge135\" class=\"edge\">\n<title>134&#45;&gt;135</title>\n<path fill=\"none\" stroke=\"#000000\" d=\"M9394.7951,-88.9777C9378.528,-79.0424 9360.8136,-68.2232 9344.7674,-58.4228\"/>\n<polygon fill=\"#000000\" stroke=\"#000000\" points=\"9346.4027,-55.3204 9336.0442,-53.095 9342.754,-61.2943 9346.4027,-55.3204\"/>\n</g>\n<!-- 136 -->\n<g id=\"node137\" class=\"node\">\n<title>136</title>\n<path fill=\"#e68642\" stroke=\"#000000\" d=\"M9516.5,-53C9516.5,-53 9384.5,-53 9384.5,-53 9378.5,-53 9372.5,-47 9372.5,-41 9372.5,-41 9372.5,-12 9372.5,-12 9372.5,-6 9378.5,0 9384.5,0 9384.5,0 9516.5,0 9516.5,0 9522.5,0 9528.5,-6 9528.5,-12 9528.5,-12 9528.5,-41 9528.5,-41 9528.5,-47 9522.5,-53 9516.5,-53\"/>\n<text text-anchor=\"middle\" x=\"9450.5\" y=\"-37.8\" font-family=\"Helvetica,sans-Serif\" font-size=\"14.00\" fill=\"#000000\">samples = 0.1%</text>\n<text text-anchor=\"middle\" x=\"9450.5\" y=\"-22.8\" font-family=\"Helvetica,sans-Serif\" font-size=\"14.00\" fill=\"#000000\">value = [0.958, 0.042]</text>\n<text text-anchor=\"middle\" x=\"9450.5\" y=\"-7.8\" font-family=\"Helvetica,sans-Serif\" font-size=\"14.00\" fill=\"#000000\">class = lt50K</text>\n</g>\n<!-- 134&#45;&gt;136 -->\n<g id=\"edge136\" class=\"edge\">\n<title>134&#45;&gt;136</title>\n<path fill=\"none\" stroke=\"#000000\" d=\"M9450.5,-88.9777C9450.5,-80.7364 9450.5,-71.887 9450.5,-63.5153\"/>\n<polygon fill=\"#000000\" stroke=\"#000000\" points=\"9454.0001,-63.2484 9450.5,-53.2485 9447.0001,-63.2485 9454.0001,-63.2484\"/>\n</g>\n<!-- 138 -->\n<g id=\"node139\" class=\"node\">\n<title>138</title>\n<path fill=\"#e68743\" stroke=\"#000000\" d=\"M9690.5,-53C9690.5,-53 9558.5,-53 9558.5,-53 9552.5,-53 9546.5,-47 9546.5,-41 9546.5,-41 9546.5,-12 9546.5,-12 9546.5,-6 9552.5,0 9558.5,0 9558.5,0 9690.5,0 9690.5,0 9696.5,0 9702.5,-6 9702.5,-12 9702.5,-12 9702.5,-41 9702.5,-41 9702.5,-47 9696.5,-53 9690.5,-53\"/>\n<text text-anchor=\"middle\" x=\"9624.5\" y=\"-37.8\" font-family=\"Helvetica,sans-Serif\" font-size=\"14.00\" fill=\"#000000\">samples = 0.1%</text>\n<text text-anchor=\"middle\" x=\"9624.5\" y=\"-22.8\" font-family=\"Helvetica,sans-Serif\" font-size=\"14.00\" fill=\"#000000\">value = [0.952, 0.048]</text>\n<text text-anchor=\"middle\" x=\"9624.5\" y=\"-7.8\" font-family=\"Helvetica,sans-Serif\" font-size=\"14.00\" fill=\"#000000\">class = lt50K</text>\n</g>\n<!-- 137&#45;&gt;138 -->\n<g id=\"edge138\" class=\"edge\">\n<title>137&#45;&gt;138</title>\n<path fill=\"none\" stroke=\"#000000\" d=\"M9682.1219,-88.9777C9673.6766,-79.8207 9664.5389,-69.9129 9656.0825,-60.744\"/>\n<polygon fill=\"#000000\" stroke=\"#000000\" points=\"9658.5221,-58.2266 9649.1696,-53.2485 9653.3764,-62.9723 9658.5221,-58.2266\"/>\n</g>\n<!-- 139 -->\n<g id=\"node140\" class=\"node\">\n<title>139</title>\n<path fill=\"#f1bb94\" stroke=\"#000000\" d=\"M9864.5,-53C9864.5,-53 9732.5,-53 9732.5,-53 9726.5,-53 9720.5,-47 9720.5,-41 9720.5,-41 9720.5,-12 9720.5,-12 9720.5,-6 9726.5,0 9732.5,0 9732.5,0 9864.5,0 9864.5,0 9870.5,0 9876.5,-6 9876.5,-12 9876.5,-12 9876.5,-41 9876.5,-41 9876.5,-47 9870.5,-53 9864.5,-53\"/>\n<text text-anchor=\"middle\" x=\"9798.5\" y=\"-37.8\" font-family=\"Helvetica,sans-Serif\" font-size=\"14.00\" fill=\"#000000\">samples = 0.1%</text>\n<text text-anchor=\"middle\" x=\"9798.5\" y=\"-22.8\" font-family=\"Helvetica,sans-Serif\" font-size=\"14.00\" fill=\"#000000\">value = [0.684, 0.316]</text>\n<text text-anchor=\"middle\" x=\"9798.5\" y=\"-7.8\" font-family=\"Helvetica,sans-Serif\" font-size=\"14.00\" fill=\"#000000\">class = lt50K</text>\n</g>\n<!-- 137&#45;&gt;139 -->\n<g id=\"edge139\" class=\"edge\">\n<title>137&#45;&gt;139</title>\n<path fill=\"none\" stroke=\"#000000\" d=\"M9743.4678,-88.9777C9751.4529,-79.9123 9760.0862,-70.111 9768.0944,-61.0192\"/>\n<polygon fill=\"#000000\" stroke=\"#000000\" points=\"9770.9558,-63.066 9774.9392,-53.2485 9765.7029,-58.4391 9770.9558,-63.066\"/>\n</g>\n<!-- 141 -->\n<g id=\"node142\" class=\"node\">\n<title>141</title>\n<path fill=\"#f2c29f\" stroke=\"#000000\" d=\"M10094.5,-157C10094.5,-157 9978.5,-157 9978.5,-157 9972.5,-157 9966.5,-151 9966.5,-145 9966.5,-145 9966.5,-101 9966.5,-101 9966.5,-95 9972.5,-89 9978.5,-89 9978.5,-89 10094.5,-89 10094.5,-89 10100.5,-89 10106.5,-95 10106.5,-101 10106.5,-101 10106.5,-145 10106.5,-145 10106.5,-151 10100.5,-157 10094.5,-157\"/>\n<text text-anchor=\"middle\" x=\"10036.5\" y=\"-141.8\" font-family=\"Helvetica,sans-Serif\" font-size=\"14.00\" fill=\"#000000\">age &lt;= 27.5</text>\n<text text-anchor=\"middle\" x=\"10036.5\" y=\"-126.8\" font-family=\"Helvetica,sans-Serif\" font-size=\"14.00\" fill=\"#000000\">samples = 3.6%</text>\n<text text-anchor=\"middle\" x=\"10036.5\" y=\"-111.8\" font-family=\"Helvetica,sans-Serif\" font-size=\"14.00\" fill=\"#000000\">value = [0.66, 0.34]</text>\n<text text-anchor=\"middle\" x=\"10036.5\" y=\"-96.8\" font-family=\"Helvetica,sans-Serif\" font-size=\"14.00\" fill=\"#000000\">class = lt50K</text>\n</g>\n<!-- 140&#45;&gt;141 -->\n<g id=\"edge141\" class=\"edge\">\n<title>140&#45;&gt;141</title>\n<path fill=\"none\" stroke=\"#000000\" d=\"M10036.5,-192.9465C10036.5,-184.776 10036.5,-175.9318 10036.5,-167.3697\"/>\n<polygon fill=\"#000000\" stroke=\"#000000\" points=\"10040.0001,-167.13 10036.5,-157.13 10033.0001,-167.13 10040.0001,-167.13\"/>\n</g>\n<!-- 144 -->\n<g id=\"node145\" class=\"node\">\n<title>144</title>\n<path fill=\"#eca26c\" stroke=\"#000000\" d=\"M10400,-157C10400,-157 10209,-157 10209,-157 10203,-157 10197,-151 10197,-145 10197,-145 10197,-101 10197,-101 10197,-95 10203,-89 10209,-89 10209,-89 10400,-89 10400,-89 10406,-89 10412,-95 10412,-101 10412,-101 10412,-145 10412,-145 10412,-151 10406,-157 10400,-157\"/>\n<text text-anchor=\"middle\" x=\"10304.5\" y=\"-141.8\" font-family=\"Helvetica,sans-Serif\" font-size=\"14.00\" fill=\"#000000\">workclass_Self&#45;emp&#45;inc &lt;= 0.5</text>\n<text text-anchor=\"middle\" x=\"10304.5\" y=\"-126.8\" font-family=\"Helvetica,sans-Serif\" font-size=\"14.00\" fill=\"#000000\">samples = 4.2%</text>\n<text text-anchor=\"middle\" x=\"10304.5\" y=\"-111.8\" font-family=\"Helvetica,sans-Serif\" font-size=\"14.00\" fill=\"#000000\">value = [0.795, 0.205]</text>\n<text text-anchor=\"middle\" x=\"10304.5\" y=\"-96.8\" font-family=\"Helvetica,sans-Serif\" font-size=\"14.00\" fill=\"#000000\">class = lt50K</text>\n</g>\n<!-- 140&#45;&gt;144 -->\n<g id=\"edge144\" class=\"edge\">\n<title>140&#45;&gt;144</title>\n<path fill=\"none\" stroke=\"#000000\" d=\"M10124.2532,-192.9465C10150.7451,-182.6661 10179.9857,-171.319 10207.0682,-160.8093\"/>\n<polygon fill=\"#000000\" stroke=\"#000000\" points=\"10208.4932,-164.0107 10216.5496,-157.13 10205.9607,-157.4849 10208.4932,-164.0107\"/>\n</g>\n<!-- 142 -->\n<g id=\"node143\" class=\"node\">\n<title>142</title>\n<path fill=\"#eda774\" stroke=\"#000000\" d=\"M10022.5,-53C10022.5,-53 9906.5,-53 9906.5,-53 9900.5,-53 9894.5,-47 9894.5,-41 9894.5,-41 9894.5,-12 9894.5,-12 9894.5,-6 9900.5,0 9906.5,0 9906.5,0 10022.5,0 10022.5,0 10028.5,0 10034.5,-6 10034.5,-12 10034.5,-12 10034.5,-41 10034.5,-41 10034.5,-47 10028.5,-53 10022.5,-53\"/>\n<text text-anchor=\"middle\" x=\"9964.5\" y=\"-37.8\" font-family=\"Helvetica,sans-Serif\" font-size=\"14.00\" fill=\"#000000\">samples = 0.7%</text>\n<text text-anchor=\"middle\" x=\"9964.5\" y=\"-22.8\" font-family=\"Helvetica,sans-Serif\" font-size=\"14.00\" fill=\"#000000\">value = [0.77, 0.23]</text>\n<text text-anchor=\"middle\" x=\"9964.5\" y=\"-7.8\" font-family=\"Helvetica,sans-Serif\" font-size=\"14.00\" fill=\"#000000\">class = lt50K</text>\n</g>\n<!-- 141&#45;&gt;142 -->\n<g id=\"edge142\" class=\"edge\">\n<title>141&#45;&gt;142</title>\n<path fill=\"none\" stroke=\"#000000\" d=\"M10011.1155,-88.9777C10004.42,-80.0039 9997.1865,-70.3089 9990.461,-61.295\"/>\n<polygon fill=\"#000000\" stroke=\"#000000\" points=\"9993.2427,-59.1704 9984.4574,-53.2485 9987.6323,-63.3565 9993.2427,-59.1704\"/>\n</g>\n<!-- 143 -->\n<g id=\"node144\" class=\"node\">\n<title>143</title>\n<path fill=\"#f4caac\" stroke=\"#000000\" d=\"M10196.5,-53C10196.5,-53 10064.5,-53 10064.5,-53 10058.5,-53 10052.5,-47 10052.5,-41 10052.5,-41 10052.5,-12 10052.5,-12 10052.5,-6 10058.5,0 10064.5,0 10064.5,0 10196.5,0 10196.5,0 10202.5,0 10208.5,-6 10208.5,-12 10208.5,-12 10208.5,-41 10208.5,-41 10208.5,-47 10202.5,-53 10196.5,-53\"/>\n<text text-anchor=\"middle\" x=\"10130.5\" y=\"-37.8\" font-family=\"Helvetica,sans-Serif\" font-size=\"14.00\" fill=\"#000000\">samples = 2.9%</text>\n<text text-anchor=\"middle\" x=\"10130.5\" y=\"-22.8\" font-family=\"Helvetica,sans-Serif\" font-size=\"14.00\" fill=\"#000000\">value = [0.633, 0.367]</text>\n<text text-anchor=\"middle\" x=\"10130.5\" y=\"-7.8\" font-family=\"Helvetica,sans-Serif\" font-size=\"14.00\" fill=\"#000000\">class = lt50K</text>\n</g>\n<!-- 141&#45;&gt;143 -->\n<g id=\"edge143\" class=\"edge\">\n<title>141&#45;&gt;143</title>\n<path fill=\"none\" stroke=\"#000000\" d=\"M10069.6409,-88.9777C10078.6498,-79.7292 10088.4048,-69.7147 10097.4109,-60.4691\"/>\n<polygon fill=\"#000000\" stroke=\"#000000\" points=\"10099.9739,-62.8539 10104.4445,-53.2485 10094.9596,-57.9696 10099.9739,-62.8539\"/>\n</g>\n<!-- 145 -->\n<g id=\"node146\" class=\"node\">\n<title>145</title>\n<path fill=\"#eba069\" stroke=\"#000000\" d=\"M10370.5,-53C10370.5,-53 10238.5,-53 10238.5,-53 10232.5,-53 10226.5,-47 10226.5,-41 10226.5,-41 10226.5,-12 10226.5,-12 10226.5,-6 10232.5,0 10238.5,0 10238.5,0 10370.5,0 10370.5,0 10376.5,0 10382.5,-6 10382.5,-12 10382.5,-12 10382.5,-41 10382.5,-41 10382.5,-47 10376.5,-53 10370.5,-53\"/>\n<text text-anchor=\"middle\" x=\"10304.5\" y=\"-37.8\" font-family=\"Helvetica,sans-Serif\" font-size=\"14.00\" fill=\"#000000\">samples = 4.0%</text>\n<text text-anchor=\"middle\" x=\"10304.5\" y=\"-22.8\" font-family=\"Helvetica,sans-Serif\" font-size=\"14.00\" fill=\"#000000\">value = [0.804, 0.196]</text>\n<text text-anchor=\"middle\" x=\"10304.5\" y=\"-7.8\" font-family=\"Helvetica,sans-Serif\" font-size=\"14.00\" fill=\"#000000\">class = lt50K</text>\n</g>\n<!-- 144&#45;&gt;145 -->\n<g id=\"edge145\" class=\"edge\">\n<title>144&#45;&gt;145</title>\n<path fill=\"none\" stroke=\"#000000\" d=\"M10304.5,-88.9777C10304.5,-80.7364 10304.5,-71.887 10304.5,-63.5153\"/>\n<polygon fill=\"#000000\" stroke=\"#000000\" points=\"10308.0001,-63.2484 10304.5,-53.2485 10301.0001,-63.2485 10308.0001,-63.2484\"/>\n</g>\n<!-- 146 -->\n<g id=\"node147\" class=\"node\">\n<title>146</title>\n<path fill=\"#ffffff\" stroke=\"#000000\" d=\"M10512,-53C10512,-53 10413,-53 10413,-53 10407,-53 10401,-47 10401,-41 10401,-41 10401,-12 10401,-12 10401,-6 10407,0 10413,0 10413,0 10512,0 10512,0 10518,0 10524,-6 10524,-12 10524,-12 10524,-41 10524,-41 10524,-47 10518,-53 10512,-53\"/>\n<text text-anchor=\"middle\" x=\"10462.5\" y=\"-37.8\" font-family=\"Helvetica,sans-Serif\" font-size=\"14.00\" fill=\"#000000\">samples = 0.1%</text>\n<text text-anchor=\"middle\" x=\"10462.5\" y=\"-22.8\" font-family=\"Helvetica,sans-Serif\" font-size=\"14.00\" fill=\"#000000\">value = [0.5, 0.5]</text>\n<text text-anchor=\"middle\" x=\"10462.5\" y=\"-7.8\" font-family=\"Helvetica,sans-Serif\" font-size=\"14.00\" fill=\"#000000\">class = lt50K</text>\n</g>\n<!-- 144&#45;&gt;146 -->\n<g id=\"edge146\" class=\"edge\">\n<title>144&#45;&gt;146</title>\n<path fill=\"none\" stroke=\"#000000\" d=\"M10360.2049,-88.9777C10376.472,-79.0424 10394.1864,-68.2232 10410.2326,-58.4228\"/>\n<polygon fill=\"#000000\" stroke=\"#000000\" points=\"10412.246,-61.2943 10418.9558,-53.095 10408.5973,-55.3204 10412.246,-61.2943\"/>\n</g>\n<!-- 148 -->\n<g id=\"node149\" class=\"node\">\n<title>148</title>\n<path fill=\"#eca16c\" stroke=\"#000000\" d=\"M10955.5,-261C10955.5,-261 10807.5,-261 10807.5,-261 10801.5,-261 10795.5,-255 10795.5,-249 10795.5,-249 10795.5,-205 10795.5,-205 10795.5,-199 10801.5,-193 10807.5,-193 10807.5,-193 10955.5,-193 10955.5,-193 10961.5,-193 10967.5,-199 10967.5,-205 10967.5,-205 10967.5,-249 10967.5,-249 10967.5,-255 10961.5,-261 10955.5,-261\"/>\n<text text-anchor=\"middle\" x=\"10881.5\" y=\"-245.8\" font-family=\"Helvetica,sans-Serif\" font-size=\"14.00\" fill=\"#000000\">relationship_Wife &lt;= 0.5</text>\n<text text-anchor=\"middle\" x=\"10881.5\" y=\"-230.8\" font-family=\"Helvetica,sans-Serif\" font-size=\"14.00\" fill=\"#000000\">samples = 1.9%</text>\n<text text-anchor=\"middle\" x=\"10881.5\" y=\"-215.8\" font-family=\"Helvetica,sans-Serif\" font-size=\"14.00\" fill=\"#000000\">value = [0.796, 0.204]</text>\n<text text-anchor=\"middle\" x=\"10881.5\" y=\"-200.8\" font-family=\"Helvetica,sans-Serif\" font-size=\"14.00\" fill=\"#000000\">class = lt50K</text>\n</g>\n<!-- 147&#45;&gt;148 -->\n<g id=\"edge148\" class=\"edge\">\n<title>147&#45;&gt;148</title>\n<path fill=\"none\" stroke=\"#000000\" d=\"M10881.5,-296.9465C10881.5,-288.776 10881.5,-279.9318 10881.5,-271.3697\"/>\n<polygon fill=\"#000000\" stroke=\"#000000\" points=\"10885.0001,-271.13 10881.5,-261.13 10878.0001,-271.13 10885.0001,-271.13\"/>\n</g>\n<!-- 155 -->\n<g id=\"node156\" class=\"node\">\n<title>155</title>\n<path fill=\"#fbeade\" stroke=\"#000000\" d=\"M11410,-261C11410,-261 11277,-261 11277,-261 11271,-261 11265,-255 11265,-249 11265,-249 11265,-205 11265,-205 11265,-199 11271,-193 11277,-193 11277,-193 11410,-193 11410,-193 11416,-193 11422,-199 11422,-205 11422,-205 11422,-249 11422,-249 11422,-255 11416,-261 11410,-261\"/>\n<text text-anchor=\"middle\" x=\"11343.5\" y=\"-245.8\" font-family=\"Helvetica,sans-Serif\" font-size=\"14.00\" fill=\"#000000\">education.num &lt;= 9.5</text>\n<text text-anchor=\"middle\" x=\"11343.5\" y=\"-230.8\" font-family=\"Helvetica,sans-Serif\" font-size=\"14.00\" fill=\"#000000\">samples = 16.4%</text>\n<text text-anchor=\"middle\" x=\"11343.5\" y=\"-215.8\" font-family=\"Helvetica,sans-Serif\" font-size=\"14.00\" fill=\"#000000\">value = [0.545, 0.455]</text>\n<text text-anchor=\"middle\" x=\"11343.5\" y=\"-200.8\" font-family=\"Helvetica,sans-Serif\" font-size=\"14.00\" fill=\"#000000\">class = lt50K</text>\n</g>\n<!-- 147&#45;&gt;155 -->\n<g id=\"edge155\" class=\"edge\">\n<title>147&#45;&gt;155</title>\n<path fill=\"none\" stroke=\"#000000\" d=\"M10965.7007,-312.0457C11047.6085,-293.6076 11171.5613,-265.7048 11254.9265,-246.9386\"/>\n<polygon fill=\"#000000\" stroke=\"#000000\" points=\"11255.8991,-250.3074 11264.8863,-244.6966 11254.3617,-243.4782 11255.8991,-250.3074\"/>\n</g>\n<!-- 149 -->\n<g id=\"node150\" class=\"node\">\n<title>149</title>\n<path fill=\"#e99559\" stroke=\"#000000\" d=\"M10837,-157C10837,-157 10704,-157 10704,-157 10698,-157 10692,-151 10692,-145 10692,-145 10692,-101 10692,-101 10692,-95 10698,-89 10704,-89 10704,-89 10837,-89 10837,-89 10843,-89 10849,-95 10849,-101 10849,-101 10849,-145 10849,-145 10849,-151 10843,-157 10837,-157\"/>\n<text text-anchor=\"middle\" x=\"10770.5\" y=\"-141.8\" font-family=\"Helvetica,sans-Serif\" font-size=\"14.00\" fill=\"#000000\">education.num &lt;= 9.5</text>\n<text text-anchor=\"middle\" x=\"10770.5\" y=\"-126.8\" font-family=\"Helvetica,sans-Serif\" font-size=\"14.00\" fill=\"#000000\">samples = 1.4%</text>\n<text text-anchor=\"middle\" x=\"10770.5\" y=\"-111.8\" font-family=\"Helvetica,sans-Serif\" font-size=\"14.00\" fill=\"#000000\">value = [0.862, 0.138]</text>\n<text text-anchor=\"middle\" x=\"10770.5\" y=\"-96.8\" font-family=\"Helvetica,sans-Serif\" font-size=\"14.00\" fill=\"#000000\">class = lt50K</text>\n</g>\n<!-- 148&#45;&gt;149 -->\n<g id=\"edge149\" class=\"edge\">\n<title>148&#45;&gt;149</title>\n<path fill=\"none\" stroke=\"#000000\" d=\"M10845.1544,-192.9465C10835.2841,-183.6986 10824.4925,-173.5876 10814.259,-163.9994\"/>\n<polygon fill=\"#000000\" stroke=\"#000000\" points=\"10816.6177,-161.4131 10806.9272,-157.13 10811.8316,-166.5214 10816.6177,-161.4131\"/>\n</g>\n<!-- 152 -->\n<g id=\"node153\" class=\"node\">\n<title>152</title>\n<path fill=\"#f5d0b5\" stroke=\"#000000\" d=\"M11105.5,-157C11105.5,-157 10879.5,-157 10879.5,-157 10873.5,-157 10867.5,-151 10867.5,-145 10867.5,-145 10867.5,-101 10867.5,-101 10867.5,-95 10873.5,-89 10879.5,-89 10879.5,-89 11105.5,-89 11105.5,-89 11111.5,-89 11117.5,-95 11117.5,-101 11117.5,-101 11117.5,-145 11117.5,-145 11117.5,-151 11111.5,-157 11105.5,-157\"/>\n<text text-anchor=\"middle\" x=\"10992.5\" y=\"-141.8\" font-family=\"Helvetica,sans-Serif\" font-size=\"14.00\" fill=\"#000000\">occupation_Exec&#45;managerial &lt;= 0.5</text>\n<text text-anchor=\"middle\" x=\"10992.5\" y=\"-126.8\" font-family=\"Helvetica,sans-Serif\" font-size=\"14.00\" fill=\"#000000\">samples = 0.5%</text>\n<text text-anchor=\"middle\" x=\"10992.5\" y=\"-111.8\" font-family=\"Helvetica,sans-Serif\" font-size=\"14.00\" fill=\"#000000\">value = [0.615, 0.385]</text>\n<text text-anchor=\"middle\" x=\"10992.5\" y=\"-96.8\" font-family=\"Helvetica,sans-Serif\" font-size=\"14.00\" fill=\"#000000\">class = lt50K</text>\n</g>\n<!-- 148&#45;&gt;152 -->\n<g id=\"edge152\" class=\"edge\">\n<title>148&#45;&gt;152</title>\n<path fill=\"none\" stroke=\"#000000\" d=\"M10917.8456,-192.9465C10927.7159,-183.6986 10938.5075,-173.5876 10948.741,-163.9994\"/>\n<polygon fill=\"#000000\" stroke=\"#000000\" points=\"10951.1684,-166.5214 10956.0728,-157.13 10946.3823,-161.4131 10951.1684,-166.5214\"/>\n</g>\n<!-- 150 -->\n<g id=\"node151\" class=\"node\">\n<title>150</title>\n<path fill=\"#e78d4c\" stroke=\"#000000\" d=\"M10686.5,-53C10686.5,-53 10554.5,-53 10554.5,-53 10548.5,-53 10542.5,-47 10542.5,-41 10542.5,-41 10542.5,-12 10542.5,-12 10542.5,-6 10548.5,0 10554.5,0 10554.5,0 10686.5,0 10686.5,0 10692.5,0 10698.5,-6 10698.5,-12 10698.5,-12 10698.5,-41 10698.5,-41 10698.5,-47 10692.5,-53 10686.5,-53\"/>\n<text text-anchor=\"middle\" x=\"10620.5\" y=\"-37.8\" font-family=\"Helvetica,sans-Serif\" font-size=\"14.00\" fill=\"#000000\">samples = 0.9%</text>\n<text text-anchor=\"middle\" x=\"10620.5\" y=\"-22.8\" font-family=\"Helvetica,sans-Serif\" font-size=\"14.00\" fill=\"#000000\">value = [0.912, 0.088]</text>\n<text text-anchor=\"middle\" x=\"10620.5\" y=\"-7.8\" font-family=\"Helvetica,sans-Serif\" font-size=\"14.00\" fill=\"#000000\">class = lt50K</text>\n</g>\n<!-- 149&#45;&gt;150 -->\n<g id=\"edge150\" class=\"edge\">\n<title>149&#45;&gt;150</title>\n<path fill=\"none\" stroke=\"#000000\" d=\"M10717.6156,-88.9777C10702.3856,-79.1798 10685.8194,-68.5222 10670.7536,-58.8298\"/>\n<polygon fill=\"#000000\" stroke=\"#000000\" points=\"10672.3816,-55.7154 10662.0779,-53.2485 10668.5943,-61.6024 10672.3816,-55.7154\"/>\n</g>\n<!-- 151 -->\n<g id=\"node152\" class=\"node\">\n<title>151</title>\n<path fill=\"#eca470\" stroke=\"#000000\" d=\"M10860.5,-53C10860.5,-53 10728.5,-53 10728.5,-53 10722.5,-53 10716.5,-47 10716.5,-41 10716.5,-41 10716.5,-12 10716.5,-12 10716.5,-6 10722.5,0 10728.5,0 10728.5,0 10860.5,0 10860.5,0 10866.5,0 10872.5,-6 10872.5,-12 10872.5,-12 10872.5,-41 10872.5,-41 10872.5,-47 10866.5,-53 10860.5,-53\"/>\n<text text-anchor=\"middle\" x=\"10794.5\" y=\"-37.8\" font-family=\"Helvetica,sans-Serif\" font-size=\"14.00\" fill=\"#000000\">samples = 0.5%</text>\n<text text-anchor=\"middle\" x=\"10794.5\" y=\"-22.8\" font-family=\"Helvetica,sans-Serif\" font-size=\"14.00\" fill=\"#000000\">value = [0.784, 0.216]</text>\n<text text-anchor=\"middle\" x=\"10794.5\" y=\"-7.8\" font-family=\"Helvetica,sans-Serif\" font-size=\"14.00\" fill=\"#000000\">class = lt50K</text>\n</g>\n<!-- 149&#45;&gt;151 -->\n<g id=\"edge151\" class=\"edge\">\n<title>149&#45;&gt;151</title>\n<path fill=\"none\" stroke=\"#000000\" d=\"M10778.9615,-88.9777C10781.0567,-80.5533 10783.3099,-71.4934 10785.4327,-62.9579\"/>\n<polygon fill=\"#000000\" stroke=\"#000000\" points=\"10788.8305,-63.7976 10787.8475,-53.2485 10782.0374,-62.1081 10788.8305,-63.7976\"/>\n</g>\n<!-- 153 -->\n<g id=\"node154\" class=\"node\">\n<title>153</title>\n<path fill=\"#f3c3a0\" stroke=\"#000000\" d=\"M11034.5,-53C11034.5,-53 10902.5,-53 10902.5,-53 10896.5,-53 10890.5,-47 10890.5,-41 10890.5,-41 10890.5,-12 10890.5,-12 10890.5,-6 10896.5,0 10902.5,0 10902.5,0 11034.5,0 11034.5,0 11040.5,0 11046.5,-6 11046.5,-12 11046.5,-12 11046.5,-41 11046.5,-41 11046.5,-47 11040.5,-53 11034.5,-53\"/>\n<text text-anchor=\"middle\" x=\"10968.5\" y=\"-37.8\" font-family=\"Helvetica,sans-Serif\" font-size=\"14.00\" fill=\"#000000\">samples = 0.5%</text>\n<text text-anchor=\"middle\" x=\"10968.5\" y=\"-22.8\" font-family=\"Helvetica,sans-Serif\" font-size=\"14.00\" fill=\"#000000\">value = [0.657, 0.343]</text>\n<text text-anchor=\"middle\" x=\"10968.5\" y=\"-7.8\" font-family=\"Helvetica,sans-Serif\" font-size=\"14.00\" fill=\"#000000\">class = lt50K</text>\n</g>\n<!-- 152&#45;&gt;153 -->\n<g id=\"edge153\" class=\"edge\">\n<title>152&#45;&gt;153</title>\n<path fill=\"none\" stroke=\"#000000\" d=\"M10984.0385,-88.9777C10981.9433,-80.5533 10979.6901,-71.4934 10977.5673,-62.9579\"/>\n<polygon fill=\"#000000\" stroke=\"#000000\" points=\"10980.9626,-62.1081 10975.1525,-53.2485 10974.1695,-63.7976 10980.9626,-62.1081\"/>\n</g>\n<!-- 154 -->\n<g id=\"node155\" class=\"node\">\n<title>154</title>\n<path fill=\"#7bbeee\" stroke=\"#000000\" d=\"M11192.5,-53C11192.5,-53 11076.5,-53 11076.5,-53 11070.5,-53 11064.5,-47 11064.5,-41 11064.5,-41 11064.5,-12 11064.5,-12 11064.5,-6 11070.5,0 11076.5,0 11076.5,0 11192.5,0 11192.5,0 11198.5,0 11204.5,-6 11204.5,-12 11204.5,-12 11204.5,-41 11204.5,-41 11204.5,-47 11198.5,-53 11192.5,-53\"/>\n<text text-anchor=\"middle\" x=\"11134.5\" y=\"-37.8\" font-family=\"Helvetica,sans-Serif\" font-size=\"14.00\" fill=\"#000000\">samples = 0.1%</text>\n<text text-anchor=\"middle\" x=\"11134.5\" y=\"-22.8\" font-family=\"Helvetica,sans-Serif\" font-size=\"14.00\" fill=\"#000000\">value = [0.25, 0.75]</text>\n<text text-anchor=\"middle\" x=\"11134.5\" y=\"-7.8\" font-family=\"Helvetica,sans-Serif\" font-size=\"14.00\" fill=\"#000000\">class = gt50K</text>\n</g>\n<!-- 152&#45;&gt;154 -->\n<g id=\"edge154\" class=\"edge\">\n<title>152&#45;&gt;154</title>\n<path fill=\"none\" stroke=\"#000000\" d=\"M11042.5639,-88.9777C11056.8469,-79.2713 11072.3713,-68.7213 11086.5263,-59.1018\"/>\n<polygon fill=\"#000000\" stroke=\"#000000\" points=\"11088.8359,-61.764 11095.1395,-53.2485 11084.9014,-55.9744 11088.8359,-61.764\"/>\n</g>\n<!-- 156 -->\n<g id=\"node157\" class=\"node\">\n<title>156</title>\n<path fill=\"#f6d3b9\" stroke=\"#000000\" d=\"M11456.5,-157C11456.5,-157 11230.5,-157 11230.5,-157 11224.5,-157 11218.5,-151 11218.5,-145 11218.5,-145 11218.5,-101 11218.5,-101 11218.5,-95 11224.5,-89 11230.5,-89 11230.5,-89 11456.5,-89 11456.5,-89 11462.5,-89 11468.5,-95 11468.5,-101 11468.5,-101 11468.5,-145 11468.5,-145 11468.5,-151 11462.5,-157 11456.5,-157\"/>\n<text text-anchor=\"middle\" x=\"11343.5\" y=\"-141.8\" font-family=\"Helvetica,sans-Serif\" font-size=\"14.00\" fill=\"#000000\">occupation_Exec&#45;managerial &lt;= 0.5</text>\n<text text-anchor=\"middle\" x=\"11343.5\" y=\"-126.8\" font-family=\"Helvetica,sans-Serif\" font-size=\"14.00\" fill=\"#000000\">samples = 9.0%</text>\n<text text-anchor=\"middle\" x=\"11343.5\" y=\"-111.8\" font-family=\"Helvetica,sans-Serif\" font-size=\"14.00\" fill=\"#000000\">value = [0.607, 0.393]</text>\n<text text-anchor=\"middle\" x=\"11343.5\" y=\"-96.8\" font-family=\"Helvetica,sans-Serif\" font-size=\"14.00\" fill=\"#000000\">class = lt50K</text>\n</g>\n<!-- 155&#45;&gt;156 -->\n<g id=\"edge156\" class=\"edge\">\n<title>155&#45;&gt;156</title>\n<path fill=\"none\" stroke=\"#000000\" d=\"M11343.5,-192.9465C11343.5,-184.776 11343.5,-175.9318 11343.5,-167.3697\"/>\n<polygon fill=\"#000000\" stroke=\"#000000\" points=\"11347.0001,-167.13 11343.5,-157.13 11340.0001,-167.13 11347.0001,-167.13\"/>\n</g>\n<!-- 159 -->\n<g id=\"node160\" class=\"node\">\n<title>159</title>\n<path fill=\"#e9f4fc\" stroke=\"#000000\" d=\"M11756,-157C11756,-157 11541,-157 11541,-157 11535,-157 11529,-151 11529,-145 11529,-145 11529,-101 11529,-101 11529,-95 11535,-89 11541,-89 11541,-89 11756,-89 11756,-89 11762,-89 11768,-95 11768,-101 11768,-101 11768,-145 11768,-145 11768,-151 11762,-157 11756,-157\"/>\n<text text-anchor=\"middle\" x=\"11648.5\" y=\"-141.8\" font-family=\"Helvetica,sans-Serif\" font-size=\"14.00\" fill=\"#000000\">workclass_Self&#45;emp&#45;not&#45;inc &lt;= 0.5</text>\n<text text-anchor=\"middle\" x=\"11648.5\" y=\"-126.8\" font-family=\"Helvetica,sans-Serif\" font-size=\"14.00\" fill=\"#000000\">samples = 7.4%</text>\n<text text-anchor=\"middle\" x=\"11648.5\" y=\"-111.8\" font-family=\"Helvetica,sans-Serif\" font-size=\"14.00\" fill=\"#000000\">value = [0.47, 0.53]</text>\n<text text-anchor=\"middle\" x=\"11648.5\" y=\"-96.8\" font-family=\"Helvetica,sans-Serif\" font-size=\"14.00\" fill=\"#000000\">class = gt50K</text>\n</g>\n<!-- 155&#45;&gt;159 -->\n<g id=\"edge159\" class=\"edge\">\n<title>155&#45;&gt;159</title>\n<path fill=\"none\" stroke=\"#000000\" d=\"M11422.0451,-200.2174C11457.5979,-188.0945 11500.2266,-173.5588 11538.8609,-160.3851\"/>\n<polygon fill=\"#000000\" stroke=\"#000000\" points=\"11540.2551,-163.6077 11548.5904,-157.0676 11537.9959,-156.9823 11540.2551,-163.6077\"/>\n</g>\n<!-- 157 -->\n<g id=\"node158\" class=\"node\">\n<title>157</title>\n<path fill=\"#f4ccaf\" stroke=\"#000000\" d=\"M11366.5,-53C11366.5,-53 11234.5,-53 11234.5,-53 11228.5,-53 11222.5,-47 11222.5,-41 11222.5,-41 11222.5,-12 11222.5,-12 11222.5,-6 11228.5,0 11234.5,0 11234.5,0 11366.5,0 11366.5,0 11372.5,0 11378.5,-6 11378.5,-12 11378.5,-12 11378.5,-41 11378.5,-41 11378.5,-47 11372.5,-53 11366.5,-53\"/>\n<text text-anchor=\"middle\" x=\"11300.5\" y=\"-37.8\" font-family=\"Helvetica,sans-Serif\" font-size=\"14.00\" fill=\"#000000\">samples = 8.0%</text>\n<text text-anchor=\"middle\" x=\"11300.5\" y=\"-22.8\" font-family=\"Helvetica,sans-Serif\" font-size=\"14.00\" fill=\"#000000\">value = [0.627, 0.373]</text>\n<text text-anchor=\"middle\" x=\"11300.5\" y=\"-7.8\" font-family=\"Helvetica,sans-Serif\" font-size=\"14.00\" fill=\"#000000\">class = lt50K</text>\n</g>\n<!-- 156&#45;&gt;157 -->\n<g id=\"edge157\" class=\"edge\">\n<title>156&#45;&gt;157</title>\n<path fill=\"none\" stroke=\"#000000\" d=\"M11328.3398,-88.9777C11324.5043,-80.3702 11320.3732,-71.0992 11316.4978,-62.402\"/>\n<polygon fill=\"#000000\" stroke=\"#000000\" points=\"11319.6862,-60.9581 11312.419,-53.2485 11313.2923,-63.8073 11319.6862,-60.9581\"/>\n</g>\n<!-- 158 -->\n<g id=\"node159\" class=\"node\">\n<title>158</title>\n<path fill=\"#d8ecfa\" stroke=\"#000000\" d=\"M11540.5,-53C11540.5,-53 11408.5,-53 11408.5,-53 11402.5,-53 11396.5,-47 11396.5,-41 11396.5,-41 11396.5,-12 11396.5,-12 11396.5,-6 11402.5,0 11408.5,0 11408.5,0 11540.5,0 11540.5,0 11546.5,0 11552.5,-6 11552.5,-12 11552.5,-12 11552.5,-41 11552.5,-41 11552.5,-47 11546.5,-53 11540.5,-53\"/>\n<text text-anchor=\"middle\" x=\"11474.5\" y=\"-37.8\" font-family=\"Helvetica,sans-Serif\" font-size=\"14.00\" fill=\"#000000\">samples = 1.0%</text>\n<text text-anchor=\"middle\" x=\"11474.5\" y=\"-22.8\" font-family=\"Helvetica,sans-Serif\" font-size=\"14.00\" fill=\"#000000\">value = [0.445, 0.555]</text>\n<text text-anchor=\"middle\" x=\"11474.5\" y=\"-7.8\" font-family=\"Helvetica,sans-Serif\" font-size=\"14.00\" fill=\"#000000\">class = gt50K</text>\n</g>\n<!-- 156&#45;&gt;158 -->\n<g id=\"edge158\" class=\"edge\">\n<title>156&#45;&gt;158</title>\n<path fill=\"none\" stroke=\"#000000\" d=\"M11389.6857,-88.9777C11402.7379,-79.3629 11416.9139,-68.9203 11429.8727,-59.3743\"/>\n<polygon fill=\"#000000\" stroke=\"#000000\" points=\"11432.2131,-61.9974 11438.1886,-53.2485 11428.0614,-56.3615 11432.2131,-61.9974\"/>\n</g>\n<!-- 160 -->\n<g id=\"node161\" class=\"node\">\n<title>160</title>\n<path fill=\"#d7ebfa\" stroke=\"#000000\" d=\"M11714.5,-53C11714.5,-53 11582.5,-53 11582.5,-53 11576.5,-53 11570.5,-47 11570.5,-41 11570.5,-41 11570.5,-12 11570.5,-12 11570.5,-6 11576.5,0 11582.5,0 11582.5,0 11714.5,0 11714.5,0 11720.5,0 11726.5,-6 11726.5,-12 11726.5,-12 11726.5,-41 11726.5,-41 11726.5,-47 11720.5,-53 11714.5,-53\"/>\n<text text-anchor=\"middle\" x=\"11648.5\" y=\"-37.8\" font-family=\"Helvetica,sans-Serif\" font-size=\"14.00\" fill=\"#000000\">samples = 6.6%</text>\n<text text-anchor=\"middle\" x=\"11648.5\" y=\"-22.8\" font-family=\"Helvetica,sans-Serif\" font-size=\"14.00\" fill=\"#000000\">value = [0.444, 0.556]</text>\n<text text-anchor=\"middle\" x=\"11648.5\" y=\"-7.8\" font-family=\"Helvetica,sans-Serif\" font-size=\"14.00\" fill=\"#000000\">class = gt50K</text>\n</g>\n<!-- 159&#45;&gt;160 -->\n<g id=\"edge160\" class=\"edge\">\n<title>159&#45;&gt;160</title>\n<path fill=\"none\" stroke=\"#000000\" d=\"M11648.5,-88.9777C11648.5,-80.7364 11648.5,-71.887 11648.5,-63.5153\"/>\n<polygon fill=\"#000000\" stroke=\"#000000\" points=\"11652.0001,-63.2484 11648.5,-53.2485 11645.0001,-63.2485 11652.0001,-63.2484\"/>\n</g>\n<!-- 161 -->\n<g id=\"node162\" class=\"node\">\n<title>161</title>\n<path fill=\"#f1ba92\" stroke=\"#000000\" d=\"M11888.5,-53C11888.5,-53 11756.5,-53 11756.5,-53 11750.5,-53 11744.5,-47 11744.5,-41 11744.5,-41 11744.5,-12 11744.5,-12 11744.5,-6 11750.5,0 11756.5,0 11756.5,0 11888.5,0 11888.5,0 11894.5,0 11900.5,-6 11900.5,-12 11900.5,-12 11900.5,-41 11900.5,-41 11900.5,-47 11894.5,-53 11888.5,-53\"/>\n<text text-anchor=\"middle\" x=\"11822.5\" y=\"-37.8\" font-family=\"Helvetica,sans-Serif\" font-size=\"14.00\" fill=\"#000000\">samples = 0.8%</text>\n<text text-anchor=\"middle\" x=\"11822.5\" y=\"-22.8\" font-family=\"Helvetica,sans-Serif\" font-size=\"14.00\" fill=\"#000000\">value = [0.689, 0.311]</text>\n<text text-anchor=\"middle\" x=\"11822.5\" y=\"-7.8\" font-family=\"Helvetica,sans-Serif\" font-size=\"14.00\" fill=\"#000000\">class = lt50K</text>\n</g>\n<!-- 159&#45;&gt;161 -->\n<g id=\"edge161\" class=\"edge\">\n<title>159&#45;&gt;161</title>\n<path fill=\"none\" stroke=\"#000000\" d=\"M11709.8459,-88.9777C11727.9262,-78.9504 11747.63,-68.0228 11765.4301,-58.1508\"/>\n<polygon fill=\"#000000\" stroke=\"#000000\" points=\"11767.4987,-61.0059 11774.5463,-53.095 11764.1036,-54.8843 11767.4987,-61.0059\"/>\n</g>\n<!-- 163 -->\n<g id=\"node164\" class=\"node\">\n<title>163</title>\n<path fill=\"#fbebdf\" stroke=\"#000000\" d=\"M12602.5,-469C12602.5,-469 12454.5,-469 12454.5,-469 12448.5,-469 12442.5,-463 12442.5,-457 12442.5,-457 12442.5,-413 12442.5,-413 12442.5,-407 12448.5,-401 12454.5,-401 12454.5,-401 12602.5,-401 12602.5,-401 12608.5,-401 12614.5,-407 12614.5,-413 12614.5,-413 12614.5,-457 12614.5,-457 12614.5,-463 12608.5,-469 12602.5,-469\"/>\n<text text-anchor=\"middle\" x=\"12528.5\" y=\"-453.8\" font-family=\"Helvetica,sans-Serif\" font-size=\"14.00\" fill=\"#000000\">relationship_Wife &lt;= 0.5</text>\n<text text-anchor=\"middle\" x=\"12528.5\" y=\"-438.8\" font-family=\"Helvetica,sans-Serif\" font-size=\"14.00\" fill=\"#000000\">samples = 1.1%</text>\n<text text-anchor=\"middle\" x=\"12528.5\" y=\"-423.8\" font-family=\"Helvetica,sans-Serif\" font-size=\"14.00\" fill=\"#000000\">value = [0.544, 0.456]</text>\n<text text-anchor=\"middle\" x=\"12528.5\" y=\"-408.8\" font-family=\"Helvetica,sans-Serif\" font-size=\"14.00\" fill=\"#000000\">class = lt50K</text>\n</g>\n<!-- 162&#45;&gt;163 -->\n<g id=\"edge163\" class=\"edge\">\n<title>162&#45;&gt;163</title>\n<path fill=\"none\" stroke=\"#000000\" d=\"M12528.5,-504.9465C12528.5,-496.776 12528.5,-487.9318 12528.5,-479.3697\"/>\n<polygon fill=\"#000000\" stroke=\"#000000\" points=\"12532.0001,-479.13 12528.5,-469.13 12525.0001,-479.13 12532.0001,-479.13\"/>\n</g>\n<!-- 182 -->\n<g id=\"node183\" class=\"node\">\n<title>182</title>\n<path fill=\"#7cbeee\" stroke=\"#000000\" d=\"M13633.5,-469C13633.5,-469 13459.5,-469 13459.5,-469 13453.5,-469 13447.5,-463 13447.5,-457 13447.5,-457 13447.5,-413 13447.5,-413 13447.5,-407 13453.5,-401 13459.5,-401 13459.5,-401 13633.5,-401 13633.5,-401 13639.5,-401 13645.5,-407 13645.5,-413 13645.5,-413 13645.5,-457 13645.5,-457 13645.5,-463 13639.5,-469 13633.5,-469\"/>\n<text text-anchor=\"middle\" x=\"13546.5\" y=\"-453.8\" font-family=\"Helvetica,sans-Serif\" font-size=\"14.00\" fill=\"#000000\">education_Bachelors &lt;= 0.5</text>\n<text text-anchor=\"middle\" x=\"13546.5\" y=\"-438.8\" font-family=\"Helvetica,sans-Serif\" font-size=\"14.00\" fill=\"#000000\">samples = 12.7%</text>\n<text text-anchor=\"middle\" x=\"13546.5\" y=\"-423.8\" font-family=\"Helvetica,sans-Serif\" font-size=\"14.00\" fill=\"#000000\">value = [0.254, 0.746]</text>\n<text text-anchor=\"middle\" x=\"13546.5\" y=\"-408.8\" font-family=\"Helvetica,sans-Serif\" font-size=\"14.00\" fill=\"#000000\">class = gt50K</text>\n</g>\n<!-- 162&#45;&gt;182 -->\n<g id=\"edge182\" class=\"edge\">\n<title>162&#45;&gt;182</title>\n<path fill=\"none\" stroke=\"#000000\" d=\"M12612.6733,-530.4008C12796.3091,-511.6403 13232.7886,-467.0491 13437.273,-446.1588\"/>\n<polygon fill=\"#000000\" stroke=\"#000000\" points=\"13437.836,-449.6195 13447.4285,-445.1213 13437.1246,-442.6558 13437.836,-449.6195\"/>\n</g>\n<!-- 164 -->\n<g id=\"node165\" class=\"node\">\n<title>164</title>\n<path fill=\"#f3c3a0\" stroke=\"#000000\" d=\"M12455,-365C12455,-365 12314,-365 12314,-365 12308,-365 12302,-359 12302,-353 12302,-353 12302,-309 12302,-309 12302,-303 12308,-297 12314,-297 12314,-297 12455,-297 12455,-297 12461,-297 12467,-303 12467,-309 12467,-309 12467,-353 12467,-353 12467,-359 12461,-365 12455,-365\"/>\n<text text-anchor=\"middle\" x=\"12384.5\" y=\"-349.8\" font-family=\"Helvetica,sans-Serif\" font-size=\"14.00\" fill=\"#000000\">education.num &lt;= 14.5</text>\n<text text-anchor=\"middle\" x=\"12384.5\" y=\"-334.8\" font-family=\"Helvetica,sans-Serif\" font-size=\"14.00\" fill=\"#000000\">samples = 0.8%</text>\n<text text-anchor=\"middle\" x=\"12384.5\" y=\"-319.8\" font-family=\"Helvetica,sans-Serif\" font-size=\"14.00\" fill=\"#000000\">value = [0.657, 0.343]</text>\n<text text-anchor=\"middle\" x=\"12384.5\" y=\"-304.8\" font-family=\"Helvetica,sans-Serif\" font-size=\"14.00\" fill=\"#000000\">class = lt50K</text>\n</g>\n<!-- 163&#45;&gt;164 -->\n<g id=\"edge164\" class=\"edge\">\n<title>163&#45;&gt;164</title>\n<path fill=\"none\" stroke=\"#000000\" d=\"M12481.349,-400.9465C12468.1713,-391.4293 12453.7278,-380.9978 12440.1103,-371.163\"/>\n<polygon fill=\"#000000\" stroke=\"#000000\" points=\"12441.913,-368.1476 12431.7569,-365.13 12437.8145,-373.8223 12441.913,-368.1476\"/>\n</g>\n<!-- 175 -->\n<g id=\"node176\" class=\"node\">\n<title>175</title>\n<path fill=\"#7cbeee\" stroke=\"#000000\" d=\"M12719,-365C12719,-365 12558,-365 12558,-365 12552,-365 12546,-359 12546,-353 12546,-353 12546,-309 12546,-309 12546,-303 12552,-297 12558,-297 12558,-297 12719,-297 12719,-297 12725,-297 12731,-303 12731,-309 12731,-309 12731,-353 12731,-353 12731,-359 12725,-365 12719,-365\"/>\n<text text-anchor=\"middle\" x=\"12638.5\" y=\"-349.8\" font-family=\"Helvetica,sans-Serif\" font-size=\"14.00\" fill=\"#000000\">education_Masters &lt;= 0.5</text>\n<text text-anchor=\"middle\" x=\"12638.5\" y=\"-334.8\" font-family=\"Helvetica,sans-Serif\" font-size=\"14.00\" fill=\"#000000\">samples = 0.3%</text>\n<text text-anchor=\"middle\" x=\"12638.5\" y=\"-319.8\" font-family=\"Helvetica,sans-Serif\" font-size=\"14.00\" fill=\"#000000\">value = [0.254, 0.746]</text>\n<text text-anchor=\"middle\" x=\"12638.5\" y=\"-304.8\" font-family=\"Helvetica,sans-Serif\" font-size=\"14.00\" fill=\"#000000\">class = gt50K</text>\n</g>\n<!-- 163&#45;&gt;175 -->\n<g id=\"edge175\" class=\"edge\">\n<title>163&#45;&gt;175</title>\n<path fill=\"none\" stroke=\"#000000\" d=\"M12564.5181,-400.9465C12574.2046,-391.7884 12584.7864,-381.7838 12594.8397,-372.2788\"/>\n<polygon fill=\"#000000\" stroke=\"#000000\" points=\"12597.539,-374.5434 12602.401,-365.13 12592.7299,-369.4569 12597.539,-374.5434\"/>\n</g>\n<!-- 165 -->\n<g id=\"node166\" class=\"node\">\n<title>165</title>\n<path fill=\"#eeac7d\" stroke=\"#000000\" d=\"M12199.5,-261C12199.5,-261 12067.5,-261 12067.5,-261 12061.5,-261 12055.5,-255 12055.5,-249 12055.5,-249 12055.5,-205 12055.5,-205 12055.5,-199 12061.5,-193 12067.5,-193 12067.5,-193 12199.5,-193 12199.5,-193 12205.5,-193 12211.5,-199 12211.5,-205 12211.5,-205 12211.5,-249 12211.5,-249 12211.5,-255 12205.5,-261 12199.5,-261\"/>\n<text text-anchor=\"middle\" x=\"12133.5\" y=\"-245.8\" font-family=\"Helvetica,sans-Serif\" font-size=\"14.00\" fill=\"#000000\">age &lt;= 29.5</text>\n<text text-anchor=\"middle\" x=\"12133.5\" y=\"-230.8\" font-family=\"Helvetica,sans-Serif\" font-size=\"14.00\" fill=\"#000000\">samples = 0.6%</text>\n<text text-anchor=\"middle\" x=\"12133.5\" y=\"-215.8\" font-family=\"Helvetica,sans-Serif\" font-size=\"14.00\" fill=\"#000000\">value = [0.745, 0.255]</text>\n<text text-anchor=\"middle\" x=\"12133.5\" y=\"-200.8\" font-family=\"Helvetica,sans-Serif\" font-size=\"14.00\" fill=\"#000000\">class = lt50K</text>\n</g>\n<!-- 164&#45;&gt;165 -->\n<g id=\"edge165\" class=\"edge\">\n<title>164&#45;&gt;165</title>\n<path fill=\"none\" stroke=\"#000000\" d=\"M12302.3132,-296.9465C12276.2229,-286.1362 12247.2859,-274.1463 12220.8458,-263.1911\"/>\n<polygon fill=\"#000000\" stroke=\"#000000\" points=\"12222.1846,-259.9573 12211.6065,-259.3628 12219.5051,-266.4242 12222.1846,-259.9573\"/>\n</g>\n<!-- 170 -->\n<g id=\"node171\" class=\"node\">\n<title>170</title>\n<path fill=\"#a4d2f3\" stroke=\"#000000\" d=\"M12492.5,-261C12492.5,-261 12276.5,-261 12276.5,-261 12270.5,-261 12264.5,-255 12264.5,-249 12264.5,-249 12264.5,-205 12264.5,-205 12264.5,-199 12270.5,-193 12276.5,-193 12276.5,-193 12492.5,-193 12492.5,-193 12498.5,-193 12504.5,-199 12504.5,-205 12504.5,-205 12504.5,-249 12504.5,-249 12504.5,-255 12498.5,-261 12492.5,-261\"/>\n<text text-anchor=\"middle\" x=\"12384.5\" y=\"-245.8\" font-family=\"Helvetica,sans-Serif\" font-size=\"14.00\" fill=\"#000000\">occupation_Farming&#45;fishing &lt;= 0.5</text>\n<text text-anchor=\"middle\" x=\"12384.5\" y=\"-230.8\" font-family=\"Helvetica,sans-Serif\" font-size=\"14.00\" fill=\"#000000\">samples = 0.2%</text>\n<text text-anchor=\"middle\" x=\"12384.5\" y=\"-215.8\" font-family=\"Helvetica,sans-Serif\" font-size=\"14.00\" fill=\"#000000\">value = [0.35, 0.65]</text>\n<text text-anchor=\"middle\" x=\"12384.5\" y=\"-200.8\" font-family=\"Helvetica,sans-Serif\" font-size=\"14.00\" fill=\"#000000\">class = gt50K</text>\n</g>\n<!-- 164&#45;&gt;170 -->\n<g id=\"edge170\" class=\"edge\">\n<title>164&#45;&gt;170</title>\n<path fill=\"none\" stroke=\"#000000\" d=\"M12384.5,-296.9465C12384.5,-288.776 12384.5,-279.9318 12384.5,-271.3697\"/>\n<polygon fill=\"#000000\" stroke=\"#000000\" points=\"12388.0001,-271.13 12384.5,-261.13 12381.0001,-271.13 12388.0001,-271.13\"/>\n</g>\n<!-- 166 -->\n<g id=\"node167\" class=\"node\">\n<title>166</title>\n<path fill=\"#e58139\" stroke=\"#000000\" d=\"M12005,-149.5C12005,-149.5 11906,-149.5 11906,-149.5 11900,-149.5 11894,-143.5 11894,-137.5 11894,-137.5 11894,-108.5 11894,-108.5 11894,-102.5 11900,-96.5 11906,-96.5 11906,-96.5 12005,-96.5 12005,-96.5 12011,-96.5 12017,-102.5 12017,-108.5 12017,-108.5 12017,-137.5 12017,-137.5 12017,-143.5 12011,-149.5 12005,-149.5\"/>\n<text text-anchor=\"middle\" x=\"11955.5\" y=\"-134.3\" font-family=\"Helvetica,sans-Serif\" font-size=\"14.00\" fill=\"#000000\">samples = 0.1%</text>\n<text text-anchor=\"middle\" x=\"11955.5\" y=\"-119.3\" font-family=\"Helvetica,sans-Serif\" font-size=\"14.00\" fill=\"#000000\">value = [1.0, 0.0]</text>\n<text text-anchor=\"middle\" x=\"11955.5\" y=\"-104.3\" font-family=\"Helvetica,sans-Serif\" font-size=\"14.00\" fill=\"#000000\">class = lt50K</text>\n</g>\n<!-- 165&#45;&gt;166 -->\n<g id=\"edge166\" class=\"edge\">\n<title>165&#45;&gt;166</title>\n<path fill=\"none\" stroke=\"#000000\" d=\"M12075.2161,-192.9465C12054.1014,-180.6098 12030.3577,-166.7371 12009.6167,-154.6187\"/>\n<polygon fill=\"#000000\" stroke=\"#000000\" points=\"12011.3279,-151.565 12000.9279,-149.5422 12007.7965,-157.609 12011.3279,-151.565\"/>\n</g>\n<!-- 167 -->\n<g id=\"node168\" class=\"node\">\n<title>167</title>\n<path fill=\"#f0b58b\" stroke=\"#000000\" d=\"M12219.5,-157C12219.5,-157 12047.5,-157 12047.5,-157 12041.5,-157 12035.5,-151 12035.5,-145 12035.5,-145 12035.5,-101 12035.5,-101 12035.5,-95 12041.5,-89 12047.5,-89 12047.5,-89 12219.5,-89 12219.5,-89 12225.5,-89 12231.5,-95 12231.5,-101 12231.5,-101 12231.5,-145 12231.5,-145 12231.5,-151 12225.5,-157 12219.5,-157\"/>\n<text text-anchor=\"middle\" x=\"12133.5\" y=\"-141.8\" font-family=\"Helvetica,sans-Serif\" font-size=\"14.00\" fill=\"#000000\">workclass_State&#45;gov &lt;= 0.5</text>\n<text text-anchor=\"middle\" x=\"12133.5\" y=\"-126.8\" font-family=\"Helvetica,sans-Serif\" font-size=\"14.00\" fill=\"#000000\">samples = 0.5%</text>\n<text text-anchor=\"middle\" x=\"12133.5\" y=\"-111.8\" font-family=\"Helvetica,sans-Serif\" font-size=\"14.00\" fill=\"#000000\">value = [0.707, 0.293]</text>\n<text text-anchor=\"middle\" x=\"12133.5\" y=\"-96.8\" font-family=\"Helvetica,sans-Serif\" font-size=\"14.00\" fill=\"#000000\">class = lt50K</text>\n</g>\n<!-- 165&#45;&gt;167 -->\n<g id=\"edge167\" class=\"edge\">\n<title>165&#45;&gt;167</title>\n<path fill=\"none\" stroke=\"#000000\" d=\"M12133.5,-192.9465C12133.5,-184.776 12133.5,-175.9318 12133.5,-167.3697\"/>\n<polygon fill=\"#000000\" stroke=\"#000000\" points=\"12137.0001,-167.13 12133.5,-157.13 12130.0001,-167.13 12137.0001,-167.13\"/>\n</g>\n<!-- 168 -->\n<g id=\"node169\" class=\"node\">\n<title>168</title>\n<path fill=\"#f1bb94\" stroke=\"#000000\" d=\"M12062.5,-53C12062.5,-53 11930.5,-53 11930.5,-53 11924.5,-53 11918.5,-47 11918.5,-41 11918.5,-41 11918.5,-12 11918.5,-12 11918.5,-6 11924.5,0 11930.5,0 11930.5,0 12062.5,0 12062.5,0 12068.5,0 12074.5,-6 12074.5,-12 12074.5,-12 12074.5,-41 12074.5,-41 12074.5,-47 12068.5,-53 12062.5,-53\"/>\n<text text-anchor=\"middle\" x=\"11996.5\" y=\"-37.8\" font-family=\"Helvetica,sans-Serif\" font-size=\"14.00\" fill=\"#000000\">samples = 0.5%</text>\n<text text-anchor=\"middle\" x=\"11996.5\" y=\"-22.8\" font-family=\"Helvetica,sans-Serif\" font-size=\"14.00\" fill=\"#000000\">value = [0.684, 0.316]</text>\n<text text-anchor=\"middle\" x=\"11996.5\" y=\"-7.8\" font-family=\"Helvetica,sans-Serif\" font-size=\"14.00\" fill=\"#000000\">class = lt50K</text>\n</g>\n<!-- 167&#45;&gt;168 -->\n<g id=\"edge168\" class=\"edge\">\n<title>167&#45;&gt;168</title>\n<path fill=\"none\" stroke=\"#000000\" d=\"M12085.1989,-88.9777C12071.4189,-79.2713 12056.4411,-68.7213 12042.7845,-59.1018\"/>\n<polygon fill=\"#000000\" stroke=\"#000000\" points=\"12044.6655,-56.1457 12034.4745,-53.2485 12040.6345,-61.8686 12044.6655,-56.1457\"/>\n</g>\n<!-- 169 -->\n<g id=\"node170\" class=\"node\">\n<title>169</title>\n<path fill=\"#e58139\" stroke=\"#000000\" d=\"M12204,-53C12204,-53 12105,-53 12105,-53 12099,-53 12093,-47 12093,-41 12093,-41 12093,-12 12093,-12 12093,-6 12099,0 12105,0 12105,0 12204,0 12204,0 12210,0 12216,-6 12216,-12 12216,-12 12216,-41 12216,-41 12216,-47 12210,-53 12204,-53\"/>\n<text text-anchor=\"middle\" x=\"12154.5\" y=\"-37.8\" font-family=\"Helvetica,sans-Serif\" font-size=\"14.00\" fill=\"#000000\">samples = 0.0%</text>\n<text text-anchor=\"middle\" x=\"12154.5\" y=\"-22.8\" font-family=\"Helvetica,sans-Serif\" font-size=\"14.00\" fill=\"#000000\">value = [1.0, 0.0]</text>\n<text text-anchor=\"middle\" x=\"12154.5\" y=\"-7.8\" font-family=\"Helvetica,sans-Serif\" font-size=\"14.00\" fill=\"#000000\">class = lt50K</text>\n</g>\n<!-- 167&#45;&gt;169 -->\n<g id=\"edge169\" class=\"edge\">\n<title>167&#45;&gt;169</title>\n<path fill=\"none\" stroke=\"#000000\" d=\"M12140.9038,-88.9777C12142.7172,-80.6449 12144.6659,-71.6903 12146.5055,-63.2364\"/>\n<polygon fill=\"#000000\" stroke=\"#000000\" points=\"12149.9726,-63.7641 12148.6791,-53.2485 12143.1327,-62.2755 12149.9726,-63.7641\"/>\n</g>\n<!-- 171 -->\n<g id=\"node172\" class=\"node\">\n<title>171</title>\n<path fill=\"#94caf1\" stroke=\"#000000\" d=\"M12405.5,-157C12405.5,-157 12261.5,-157 12261.5,-157 12255.5,-157 12249.5,-151 12249.5,-145 12249.5,-145 12249.5,-101 12249.5,-101 12249.5,-95 12255.5,-89 12261.5,-89 12261.5,-89 12405.5,-89 12405.5,-89 12411.5,-89 12417.5,-95 12417.5,-101 12417.5,-101 12417.5,-145 12417.5,-145 12417.5,-151 12411.5,-157 12405.5,-157\"/>\n<text text-anchor=\"middle\" x=\"12333.5\" y=\"-141.8\" font-family=\"Helvetica,sans-Serif\" font-size=\"14.00\" fill=\"#000000\">hours.per.week &lt;= 22.0</text>\n<text text-anchor=\"middle\" x=\"12333.5\" y=\"-126.8\" font-family=\"Helvetica,sans-Serif\" font-size=\"14.00\" fill=\"#000000\">samples = 0.2%</text>\n<text text-anchor=\"middle\" x=\"12333.5\" y=\"-111.8\" font-family=\"Helvetica,sans-Serif\" font-size=\"14.00\" fill=\"#000000\">value = [0.316, 0.684]</text>\n<text text-anchor=\"middle\" x=\"12333.5\" y=\"-96.8\" font-family=\"Helvetica,sans-Serif\" font-size=\"14.00\" fill=\"#000000\">class = gt50K</text>\n</g>\n<!-- 170&#45;&gt;171 -->\n<g id=\"edge171\" class=\"edge\">\n<title>170&#45;&gt;171</title>\n<path fill=\"none\" stroke=\"#000000\" d=\"M12367.8007,-192.9465C12363.6179,-184.4169 12359.075,-175.153 12354.7054,-166.2424\"/>\n<polygon fill=\"#000000\" stroke=\"#000000\" points=\"12357.7823,-164.5675 12350.2368,-157.13 12351.4973,-167.6496 12357.7823,-164.5675\"/>\n</g>\n<!-- 174 -->\n<g id=\"node175\" class=\"node\">\n<title>174</title>\n<path fill=\"#e58139\" stroke=\"#000000\" d=\"M12547,-149.5C12547,-149.5 12448,-149.5 12448,-149.5 12442,-149.5 12436,-143.5 12436,-137.5 12436,-137.5 12436,-108.5 12436,-108.5 12436,-102.5 12442,-96.5 12448,-96.5 12448,-96.5 12547,-96.5 12547,-96.5 12553,-96.5 12559,-102.5 12559,-108.5 12559,-108.5 12559,-137.5 12559,-137.5 12559,-143.5 12553,-149.5 12547,-149.5\"/>\n<text text-anchor=\"middle\" x=\"12497.5\" y=\"-134.3\" font-family=\"Helvetica,sans-Serif\" font-size=\"14.00\" fill=\"#000000\">samples = 0.0%</text>\n<text text-anchor=\"middle\" x=\"12497.5\" y=\"-119.3\" font-family=\"Helvetica,sans-Serif\" font-size=\"14.00\" fill=\"#000000\">value = [1.0, 0.0]</text>\n<text text-anchor=\"middle\" x=\"12497.5\" y=\"-104.3\" font-family=\"Helvetica,sans-Serif\" font-size=\"14.00\" fill=\"#000000\">class = lt50K</text>\n</g>\n<!-- 170&#45;&gt;174 -->\n<g id=\"edge174\" class=\"edge\">\n<title>170&#45;&gt;174</title>\n<path fill=\"none\" stroke=\"#000000\" d=\"M12421.5004,-192.9465C12434.1866,-181.2707 12448.3678,-168.219 12461.013,-156.5809\"/>\n<polygon fill=\"#000000\" stroke=\"#000000\" points=\"12463.6731,-158.8895 12468.6609,-149.5422 12458.9327,-153.7389 12463.6731,-158.8895\"/>\n</g>\n<!-- 172 -->\n<g id=\"node173\" class=\"node\">\n<title>172</title>\n<path fill=\"#d1e8f9\" stroke=\"#000000\" d=\"M12378.5,-53C12378.5,-53 12246.5,-53 12246.5,-53 12240.5,-53 12234.5,-47 12234.5,-41 12234.5,-41 12234.5,-12 12234.5,-12 12234.5,-6 12240.5,0 12246.5,0 12246.5,0 12378.5,0 12378.5,0 12384.5,0 12390.5,-6 12390.5,-12 12390.5,-12 12390.5,-41 12390.5,-41 12390.5,-47 12384.5,-53 12378.5,-53\"/>\n<text text-anchor=\"middle\" x=\"12312.5\" y=\"-37.8\" font-family=\"Helvetica,sans-Serif\" font-size=\"14.00\" fill=\"#000000\">samples = 0.1%</text>\n<text text-anchor=\"middle\" x=\"12312.5\" y=\"-22.8\" font-family=\"Helvetica,sans-Serif\" font-size=\"14.00\" fill=\"#000000\">value = [0.435, 0.565]</text>\n<text text-anchor=\"middle\" x=\"12312.5\" y=\"-7.8\" font-family=\"Helvetica,sans-Serif\" font-size=\"14.00\" fill=\"#000000\">class = gt50K</text>\n</g>\n<!-- 171&#45;&gt;172 -->\n<g id=\"edge172\" class=\"edge\">\n<title>171&#45;&gt;172</title>\n<path fill=\"none\" stroke=\"#000000\" d=\"M12326.0962,-88.9777C12324.2828,-80.6449 12322.3341,-71.6903 12320.4945,-63.2364\"/>\n<polygon fill=\"#000000\" stroke=\"#000000\" points=\"12323.8673,-62.2755 12318.3209,-53.2485 12317.0274,-63.7641 12323.8673,-62.2755\"/>\n</g>\n<!-- 173 -->\n<g id=\"node174\" class=\"node\">\n<title>173</title>\n<path fill=\"#57ace9\" stroke=\"#000000\" d=\"M12552.5,-53C12552.5,-53 12420.5,-53 12420.5,-53 12414.5,-53 12408.5,-47 12408.5,-41 12408.5,-41 12408.5,-12 12408.5,-12 12408.5,-6 12414.5,0 12420.5,0 12420.5,0 12552.5,0 12552.5,0 12558.5,0 12564.5,-6 12564.5,-12 12564.5,-12 12564.5,-41 12564.5,-41 12564.5,-47 12558.5,-53 12552.5,-53\"/>\n<text text-anchor=\"middle\" x=\"12486.5\" y=\"-37.8\" font-family=\"Helvetica,sans-Serif\" font-size=\"14.00\" fill=\"#000000\">samples = 0.1%</text>\n<text text-anchor=\"middle\" x=\"12486.5\" y=\"-22.8\" font-family=\"Helvetica,sans-Serif\" font-size=\"14.00\" fill=\"#000000\">value = [0.133, 0.867]</text>\n<text text-anchor=\"middle\" x=\"12486.5\" y=\"-7.8\" font-family=\"Helvetica,sans-Serif\" font-size=\"14.00\" fill=\"#000000\">class = gt50K</text>\n</g>\n<!-- 171&#45;&gt;173 -->\n<g id=\"edge173\" class=\"edge\">\n<title>171&#45;&gt;173</title>\n<path fill=\"none\" stroke=\"#000000\" d=\"M12387.4421,-88.9777C12402.9767,-79.1798 12419.8742,-68.5222 12435.2413,-58.8298\"/>\n<polygon fill=\"#000000\" stroke=\"#000000\" points=\"12437.4995,-61.5436 12444.0905,-53.2485 12433.7651,-55.6229 12437.4995,-61.5436\"/>\n</g>\n<!-- 176 -->\n<g id=\"node177\" class=\"node\">\n<title>176</title>\n<path fill=\"#90c8f0\" stroke=\"#000000\" d=\"M12706.5,-261C12706.5,-261 12570.5,-261 12570.5,-261 12564.5,-261 12558.5,-255 12558.5,-249 12558.5,-249 12558.5,-205 12558.5,-205 12558.5,-199 12564.5,-193 12570.5,-193 12570.5,-193 12706.5,-193 12706.5,-193 12712.5,-193 12718.5,-199 12718.5,-205 12718.5,-205 12718.5,-249 12718.5,-249 12718.5,-255 12712.5,-261 12706.5,-261\"/>\n<text text-anchor=\"middle\" x=\"12638.5\" y=\"-245.8\" font-family=\"Helvetica,sans-Serif\" font-size=\"14.00\" fill=\"#000000\">hours.per.week &lt;= 5.5</text>\n<text text-anchor=\"middle\" x=\"12638.5\" y=\"-230.8\" font-family=\"Helvetica,sans-Serif\" font-size=\"14.00\" fill=\"#000000\">samples = 0.3%</text>\n<text text-anchor=\"middle\" x=\"12638.5\" y=\"-215.8\" font-family=\"Helvetica,sans-Serif\" font-size=\"14.00\" fill=\"#000000\">value = [0.305, 0.695]</text>\n<text text-anchor=\"middle\" x=\"12638.5\" y=\"-200.8\" font-family=\"Helvetica,sans-Serif\" font-size=\"14.00\" fill=\"#000000\">class = gt50K</text>\n</g>\n<!-- 175&#45;&gt;176 -->\n<g id=\"edge176\" class=\"edge\">\n<title>175&#45;&gt;176</title>\n<path fill=\"none\" stroke=\"#000000\" d=\"M12638.5,-296.9465C12638.5,-288.776 12638.5,-279.9318 12638.5,-271.3697\"/>\n<polygon fill=\"#000000\" stroke=\"#000000\" points=\"12642.0001,-271.13 12638.5,-261.13 12635.0001,-271.13 12642.0001,-271.13\"/>\n</g>\n<!-- 181 -->\n<g id=\"node182\" class=\"node\">\n<title>181</title>\n<path fill=\"#399de5\" stroke=\"#000000\" d=\"M12848,-253.5C12848,-253.5 12749,-253.5 12749,-253.5 12743,-253.5 12737,-247.5 12737,-241.5 12737,-241.5 12737,-212.5 12737,-212.5 12737,-206.5 12743,-200.5 12749,-200.5 12749,-200.5 12848,-200.5 12848,-200.5 12854,-200.5 12860,-206.5 12860,-212.5 12860,-212.5 12860,-241.5 12860,-241.5 12860,-247.5 12854,-253.5 12848,-253.5\"/>\n<text text-anchor=\"middle\" x=\"12798.5\" y=\"-238.3\" font-family=\"Helvetica,sans-Serif\" font-size=\"14.00\" fill=\"#000000\">samples = 0.1%</text>\n<text text-anchor=\"middle\" x=\"12798.5\" y=\"-223.3\" font-family=\"Helvetica,sans-Serif\" font-size=\"14.00\" fill=\"#000000\">value = [0.0, 1.0]</text>\n<text text-anchor=\"middle\" x=\"12798.5\" y=\"-208.3\" font-family=\"Helvetica,sans-Serif\" font-size=\"14.00\" fill=\"#000000\">class = gt50K</text>\n</g>\n<!-- 175&#45;&gt;181 -->\n<g id=\"edge181\" class=\"edge\">\n<title>175&#45;&gt;181</title>\n<path fill=\"none\" stroke=\"#000000\" d=\"M12690.89,-296.9465C12709.6153,-284.775 12730.641,-271.1084 12749.1053,-259.1066\"/>\n<polygon fill=\"#000000\" stroke=\"#000000\" points=\"12751.1889,-261.9267 12757.6659,-253.5422 12747.374,-256.0575 12751.1889,-261.9267\"/>\n</g>\n<!-- 177 -->\n<g id=\"node178\" class=\"node\">\n<title>177</title>\n<path fill=\"#e58139\" stroke=\"#000000\" d=\"M12688,-149.5C12688,-149.5 12589,-149.5 12589,-149.5 12583,-149.5 12577,-143.5 12577,-137.5 12577,-137.5 12577,-108.5 12577,-108.5 12577,-102.5 12583,-96.5 12589,-96.5 12589,-96.5 12688,-96.5 12688,-96.5 12694,-96.5 12700,-102.5 12700,-108.5 12700,-108.5 12700,-137.5 12700,-137.5 12700,-143.5 12694,-149.5 12688,-149.5\"/>\n<text text-anchor=\"middle\" x=\"12638.5\" y=\"-134.3\" font-family=\"Helvetica,sans-Serif\" font-size=\"14.00\" fill=\"#000000\">samples = 0.0%</text>\n<text text-anchor=\"middle\" x=\"12638.5\" y=\"-119.3\" font-family=\"Helvetica,sans-Serif\" font-size=\"14.00\" fill=\"#000000\">value = [1.0, 0.0]</text>\n<text text-anchor=\"middle\" x=\"12638.5\" y=\"-104.3\" font-family=\"Helvetica,sans-Serif\" font-size=\"14.00\" fill=\"#000000\">class = lt50K</text>\n</g>\n<!-- 176&#45;&gt;177 -->\n<g id=\"edge177\" class=\"edge\">\n<title>176&#45;&gt;177</title>\n<path fill=\"none\" stroke=\"#000000\" d=\"M12638.5,-192.9465C12638.5,-182.2621 12638.5,-170.4254 12638.5,-159.5742\"/>\n<polygon fill=\"#000000\" stroke=\"#000000\" points=\"12642.0001,-159.5421 12638.5,-149.5422 12635.0001,-159.5422 12642.0001,-159.5421\"/>\n</g>\n<!-- 178 -->\n<g id=\"node179\" class=\"node\">\n<title>178</title>\n<path fill=\"#81c1ef\" stroke=\"#000000\" d=\"M12862.5,-157C12862.5,-157 12730.5,-157 12730.5,-157 12724.5,-157 12718.5,-151 12718.5,-145 12718.5,-145 12718.5,-101 12718.5,-101 12718.5,-95 12724.5,-89 12730.5,-89 12730.5,-89 12862.5,-89 12862.5,-89 12868.5,-89 12874.5,-95 12874.5,-101 12874.5,-101 12874.5,-145 12874.5,-145 12874.5,-151 12868.5,-157 12862.5,-157\"/>\n<text text-anchor=\"middle\" x=\"12796.5\" y=\"-141.8\" font-family=\"Helvetica,sans-Serif\" font-size=\"14.00\" fill=\"#000000\">age &lt;= 53.5</text>\n<text text-anchor=\"middle\" x=\"12796.5\" y=\"-126.8\" font-family=\"Helvetica,sans-Serif\" font-size=\"14.00\" fill=\"#000000\">samples = 0.2%</text>\n<text text-anchor=\"middle\" x=\"12796.5\" y=\"-111.8\" font-family=\"Helvetica,sans-Serif\" font-size=\"14.00\" fill=\"#000000\">value = [0.268, 0.732]</text>\n<text text-anchor=\"middle\" x=\"12796.5\" y=\"-96.8\" font-family=\"Helvetica,sans-Serif\" font-size=\"14.00\" fill=\"#000000\">class = gt50K</text>\n</g>\n<!-- 176&#45;&gt;178 -->\n<g id=\"edge178\" class=\"edge\">\n<title>176&#45;&gt;178</title>\n<path fill=\"none\" stroke=\"#000000\" d=\"M12690.2351,-192.9465C12704.8304,-183.3395 12720.8409,-172.8009 12735.9058,-162.8848\"/>\n<polygon fill=\"#000000\" stroke=\"#000000\" points=\"12738.2201,-165.5517 12744.6487,-157.13 12734.3714,-159.7046 12738.2201,-165.5517\"/>\n</g>\n<!-- 179 -->\n<g id=\"node180\" class=\"node\">\n<title>179</title>\n<path fill=\"#72b9ed\" stroke=\"#000000\" d=\"M12726.5,-53C12726.5,-53 12594.5,-53 12594.5,-53 12588.5,-53 12582.5,-47 12582.5,-41 12582.5,-41 12582.5,-12 12582.5,-12 12582.5,-6 12588.5,0 12594.5,0 12594.5,0 12726.5,0 12726.5,0 12732.5,0 12738.5,-6 12738.5,-12 12738.5,-12 12738.5,-41 12738.5,-41 12738.5,-47 12732.5,-53 12726.5,-53\"/>\n<text text-anchor=\"middle\" x=\"12660.5\" y=\"-37.8\" font-family=\"Helvetica,sans-Serif\" font-size=\"14.00\" fill=\"#000000\">samples = 0.2%</text>\n<text text-anchor=\"middle\" x=\"12660.5\" y=\"-22.8\" font-family=\"Helvetica,sans-Serif\" font-size=\"14.00\" fill=\"#000000\">value = [0.224, 0.776]</text>\n<text text-anchor=\"middle\" x=\"12660.5\" y=\"-7.8\" font-family=\"Helvetica,sans-Serif\" font-size=\"14.00\" fill=\"#000000\">class = gt50K</text>\n</g>\n<!-- 178&#45;&gt;179 -->\n<g id=\"edge179\" class=\"edge\">\n<title>178&#45;&gt;179</title>\n<path fill=\"none\" stroke=\"#000000\" d=\"M12748.5515,-88.9777C12734.872,-79.2713 12720.0036,-68.7213 12706.4466,-59.1018\"/>\n<polygon fill=\"#000000\" stroke=\"#000000\" points=\"12708.3783,-56.1809 12698.1973,-53.2485 12704.3275,-61.8898 12708.3783,-56.1809\"/>\n</g>\n<!-- 180 -->\n<g id=\"node181\" class=\"node\">\n<title>180</title>\n<path fill=\"#f8e0ce\" stroke=\"#000000\" d=\"M12900.5,-53C12900.5,-53 12768.5,-53 12768.5,-53 12762.5,-53 12756.5,-47 12756.5,-41 12756.5,-41 12756.5,-12 12756.5,-12 12756.5,-6 12762.5,0 12768.5,0 12768.5,0 12900.5,0 12900.5,0 12906.5,0 12912.5,-6 12912.5,-12 12912.5,-12 12912.5,-41 12912.5,-41 12912.5,-47 12906.5,-53 12900.5,-53\"/>\n<text text-anchor=\"middle\" x=\"12834.5\" y=\"-37.8\" font-family=\"Helvetica,sans-Serif\" font-size=\"14.00\" fill=\"#000000\">samples = 0.0%</text>\n<text text-anchor=\"middle\" x=\"12834.5\" y=\"-22.8\" font-family=\"Helvetica,sans-Serif\" font-size=\"14.00\" fill=\"#000000\">value = [0.571, 0.429]</text>\n<text text-anchor=\"middle\" x=\"12834.5\" y=\"-7.8\" font-family=\"Helvetica,sans-Serif\" font-size=\"14.00\" fill=\"#000000\">class = lt50K</text>\n</g>\n<!-- 178&#45;&gt;180 -->\n<g id=\"edge180\" class=\"edge\">\n<title>178&#45;&gt;180</title>\n<path fill=\"none\" stroke=\"#000000\" d=\"M12809.8974,-88.9777C12813.2508,-80.4617 12816.86,-71.2963 12820.253,-62.6798\"/>\n<polygon fill=\"#000000\" stroke=\"#000000\" points=\"12823.5595,-63.8355 12823.9669,-53.2485 12817.0463,-61.2707 12823.5595,-63.8355\"/>\n</g>\n<!-- 183 -->\n<g id=\"node184\" class=\"node\">\n<title>183</title>\n<path fill=\"#61b1ea\" stroke=\"#000000\" d=\"M13612.5,-365C13612.5,-365 13480.5,-365 13480.5,-365 13474.5,-365 13468.5,-359 13468.5,-353 13468.5,-353 13468.5,-309 13468.5,-309 13468.5,-303 13474.5,-297 13480.5,-297 13480.5,-297 13612.5,-297 13612.5,-297 13618.5,-297 13624.5,-303 13624.5,-309 13624.5,-309 13624.5,-353 13624.5,-353 13624.5,-359 13618.5,-365 13612.5,-365\"/>\n<text text-anchor=\"middle\" x=\"13546.5\" y=\"-349.8\" font-family=\"Helvetica,sans-Serif\" font-size=\"14.00\" fill=\"#000000\">age &lt;= 36.5</text>\n<text text-anchor=\"middle\" x=\"13546.5\" y=\"-334.8\" font-family=\"Helvetica,sans-Serif\" font-size=\"14.00\" fill=\"#000000\">samples = 4.8%</text>\n<text text-anchor=\"middle\" x=\"13546.5\" y=\"-319.8\" font-family=\"Helvetica,sans-Serif\" font-size=\"14.00\" fill=\"#000000\">value = [0.168, 0.832]</text>\n<text text-anchor=\"middle\" x=\"13546.5\" y=\"-304.8\" font-family=\"Helvetica,sans-Serif\" font-size=\"14.00\" fill=\"#000000\">class = gt50K</text>\n</g>\n<!-- 182&#45;&gt;183 -->\n<g id=\"edge183\" class=\"edge\">\n<title>182&#45;&gt;183</title>\n<path fill=\"none\" stroke=\"#000000\" d=\"M13546.5,-400.9465C13546.5,-392.776 13546.5,-383.9318 13546.5,-375.3697\"/>\n<polygon fill=\"#000000\" stroke=\"#000000\" points=\"13550.0001,-375.13 13546.5,-365.13 13543.0001,-375.13 13550.0001,-375.13\"/>\n</g>\n<!-- 198 -->\n<g id=\"node199\" class=\"node\">\n<title>198</title>\n<path fill=\"#90c8f0\" stroke=\"#000000\" d=\"M14678.5,-365C14678.5,-365 14452.5,-365 14452.5,-365 14446.5,-365 14440.5,-359 14440.5,-353 14440.5,-353 14440.5,-309 14440.5,-309 14440.5,-303 14446.5,-297 14452.5,-297 14452.5,-297 14678.5,-297 14678.5,-297 14684.5,-297 14690.5,-303 14690.5,-309 14690.5,-309 14690.5,-353 14690.5,-353 14690.5,-359 14684.5,-365 14678.5,-365\"/>\n<text text-anchor=\"middle\" x=\"14565.5\" y=\"-349.8\" font-family=\"Helvetica,sans-Serif\" font-size=\"14.00\" fill=\"#000000\">occupation_Exec&#45;managerial &lt;= 0.5</text>\n<text text-anchor=\"middle\" x=\"14565.5\" y=\"-334.8\" font-family=\"Helvetica,sans-Serif\" font-size=\"14.00\" fill=\"#000000\">samples = 7.9%</text>\n<text text-anchor=\"middle\" x=\"14565.5\" y=\"-319.8\" font-family=\"Helvetica,sans-Serif\" font-size=\"14.00\" fill=\"#000000\">value = [0.306, 0.694]</text>\n<text text-anchor=\"middle\" x=\"14565.5\" y=\"-304.8\" font-family=\"Helvetica,sans-Serif\" font-size=\"14.00\" fill=\"#000000\">class = gt50K</text>\n</g>\n<!-- 182&#45;&gt;198 -->\n<g id=\"edge198\" class=\"edge\">\n<title>182&#45;&gt;198</title>\n<path fill=\"none\" stroke=\"#000000\" d=\"M13645.5962,-424.8862C13829.1406,-406.1535 14222.1823,-366.0393 14430.0963,-344.8194\"/>\n<polygon fill=\"#000000\" stroke=\"#000000\" points=\"14430.5678,-348.2896 14440.1607,-343.7922 14429.857,-341.3257 14430.5678,-348.2896\"/>\n</g>\n<!-- 184 -->\n<g id=\"node185\" class=\"node\">\n<title>184</title>\n<path fill=\"#83c2ef\" stroke=\"#000000\" d=\"M13459,-261C13459,-261 13286,-261 13286,-261 13280,-261 13274,-255 13274,-249 13274,-249 13274,-205 13274,-205 13274,-199 13280,-193 13286,-193 13286,-193 13459,-193 13459,-193 13465,-193 13471,-199 13471,-205 13471,-205 13471,-249 13471,-249 13471,-255 13465,-261 13459,-261\"/>\n<text text-anchor=\"middle\" x=\"13372.5\" y=\"-245.8\" font-family=\"Helvetica,sans-Serif\" font-size=\"14.00\" fill=\"#000000\">workclass_Local&#45;gov &lt;= 0.5</text>\n<text text-anchor=\"middle\" x=\"13372.5\" y=\"-230.8\" font-family=\"Helvetica,sans-Serif\" font-size=\"14.00\" fill=\"#000000\">samples = 1.0%</text>\n<text text-anchor=\"middle\" x=\"13372.5\" y=\"-215.8\" font-family=\"Helvetica,sans-Serif\" font-size=\"14.00\" fill=\"#000000\">value = [0.272, 0.728]</text>\n<text text-anchor=\"middle\" x=\"13372.5\" y=\"-200.8\" font-family=\"Helvetica,sans-Serif\" font-size=\"14.00\" fill=\"#000000\">class = gt50K</text>\n</g>\n<!-- 183&#45;&gt;184 -->\n<g id=\"edge184\" class=\"edge\">\n<title>183&#45;&gt;184</title>\n<path fill=\"none\" stroke=\"#000000\" d=\"M13489.5259,-296.9465C13473.1522,-287.1599 13455.1611,-276.4066 13438.3011,-266.3294\"/>\n<polygon fill=\"#000000\" stroke=\"#000000\" points=\"13439.9814,-263.2562 13429.6021,-261.13 13436.3901,-269.2648 13439.9814,-263.2562\"/>\n</g>\n<!-- 191 -->\n<g id=\"node192\" class=\"node\">\n<title>191</title>\n<path fill=\"#5aade9\" stroke=\"#000000\" d=\"M13806.5,-261C13806.5,-261 13624.5,-261 13624.5,-261 13618.5,-261 13612.5,-255 13612.5,-249 13612.5,-249 13612.5,-205 13612.5,-205 13612.5,-199 13618.5,-193 13624.5,-193 13624.5,-193 13806.5,-193 13806.5,-193 13812.5,-193 13818.5,-199 13818.5,-205 13818.5,-205 13818.5,-249 13818.5,-249 13818.5,-255 13812.5,-261 13806.5,-261\"/>\n<text text-anchor=\"middle\" x=\"13715.5\" y=\"-245.8\" font-family=\"Helvetica,sans-Serif\" font-size=\"14.00\" fill=\"#000000\">education_Prof&#45;school &lt;= 0.5</text>\n<text text-anchor=\"middle\" x=\"13715.5\" y=\"-230.8\" font-family=\"Helvetica,sans-Serif\" font-size=\"14.00\" fill=\"#000000\">samples = 3.8%</text>\n<text text-anchor=\"middle\" x=\"13715.5\" y=\"-215.8\" font-family=\"Helvetica,sans-Serif\" font-size=\"14.00\" fill=\"#000000\">value = [0.141, 0.859]</text>\n<text text-anchor=\"middle\" x=\"13715.5\" y=\"-200.8\" font-family=\"Helvetica,sans-Serif\" font-size=\"14.00\" fill=\"#000000\">class = gt50K</text>\n</g>\n<!-- 183&#45;&gt;191 -->\n<g id=\"edge191\" class=\"edge\">\n<title>183&#45;&gt;191</title>\n<path fill=\"none\" stroke=\"#000000\" d=\"M13601.8369,-296.9465C13617.5942,-287.2497 13634.8937,-276.6039 13651.1387,-266.6069\"/>\n<polygon fill=\"#000000\" stroke=\"#000000\" points=\"13653.3565,-269.3518 13660.0388,-261.13 13649.6878,-263.3902 13653.3565,-269.3518\"/>\n</g>\n<!-- 185 -->\n<g id=\"node186\" class=\"node\">\n<title>185</title>\n<path fill=\"#78bced\" stroke=\"#000000\" d=\"M13208.5,-157C13208.5,-157 13076.5,-157 13076.5,-157 13070.5,-157 13064.5,-151 13064.5,-145 13064.5,-145 13064.5,-101 13064.5,-101 13064.5,-95 13070.5,-89 13076.5,-89 13076.5,-89 13208.5,-89 13208.5,-89 13214.5,-89 13220.5,-95 13220.5,-101 13220.5,-101 13220.5,-145 13220.5,-145 13220.5,-151 13214.5,-157 13208.5,-157\"/>\n<text text-anchor=\"middle\" x=\"13142.5\" y=\"-141.8\" font-family=\"Helvetica,sans-Serif\" font-size=\"14.00\" fill=\"#000000\">age &lt;= 28.5</text>\n<text text-anchor=\"middle\" x=\"13142.5\" y=\"-126.8\" font-family=\"Helvetica,sans-Serif\" font-size=\"14.00\" fill=\"#000000\">samples = 0.9%</text>\n<text text-anchor=\"middle\" x=\"13142.5\" y=\"-111.8\" font-family=\"Helvetica,sans-Serif\" font-size=\"14.00\" fill=\"#000000\">value = [0.242, 0.758]</text>\n<text text-anchor=\"middle\" x=\"13142.5\" y=\"-96.8\" font-family=\"Helvetica,sans-Serif\" font-size=\"14.00\" fill=\"#000000\">class = gt50K</text>\n</g>\n<!-- 184&#45;&gt;185 -->\n<g id=\"edge185\" class=\"edge\">\n<title>184&#45;&gt;185</title>\n<path fill=\"none\" stroke=\"#000000\" d=\"M13297.1894,-192.9465C13274.851,-182.8457 13250.2352,-171.7151 13227.3364,-161.3608\"/>\n<polygon fill=\"#000000\" stroke=\"#000000\" points=\"13228.5337,-158.061 13217.9798,-157.13 13225.6495,-164.4393 13228.5337,-158.061\"/>\n</g>\n<!-- 188 -->\n<g id=\"node189\" class=\"node\">\n<title>188</title>\n<path fill=\"#ffffff\" stroke=\"#000000\" d=\"M13422,-157C13422,-157 13323,-157 13323,-157 13317,-157 13311,-151 13311,-145 13311,-145 13311,-101 13311,-101 13311,-95 13317,-89 13323,-89 13323,-89 13422,-89 13422,-89 13428,-89 13434,-95 13434,-101 13434,-101 13434,-145 13434,-145 13434,-151 13428,-157 13422,-157\"/>\n<text text-anchor=\"middle\" x=\"13372.5\" y=\"-141.8\" font-family=\"Helvetica,sans-Serif\" font-size=\"14.00\" fill=\"#000000\">age &lt;= 33.5</text>\n<text text-anchor=\"middle\" x=\"13372.5\" y=\"-126.8\" font-family=\"Helvetica,sans-Serif\" font-size=\"14.00\" fill=\"#000000\">samples = 0.1%</text>\n<text text-anchor=\"middle\" x=\"13372.5\" y=\"-111.8\" font-family=\"Helvetica,sans-Serif\" font-size=\"14.00\" fill=\"#000000\">value = [0.5, 0.5]</text>\n<text text-anchor=\"middle\" x=\"13372.5\" y=\"-96.8\" font-family=\"Helvetica,sans-Serif\" font-size=\"14.00\" fill=\"#000000\">class = lt50K</text>\n</g>\n<!-- 184&#45;&gt;188 -->\n<g id=\"edge188\" class=\"edge\">\n<title>184&#45;&gt;188</title>\n<path fill=\"none\" stroke=\"#000000\" d=\"M13372.5,-192.9465C13372.5,-184.776 13372.5,-175.9318 13372.5,-167.3697\"/>\n<polygon fill=\"#000000\" stroke=\"#000000\" points=\"13376.0001,-167.13 13372.5,-157.13 13369.0001,-167.13 13376.0001,-167.13\"/>\n</g>\n<!-- 186 -->\n<g id=\"node187\" class=\"node\">\n<title>186</title>\n<path fill=\"#bddef6\" stroke=\"#000000\" d=\"M13042,-53C13042,-53 12943,-53 12943,-53 12937,-53 12931,-47 12931,-41 12931,-41 12931,-12 12931,-12 12931,-6 12937,0 12943,0 12943,0 13042,0 13042,0 13048,0 13054,-6 13054,-12 13054,-12 13054,-41 13054,-41 13054,-47 13048,-53 13042,-53\"/>\n<text text-anchor=\"middle\" x=\"12992.5\" y=\"-37.8\" font-family=\"Helvetica,sans-Serif\" font-size=\"14.00\" fill=\"#000000\">samples = 0.1%</text>\n<text text-anchor=\"middle\" x=\"12992.5\" y=\"-22.8\" font-family=\"Helvetica,sans-Serif\" font-size=\"14.00\" fill=\"#000000\">value = [0.4, 0.6]</text>\n<text text-anchor=\"middle\" x=\"12992.5\" y=\"-7.8\" font-family=\"Helvetica,sans-Serif\" font-size=\"14.00\" fill=\"#000000\">class = gt50K</text>\n</g>\n<!-- 185&#45;&gt;186 -->\n<g id=\"edge186\" class=\"edge\">\n<title>185&#45;&gt;186</title>\n<path fill=\"none\" stroke=\"#000000\" d=\"M13089.6156,-88.9777C13074.3856,-79.1798 13057.8194,-68.5222 13042.7536,-58.8298\"/>\n<polygon fill=\"#000000\" stroke=\"#000000\" points=\"13044.3816,-55.7154 13034.0779,-53.2485 13040.5943,-61.6024 13044.3816,-55.7154\"/>\n</g>\n<!-- 187 -->\n<g id=\"node188\" class=\"node\">\n<title>187</title>\n<path fill=\"#71b9ec\" stroke=\"#000000\" d=\"M13200.5,-53C13200.5,-53 13084.5,-53 13084.5,-53 13078.5,-53 13072.5,-47 13072.5,-41 13072.5,-41 13072.5,-12 13072.5,-12 13072.5,-6 13078.5,0 13084.5,0 13084.5,0 13200.5,0 13200.5,0 13206.5,0 13212.5,-6 13212.5,-12 13212.5,-12 13212.5,-41 13212.5,-41 13212.5,-47 13206.5,-53 13200.5,-53\"/>\n<text text-anchor=\"middle\" x=\"13142.5\" y=\"-37.8\" font-family=\"Helvetica,sans-Serif\" font-size=\"14.00\" fill=\"#000000\">samples = 0.8%</text>\n<text text-anchor=\"middle\" x=\"13142.5\" y=\"-22.8\" font-family=\"Helvetica,sans-Serif\" font-size=\"14.00\" fill=\"#000000\">value = [0.22, 0.78]</text>\n<text text-anchor=\"middle\" x=\"13142.5\" y=\"-7.8\" font-family=\"Helvetica,sans-Serif\" font-size=\"14.00\" fill=\"#000000\">class = gt50K</text>\n</g>\n<!-- 185&#45;&gt;187 -->\n<g id=\"edge187\" class=\"edge\">\n<title>185&#45;&gt;187</title>\n<path fill=\"none\" stroke=\"#000000\" d=\"M13142.5,-88.9777C13142.5,-80.7364 13142.5,-71.887 13142.5,-63.5153\"/>\n<polygon fill=\"#000000\" stroke=\"#000000\" points=\"13146.0001,-63.2484 13142.5,-53.2485 13139.0001,-63.2485 13146.0001,-63.2484\"/>\n</g>\n<!-- 189 -->\n<g id=\"node190\" class=\"node\">\n<title>189</title>\n<path fill=\"#f3c6a5\" stroke=\"#000000\" d=\"M13374.5,-53C13374.5,-53 13242.5,-53 13242.5,-53 13236.5,-53 13230.5,-47 13230.5,-41 13230.5,-41 13230.5,-12 13230.5,-12 13230.5,-6 13236.5,0 13242.5,0 13242.5,0 13374.5,0 13374.5,0 13380.5,0 13386.5,-6 13386.5,-12 13386.5,-12 13386.5,-41 13386.5,-41 13386.5,-47 13380.5,-53 13374.5,-53\"/>\n<text text-anchor=\"middle\" x=\"13308.5\" y=\"-37.8\" font-family=\"Helvetica,sans-Serif\" font-size=\"14.00\" fill=\"#000000\">samples = 0.1%</text>\n<text text-anchor=\"middle\" x=\"13308.5\" y=\"-22.8\" font-family=\"Helvetica,sans-Serif\" font-size=\"14.00\" fill=\"#000000\">value = [0.647, 0.353]</text>\n<text text-anchor=\"middle\" x=\"13308.5\" y=\"-7.8\" font-family=\"Helvetica,sans-Serif\" font-size=\"14.00\" fill=\"#000000\">class = lt50K</text>\n</g>\n<!-- 188&#45;&gt;189 -->\n<g id=\"edge189\" class=\"edge\">\n<title>188&#45;&gt;189</title>\n<path fill=\"none\" stroke=\"#000000\" d=\"M13349.936,-88.9777C13344.1059,-80.187 13337.8169,-70.7044 13331.943,-61.8477\"/>\n<polygon fill=\"#000000\" stroke=\"#000000\" points=\"13334.6838,-59.6478 13326.2399,-53.2485 13328.8502,-63.5167 13334.6838,-59.6478\"/>\n</g>\n<!-- 190 -->\n<g id=\"node191\" class=\"node\">\n<title>190</title>\n<path fill=\"#72b9ec\" stroke=\"#000000\" d=\"M13548.5,-53C13548.5,-53 13416.5,-53 13416.5,-53 13410.5,-53 13404.5,-47 13404.5,-41 13404.5,-41 13404.5,-12 13404.5,-12 13404.5,-6 13410.5,0 13416.5,0 13416.5,0 13548.5,0 13548.5,0 13554.5,0 13560.5,-6 13560.5,-12 13560.5,-12 13560.5,-41 13560.5,-41 13560.5,-47 13554.5,-53 13548.5,-53\"/>\n<text text-anchor=\"middle\" x=\"13482.5\" y=\"-37.8\" font-family=\"Helvetica,sans-Serif\" font-size=\"14.00\" fill=\"#000000\">samples = 0.0%</text>\n<text text-anchor=\"middle\" x=\"13482.5\" y=\"-22.8\" font-family=\"Helvetica,sans-Serif\" font-size=\"14.00\" fill=\"#000000\">value = [0.222, 0.778]</text>\n<text text-anchor=\"middle\" x=\"13482.5\" y=\"-7.8\" font-family=\"Helvetica,sans-Serif\" font-size=\"14.00\" fill=\"#000000\">class = gt50K</text>\n</g>\n<!-- 188&#45;&gt;190 -->\n<g id=\"edge190\" class=\"edge\">\n<title>188&#45;&gt;190</title>\n<path fill=\"none\" stroke=\"#000000\" d=\"M13411.2819,-88.9777C13422.033,-79.546 13433.6922,-69.3178 13444.4038,-59.9208\"/>\n<polygon fill=\"#000000\" stroke=\"#000000\" points=\"13446.8004,-62.4743 13452.0095,-53.2485 13442.184,-57.2122 13446.8004,-62.4743\"/>\n</g>\n<!-- 192 -->\n<g id=\"node193\" class=\"node\">\n<title>192</title>\n<path fill=\"#5fb0ea\" stroke=\"#000000\" d=\"M13828.5,-157C13828.5,-157 13602.5,-157 13602.5,-157 13596.5,-157 13590.5,-151 13590.5,-145 13590.5,-145 13590.5,-101 13590.5,-101 13590.5,-95 13596.5,-89 13602.5,-89 13602.5,-89 13828.5,-89 13828.5,-89 13834.5,-89 13840.5,-95 13840.5,-101 13840.5,-101 13840.5,-145 13840.5,-145 13840.5,-151 13834.5,-157 13828.5,-157\"/>\n<text text-anchor=\"middle\" x=\"13715.5\" y=\"-141.8\" font-family=\"Helvetica,sans-Serif\" font-size=\"14.00\" fill=\"#000000\">occupation_Exec&#45;managerial &lt;= 0.5</text>\n<text text-anchor=\"middle\" x=\"13715.5\" y=\"-126.8\" font-family=\"Helvetica,sans-Serif\" font-size=\"14.00\" fill=\"#000000\">samples = 2.9%</text>\n<text text-anchor=\"middle\" x=\"13715.5\" y=\"-111.8\" font-family=\"Helvetica,sans-Serif\" font-size=\"14.00\" fill=\"#000000\">value = [0.161, 0.839]</text>\n<text text-anchor=\"middle\" x=\"13715.5\" y=\"-96.8\" font-family=\"Helvetica,sans-Serif\" font-size=\"14.00\" fill=\"#000000\">class = gt50K</text>\n</g>\n<!-- 191&#45;&gt;192 -->\n<g id=\"edge192\" class=\"edge\">\n<title>191&#45;&gt;192</title>\n<path fill=\"none\" stroke=\"#000000\" d=\"M13715.5,-192.9465C13715.5,-184.776 13715.5,-175.9318 13715.5,-167.3697\"/>\n<polygon fill=\"#000000\" stroke=\"#000000\" points=\"13719.0001,-167.13 13715.5,-157.13 13712.0001,-167.13 13719.0001,-167.13\"/>\n</g>\n<!-- 195 -->\n<g id=\"node196\" class=\"node\">\n<title>195</title>\n<path fill=\"#4aa5e7\" stroke=\"#000000\" d=\"M14062.5,-157C14062.5,-157 13930.5,-157 13930.5,-157 13924.5,-157 13918.5,-151 13918.5,-145 13918.5,-145 13918.5,-101 13918.5,-101 13918.5,-95 13924.5,-89 13930.5,-89 13930.5,-89 14062.5,-89 14062.5,-89 14068.5,-89 14074.5,-95 14074.5,-101 14074.5,-101 14074.5,-145 14074.5,-145 14074.5,-151 14068.5,-157 14062.5,-157\"/>\n<text text-anchor=\"middle\" x=\"13996.5\" y=\"-141.8\" font-family=\"Helvetica,sans-Serif\" font-size=\"14.00\" fill=\"#000000\">age &lt;= 72.5</text>\n<text text-anchor=\"middle\" x=\"13996.5\" y=\"-126.8\" font-family=\"Helvetica,sans-Serif\" font-size=\"14.00\" fill=\"#000000\">samples = 0.9%</text>\n<text text-anchor=\"middle\" x=\"13996.5\" y=\"-111.8\" font-family=\"Helvetica,sans-Serif\" font-size=\"14.00\" fill=\"#000000\">value = [0.077, 0.923]</text>\n<text text-anchor=\"middle\" x=\"13996.5\" y=\"-96.8\" font-family=\"Helvetica,sans-Serif\" font-size=\"14.00\" fill=\"#000000\">class = gt50K</text>\n</g>\n<!-- 191&#45;&gt;195 -->\n<g id=\"edge195\" class=\"edge\">\n<title>191&#45;&gt;195</title>\n<path fill=\"none\" stroke=\"#000000\" d=\"M13807.5099,-192.9465C13840.1424,-180.869 13876.7527,-167.3193 13908.9988,-155.3848\"/>\n<polygon fill=\"#000000\" stroke=\"#000000\" points=\"13910.249,-158.6542 13918.4125,-151.9007 13907.8193,-152.0894 13910.249,-158.6542\"/>\n</g>\n<!-- 193 -->\n<g id=\"node194\" class=\"node\">\n<title>193</title>\n<path fill=\"#6ab5eb\" stroke=\"#000000\" d=\"M13722.5,-53C13722.5,-53 13590.5,-53 13590.5,-53 13584.5,-53 13578.5,-47 13578.5,-41 13578.5,-41 13578.5,-12 13578.5,-12 13578.5,-6 13584.5,0 13590.5,0 13590.5,0 13722.5,0 13722.5,0 13728.5,0 13734.5,-6 13734.5,-12 13734.5,-12 13734.5,-41 13734.5,-41 13734.5,-47 13728.5,-53 13722.5,-53\"/>\n<text text-anchor=\"middle\" x=\"13656.5\" y=\"-37.8\" font-family=\"Helvetica,sans-Serif\" font-size=\"14.00\" fill=\"#000000\">samples = 1.9%</text>\n<text text-anchor=\"middle\" x=\"13656.5\" y=\"-22.8\" font-family=\"Helvetica,sans-Serif\" font-size=\"14.00\" fill=\"#000000\">value = [0.199, 0.801]</text>\n<text text-anchor=\"middle\" x=\"13656.5\" y=\"-7.8\" font-family=\"Helvetica,sans-Serif\" font-size=\"14.00\" fill=\"#000000\">class = gt50K</text>\n</g>\n<!-- 192&#45;&gt;193 -->\n<g id=\"edge193\" class=\"edge\">\n<title>192&#45;&gt;193</title>\n<path fill=\"none\" stroke=\"#000000\" d=\"M13694.6988,-88.9777C13689.3242,-80.187 13683.5265,-70.7044 13678.1115,-61.8477\"/>\n<polygon fill=\"#000000\" stroke=\"#000000\" points=\"13681.0564,-59.9545 13672.854,-53.2485 13675.0842,-63.6059 13681.0564,-59.9545\"/>\n</g>\n<!-- 194 -->\n<g id=\"node195\" class=\"node\">\n<title>194</title>\n<path fill=\"#4ca6e8\" stroke=\"#000000\" d=\"M13896.5,-53C13896.5,-53 13764.5,-53 13764.5,-53 13758.5,-53 13752.5,-47 13752.5,-41 13752.5,-41 13752.5,-12 13752.5,-12 13752.5,-6 13758.5,0 13764.5,0 13764.5,0 13896.5,0 13896.5,0 13902.5,0 13908.5,-6 13908.5,-12 13908.5,-12 13908.5,-41 13908.5,-41 13908.5,-47 13902.5,-53 13896.5,-53\"/>\n<text text-anchor=\"middle\" x=\"13830.5\" y=\"-37.8\" font-family=\"Helvetica,sans-Serif\" font-size=\"14.00\" fill=\"#000000\">samples = 1.0%</text>\n<text text-anchor=\"middle\" x=\"13830.5\" y=\"-22.8\" font-family=\"Helvetica,sans-Serif\" font-size=\"14.00\" fill=\"#000000\">value = [0.088, 0.912]</text>\n<text text-anchor=\"middle\" x=\"13830.5\" y=\"-7.8\" font-family=\"Helvetica,sans-Serif\" font-size=\"14.00\" fill=\"#000000\">class = gt50K</text>\n</g>\n<!-- 192&#45;&gt;194 -->\n<g id=\"edge194\" class=\"edge\">\n<title>192&#45;&gt;194</title>\n<path fill=\"none\" stroke=\"#000000\" d=\"M13756.0447,-88.9777C13767.2845,-79.546 13779.4736,-69.3178 13790.6721,-59.9208\"/>\n<polygon fill=\"#000000\" stroke=\"#000000\" points=\"13793.213,-62.3576 13798.6236,-53.2485 13788.7134,-56.9954 13793.213,-62.3576\"/>\n</g>\n<!-- 196 -->\n<g id=\"node197\" class=\"node\">\n<title>196</title>\n<path fill=\"#46a3e7\" stroke=\"#000000\" d=\"M14054.5,-53C14054.5,-53 13938.5,-53 13938.5,-53 13932.5,-53 13926.5,-47 13926.5,-41 13926.5,-41 13926.5,-12 13926.5,-12 13926.5,-6 13932.5,0 13938.5,0 13938.5,0 14054.5,0 14054.5,0 14060.5,0 14066.5,-6 14066.5,-12 14066.5,-12 14066.5,-41 14066.5,-41 14066.5,-47 14060.5,-53 14054.5,-53\"/>\n<text text-anchor=\"middle\" x=\"13996.5\" y=\"-37.8\" font-family=\"Helvetica,sans-Serif\" font-size=\"14.00\" fill=\"#000000\">samples = 0.9%</text>\n<text text-anchor=\"middle\" x=\"13996.5\" y=\"-22.8\" font-family=\"Helvetica,sans-Serif\" font-size=\"14.00\" fill=\"#000000\">value = [0.06, 0.94]</text>\n<text text-anchor=\"middle\" x=\"13996.5\" y=\"-7.8\" font-family=\"Helvetica,sans-Serif\" font-size=\"14.00\" fill=\"#000000\">class = gt50K</text>\n</g>\n<!-- 195&#45;&gt;196 -->\n<g id=\"edge196\" class=\"edge\">\n<title>195&#45;&gt;196</title>\n<path fill=\"none\" stroke=\"#000000\" d=\"M13996.5,-88.9777C13996.5,-80.7364 13996.5,-71.887 13996.5,-63.5153\"/>\n<polygon fill=\"#000000\" stroke=\"#000000\" points=\"14000.0001,-63.2484 13996.5,-53.2485 13993.0001,-63.2485 14000.0001,-63.2484\"/>\n</g>\n<!-- 197 -->\n<g id=\"node198\" class=\"node\">\n<title>197</title>\n<path fill=\"#ffffff\" stroke=\"#000000\" d=\"M14196,-53C14196,-53 14097,-53 14097,-53 14091,-53 14085,-47 14085,-41 14085,-41 14085,-12 14085,-12 14085,-6 14091,0 14097,0 14097,0 14196,0 14196,0 14202,0 14208,-6 14208,-12 14208,-12 14208,-41 14208,-41 14208,-47 14202,-53 14196,-53\"/>\n<text text-anchor=\"middle\" x=\"14146.5\" y=\"-37.8\" font-family=\"Helvetica,sans-Serif\" font-size=\"14.00\" fill=\"#000000\">samples = 0.0%</text>\n<text text-anchor=\"middle\" x=\"14146.5\" y=\"-22.8\" font-family=\"Helvetica,sans-Serif\" font-size=\"14.00\" fill=\"#000000\">value = [0.5, 0.5]</text>\n<text text-anchor=\"middle\" x=\"14146.5\" y=\"-7.8\" font-family=\"Helvetica,sans-Serif\" font-size=\"14.00\" fill=\"#000000\">class = lt50K</text>\n</g>\n<!-- 195&#45;&gt;197 -->\n<g id=\"edge197\" class=\"edge\">\n<title>195&#45;&gt;197</title>\n<path fill=\"none\" stroke=\"#000000\" d=\"M14049.3844,-88.9777C14064.6144,-79.1798 14081.1806,-68.5222 14096.2464,-58.8298\"/>\n<polygon fill=\"#000000\" stroke=\"#000000\" points=\"14098.4057,-61.6024 14104.9221,-53.2485 14094.6184,-55.7154 14098.4057,-61.6024\"/>\n</g>\n<!-- 199 -->\n<g id=\"node200\" class=\"node\">\n<title>199</title>\n<path fill=\"#a4d2f3\" stroke=\"#000000\" d=\"M14631.5,-261C14631.5,-261 14499.5,-261 14499.5,-261 14493.5,-261 14487.5,-255 14487.5,-249 14487.5,-249 14487.5,-205 14487.5,-205 14487.5,-199 14493.5,-193 14499.5,-193 14499.5,-193 14631.5,-193 14631.5,-193 14637.5,-193 14643.5,-199 14643.5,-205 14643.5,-205 14643.5,-249 14643.5,-249 14643.5,-255 14637.5,-261 14631.5,-261\"/>\n<text text-anchor=\"middle\" x=\"14565.5\" y=\"-245.8\" font-family=\"Helvetica,sans-Serif\" font-size=\"14.00\" fill=\"#000000\">age &lt;= 25.5</text>\n<text text-anchor=\"middle\" x=\"14565.5\" y=\"-230.8\" font-family=\"Helvetica,sans-Serif\" font-size=\"14.00\" fill=\"#000000\">samples = 5.4%</text>\n<text text-anchor=\"middle\" x=\"14565.5\" y=\"-215.8\" font-family=\"Helvetica,sans-Serif\" font-size=\"14.00\" fill=\"#000000\">value = [0.352, 0.648]</text>\n<text text-anchor=\"middle\" x=\"14565.5\" y=\"-200.8\" font-family=\"Helvetica,sans-Serif\" font-size=\"14.00\" fill=\"#000000\">class = gt50K</text>\n</g>\n<!-- 198&#45;&gt;199 -->\n<g id=\"edge199\" class=\"edge\">\n<title>198&#45;&gt;199</title>\n<path fill=\"none\" stroke=\"#000000\" d=\"M14565.5,-296.9465C14565.5,-288.776 14565.5,-279.9318 14565.5,-271.3697\"/>\n<polygon fill=\"#000000\" stroke=\"#000000\" points=\"14569.0001,-271.13 14565.5,-261.13 14562.0001,-271.13 14569.0001,-271.13\"/>\n</g>\n<!-- 206 -->\n<g id=\"node207\" class=\"node\">\n<title>206</title>\n<path fill=\"#6cb6ec\" stroke=\"#000000\" d=\"M15192,-261C15192,-261 14977,-261 14977,-261 14971,-261 14965,-255 14965,-249 14965,-249 14965,-205 14965,-205 14965,-199 14971,-193 14977,-193 14977,-193 15192,-193 15192,-193 15198,-193 15204,-199 15204,-205 15204,-205 15204,-249 15204,-249 15204,-255 15198,-261 15192,-261\"/>\n<text text-anchor=\"middle\" x=\"15084.5\" y=\"-245.8\" font-family=\"Helvetica,sans-Serif\" font-size=\"14.00\" fill=\"#000000\">workclass_Self&#45;emp&#45;not&#45;inc &lt;= 0.5</text>\n<text text-anchor=\"middle\" x=\"15084.5\" y=\"-230.8\" font-family=\"Helvetica,sans-Serif\" font-size=\"14.00\" fill=\"#000000\">samples = 2.5%</text>\n<text text-anchor=\"middle\" x=\"15084.5\" y=\"-215.8\" font-family=\"Helvetica,sans-Serif\" font-size=\"14.00\" fill=\"#000000\">value = [0.206, 0.794]</text>\n<text text-anchor=\"middle\" x=\"15084.5\" y=\"-200.8\" font-family=\"Helvetica,sans-Serif\" font-size=\"14.00\" fill=\"#000000\">class = gt50K</text>\n</g>\n<!-- 198&#45;&gt;206 -->\n<g id=\"edge206\" class=\"edge\">\n<title>198&#45;&gt;206</title>\n<path fill=\"none\" stroke=\"#000000\" d=\"M14690.8045,-305.8908C14770.6326,-289.8944 14873.8353,-269.2141 14954.5484,-253.0404\"/>\n<polygon fill=\"#000000\" stroke=\"#000000\" points=\"14955.6603,-256.3873 14964.7777,-250.9906 14954.2849,-249.5237 14955.6603,-256.3873\"/>\n</g>\n<!-- 200 -->\n<g id=\"node201\" class=\"node\">\n<title>200</title>\n<path fill=\"#eda877\" stroke=\"#000000\" d=\"M14523.5,-157C14523.5,-157 14391.5,-157 14391.5,-157 14385.5,-157 14379.5,-151 14379.5,-145 14379.5,-145 14379.5,-101 14379.5,-101 14379.5,-95 14385.5,-89 14391.5,-89 14391.5,-89 14523.5,-89 14523.5,-89 14529.5,-89 14535.5,-95 14535.5,-101 14535.5,-101 14535.5,-145 14535.5,-145 14535.5,-151 14529.5,-157 14523.5,-157\"/>\n<text text-anchor=\"middle\" x=\"14457.5\" y=\"-141.8\" font-family=\"Helvetica,sans-Serif\" font-size=\"14.00\" fill=\"#000000\">age &lt;= 24.5</text>\n<text text-anchor=\"middle\" x=\"14457.5\" y=\"-126.8\" font-family=\"Helvetica,sans-Serif\" font-size=\"14.00\" fill=\"#000000\">samples = 0.2%</text>\n<text text-anchor=\"middle\" x=\"14457.5\" y=\"-111.8\" font-family=\"Helvetica,sans-Serif\" font-size=\"14.00\" fill=\"#000000\">value = [0.762, 0.238]</text>\n<text text-anchor=\"middle\" x=\"14457.5\" y=\"-96.8\" font-family=\"Helvetica,sans-Serif\" font-size=\"14.00\" fill=\"#000000\">class = lt50K</text>\n</g>\n<!-- 199&#45;&gt;200 -->\n<g id=\"edge200\" class=\"edge\">\n<title>199&#45;&gt;200</title>\n<path fill=\"none\" stroke=\"#000000\" d=\"M14530.1368,-192.9465C14520.6264,-183.7884 14510.237,-173.7838 14500.3665,-164.2788\"/>\n<polygon fill=\"#000000\" stroke=\"#000000\" points=\"14502.5737,-161.5453 14492.9427,-157.13 14497.7182,-166.5876 14502.5737,-161.5453\"/>\n</g>\n<!-- 203 -->\n<g id=\"node204\" class=\"node\">\n<title>203</title>\n<path fill=\"#9ecff2\" stroke=\"#000000\" d=\"M14781,-157C14781,-157 14566,-157 14566,-157 14560,-157 14554,-151 14554,-145 14554,-145 14554,-101 14554,-101 14554,-95 14560,-89 14566,-89 14566,-89 14781,-89 14781,-89 14787,-89 14793,-95 14793,-101 14793,-101 14793,-145 14793,-145 14793,-151 14787,-157 14781,-157\"/>\n<text text-anchor=\"middle\" x=\"14673.5\" y=\"-141.8\" font-family=\"Helvetica,sans-Serif\" font-size=\"14.00\" fill=\"#000000\">workclass_Self&#45;emp&#45;not&#45;inc &lt;= 0.5</text>\n<text text-anchor=\"middle\" x=\"14673.5\" y=\"-126.8\" font-family=\"Helvetica,sans-Serif\" font-size=\"14.00\" fill=\"#000000\">samples = 5.2%</text>\n<text text-anchor=\"middle\" x=\"14673.5\" y=\"-111.8\" font-family=\"Helvetica,sans-Serif\" font-size=\"14.00\" fill=\"#000000\">value = [0.337, 0.663]</text>\n<text text-anchor=\"middle\" x=\"14673.5\" y=\"-96.8\" font-family=\"Helvetica,sans-Serif\" font-size=\"14.00\" fill=\"#000000\">class = gt50K</text>\n</g>\n<!-- 199&#45;&gt;203 -->\n<g id=\"edge203\" class=\"edge\">\n<title>199&#45;&gt;203</title>\n<path fill=\"none\" stroke=\"#000000\" d=\"M14600.8632,-192.9465C14610.3736,-183.7884 14620.763,-173.7838 14630.6335,-164.2788\"/>\n<polygon fill=\"#000000\" stroke=\"#000000\" points=\"14633.2818,-166.5876 14638.0573,-157.13 14628.4263,-161.5453 14633.2818,-166.5876\"/>\n</g>\n<!-- 201 -->\n<g id=\"node202\" class=\"node\">\n<title>201</title>\n<path fill=\"#e89050\" stroke=\"#000000\" d=\"M14370.5,-53C14370.5,-53 14238.5,-53 14238.5,-53 14232.5,-53 14226.5,-47 14226.5,-41 14226.5,-41 14226.5,-12 14226.5,-12 14226.5,-6 14232.5,0 14238.5,0 14238.5,0 14370.5,0 14370.5,0 14376.5,0 14382.5,-6 14382.5,-12 14382.5,-12 14382.5,-41 14382.5,-41 14382.5,-47 14376.5,-53 14370.5,-53\"/>\n<text text-anchor=\"middle\" x=\"14304.5\" y=\"-37.8\" font-family=\"Helvetica,sans-Serif\" font-size=\"14.00\" fill=\"#000000\">samples = 0.1%</text>\n<text text-anchor=\"middle\" x=\"14304.5\" y=\"-22.8\" font-family=\"Helvetica,sans-Serif\" font-size=\"14.00\" fill=\"#000000\">value = [0.895, 0.105]</text>\n<text text-anchor=\"middle\" x=\"14304.5\" y=\"-7.8\" font-family=\"Helvetica,sans-Serif\" font-size=\"14.00\" fill=\"#000000\">class = lt50K</text>\n</g>\n<!-- 200&#45;&gt;201 -->\n<g id=\"edge201\" class=\"edge\">\n<title>200&#45;&gt;201</title>\n<path fill=\"none\" stroke=\"#000000\" d=\"M14403.5579,-88.9777C14388.0233,-79.1798 14371.1258,-68.5222 14355.7587,-58.8298\"/>\n<polygon fill=\"#000000\" stroke=\"#000000\" points=\"14357.2349,-55.6229 14346.9095,-53.2485 14353.5005,-61.5436 14357.2349,-55.6229\"/>\n</g>\n<!-- 202 -->\n<g id=\"node203\" class=\"node\">\n<title>202</title>\n<path fill=\"#f3c4a3\" stroke=\"#000000\" d=\"M14544.5,-53C14544.5,-53 14412.5,-53 14412.5,-53 14406.5,-53 14400.5,-47 14400.5,-41 14400.5,-41 14400.5,-12 14400.5,-12 14400.5,-6 14406.5,0 14412.5,0 14412.5,0 14544.5,0 14544.5,0 14550.5,0 14556.5,-6 14556.5,-12 14556.5,-12 14556.5,-41 14556.5,-41 14556.5,-47 14550.5,-53 14544.5,-53\"/>\n<text text-anchor=\"middle\" x=\"14478.5\" y=\"-37.8\" font-family=\"Helvetica,sans-Serif\" font-size=\"14.00\" fill=\"#000000\">samples = 0.1%</text>\n<text text-anchor=\"middle\" x=\"14478.5\" y=\"-22.8\" font-family=\"Helvetica,sans-Serif\" font-size=\"14.00\" fill=\"#000000\">value = [0.652, 0.348]</text>\n<text text-anchor=\"middle\" x=\"14478.5\" y=\"-7.8\" font-family=\"Helvetica,sans-Serif\" font-size=\"14.00\" fill=\"#000000\">class = lt50K</text>\n</g>\n<!-- 200&#45;&gt;202 -->\n<g id=\"edge202\" class=\"edge\">\n<title>200&#45;&gt;202</title>\n<path fill=\"none\" stroke=\"#000000\" d=\"M14464.9038,-88.9777C14466.7172,-80.6449 14468.6659,-71.6903 14470.5055,-63.2364\"/>\n<polygon fill=\"#000000\" stroke=\"#000000\" points=\"14473.9726,-63.7641 14472.6791,-53.2485 14467.1327,-62.2755 14473.9726,-63.7641\"/>\n</g>\n<!-- 204 -->\n<g id=\"node205\" class=\"node\">\n<title>204</title>\n<path fill=\"#96cbf1\" stroke=\"#000000\" d=\"M14718.5,-53C14718.5,-53 14586.5,-53 14586.5,-53 14580.5,-53 14574.5,-47 14574.5,-41 14574.5,-41 14574.5,-12 14574.5,-12 14574.5,-6 14580.5,0 14586.5,0 14586.5,0 14718.5,0 14718.5,0 14724.5,0 14730.5,-6 14730.5,-12 14730.5,-12 14730.5,-41 14730.5,-41 14730.5,-47 14724.5,-53 14718.5,-53\"/>\n<text text-anchor=\"middle\" x=\"14652.5\" y=\"-37.8\" font-family=\"Helvetica,sans-Serif\" font-size=\"14.00\" fill=\"#000000\">samples = 4.7%</text>\n<text text-anchor=\"middle\" x=\"14652.5\" y=\"-22.8\" font-family=\"Helvetica,sans-Serif\" font-size=\"14.00\" fill=\"#000000\">value = [0.319, 0.681]</text>\n<text text-anchor=\"middle\" x=\"14652.5\" y=\"-7.8\" font-family=\"Helvetica,sans-Serif\" font-size=\"14.00\" fill=\"#000000\">class = gt50K</text>\n</g>\n<!-- 203&#45;&gt;204 -->\n<g id=\"edge204\" class=\"edge\">\n<title>203&#45;&gt;204</title>\n<path fill=\"none\" stroke=\"#000000\" d=\"M14666.0962,-88.9777C14664.2828,-80.6449 14662.3341,-71.6903 14660.4945,-63.2364\"/>\n<polygon fill=\"#000000\" stroke=\"#000000\" points=\"14663.8673,-62.2755 14658.3209,-53.2485 14657.0274,-63.7641 14663.8673,-62.2755\"/>\n</g>\n<!-- 205 -->\n<g id=\"node206\" class=\"node\">\n<title>205</title>\n<path fill=\"#fffdfc\" stroke=\"#000000\" d=\"M14892.5,-53C14892.5,-53 14760.5,-53 14760.5,-53 14754.5,-53 14748.5,-47 14748.5,-41 14748.5,-41 14748.5,-12 14748.5,-12 14748.5,-6 14754.5,0 14760.5,0 14760.5,0 14892.5,0 14892.5,0 14898.5,0 14904.5,-6 14904.5,-12 14904.5,-12 14904.5,-41 14904.5,-41 14904.5,-47 14898.5,-53 14892.5,-53\"/>\n<text text-anchor=\"middle\" x=\"14826.5\" y=\"-37.8\" font-family=\"Helvetica,sans-Serif\" font-size=\"14.00\" fill=\"#000000\">samples = 0.5%</text>\n<text text-anchor=\"middle\" x=\"14826.5\" y=\"-22.8\" font-family=\"Helvetica,sans-Serif\" font-size=\"14.00\" fill=\"#000000\">value = [0.504, 0.496]</text>\n<text text-anchor=\"middle\" x=\"14826.5\" y=\"-7.8\" font-family=\"Helvetica,sans-Serif\" font-size=\"14.00\" fill=\"#000000\">class = lt50K</text>\n</g>\n<!-- 203&#45;&gt;205 -->\n<g id=\"edge205\" class=\"edge\">\n<title>203&#45;&gt;205</title>\n<path fill=\"none\" stroke=\"#000000\" d=\"M14727.4421,-88.9777C14742.9767,-79.1798 14759.8742,-68.5222 14775.2413,-58.8298\"/>\n<polygon fill=\"#000000\" stroke=\"#000000\" points=\"14777.4995,-61.5436 14784.0905,-53.2485 14773.7651,-55.6229 14777.4995,-61.5436\"/>\n</g>\n<!-- 207 -->\n<g id=\"node208\" class=\"node\">\n<title>207</title>\n<path fill=\"#64b2eb\" stroke=\"#000000\" d=\"M15156.5,-157C15156.5,-157 15012.5,-157 15012.5,-157 15006.5,-157 15000.5,-151 15000.5,-145 15000.5,-145 15000.5,-101 15000.5,-101 15000.5,-95 15006.5,-89 15012.5,-89 15012.5,-89 15156.5,-89 15156.5,-89 15162.5,-89 15168.5,-95 15168.5,-101 15168.5,-101 15168.5,-145 15168.5,-145 15168.5,-151 15162.5,-157 15156.5,-157\"/>\n<text text-anchor=\"middle\" x=\"15084.5\" y=\"-141.8\" font-family=\"Helvetica,sans-Serif\" font-size=\"14.00\" fill=\"#000000\">hours.per.week &lt;= 68.0</text>\n<text text-anchor=\"middle\" x=\"15084.5\" y=\"-126.8\" font-family=\"Helvetica,sans-Serif\" font-size=\"14.00\" fill=\"#000000\">samples = 2.3%</text>\n<text text-anchor=\"middle\" x=\"15084.5\" y=\"-111.8\" font-family=\"Helvetica,sans-Serif\" font-size=\"14.00\" fill=\"#000000\">value = [0.179, 0.821]</text>\n<text text-anchor=\"middle\" x=\"15084.5\" y=\"-96.8\" font-family=\"Helvetica,sans-Serif\" font-size=\"14.00\" fill=\"#000000\">class = gt50K</text>\n</g>\n<!-- 206&#45;&gt;207 -->\n<g id=\"edge207\" class=\"edge\">\n<title>206&#45;&gt;207</title>\n<path fill=\"none\" stroke=\"#000000\" d=\"M15084.5,-192.9465C15084.5,-184.776 15084.5,-175.9318 15084.5,-167.3697\"/>\n<polygon fill=\"#000000\" stroke=\"#000000\" points=\"15088.0001,-167.13 15084.5,-157.13 15081.0001,-167.13 15088.0001,-167.13\"/>\n</g>\n<!-- 210 -->\n<g id=\"node211\" class=\"node\">\n<title>210</title>\n<path fill=\"#fdf4ee\" stroke=\"#000000\" d=\"M15414.5,-157C15414.5,-157 15282.5,-157 15282.5,-157 15276.5,-157 15270.5,-151 15270.5,-145 15270.5,-145 15270.5,-101 15270.5,-101 15270.5,-95 15276.5,-89 15282.5,-89 15282.5,-89 15414.5,-89 15414.5,-89 15420.5,-89 15426.5,-95 15426.5,-101 15426.5,-101 15426.5,-145 15426.5,-145 15426.5,-151 15420.5,-157 15414.5,-157\"/>\n<text text-anchor=\"middle\" x=\"15348.5\" y=\"-141.8\" font-family=\"Helvetica,sans-Serif\" font-size=\"14.00\" fill=\"#000000\">age &lt;= 43.5</text>\n<text text-anchor=\"middle\" x=\"15348.5\" y=\"-126.8\" font-family=\"Helvetica,sans-Serif\" font-size=\"14.00\" fill=\"#000000\">samples = 0.2%</text>\n<text text-anchor=\"middle\" x=\"15348.5\" y=\"-111.8\" font-family=\"Helvetica,sans-Serif\" font-size=\"14.00\" fill=\"#000000\">value = [0.523, 0.477]</text>\n<text text-anchor=\"middle\" x=\"15348.5\" y=\"-96.8\" font-family=\"Helvetica,sans-Serif\" font-size=\"14.00\" fill=\"#000000\">class = lt50K</text>\n</g>\n<!-- 206&#45;&gt;210 -->\n<g id=\"edge210\" class=\"edge\">\n<title>206&#45;&gt;210</title>\n<path fill=\"none\" stroke=\"#000000\" d=\"M15170.9435,-192.9465C15199.7209,-181.61 15231.7909,-168.9763 15260.6721,-157.5989\"/>\n<polygon fill=\"#000000\" stroke=\"#000000\" points=\"15262.3137,-160.714 15270.335,-153.7923 15259.748,-154.2012 15262.3137,-160.714\"/>\n</g>\n<!-- 208 -->\n<g id=\"node209\" class=\"node\">\n<title>208</title>\n<path fill=\"#60b0ea\" stroke=\"#000000\" d=\"M15066.5,-53C15066.5,-53 14934.5,-53 14934.5,-53 14928.5,-53 14922.5,-47 14922.5,-41 14922.5,-41 14922.5,-12 14922.5,-12 14922.5,-6 14928.5,0 14934.5,0 14934.5,0 15066.5,0 15066.5,0 15072.5,0 15078.5,-6 15078.5,-12 15078.5,-12 15078.5,-41 15078.5,-41 15078.5,-47 15072.5,-53 15066.5,-53\"/>\n<text text-anchor=\"middle\" x=\"15000.5\" y=\"-37.8\" font-family=\"Helvetica,sans-Serif\" font-size=\"14.00\" fill=\"#000000\">samples = 2.2%</text>\n<text text-anchor=\"middle\" x=\"15000.5\" y=\"-22.8\" font-family=\"Helvetica,sans-Serif\" font-size=\"14.00\" fill=\"#000000\">value = [0.164, 0.836]</text>\n<text text-anchor=\"middle\" x=\"15000.5\" y=\"-7.8\" font-family=\"Helvetica,sans-Serif\" font-size=\"14.00\" fill=\"#000000\">class = gt50K</text>\n</g>\n<!-- 207&#45;&gt;208 -->\n<g id=\"edge208\" class=\"edge\">\n<title>207&#45;&gt;208</title>\n<path fill=\"none\" stroke=\"#000000\" d=\"M15054.8847,-88.9777C15046.9936,-79.9123 15038.4619,-70.111 15030.5478,-61.0192\"/>\n<polygon fill=\"#000000\" stroke=\"#000000\" points=\"15032.9893,-58.4932 15023.7836,-53.2485 15027.7094,-63.0892 15032.9893,-58.4932\"/>\n</g>\n<!-- 209 -->\n<g id=\"node210\" class=\"node\">\n<title>209</title>\n<path fill=\"#eda774\" stroke=\"#000000\" d=\"M15240.5,-53C15240.5,-53 15108.5,-53 15108.5,-53 15102.5,-53 15096.5,-47 15096.5,-41 15096.5,-41 15096.5,-12 15096.5,-12 15096.5,-6 15102.5,0 15108.5,0 15108.5,0 15240.5,0 15240.5,0 15246.5,0 15252.5,-6 15252.5,-12 15252.5,-12 15252.5,-41 15252.5,-41 15252.5,-47 15246.5,-53 15240.5,-53\"/>\n<text text-anchor=\"middle\" x=\"15174.5\" y=\"-37.8\" font-family=\"Helvetica,sans-Serif\" font-size=\"14.00\" fill=\"#000000\">samples = 0.1%</text>\n<text text-anchor=\"middle\" x=\"15174.5\" y=\"-22.8\" font-family=\"Helvetica,sans-Serif\" font-size=\"14.00\" fill=\"#000000\">value = [0.769, 0.231]</text>\n<text text-anchor=\"middle\" x=\"15174.5\" y=\"-7.8\" font-family=\"Helvetica,sans-Serif\" font-size=\"14.00\" fill=\"#000000\">class = lt50K</text>\n</g>\n<!-- 207&#45;&gt;209 -->\n<g id=\"edge209\" class=\"edge\">\n<title>207&#45;&gt;209</title>\n<path fill=\"none\" stroke=\"#000000\" d=\"M15116.2306,-88.9777C15124.7708,-79.8207 15134.0113,-69.9129 15142.5626,-60.744\"/>\n<polygon fill=\"#000000\" stroke=\"#000000\" points=\"15145.2923,-62.9488 15149.5532,-53.2485 15140.1731,-58.1744 15145.2923,-62.9488\"/>\n</g>\n<!-- 211 -->\n<g id=\"node212\" class=\"node\">\n<title>211</title>\n<path fill=\"#f0b58b\" stroke=\"#000000\" d=\"M15414.5,-53C15414.5,-53 15282.5,-53 15282.5,-53 15276.5,-53 15270.5,-47 15270.5,-41 15270.5,-41 15270.5,-12 15270.5,-12 15270.5,-6 15276.5,0 15282.5,0 15282.5,0 15414.5,0 15414.5,0 15420.5,0 15426.5,-6 15426.5,-12 15426.5,-12 15426.5,-41 15426.5,-41 15426.5,-47 15420.5,-53 15414.5,-53\"/>\n<text text-anchor=\"middle\" x=\"15348.5\" y=\"-37.8\" font-family=\"Helvetica,sans-Serif\" font-size=\"14.00\" fill=\"#000000\">samples = 0.1%</text>\n<text text-anchor=\"middle\" x=\"15348.5\" y=\"-22.8\" font-family=\"Helvetica,sans-Serif\" font-size=\"14.00\" fill=\"#000000\">value = [0.706, 0.294]</text>\n<text text-anchor=\"middle\" x=\"15348.5\" y=\"-7.8\" font-family=\"Helvetica,sans-Serif\" font-size=\"14.00\" fill=\"#000000\">class = lt50K</text>\n</g>\n<!-- 210&#45;&gt;211 -->\n<g id=\"edge211\" class=\"edge\">\n<title>210&#45;&gt;211</title>\n<path fill=\"none\" stroke=\"#000000\" d=\"M15348.5,-88.9777C15348.5,-80.7364 15348.5,-71.887 15348.5,-63.5153\"/>\n<polygon fill=\"#000000\" stroke=\"#000000\" points=\"15352.0001,-63.2484 15348.5,-53.2485 15345.0001,-63.2485 15352.0001,-63.2484\"/>\n</g>\n<!-- 212 -->\n<g id=\"node213\" class=\"node\">\n<title>212</title>\n<path fill=\"#c1e0f7\" stroke=\"#000000\" d=\"M15588.5,-53C15588.5,-53 15456.5,-53 15456.5,-53 15450.5,-53 15444.5,-47 15444.5,-41 15444.5,-41 15444.5,-12 15444.5,-12 15444.5,-6 15450.5,0 15456.5,0 15456.5,0 15588.5,0 15588.5,0 15594.5,0 15600.5,-6 15600.5,-12 15600.5,-12 15600.5,-41 15600.5,-41 15600.5,-47 15594.5,-53 15588.5,-53\"/>\n<text text-anchor=\"middle\" x=\"15522.5\" y=\"-37.8\" font-family=\"Helvetica,sans-Serif\" font-size=\"14.00\" fill=\"#000000\">samples = 0.1%</text>\n<text text-anchor=\"middle\" x=\"15522.5\" y=\"-22.8\" font-family=\"Helvetica,sans-Serif\" font-size=\"14.00\" fill=\"#000000\">value = [0.407, 0.593]</text>\n<text text-anchor=\"middle\" x=\"15522.5\" y=\"-7.8\" font-family=\"Helvetica,sans-Serif\" font-size=\"14.00\" fill=\"#000000\">class = gt50K</text>\n</g>\n<!-- 210&#45;&gt;212 -->\n<g id=\"edge212\" class=\"edge\">\n<title>210&#45;&gt;212</title>\n<path fill=\"none\" stroke=\"#000000\" d=\"M15409.8459,-88.9777C15427.9262,-78.9504 15447.63,-68.0228 15465.4301,-58.1508\"/>\n<polygon fill=\"#000000\" stroke=\"#000000\" points=\"15467.4987,-61.0059 15474.5463,-53.095 15464.1036,-54.8843 15467.4987,-61.0059\"/>\n</g>\n</g>\n</svg>\n"
          },
          "metadata": {
            "tags": []
          },
          "execution_count": 65
        }
      ]
    },
    {
      "cell_type": "markdown",
      "metadata": {
        "colab_type": "text",
        "id": "wgBlECX8Kbne"
      },
      "source": [
        ""
      ]
    },
    {
      "cell_type": "markdown",
      "metadata": {
        "colab_type": "text",
        "id": "tZ9zR2GOjJ5u"
      },
      "source": [
        "### Accuracy"
      ]
    },
    {
      "cell_type": "code",
      "metadata": {
        "colab_type": "code",
        "id": "LOV_5EXGawY-",
        "colab": {
          "base_uri": "https://localhost:8080/",
          "height": 34
        },
        "outputId": "d40bbffe-4a3f-44d1-e063-c702628b0d1a"
      },
      "source": [
        "classifier.score(x_test, y_test)\n",
        "print('Decision Tree Classifier accuracy score with all the features for (70/30): {0:0.4f}'. format(classifier.score(x_test, y_test)))"
      ],
      "execution_count": null,
      "outputs": [
        {
          "output_type": "stream",
          "text": [
            "Decision Tree Classifier accuracy score with all the features for (70/30): 0.8315\n"
          ],
          "name": "stdout"
        }
      ]
    },
    {
      "cell_type": "markdown",
      "metadata": {
        "colab_type": "text",
        "id": "L0RnkDEFG4-1"
      },
      "source": [
        "## Splitting the dataset into the Training set and Test set (60/40)"
      ]
    },
    {
      "cell_type": "code",
      "metadata": {
        "colab_type": "code",
        "id": "SQVDB89fdiob",
        "colab": {}
      },
      "source": [
        "from sklearn.model_selection import train_test_split\n",
        "x_train, x_test, y_train, y_test = train_test_split(X, y, test_size = 0.4, random_state = 0)"
      ],
      "execution_count": null,
      "outputs": []
    },
    {
      "cell_type": "markdown",
      "metadata": {
        "colab_type": "text",
        "id": "xPt0O_RKG6sj"
      },
      "source": [
        "### Building Model"
      ]
    },
    {
      "cell_type": "code",
      "metadata": {
        "colab_type": "code",
        "id": "0mwzcngLFiUK",
        "colab": {}
      },
      "source": [
        "classifier = tree.DecisionTreeClassifier(criterion='entropy', max_depth=7)\n",
        "classifier = classifier.fit(x_train, y_train)"
      ],
      "execution_count": null,
      "outputs": []
    },
    {
      "cell_type": "markdown",
      "metadata": {
        "colab_type": "text",
        "id": "LN9z63DjG_8p"
      },
      "source": [
        "### Accuracy"
      ]
    },
    {
      "cell_type": "code",
      "metadata": {
        "colab_type": "code",
        "id": "F7cSvaUdFo3o",
        "colab": {
          "base_uri": "https://localhost:8080/",
          "height": 34
        },
        "outputId": "4db762f5-be08-44ad-9743-65178adfce1e"
      },
      "source": [
        "classifier.score(x_test, y_test)\n",
        "print('Decision Tree Classifier accuracy score with all the features for (60/40): {0:0.4f}'. format(classifier.score(x_test, y_test)))"
      ],
      "execution_count": null,
      "outputs": [
        {
          "output_type": "stream",
          "text": [
            "Decision Tree Classifier accuracy score with all the features for (60/40): 0.8257\n"
          ],
          "name": "stdout"
        }
      ]
    },
    {
      "cell_type": "markdown",
      "metadata": {
        "colab_type": "text",
        "id": "HEApEHzfHDMX"
      },
      "source": [
        "# Accuracy comparision between Logistic Regression and Decision Tree Classifier"
      ]
    },
    {
      "cell_type": "markdown",
      "metadata": {
        "colab_type": "text",
        "id": "V3sdXtbwHSb-"
      },
      "source": [
        "| Model | Data Set Split | Accuracy |\n",
        "| --- | --- | --- |\n",
        "| Logistic Regression | 70/30  | .8292 |\n",
        "| Logistic Regression | 60/40 | .8299 |\n",
        "| Decision Tree | 70/30  | .8315 |\n",
        "| Decision Tree | 60/30  | .8259 |\n"
      ]
    }
  ]
}